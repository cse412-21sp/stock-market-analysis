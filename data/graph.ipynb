{
 "cells": [
  {
   "cell_type": "code",
   "execution_count": 191,
   "id": "determined-binding",
   "metadata": {},
   "outputs": [],
   "source": [
    "import chart_studio\n",
    "chart_studio.tools.set_credentials_file(username='weixingnie', api_key='Wh94yg2oBnkYjHG2soDY')"
   ]
  },
  {
   "cell_type": "code",
   "execution_count": 192,
   "id": "bulgarian-blend",
   "metadata": {},
   "outputs": [],
   "source": [
    "import plotly\n",
    "\n",
    "import plotly.express as px\n",
    "import csv\n",
    "import pandas as pd\n",
    "import chart_studio.plotly as py\n",
    "import plotly.graph_objects as go"
   ]
  },
  {
   "cell_type": "code",
   "execution_count": 193,
   "id": "promotional-validation",
   "metadata": {},
   "outputs": [],
   "source": [
    "dataSet = pd.read_csv(\"external-debt.csv\")"
   ]
  },
  {
   "cell_type": "code",
   "execution_count": 194,
   "id": "economic-august",
   "metadata": {},
   "outputs": [
    {
     "data": {
      "text/plain": [
       "Index(['Country Name', 'Country Code', 'Year',\n",
       "       'Current account balance (BoP, current US$)',\n",
       "       'Debt service (PPG and IMF only, % of exports of goods, services and primary income)',\n",
       "       'Debt service on external debt, long-term (TDS, current US$)',\n",
       "       'Debt service on external debt, private nonguaranteed (PNG) (TDS, current US$)',\n",
       "       'Debt service on external debt, public and publicly guaranteed (PPG) (TDS, current US$)',\n",
       "       'Debt service on external debt, total (TDS, current US$)',\n",
       "       'Exports of goods, services and primary income (BoP, current US$)',\n",
       "       'Foreign direct investment, net inflows (BoP, current US$)',\n",
       "       'GNI (current US$)',\n",
       "       'Grants, excluding technical cooperation (BoP, current US$)',\n",
       "       'IMF repurchases and charges (TDS, current US$)',\n",
       "       'Imports of goods, services and primary income (BoP, current US$)',\n",
       "       'Multilateral debt service (% of public and publicly guaranteed debt service)',\n",
       "       'Multilateral debt service (TDS, current US$)',\n",
       "       'Net ODA received per capita (current US$)',\n",
       "       'Net official development assistance received (current US$)',\n",
       "       'PNG, bonds (NTR, current US$)', 'PNG, bonds (TDS, current US$)',\n",
       "       'PNG, commercial banks and other creditors (NTR, current US$)',\n",
       "       'PNG, commercial banks and other creditors (TDS, current US$)',\n",
       "       'PPG, IBRD (TDS, current US$)', 'PPG, IDA (TDS, current US$)',\n",
       "       'PPG, bilateral (TDS, current US$)',\n",
       "       'PPG, bilateral concessional (TDS, current US$)',\n",
       "       'PPG, bonds (NTR, current US$)', 'PPG, bonds (TDS, current US$)',\n",
       "       'PPG, commercial banks (NTR, current US$)',\n",
       "       'PPG, commercial banks (TDS, current US$)',\n",
       "       'PPG, multilateral concessional (NTR, current US$)',\n",
       "       'PPG, multilateral concessional (TDS, current US$)',\n",
       "       'PPG, official creditors (NTR, current US$)',\n",
       "       'PPG, official creditors (TDS, current US$)',\n",
       "       'PPG, other private creditors (NTR, current US$)',\n",
       "       'PPG, other private creditors (TDS, current US$)',\n",
       "       'PPG, private creditors (NTR, current US$)',\n",
       "       'PPG, private creditors (TDS, current US$)',\n",
       "       'Personal remittances, received (current US$)',\n",
       "       'Portfolio equity, net inflows (BoP, current US$)',\n",
       "       'Public and publicly guaranteed debt service (% of GNI)',\n",
       "       'Public and publicly guaranteed debt service (% of exports of goods, services and primary income)',\n",
       "       'Technical cooperation grants (BoP, current US$)',\n",
       "       'Total amount of debt rescheduled (current US$)',\n",
       "       'Total debt service (% of GNI)',\n",
       "       'Total debt service (% of exports of goods, services and primary income)',\n",
       "       'Total reserves (% of total external debt)',\n",
       "       'Total reserves (includes gold, current US$)',\n",
       "       'Total reserves in months of imports',\n",
       "       'Undisbursed external debt, official creditors (UND, current US$)',\n",
       "       'Undisbursed external debt, private creditors (UND, current US$)',\n",
       "       'Undisbursed external debt, total (UND, current US$)'],\n",
       "      dtype='object')"
      ]
     },
     "execution_count": 194,
     "metadata": {},
     "output_type": "execute_result"
    }
   ],
   "source": [
    "dataSet.columns"
   ]
  },
  {
   "cell_type": "code",
   "execution_count": 195,
   "id": "color-davis",
   "metadata": {},
   "outputs": [],
   "source": [
    "selectedCountry = dataSet[(dataSet['Country Name'] == 'China') | (dataSet['Country Name'] == 'Japan') | (dataSet['Country Name'] == 'United States') ]"
   ]
  },
  {
   "cell_type": "code",
   "execution_count": 199,
   "id": "affected-conjunction",
   "metadata": {},
   "outputs": [
    {
     "data": {
      "text/html": [
       "\n",
       "        <iframe\n",
       "            width=\"100%\"\n",
       "            height=\"525px\"\n",
       "            src=\"https://plotly.com/~weixingnie/2.embed\"\n",
       "            frameborder=\"0\"\n",
       "            allowfullscreen\n",
       "        ></iframe>\n",
       "        "
      ],
      "text/plain": [
       "<IPython.lib.display.IFrame at 0x2808bec2f40>"
      ]
     },
     "execution_count": 199,
     "metadata": {},
     "output_type": "execute_result"
    }
   ],
   "source": [
    "fig = px.scatter(selectedCountry, x = 'Year', y = \"Total reserves (includes gold, current US$)\", color = 'Country Name', title = \"Country storage Gold from 1960 to 2020\")\n",
    "py.iplot(fig, filename = 'Reserves In US dollars')"
   ]
  },
  {
   "cell_type": "code",
   "execution_count": null,
   "id": "surprising-demonstration",
   "metadata": {},
   "outputs": [],
   "source": []
  },
  {
   "cell_type": "code",
   "execution_count": 200,
   "id": "laden-study",
   "metadata": {},
   "outputs": [],
   "source": [
    "balance = selectedCountry[['Year', \"Current account balance (BoP, current US$)\", \"Country Name\"]]\n",
    "balance = balance.sort_values(by='Year', ascending=True)"
   ]
  },
  {
   "cell_type": "code",
   "execution_count": 202,
   "id": "circular-agent",
   "metadata": {},
   "outputs": [
    {
     "data": {
      "text/html": [
       "\n",
       "        <iframe\n",
       "            width=\"100%\"\n",
       "            height=\"525px\"\n",
       "            src=\"https://plotly.com/~weixingnie/8.embed\"\n",
       "            frameborder=\"0\"\n",
       "            allowfullscreen\n",
       "        ></iframe>\n",
       "        "
      ],
      "text/plain": [
       "<IPython.lib.display.IFrame at 0x28085ea8ac0>"
      ]
     },
     "execution_count": 202,
     "metadata": {},
     "output_type": "execute_result"
    }
   ],
   "source": [
    "fig = px.line(balance, x=\"Year\", y=\"Current account balance (BoP, current US$)\", color=\"Country Name\",\n",
    "              line_group=\"Country Name\")\n",
    "py.iplot(fig, filename = 'Account Balance from 1960 to 2020')"
   ]
  },
  {
   "cell_type": "code",
   "execution_count": 144,
   "id": "consolidated-civilization",
   "metadata": {},
   "outputs": [],
   "source": [
    "SandP = pd.read_csv(\"SP500.csv\")"
   ]
  },
  {
   "cell_type": "code",
   "execution_count": 145,
   "id": "breeding-prague",
   "metadata": {},
   "outputs": [],
   "source": [
    "SandP['JPN'] = SandP['JPN'] / 10"
   ]
  },
  {
   "cell_type": "code",
   "execution_count": 146,
   "id": "gothic-compilation",
   "metadata": {},
   "outputs": [
    {
     "data": {
      "text/html": [
       "<div>\n",
       "<style scoped>\n",
       "    .dataframe tbody tr th:only-of-type {\n",
       "        vertical-align: middle;\n",
       "    }\n",
       "\n",
       "    .dataframe tbody tr th {\n",
       "        vertical-align: top;\n",
       "    }\n",
       "\n",
       "    .dataframe thead th {\n",
       "        text-align: right;\n",
       "    }\n",
       "</style>\n",
       "<table border=\"1\" class=\"dataframe\">\n",
       "  <thead>\n",
       "    <tr style=\"text-align: right;\">\n",
       "      <th></th>\n",
       "      <th>DATE</th>\n",
       "      <th>SP500</th>\n",
       "      <th>SSE</th>\n",
       "      <th>TNX</th>\n",
       "      <th>JPN</th>\n",
       "      <th>GOLD</th>\n",
       "    </tr>\n",
       "  </thead>\n",
       "  <tbody>\n",
       "    <tr>\n",
       "      <th>0</th>\n",
       "      <td>4/1/2016</td>\n",
       "      <td>2075.535238</td>\n",
       "      <td>2929.605957</td>\n",
       "      <td>1.488</td>\n",
       "      <td>1557.591992</td>\n",
       "      <td>1318.400024</td>\n",
       "    </tr>\n",
       "    <tr>\n",
       "      <th>1</th>\n",
       "      <td>5/1/2016</td>\n",
       "      <td>2065.550952</td>\n",
       "      <td>2979.339111</td>\n",
       "      <td>1.458</td>\n",
       "      <td>1656.926953</td>\n",
       "      <td>1349.000000</td>\n",
       "    </tr>\n",
       "    <tr>\n",
       "      <th>2</th>\n",
       "      <td>6/1/2016</td>\n",
       "      <td>2083.891364</td>\n",
       "      <td>3085.490967</td>\n",
       "      <td>1.568</td>\n",
       "      <td>1688.740039</td>\n",
       "      <td>1306.900024</td>\n",
       "    </tr>\n",
       "    <tr>\n",
       "      <th>3</th>\n",
       "      <td>7/1/2016</td>\n",
       "      <td>2148.902000</td>\n",
       "      <td>3004.702881</td>\n",
       "      <td>1.608</td>\n",
       "      <td>1644.983984</td>\n",
       "      <td>1313.300049</td>\n",
       "    </tr>\n",
       "    <tr>\n",
       "      <th>4</th>\n",
       "      <td>8/1/2016</td>\n",
       "      <td>2177.482174</td>\n",
       "      <td>3100.491943</td>\n",
       "      <td>1.834</td>\n",
       "      <td>1742.501953</td>\n",
       "      <td>1271.500000</td>\n",
       "    </tr>\n",
       "    <tr>\n",
       "      <th>...</th>\n",
       "      <td>...</td>\n",
       "      <td>...</td>\n",
       "      <td>...</td>\n",
       "      <td>...</td>\n",
       "      <td>...</td>\n",
       "      <td>...</td>\n",
       "    </tr>\n",
       "    <tr>\n",
       "      <th>56</th>\n",
       "      <td>12/1/2020</td>\n",
       "      <td>3695.310000</td>\n",
       "      <td>3509.080078</td>\n",
       "      <td>1.460</td>\n",
       "      <td>2896.600977</td>\n",
       "      <td>1930.200000</td>\n",
       "    </tr>\n",
       "    <tr>\n",
       "      <th>57</th>\n",
       "      <td>1/1/2021</td>\n",
       "      <td>3793.748421</td>\n",
       "      <td>3441.909912</td>\n",
       "      <td>1.746</td>\n",
       "      <td>2917.880078</td>\n",
       "      <td>1910.030000</td>\n",
       "    </tr>\n",
       "    <tr>\n",
       "      <th>58</th>\n",
       "      <td>2/1/2021</td>\n",
       "      <td>3883.432105</td>\n",
       "      <td>3446.860107</td>\n",
       "      <td>1.631</td>\n",
       "      <td>2881.263086</td>\n",
       "      <td>1919.030000</td>\n",
       "    </tr>\n",
       "    <tr>\n",
       "      <th>59</th>\n",
       "      <td>3/1/2021</td>\n",
       "      <td>3910.508261</td>\n",
       "      <td>3506.939941</td>\n",
       "      <td>1.634</td>\n",
       "      <td>2809.825000</td>\n",
       "      <td>1900.000000</td>\n",
       "    </tr>\n",
       "    <tr>\n",
       "      <th>60</th>\n",
       "      <td>4/1/2021</td>\n",
       "      <td>4141.176190</td>\n",
       "      <td>3483.069092</td>\n",
       "      <td>1.631</td>\n",
       "      <td>2881.263086</td>\n",
       "      <td>1902.500000</td>\n",
       "    </tr>\n",
       "  </tbody>\n",
       "</table>\n",
       "<p>61 rows × 6 columns</p>\n",
       "</div>"
      ],
      "text/plain": [
       "         DATE        SP500          SSE    TNX          JPN         GOLD\n",
       "0    4/1/2016  2075.535238  2929.605957  1.488  1557.591992  1318.400024\n",
       "1    5/1/2016  2065.550952  2979.339111  1.458  1656.926953  1349.000000\n",
       "2    6/1/2016  2083.891364  3085.490967  1.568  1688.740039  1306.900024\n",
       "3    7/1/2016  2148.902000  3004.702881  1.608  1644.983984  1313.300049\n",
       "4    8/1/2016  2177.482174  3100.491943  1.834  1742.501953  1271.500000\n",
       "..        ...          ...          ...    ...          ...          ...\n",
       "56  12/1/2020  3695.310000  3509.080078  1.460  2896.600977  1930.200000\n",
       "57   1/1/2021  3793.748421  3441.909912  1.746  2917.880078  1910.030000\n",
       "58   2/1/2021  3883.432105  3446.860107  1.631  2881.263086  1919.030000\n",
       "59   3/1/2021  3910.508261  3506.939941  1.634  2809.825000  1900.000000\n",
       "60   4/1/2021  4141.176190  3483.069092  1.631  2881.263086  1902.500000\n",
       "\n",
       "[61 rows x 6 columns]"
      ]
     },
     "execution_count": 146,
     "metadata": {},
     "output_type": "execute_result"
    }
   ],
   "source": [
    "SandP"
   ]
  },
  {
   "cell_type": "code",
   "execution_count": 147,
   "id": "short-cinema",
   "metadata": {},
   "outputs": [
    {
     "data": {
      "text/html": [
       "<div>\n",
       "<style scoped>\n",
       "    .dataframe tbody tr th:only-of-type {\n",
       "        vertical-align: middle;\n",
       "    }\n",
       "\n",
       "    .dataframe tbody tr th {\n",
       "        vertical-align: top;\n",
       "    }\n",
       "\n",
       "    .dataframe thead th {\n",
       "        text-align: right;\n",
       "    }\n",
       "</style>\n",
       "<table border=\"1\" class=\"dataframe\">\n",
       "  <thead>\n",
       "    <tr style=\"text-align: right;\">\n",
       "      <th></th>\n",
       "      <th>DATE</th>\n",
       "      <th>TNX</th>\n",
       "      <th>GOLD</th>\n",
       "      <th>variable</th>\n",
       "      <th>value</th>\n",
       "    </tr>\n",
       "  </thead>\n",
       "  <tbody>\n",
       "    <tr>\n",
       "      <th>0</th>\n",
       "      <td>4/1/2016</td>\n",
       "      <td>1.488</td>\n",
       "      <td>1318.400024</td>\n",
       "      <td>SP500</td>\n",
       "      <td>2075.535238</td>\n",
       "    </tr>\n",
       "    <tr>\n",
       "      <th>1</th>\n",
       "      <td>5/1/2016</td>\n",
       "      <td>1.458</td>\n",
       "      <td>1349.000000</td>\n",
       "      <td>SP500</td>\n",
       "      <td>2065.550952</td>\n",
       "    </tr>\n",
       "    <tr>\n",
       "      <th>2</th>\n",
       "      <td>6/1/2016</td>\n",
       "      <td>1.568</td>\n",
       "      <td>1306.900024</td>\n",
       "      <td>SP500</td>\n",
       "      <td>2083.891364</td>\n",
       "    </tr>\n",
       "    <tr>\n",
       "      <th>3</th>\n",
       "      <td>7/1/2016</td>\n",
       "      <td>1.608</td>\n",
       "      <td>1313.300049</td>\n",
       "      <td>SP500</td>\n",
       "      <td>2148.902000</td>\n",
       "    </tr>\n",
       "    <tr>\n",
       "      <th>4</th>\n",
       "      <td>8/1/2016</td>\n",
       "      <td>1.834</td>\n",
       "      <td>1271.500000</td>\n",
       "      <td>SP500</td>\n",
       "      <td>2177.482174</td>\n",
       "    </tr>\n",
       "    <tr>\n",
       "      <th>...</th>\n",
       "      <td>...</td>\n",
       "      <td>...</td>\n",
       "      <td>...</td>\n",
       "      <td>...</td>\n",
       "      <td>...</td>\n",
       "    </tr>\n",
       "    <tr>\n",
       "      <th>178</th>\n",
       "      <td>12/1/2020</td>\n",
       "      <td>1.460</td>\n",
       "      <td>1930.200000</td>\n",
       "      <td>JPN</td>\n",
       "      <td>2896.600977</td>\n",
       "    </tr>\n",
       "    <tr>\n",
       "      <th>179</th>\n",
       "      <td>1/1/2021</td>\n",
       "      <td>1.746</td>\n",
       "      <td>1910.030000</td>\n",
       "      <td>JPN</td>\n",
       "      <td>2917.880078</td>\n",
       "    </tr>\n",
       "    <tr>\n",
       "      <th>180</th>\n",
       "      <td>2/1/2021</td>\n",
       "      <td>1.631</td>\n",
       "      <td>1919.030000</td>\n",
       "      <td>JPN</td>\n",
       "      <td>2881.263086</td>\n",
       "    </tr>\n",
       "    <tr>\n",
       "      <th>181</th>\n",
       "      <td>3/1/2021</td>\n",
       "      <td>1.634</td>\n",
       "      <td>1900.000000</td>\n",
       "      <td>JPN</td>\n",
       "      <td>2809.825000</td>\n",
       "    </tr>\n",
       "    <tr>\n",
       "      <th>182</th>\n",
       "      <td>4/1/2021</td>\n",
       "      <td>1.631</td>\n",
       "      <td>1902.500000</td>\n",
       "      <td>JPN</td>\n",
       "      <td>2881.263086</td>\n",
       "    </tr>\n",
       "  </tbody>\n",
       "</table>\n",
       "<p>183 rows × 5 columns</p>\n",
       "</div>"
      ],
      "text/plain": [
       "          DATE    TNX         GOLD variable        value\n",
       "0     4/1/2016  1.488  1318.400024    SP500  2075.535238\n",
       "1     5/1/2016  1.458  1349.000000    SP500  2065.550952\n",
       "2     6/1/2016  1.568  1306.900024    SP500  2083.891364\n",
       "3     7/1/2016  1.608  1313.300049    SP500  2148.902000\n",
       "4     8/1/2016  1.834  1271.500000    SP500  2177.482174\n",
       "..         ...    ...          ...      ...          ...\n",
       "178  12/1/2020  1.460  1930.200000      JPN  2896.600977\n",
       "179   1/1/2021  1.746  1910.030000      JPN  2917.880078\n",
       "180   2/1/2021  1.631  1919.030000      JPN  2881.263086\n",
       "181   3/1/2021  1.634  1900.000000      JPN  2809.825000\n",
       "182   4/1/2021  1.631  1902.500000      JPN  2881.263086\n",
       "\n",
       "[183 rows x 5 columns]"
      ]
     },
     "execution_count": 147,
     "metadata": {},
     "output_type": "execute_result"
    }
   ],
   "source": [
    "SandP = SandP.melt(id_vars=['DATE', 'TNX', 'GOLD'])\n",
    "SandP\n"
   ]
  },
  {
   "cell_type": "code",
   "execution_count": 149,
   "id": "annual-ancient",
   "metadata": {},
   "outputs": [
    {
     "data": {
      "text/plain": [
       "4141.17619"
      ]
     },
     "execution_count": 149,
     "metadata": {},
     "output_type": "execute_result"
    }
   ],
   "source": [
    "SandP.value.max()"
   ]
  },
  {
   "cell_type": "code",
   "execution_count": 203,
   "id": "boxed-bulgarian",
   "metadata": {},
   "outputs": [
    {
     "data": {
      "text/html": [
       "\n",
       "        <iframe\n",
       "            width=\"100%\"\n",
       "            height=\"525px\"\n",
       "            src=\"https://plotly.com/~weixingnie/10.embed\"\n",
       "            frameborder=\"0\"\n",
       "            allowfullscreen\n",
       "        ></iframe>\n",
       "        "
      ],
      "text/plain": [
       "<IPython.lib.display.IFrame at 0x2808c516550>"
      ]
     },
     "execution_count": 203,
     "metadata": {},
     "output_type": "execute_result"
    }
   ],
   "source": [
    "fig = px.scatter(SandP, x= 'GOLD', y= 'value', animation_frame=\"DATE\", animation_group=\"variable\",\n",
    "            color=\"variable\", size = 'value' ,  hover_name=\"variable\", range_y= [1500, 4500], range_x=[1000, 2000],\n",
    "          labels=dict(GOLD = 'Gold Price in Dollar', value = 'Stock Market Closing Price in Dollar', variable = 'Market Standard'))\n",
    "fig.layout.updatemenus[0].buttons[0].args[1]['frame']['duration'] = 200\n",
    "py.iplot(fig, filename = 'Gold and Stock Market Performance')"
   ]
  },
  {
   "cell_type": "code",
   "execution_count": null,
   "id": "israeli-girlfriend",
   "metadata": {},
   "outputs": [],
   "source": []
  },
  {
   "cell_type": "code",
   "execution_count": null,
   "id": "actual-stupid",
   "metadata": {},
   "outputs": [],
   "source": []
  }
 ],
 "metadata": {
  "kernelspec": {
   "display_name": "Python 3",
   "language": "python",
   "name": "python3"
  },
  "language_info": {
   "codemirror_mode": {
    "name": "ipython",
    "version": 3
   },
   "file_extension": ".py",
   "mimetype": "text/x-python",
   "name": "python",
   "nbconvert_exporter": "python",
   "pygments_lexer": "ipython3",
   "version": "3.8.5"
  }
 },
 "nbformat": 4,
 "nbformat_minor": 5
}
