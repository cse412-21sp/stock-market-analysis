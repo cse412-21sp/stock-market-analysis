{
 "cells": [
  {
   "cell_type": "code",
   "execution_count": 183,
   "id": "bulgarian-blend",
   "metadata": {},
   "outputs": [
    {
     "ename": "ImportError",
     "evalue": "\nThe plotly.plotly module is deprecated,\nplease install the chart-studio package and use the\nchart_studio.plotly module instead. \n",
     "output_type": "error",
     "traceback": [
      "\u001b[1;31m---------------------------------------------------------------------------\u001b[0m",
      "\u001b[1;31mImportError\u001b[0m                               Traceback (most recent call last)",
      "\u001b[1;32m<ipython-input-183-f361bbb901bf>\u001b[0m in \u001b[0;36m<module>\u001b[1;34m\u001b[0m\n\u001b[0;32m      4\u001b[0m \u001b[1;32mimport\u001b[0m \u001b[0mcsv\u001b[0m\u001b[1;33m\u001b[0m\u001b[1;33m\u001b[0m\u001b[0m\n\u001b[0;32m      5\u001b[0m \u001b[1;32mimport\u001b[0m \u001b[0mpandas\u001b[0m \u001b[1;32mas\u001b[0m \u001b[0mpd\u001b[0m\u001b[1;33m\u001b[0m\u001b[1;33m\u001b[0m\u001b[0m\n\u001b[1;32m----> 6\u001b[1;33m \u001b[1;32mimport\u001b[0m \u001b[0mplotly\u001b[0m\u001b[1;33m.\u001b[0m\u001b[0mplotly\u001b[0m \u001b[1;32mas\u001b[0m \u001b[0mpy\u001b[0m\u001b[1;33m\u001b[0m\u001b[1;33m\u001b[0m\u001b[0m\n\u001b[0m",
      "\u001b[1;32m~\\Anaconda3\\lib\\site-packages\\plotly\\plotly\\__init__.py\u001b[0m in \u001b[0;36m<module>\u001b[1;34m\u001b[0m\n\u001b[0;32m      2\u001b[0m \u001b[1;32mfrom\u001b[0m \u001b[0m_plotly_future_\u001b[0m \u001b[1;32mimport\u001b[0m \u001b[0m_chart_studio_error\u001b[0m\u001b[1;33m\u001b[0m\u001b[1;33m\u001b[0m\u001b[0m\n\u001b[0;32m      3\u001b[0m \u001b[1;33m\u001b[0m\u001b[0m\n\u001b[1;32m----> 4\u001b[1;33m \u001b[0m_chart_studio_error\u001b[0m\u001b[1;33m(\u001b[0m\u001b[1;34m\"plotly\"\u001b[0m\u001b[1;33m)\u001b[0m\u001b[1;33m\u001b[0m\u001b[1;33m\u001b[0m\u001b[0m\n\u001b[0m",
      "\u001b[1;32m~\\Anaconda3\\lib\\site-packages\\_plotly_future_\\__init__.py\u001b[0m in \u001b[0;36m_chart_studio_error\u001b[1;34m(submodule)\u001b[0m\n\u001b[0;32m     41\u001b[0m \u001b[1;33m\u001b[0m\u001b[0m\n\u001b[0;32m     42\u001b[0m \u001b[1;32mdef\u001b[0m \u001b[0m_chart_studio_error\u001b[0m\u001b[1;33m(\u001b[0m\u001b[0msubmodule\u001b[0m\u001b[1;33m)\u001b[0m\u001b[1;33m:\u001b[0m\u001b[1;33m\u001b[0m\u001b[1;33m\u001b[0m\u001b[0m\n\u001b[1;32m---> 43\u001b[1;33m     raise ImportError(\n\u001b[0m\u001b[0;32m     44\u001b[0m         \"\"\"\n\u001b[0;32m     45\u001b[0m \u001b[0mThe\u001b[0m \u001b[0mplotly\u001b[0m\u001b[1;33m.\u001b[0m\u001b[1;33m{\u001b[0m\u001b[0msubmodule\u001b[0m\u001b[1;33m}\u001b[0m \u001b[0mmodule\u001b[0m \u001b[1;32mis\u001b[0m \u001b[0mdeprecated\u001b[0m\u001b[1;33m,\u001b[0m\u001b[1;33m\u001b[0m\u001b[1;33m\u001b[0m\u001b[0m\n",
      "\u001b[1;31mImportError\u001b[0m: \nThe plotly.plotly module is deprecated,\nplease install the chart-studio package and use the\nchart_studio.plotly module instead. \n"
     ]
    }
   ],
   "source": [
    "import plotly\n",
    "\n",
    "import plotly.express as px\n",
    "import csv\n",
    "import pandas as pd\n",
    "import plotly.plotly as py\n"
   ]
  },
  {
   "cell_type": "code",
   "execution_count": 86,
   "id": "promotional-validation",
   "metadata": {},
   "outputs": [],
   "source": [
    "dataSet = pd.read_csv(\"external-debt.csv\")"
   ]
  },
  {
   "cell_type": "code",
   "execution_count": 87,
   "id": "economic-august",
   "metadata": {},
   "outputs": [
    {
     "data": {
      "text/plain": [
       "Index(['Country Name', 'Country Code', 'Year',\n",
       "       'Current account balance (BoP, current US$)',\n",
       "       'Debt service (PPG and IMF only, % of exports of goods, services and primary income)',\n",
       "       'Debt service on external debt, long-term (TDS, current US$)',\n",
       "       'Debt service on external debt, private nonguaranteed (PNG) (TDS, current US$)',\n",
       "       'Debt service on external debt, public and publicly guaranteed (PPG) (TDS, current US$)',\n",
       "       'Debt service on external debt, total (TDS, current US$)',\n",
       "       'Exports of goods, services and primary income (BoP, current US$)',\n",
       "       'Foreign direct investment, net inflows (BoP, current US$)',\n",
       "       'GNI (current US$)',\n",
       "       'Grants, excluding technical cooperation (BoP, current US$)',\n",
       "       'IMF repurchases and charges (TDS, current US$)',\n",
       "       'Imports of goods, services and primary income (BoP, current US$)',\n",
       "       'Multilateral debt service (% of public and publicly guaranteed debt service)',\n",
       "       'Multilateral debt service (TDS, current US$)',\n",
       "       'Net ODA received per capita (current US$)',\n",
       "       'Net official development assistance received (current US$)',\n",
       "       'PNG, bonds (NTR, current US$)', 'PNG, bonds (TDS, current US$)',\n",
       "       'PNG, commercial banks and other creditors (NTR, current US$)',\n",
       "       'PNG, commercial banks and other creditors (TDS, current US$)',\n",
       "       'PPG, IBRD (TDS, current US$)', 'PPG, IDA (TDS, current US$)',\n",
       "       'PPG, bilateral (TDS, current US$)',\n",
       "       'PPG, bilateral concessional (TDS, current US$)',\n",
       "       'PPG, bonds (NTR, current US$)', 'PPG, bonds (TDS, current US$)',\n",
       "       'PPG, commercial banks (NTR, current US$)',\n",
       "       'PPG, commercial banks (TDS, current US$)',\n",
       "       'PPG, multilateral concessional (NTR, current US$)',\n",
       "       'PPG, multilateral concessional (TDS, current US$)',\n",
       "       'PPG, official creditors (NTR, current US$)',\n",
       "       'PPG, official creditors (TDS, current US$)',\n",
       "       'PPG, other private creditors (NTR, current US$)',\n",
       "       'PPG, other private creditors (TDS, current US$)',\n",
       "       'PPG, private creditors (NTR, current US$)',\n",
       "       'PPG, private creditors (TDS, current US$)',\n",
       "       'Personal remittances, received (current US$)',\n",
       "       'Portfolio equity, net inflows (BoP, current US$)',\n",
       "       'Public and publicly guaranteed debt service (% of GNI)',\n",
       "       'Public and publicly guaranteed debt service (% of exports of goods, services and primary income)',\n",
       "       'Technical cooperation grants (BoP, current US$)',\n",
       "       'Total amount of debt rescheduled (current US$)',\n",
       "       'Total debt service (% of GNI)',\n",
       "       'Total debt service (% of exports of goods, services and primary income)',\n",
       "       'Total reserves (% of total external debt)',\n",
       "       'Total reserves (includes gold, current US$)',\n",
       "       'Total reserves in months of imports',\n",
       "       'Undisbursed external debt, official creditors (UND, current US$)',\n",
       "       'Undisbursed external debt, private creditors (UND, current US$)',\n",
       "       'Undisbursed external debt, total (UND, current US$)'],\n",
       "      dtype='object')"
      ]
     },
     "execution_count": 87,
     "metadata": {},
     "output_type": "execute_result"
    }
   ],
   "source": [
    "dataSet.columns"
   ]
  },
  {
   "cell_type": "code",
   "execution_count": 88,
   "id": "color-davis",
   "metadata": {},
   "outputs": [],
   "source": [
    "selectedCountry = dataSet[(dataSet['Country Name'] == 'China') | (dataSet['Country Name'] == 'Japan') | (dataSet['Country Name'] == 'United States') ]"
   ]
  },
  {
   "cell_type": "code",
   "execution_count": 179,
   "id": "affected-conjunction",
   "metadata": {},
   "outputs": [
    {
     "data": {
      "application/vnd.plotly.v1+json": {
       "config": {
        "plotlyServerURL": "https://plot.ly"
       },
       "data": [
        {
         "hovertemplate": "Country Name=China<br>Year=%{x}<br>Total reserves (includes gold, current US$)=%{y}<extra></extra>",
         "legendgroup": "China",
         "marker": {
          "color": "#636efa",
          "symbol": "circle"
         },
         "mode": "markers",
         "name": "China",
         "orientation": "v",
         "showlegend": true,
         "type": "scatter",
         "x": [
          2014,
          1968,
          1997,
          2008,
          1960,
          1975,
          2003,
          1980,
          1990,
          2001,
          1985,
          1996,
          2002,
          1970,
          1982,
          2010,
          1962,
          1965,
          2016,
          1987,
          1991,
          1993,
          1971,
          1966,
          1977,
          1984,
          2013,
          2012,
          2007,
          1986,
          1998,
          1983,
          1999,
          2015,
          2004,
          1974,
          1981,
          1992,
          2000,
          1994,
          1969,
          1976,
          2011,
          1979,
          1972,
          2009,
          1961,
          2017,
          1964,
          2005,
          1995,
          1988,
          1989,
          1967,
          1963,
          2006,
          1973,
          1978
         ],
         "xaxis": "x",
         "y": [
          3900039358441.22,
          0,
          146448007911.914,
          1966037416145.19,
          0,
          0,
          416199418829.351,
          20181559718.091,
          68951322317.2242,
          220056760323.983,
          16881047188.0492,
          111728900010.491,
          297739488541.398,
          0,
          17151500473.3587,
          2909907779493.96,
          0,
          0,
          3097658396171.59,
          22453016927.8895,
          48165019103.1198,
          27348104116.5518,
          0,
          0,
          0,
          21281443729.6592,
          3880368275098.62,
          3387512975176.91,
          1546364666967.14,
          16417429180.4582,
          152842955774.758,
          19831702777.5854,
          161414053682.112,
          3405253357702.25,
          622948558536.441,
          0,
          10106339042.8511,
          24852636915.1072,
          171763112315.996,
          57781337922.1788,
          0,
          0,
          3254674122432.29,
          0,
          0,
          2452899056407.32,
          0,
          3235681607213.04,
          0,
          831409619695.566,
          80288427869.5104,
          23751513805.8296,
          23052566323.2318,
          0,
          0,
          1080755669937.96,
          0,
          0
         ],
         "yaxis": "y"
        },
        {
         "hovertemplate": "Country Name=Japan<br>Year=%{x}<br>Total reserves (includes gold, current US$)=%{y}<extra></extra>",
         "legendgroup": "Japan",
         "marker": {
          "color": "#EF553B",
          "symbol": "circle"
         },
         "mode": "markers",
         "name": "Japan",
         "orientation": "v",
         "showlegend": true,
         "type": "scatter",
         "x": [
          2001,
          1968,
          2006,
          1987,
          1979,
          1983,
          1992,
          2017,
          1997,
          2012,
          2013,
          1976,
          1972,
          1985,
          1969,
          2011,
          1971,
          1961,
          2004,
          1984,
          1974,
          1966,
          1999,
          1986,
          2003,
          1998,
          1994,
          1977,
          1967,
          2016,
          2008,
          1980,
          2009,
          1960,
          2015,
          1995,
          1996,
          1991,
          2014,
          2000,
          2007,
          1962,
          1993,
          1964,
          1975,
          1970,
          2005,
          1973,
          1965,
          1981,
          2010,
          1963,
          1990,
          1978,
          1989,
          2002,
          1982,
          1988
         ],
         "xaxis": "x",
         "y": [
          401957586905.224,
          2976246800,
          895321249493.409,
          92701644565.9601,
          31926247771.2228,
          33844570858.7474,
          79696681098.0409,
          1264140980383.63,
          226679071188.599,
          1268085526649.9,
          1266851419538.87,
          18590786440.724,
          18932680017.2147,
          34641191189.329,
          3656226000,
          1295838776760.23,
          15469152224.9144,
          1667124550,
          844667193288.098,
          33898635723.3565,
          16551249546.2839,
          2121519420,
          293948163624.646,
          51727340939.9207,
          673554477360.011,
          222443261759.141,
          135145568483.701,
          25907718767.5809,
          2032436400,
          1216518740593.27,
          1030762728909.29,
          77837707280.1734,
          1051654943137.71,
          3906743200,
          1233097778804.78,
          192619707815.154,
          225593968055.59,
          80625862247.2161,
          1260680415997.38,
          361639137089.696,
          973296754488.814,
          2021337500,
          107988991686.206,
          2020624000,
          14910844574.1853,
          9752229100,
          846895906145.13,
          13723926171.0616,
          2153610240,
          37839021737.7978,
          1096068589804.25,
          2059016360,
          175656689496.002,
          37824760299.6901,
          93672792067.3337,
          469618155877.626,
          34403722656.5231,
          106667696597.778
         ],
         "yaxis": "y"
        },
        {
         "hovertemplate": "Country Name=United States<br>Year=%{x}<br>Total reserves (includes gold, current US$)=%{y}<extra></extra>",
         "legendgroup": "United States",
         "marker": {
          "color": "#00cc96",
          "symbol": "circle"
         },
         "mode": "markers",
         "name": "United States",
         "orientation": "v",
         "showlegend": true,
         "type": "scatter",
         "x": [
          2004,
          2005,
          2014,
          1980,
          1998,
          1986,
          2011,
          2016,
          1983,
          1960,
          1984,
          1979,
          2000,
          2001,
          1976,
          1977,
          1988,
          1991,
          2012,
          1990,
          1961,
          1969,
          1982,
          2008,
          1987,
          2009,
          1973,
          1962,
          2017,
          1965,
          1963,
          2003,
          2002,
          1964,
          1992,
          1994,
          2015,
          1975,
          1971,
          1993,
          1999,
          1974,
          1970,
          1989,
          1996,
          1972,
          2010,
          1966,
          1968,
          1997,
          2013,
          1981,
          1995,
          2007,
          2006,
          1985,
          1978,
          1967
         ],
         "xaxis": "x",
         "y": [
          190464893665.338,
          188259141662.468,
          434416453479.958,
          342825214406.708,
          146006090973.68,
          139883920728.389,
          537267272427.958,
          405942340674.236,
          123110064423.481,
          39328328003.1096,
          104855936881.377,
          143259225732.736,
          128399648781.377,
          130076532994.018,
          44162131646.1166,
          53374370832.8974,
          144176820283.572,
          159272850288.003,
          574268090541.4,
          346187129215.688,
          18825530001.6899,
          17031416002.3236,
          143444661762.222,
          294045595117.946,
          161738455237.867,
          404098902069.071,
          33703588954.2107,
          17252463901.0644,
          451285263406.24,
          15498323200.604,
          16878648001.035,
          184024384458.33,
          157763007754.741,
          16725493600.7694,
          147525874735.105,
          163590580409.28,
          383728469502.453,
          43154974089.341,
          14831073226.4574,
          164620171357.293,
          136450140733.617,
          55700252549.1293,
          30473031605.5718,
          168583563269.377,
          160660160175.975,
          20573775352.1224,
          488928295252.8,
          14953446600.3257,
          17857180001.2899,
          134836033706.253,
          448508967142.092,
          123907234985.741,
          175995426883.436,
          277548985132.239,
          221088641351.775,
          117981972231.986,
          69447964987.8909,
          14898992000.4202
         ],
         "yaxis": "y"
        }
       ],
       "layout": {
        "legend": {
         "title": {
          "text": "Country Name"
         },
         "tracegroupgap": 0
        },
        "margin": {
         "t": 60
        },
        "template": {
         "data": {
          "bar": [
           {
            "error_x": {
             "color": "#2a3f5f"
            },
            "error_y": {
             "color": "#2a3f5f"
            },
            "marker": {
             "line": {
              "color": "#E5ECF6",
              "width": 0.5
             }
            },
            "type": "bar"
           }
          ],
          "barpolar": [
           {
            "marker": {
             "line": {
              "color": "#E5ECF6",
              "width": 0.5
             }
            },
            "type": "barpolar"
           }
          ],
          "carpet": [
           {
            "aaxis": {
             "endlinecolor": "#2a3f5f",
             "gridcolor": "white",
             "linecolor": "white",
             "minorgridcolor": "white",
             "startlinecolor": "#2a3f5f"
            },
            "baxis": {
             "endlinecolor": "#2a3f5f",
             "gridcolor": "white",
             "linecolor": "white",
             "minorgridcolor": "white",
             "startlinecolor": "#2a3f5f"
            },
            "type": "carpet"
           }
          ],
          "choropleth": [
           {
            "colorbar": {
             "outlinewidth": 0,
             "ticks": ""
            },
            "type": "choropleth"
           }
          ],
          "contour": [
           {
            "colorbar": {
             "outlinewidth": 0,
             "ticks": ""
            },
            "colorscale": [
             [
              0,
              "#0d0887"
             ],
             [
              0.1111111111111111,
              "#46039f"
             ],
             [
              0.2222222222222222,
              "#7201a8"
             ],
             [
              0.3333333333333333,
              "#9c179e"
             ],
             [
              0.4444444444444444,
              "#bd3786"
             ],
             [
              0.5555555555555556,
              "#d8576b"
             ],
             [
              0.6666666666666666,
              "#ed7953"
             ],
             [
              0.7777777777777778,
              "#fb9f3a"
             ],
             [
              0.8888888888888888,
              "#fdca26"
             ],
             [
              1,
              "#f0f921"
             ]
            ],
            "type": "contour"
           }
          ],
          "contourcarpet": [
           {
            "colorbar": {
             "outlinewidth": 0,
             "ticks": ""
            },
            "type": "contourcarpet"
           }
          ],
          "heatmap": [
           {
            "colorbar": {
             "outlinewidth": 0,
             "ticks": ""
            },
            "colorscale": [
             [
              0,
              "#0d0887"
             ],
             [
              0.1111111111111111,
              "#46039f"
             ],
             [
              0.2222222222222222,
              "#7201a8"
             ],
             [
              0.3333333333333333,
              "#9c179e"
             ],
             [
              0.4444444444444444,
              "#bd3786"
             ],
             [
              0.5555555555555556,
              "#d8576b"
             ],
             [
              0.6666666666666666,
              "#ed7953"
             ],
             [
              0.7777777777777778,
              "#fb9f3a"
             ],
             [
              0.8888888888888888,
              "#fdca26"
             ],
             [
              1,
              "#f0f921"
             ]
            ],
            "type": "heatmap"
           }
          ],
          "heatmapgl": [
           {
            "colorbar": {
             "outlinewidth": 0,
             "ticks": ""
            },
            "colorscale": [
             [
              0,
              "#0d0887"
             ],
             [
              0.1111111111111111,
              "#46039f"
             ],
             [
              0.2222222222222222,
              "#7201a8"
             ],
             [
              0.3333333333333333,
              "#9c179e"
             ],
             [
              0.4444444444444444,
              "#bd3786"
             ],
             [
              0.5555555555555556,
              "#d8576b"
             ],
             [
              0.6666666666666666,
              "#ed7953"
             ],
             [
              0.7777777777777778,
              "#fb9f3a"
             ],
             [
              0.8888888888888888,
              "#fdca26"
             ],
             [
              1,
              "#f0f921"
             ]
            ],
            "type": "heatmapgl"
           }
          ],
          "histogram": [
           {
            "marker": {
             "colorbar": {
              "outlinewidth": 0,
              "ticks": ""
             }
            },
            "type": "histogram"
           }
          ],
          "histogram2d": [
           {
            "colorbar": {
             "outlinewidth": 0,
             "ticks": ""
            },
            "colorscale": [
             [
              0,
              "#0d0887"
             ],
             [
              0.1111111111111111,
              "#46039f"
             ],
             [
              0.2222222222222222,
              "#7201a8"
             ],
             [
              0.3333333333333333,
              "#9c179e"
             ],
             [
              0.4444444444444444,
              "#bd3786"
             ],
             [
              0.5555555555555556,
              "#d8576b"
             ],
             [
              0.6666666666666666,
              "#ed7953"
             ],
             [
              0.7777777777777778,
              "#fb9f3a"
             ],
             [
              0.8888888888888888,
              "#fdca26"
             ],
             [
              1,
              "#f0f921"
             ]
            ],
            "type": "histogram2d"
           }
          ],
          "histogram2dcontour": [
           {
            "colorbar": {
             "outlinewidth": 0,
             "ticks": ""
            },
            "colorscale": [
             [
              0,
              "#0d0887"
             ],
             [
              0.1111111111111111,
              "#46039f"
             ],
             [
              0.2222222222222222,
              "#7201a8"
             ],
             [
              0.3333333333333333,
              "#9c179e"
             ],
             [
              0.4444444444444444,
              "#bd3786"
             ],
             [
              0.5555555555555556,
              "#d8576b"
             ],
             [
              0.6666666666666666,
              "#ed7953"
             ],
             [
              0.7777777777777778,
              "#fb9f3a"
             ],
             [
              0.8888888888888888,
              "#fdca26"
             ],
             [
              1,
              "#f0f921"
             ]
            ],
            "type": "histogram2dcontour"
           }
          ],
          "mesh3d": [
           {
            "colorbar": {
             "outlinewidth": 0,
             "ticks": ""
            },
            "type": "mesh3d"
           }
          ],
          "parcoords": [
           {
            "line": {
             "colorbar": {
              "outlinewidth": 0,
              "ticks": ""
             }
            },
            "type": "parcoords"
           }
          ],
          "pie": [
           {
            "automargin": true,
            "type": "pie"
           }
          ],
          "scatter": [
           {
            "marker": {
             "colorbar": {
              "outlinewidth": 0,
              "ticks": ""
             }
            },
            "type": "scatter"
           }
          ],
          "scatter3d": [
           {
            "line": {
             "colorbar": {
              "outlinewidth": 0,
              "ticks": ""
             }
            },
            "marker": {
             "colorbar": {
              "outlinewidth": 0,
              "ticks": ""
             }
            },
            "type": "scatter3d"
           }
          ],
          "scattercarpet": [
           {
            "marker": {
             "colorbar": {
              "outlinewidth": 0,
              "ticks": ""
             }
            },
            "type": "scattercarpet"
           }
          ],
          "scattergeo": [
           {
            "marker": {
             "colorbar": {
              "outlinewidth": 0,
              "ticks": ""
             }
            },
            "type": "scattergeo"
           }
          ],
          "scattergl": [
           {
            "marker": {
             "colorbar": {
              "outlinewidth": 0,
              "ticks": ""
             }
            },
            "type": "scattergl"
           }
          ],
          "scattermapbox": [
           {
            "marker": {
             "colorbar": {
              "outlinewidth": 0,
              "ticks": ""
             }
            },
            "type": "scattermapbox"
           }
          ],
          "scatterpolar": [
           {
            "marker": {
             "colorbar": {
              "outlinewidth": 0,
              "ticks": ""
             }
            },
            "type": "scatterpolar"
           }
          ],
          "scatterpolargl": [
           {
            "marker": {
             "colorbar": {
              "outlinewidth": 0,
              "ticks": ""
             }
            },
            "type": "scatterpolargl"
           }
          ],
          "scatterternary": [
           {
            "marker": {
             "colorbar": {
              "outlinewidth": 0,
              "ticks": ""
             }
            },
            "type": "scatterternary"
           }
          ],
          "surface": [
           {
            "colorbar": {
             "outlinewidth": 0,
             "ticks": ""
            },
            "colorscale": [
             [
              0,
              "#0d0887"
             ],
             [
              0.1111111111111111,
              "#46039f"
             ],
             [
              0.2222222222222222,
              "#7201a8"
             ],
             [
              0.3333333333333333,
              "#9c179e"
             ],
             [
              0.4444444444444444,
              "#bd3786"
             ],
             [
              0.5555555555555556,
              "#d8576b"
             ],
             [
              0.6666666666666666,
              "#ed7953"
             ],
             [
              0.7777777777777778,
              "#fb9f3a"
             ],
             [
              0.8888888888888888,
              "#fdca26"
             ],
             [
              1,
              "#f0f921"
             ]
            ],
            "type": "surface"
           }
          ],
          "table": [
           {
            "cells": {
             "fill": {
              "color": "#EBF0F8"
             },
             "line": {
              "color": "white"
             }
            },
            "header": {
             "fill": {
              "color": "#C8D4E3"
             },
             "line": {
              "color": "white"
             }
            },
            "type": "table"
           }
          ]
         },
         "layout": {
          "annotationdefaults": {
           "arrowcolor": "#2a3f5f",
           "arrowhead": 0,
           "arrowwidth": 1
          },
          "autotypenumbers": "strict",
          "coloraxis": {
           "colorbar": {
            "outlinewidth": 0,
            "ticks": ""
           }
          },
          "colorscale": {
           "diverging": [
            [
             0,
             "#8e0152"
            ],
            [
             0.1,
             "#c51b7d"
            ],
            [
             0.2,
             "#de77ae"
            ],
            [
             0.3,
             "#f1b6da"
            ],
            [
             0.4,
             "#fde0ef"
            ],
            [
             0.5,
             "#f7f7f7"
            ],
            [
             0.6,
             "#e6f5d0"
            ],
            [
             0.7,
             "#b8e186"
            ],
            [
             0.8,
             "#7fbc41"
            ],
            [
             0.9,
             "#4d9221"
            ],
            [
             1,
             "#276419"
            ]
           ],
           "sequential": [
            [
             0,
             "#0d0887"
            ],
            [
             0.1111111111111111,
             "#46039f"
            ],
            [
             0.2222222222222222,
             "#7201a8"
            ],
            [
             0.3333333333333333,
             "#9c179e"
            ],
            [
             0.4444444444444444,
             "#bd3786"
            ],
            [
             0.5555555555555556,
             "#d8576b"
            ],
            [
             0.6666666666666666,
             "#ed7953"
            ],
            [
             0.7777777777777778,
             "#fb9f3a"
            ],
            [
             0.8888888888888888,
             "#fdca26"
            ],
            [
             1,
             "#f0f921"
            ]
           ],
           "sequentialminus": [
            [
             0,
             "#0d0887"
            ],
            [
             0.1111111111111111,
             "#46039f"
            ],
            [
             0.2222222222222222,
             "#7201a8"
            ],
            [
             0.3333333333333333,
             "#9c179e"
            ],
            [
             0.4444444444444444,
             "#bd3786"
            ],
            [
             0.5555555555555556,
             "#d8576b"
            ],
            [
             0.6666666666666666,
             "#ed7953"
            ],
            [
             0.7777777777777778,
             "#fb9f3a"
            ],
            [
             0.8888888888888888,
             "#fdca26"
            ],
            [
             1,
             "#f0f921"
            ]
           ]
          },
          "colorway": [
           "#636efa",
           "#EF553B",
           "#00cc96",
           "#ab63fa",
           "#FFA15A",
           "#19d3f3",
           "#FF6692",
           "#B6E880",
           "#FF97FF",
           "#FECB52"
          ],
          "font": {
           "color": "#2a3f5f"
          },
          "geo": {
           "bgcolor": "white",
           "lakecolor": "white",
           "landcolor": "#E5ECF6",
           "showlakes": true,
           "showland": true,
           "subunitcolor": "white"
          },
          "hoverlabel": {
           "align": "left"
          },
          "hovermode": "closest",
          "mapbox": {
           "style": "light"
          },
          "paper_bgcolor": "white",
          "plot_bgcolor": "#E5ECF6",
          "polar": {
           "angularaxis": {
            "gridcolor": "white",
            "linecolor": "white",
            "ticks": ""
           },
           "bgcolor": "#E5ECF6",
           "radialaxis": {
            "gridcolor": "white",
            "linecolor": "white",
            "ticks": ""
           }
          },
          "scene": {
           "xaxis": {
            "backgroundcolor": "#E5ECF6",
            "gridcolor": "white",
            "gridwidth": 2,
            "linecolor": "white",
            "showbackground": true,
            "ticks": "",
            "zerolinecolor": "white"
           },
           "yaxis": {
            "backgroundcolor": "#E5ECF6",
            "gridcolor": "white",
            "gridwidth": 2,
            "linecolor": "white",
            "showbackground": true,
            "ticks": "",
            "zerolinecolor": "white"
           },
           "zaxis": {
            "backgroundcolor": "#E5ECF6",
            "gridcolor": "white",
            "gridwidth": 2,
            "linecolor": "white",
            "showbackground": true,
            "ticks": "",
            "zerolinecolor": "white"
           }
          },
          "shapedefaults": {
           "line": {
            "color": "#2a3f5f"
           }
          },
          "ternary": {
           "aaxis": {
            "gridcolor": "white",
            "linecolor": "white",
            "ticks": ""
           },
           "baxis": {
            "gridcolor": "white",
            "linecolor": "white",
            "ticks": ""
           },
           "bgcolor": "#E5ECF6",
           "caxis": {
            "gridcolor": "white",
            "linecolor": "white",
            "ticks": ""
           }
          },
          "title": {
           "x": 0.05
          },
          "xaxis": {
           "automargin": true,
           "gridcolor": "white",
           "linecolor": "white",
           "ticks": "",
           "title": {
            "standoff": 15
           },
           "zerolinecolor": "white",
           "zerolinewidth": 2
          },
          "yaxis": {
           "automargin": true,
           "gridcolor": "white",
           "linecolor": "white",
           "ticks": "",
           "title": {
            "standoff": 15
           },
           "zerolinecolor": "white",
           "zerolinewidth": 2
          }
         }
        },
        "xaxis": {
         "anchor": "y",
         "domain": [
          0,
          1
         ],
         "title": {
          "text": "Year"
         }
        },
        "yaxis": {
         "anchor": "x",
         "domain": [
          0,
          1
         ],
         "title": {
          "text": "Total reserves (includes gold, current US$)"
         }
        }
       }
      },
      "text/html": [
       "<div>                            <div id=\"3b7b44fc-6c0a-43d0-85c3-bdefd3a9a1c7\" class=\"plotly-graph-div\" style=\"height:525px; width:100%;\"></div>            <script type=\"text/javascript\">                require([\"plotly\"], function(Plotly) {                    window.PLOTLYENV=window.PLOTLYENV || {};                                    if (document.getElementById(\"3b7b44fc-6c0a-43d0-85c3-bdefd3a9a1c7\")) {                    Plotly.newPlot(                        \"3b7b44fc-6c0a-43d0-85c3-bdefd3a9a1c7\",                        [{\"hovertemplate\": \"Country Name=China<br>Year=%{x}<br>Total reserves (includes gold, current US$)=%{y}<extra></extra>\", \"legendgroup\": \"China\", \"marker\": {\"color\": \"#636efa\", \"symbol\": \"circle\"}, \"mode\": \"markers\", \"name\": \"China\", \"orientation\": \"v\", \"showlegend\": true, \"type\": \"scatter\", \"x\": [2014, 1968, 1997, 2008, 1960, 1975, 2003, 1980, 1990, 2001, 1985, 1996, 2002, 1970, 1982, 2010, 1962, 1965, 2016, 1987, 1991, 1993, 1971, 1966, 1977, 1984, 2013, 2012, 2007, 1986, 1998, 1983, 1999, 2015, 2004, 1974, 1981, 1992, 2000, 1994, 1969, 1976, 2011, 1979, 1972, 2009, 1961, 2017, 1964, 2005, 1995, 1988, 1989, 1967, 1963, 2006, 1973, 1978], \"xaxis\": \"x\", \"y\": [3900039358441.22, 0.0, 146448007911.914, 1966037416145.19, 0.0, 0.0, 416199418829.351, 20181559718.091, 68951322317.2242, 220056760323.983, 16881047188.0492, 111728900010.491, 297739488541.398, 0.0, 17151500473.3587, 2909907779493.96, 0.0, 0.0, 3097658396171.59, 22453016927.8895, 48165019103.1198, 27348104116.5518, 0.0, 0.0, 0.0, 21281443729.6592, 3880368275098.62, 3387512975176.91, 1546364666967.14, 16417429180.4582, 152842955774.758, 19831702777.5854, 161414053682.112, 3405253357702.25, 622948558536.441, 0.0, 10106339042.8511, 24852636915.1072, 171763112315.996, 57781337922.1788, 0.0, 0.0, 3254674122432.29, 0.0, 0.0, 2452899056407.32, 0.0, 3235681607213.04, 0.0, 831409619695.566, 80288427869.5104, 23751513805.8296, 23052566323.2318, 0.0, 0.0, 1080755669937.96, 0.0, 0.0], \"yaxis\": \"y\"}, {\"hovertemplate\": \"Country Name=Japan<br>Year=%{x}<br>Total reserves (includes gold, current US$)=%{y}<extra></extra>\", \"legendgroup\": \"Japan\", \"marker\": {\"color\": \"#EF553B\", \"symbol\": \"circle\"}, \"mode\": \"markers\", \"name\": \"Japan\", \"orientation\": \"v\", \"showlegend\": true, \"type\": \"scatter\", \"x\": [2001, 1968, 2006, 1987, 1979, 1983, 1992, 2017, 1997, 2012, 2013, 1976, 1972, 1985, 1969, 2011, 1971, 1961, 2004, 1984, 1974, 1966, 1999, 1986, 2003, 1998, 1994, 1977, 1967, 2016, 2008, 1980, 2009, 1960, 2015, 1995, 1996, 1991, 2014, 2000, 2007, 1962, 1993, 1964, 1975, 1970, 2005, 1973, 1965, 1981, 2010, 1963, 1990, 1978, 1989, 2002, 1982, 1988], \"xaxis\": \"x\", \"y\": [401957586905.224, 2976246800.0, 895321249493.409, 92701644565.9601, 31926247771.2228, 33844570858.7474, 79696681098.0409, 1264140980383.63, 226679071188.599, 1268085526649.9, 1266851419538.87, 18590786440.724, 18932680017.2147, 34641191189.329, 3656226000.0, 1295838776760.23, 15469152224.9144, 1667124550.0, 844667193288.098, 33898635723.3565, 16551249546.2839, 2121519420.0, 293948163624.646, 51727340939.9207, 673554477360.011, 222443261759.141, 135145568483.701, 25907718767.5809, 2032436400.0, 1216518740593.27, 1030762728909.29, 77837707280.1734, 1051654943137.71, 3906743200.0, 1233097778804.78, 192619707815.154, 225593968055.59, 80625862247.2161, 1260680415997.38, 361639137089.696, 973296754488.814, 2021337500.0, 107988991686.206, 2020624000.0, 14910844574.1853, 9752229100.0, 846895906145.13, 13723926171.0616, 2153610240.0, 37839021737.7978, 1096068589804.25, 2059016360.0, 175656689496.002, 37824760299.6901, 93672792067.3337, 469618155877.626, 34403722656.5231, 106667696597.778], \"yaxis\": \"y\"}, {\"hovertemplate\": \"Country Name=United States<br>Year=%{x}<br>Total reserves (includes gold, current US$)=%{y}<extra></extra>\", \"legendgroup\": \"United States\", \"marker\": {\"color\": \"#00cc96\", \"symbol\": \"circle\"}, \"mode\": \"markers\", \"name\": \"United States\", \"orientation\": \"v\", \"showlegend\": true, \"type\": \"scatter\", \"x\": [2004, 2005, 2014, 1980, 1998, 1986, 2011, 2016, 1983, 1960, 1984, 1979, 2000, 2001, 1976, 1977, 1988, 1991, 2012, 1990, 1961, 1969, 1982, 2008, 1987, 2009, 1973, 1962, 2017, 1965, 1963, 2003, 2002, 1964, 1992, 1994, 2015, 1975, 1971, 1993, 1999, 1974, 1970, 1989, 1996, 1972, 2010, 1966, 1968, 1997, 2013, 1981, 1995, 2007, 2006, 1985, 1978, 1967], \"xaxis\": \"x\", \"y\": [190464893665.338, 188259141662.468, 434416453479.958, 342825214406.708, 146006090973.68, 139883920728.389, 537267272427.958, 405942340674.236, 123110064423.481, 39328328003.1096, 104855936881.377, 143259225732.736, 128399648781.377, 130076532994.018, 44162131646.1166, 53374370832.8974, 144176820283.572, 159272850288.003, 574268090541.4, 346187129215.688, 18825530001.6899, 17031416002.3236, 143444661762.222, 294045595117.946, 161738455237.867, 404098902069.071, 33703588954.2107, 17252463901.0644, 451285263406.24, 15498323200.604, 16878648001.035, 184024384458.33, 157763007754.741, 16725493600.7694, 147525874735.105, 163590580409.28, 383728469502.453, 43154974089.341, 14831073226.4574, 164620171357.293, 136450140733.617, 55700252549.1293, 30473031605.5718, 168583563269.377, 160660160175.975, 20573775352.1224, 488928295252.8, 14953446600.3257, 17857180001.2899, 134836033706.253, 448508967142.092, 123907234985.741, 175995426883.436, 277548985132.239, 221088641351.775, 117981972231.986, 69447964987.8909, 14898992000.4202], \"yaxis\": \"y\"}],                        {\"legend\": {\"title\": {\"text\": \"Country Name\"}, \"tracegroupgap\": 0}, \"margin\": {\"t\": 60}, \"template\": {\"data\": {\"bar\": [{\"error_x\": {\"color\": \"#2a3f5f\"}, \"error_y\": {\"color\": \"#2a3f5f\"}, \"marker\": {\"line\": {\"color\": \"#E5ECF6\", \"width\": 0.5}}, \"type\": \"bar\"}], \"barpolar\": [{\"marker\": {\"line\": {\"color\": \"#E5ECF6\", \"width\": 0.5}}, \"type\": \"barpolar\"}], \"carpet\": [{\"aaxis\": {\"endlinecolor\": \"#2a3f5f\", \"gridcolor\": \"white\", \"linecolor\": \"white\", \"minorgridcolor\": \"white\", \"startlinecolor\": \"#2a3f5f\"}, \"baxis\": {\"endlinecolor\": \"#2a3f5f\", \"gridcolor\": \"white\", \"linecolor\": \"white\", \"minorgridcolor\": \"white\", \"startlinecolor\": \"#2a3f5f\"}, \"type\": \"carpet\"}], \"choropleth\": [{\"colorbar\": {\"outlinewidth\": 0, \"ticks\": \"\"}, \"type\": \"choropleth\"}], \"contour\": [{\"colorbar\": {\"outlinewidth\": 0, \"ticks\": \"\"}, \"colorscale\": [[0.0, \"#0d0887\"], [0.1111111111111111, \"#46039f\"], [0.2222222222222222, \"#7201a8\"], [0.3333333333333333, \"#9c179e\"], [0.4444444444444444, \"#bd3786\"], [0.5555555555555556, \"#d8576b\"], [0.6666666666666666, \"#ed7953\"], [0.7777777777777778, \"#fb9f3a\"], [0.8888888888888888, \"#fdca26\"], [1.0, \"#f0f921\"]], \"type\": \"contour\"}], \"contourcarpet\": [{\"colorbar\": {\"outlinewidth\": 0, \"ticks\": \"\"}, \"type\": \"contourcarpet\"}], \"heatmap\": [{\"colorbar\": {\"outlinewidth\": 0, \"ticks\": \"\"}, \"colorscale\": [[0.0, \"#0d0887\"], [0.1111111111111111, \"#46039f\"], [0.2222222222222222, \"#7201a8\"], [0.3333333333333333, \"#9c179e\"], [0.4444444444444444, \"#bd3786\"], [0.5555555555555556, \"#d8576b\"], [0.6666666666666666, \"#ed7953\"], [0.7777777777777778, \"#fb9f3a\"], [0.8888888888888888, \"#fdca26\"], [1.0, \"#f0f921\"]], \"type\": \"heatmap\"}], \"heatmapgl\": [{\"colorbar\": {\"outlinewidth\": 0, \"ticks\": \"\"}, \"colorscale\": [[0.0, \"#0d0887\"], [0.1111111111111111, \"#46039f\"], [0.2222222222222222, \"#7201a8\"], [0.3333333333333333, \"#9c179e\"], [0.4444444444444444, \"#bd3786\"], [0.5555555555555556, \"#d8576b\"], [0.6666666666666666, \"#ed7953\"], [0.7777777777777778, \"#fb9f3a\"], [0.8888888888888888, \"#fdca26\"], [1.0, \"#f0f921\"]], \"type\": \"heatmapgl\"}], \"histogram\": [{\"marker\": {\"colorbar\": {\"outlinewidth\": 0, \"ticks\": \"\"}}, \"type\": \"histogram\"}], \"histogram2d\": [{\"colorbar\": {\"outlinewidth\": 0, \"ticks\": \"\"}, \"colorscale\": [[0.0, \"#0d0887\"], [0.1111111111111111, \"#46039f\"], [0.2222222222222222, \"#7201a8\"], [0.3333333333333333, \"#9c179e\"], [0.4444444444444444, \"#bd3786\"], [0.5555555555555556, \"#d8576b\"], [0.6666666666666666, \"#ed7953\"], [0.7777777777777778, \"#fb9f3a\"], [0.8888888888888888, \"#fdca26\"], [1.0, \"#f0f921\"]], \"type\": \"histogram2d\"}], \"histogram2dcontour\": [{\"colorbar\": {\"outlinewidth\": 0, \"ticks\": \"\"}, \"colorscale\": [[0.0, \"#0d0887\"], [0.1111111111111111, \"#46039f\"], [0.2222222222222222, \"#7201a8\"], [0.3333333333333333, \"#9c179e\"], [0.4444444444444444, \"#bd3786\"], [0.5555555555555556, \"#d8576b\"], [0.6666666666666666, \"#ed7953\"], [0.7777777777777778, \"#fb9f3a\"], [0.8888888888888888, \"#fdca26\"], [1.0, \"#f0f921\"]], \"type\": \"histogram2dcontour\"}], \"mesh3d\": [{\"colorbar\": {\"outlinewidth\": 0, \"ticks\": \"\"}, \"type\": \"mesh3d\"}], \"parcoords\": [{\"line\": {\"colorbar\": {\"outlinewidth\": 0, \"ticks\": \"\"}}, \"type\": \"parcoords\"}], \"pie\": [{\"automargin\": true, \"type\": \"pie\"}], \"scatter\": [{\"marker\": {\"colorbar\": {\"outlinewidth\": 0, \"ticks\": \"\"}}, \"type\": \"scatter\"}], \"scatter3d\": [{\"line\": {\"colorbar\": {\"outlinewidth\": 0, \"ticks\": \"\"}}, \"marker\": {\"colorbar\": {\"outlinewidth\": 0, \"ticks\": \"\"}}, \"type\": \"scatter3d\"}], \"scattercarpet\": [{\"marker\": {\"colorbar\": {\"outlinewidth\": 0, \"ticks\": \"\"}}, \"type\": \"scattercarpet\"}], \"scattergeo\": [{\"marker\": {\"colorbar\": {\"outlinewidth\": 0, \"ticks\": \"\"}}, \"type\": \"scattergeo\"}], \"scattergl\": [{\"marker\": {\"colorbar\": {\"outlinewidth\": 0, \"ticks\": \"\"}}, \"type\": \"scattergl\"}], \"scattermapbox\": [{\"marker\": {\"colorbar\": {\"outlinewidth\": 0, \"ticks\": \"\"}}, \"type\": \"scattermapbox\"}], \"scatterpolar\": [{\"marker\": {\"colorbar\": {\"outlinewidth\": 0, \"ticks\": \"\"}}, \"type\": \"scatterpolar\"}], \"scatterpolargl\": [{\"marker\": {\"colorbar\": {\"outlinewidth\": 0, \"ticks\": \"\"}}, \"type\": \"scatterpolargl\"}], \"scatterternary\": [{\"marker\": {\"colorbar\": {\"outlinewidth\": 0, \"ticks\": \"\"}}, \"type\": \"scatterternary\"}], \"surface\": [{\"colorbar\": {\"outlinewidth\": 0, \"ticks\": \"\"}, \"colorscale\": [[0.0, \"#0d0887\"], [0.1111111111111111, \"#46039f\"], [0.2222222222222222, \"#7201a8\"], [0.3333333333333333, \"#9c179e\"], [0.4444444444444444, \"#bd3786\"], [0.5555555555555556, \"#d8576b\"], [0.6666666666666666, \"#ed7953\"], [0.7777777777777778, \"#fb9f3a\"], [0.8888888888888888, \"#fdca26\"], [1.0, \"#f0f921\"]], \"type\": \"surface\"}], \"table\": [{\"cells\": {\"fill\": {\"color\": \"#EBF0F8\"}, \"line\": {\"color\": \"white\"}}, \"header\": {\"fill\": {\"color\": \"#C8D4E3\"}, \"line\": {\"color\": \"white\"}}, \"type\": \"table\"}]}, \"layout\": {\"annotationdefaults\": {\"arrowcolor\": \"#2a3f5f\", \"arrowhead\": 0, \"arrowwidth\": 1}, \"autotypenumbers\": \"strict\", \"coloraxis\": {\"colorbar\": {\"outlinewidth\": 0, \"ticks\": \"\"}}, \"colorscale\": {\"diverging\": [[0, \"#8e0152\"], [0.1, \"#c51b7d\"], [0.2, \"#de77ae\"], [0.3, \"#f1b6da\"], [0.4, \"#fde0ef\"], [0.5, \"#f7f7f7\"], [0.6, \"#e6f5d0\"], [0.7, \"#b8e186\"], [0.8, \"#7fbc41\"], [0.9, \"#4d9221\"], [1, \"#276419\"]], \"sequential\": [[0.0, \"#0d0887\"], [0.1111111111111111, \"#46039f\"], [0.2222222222222222, \"#7201a8\"], [0.3333333333333333, \"#9c179e\"], [0.4444444444444444, \"#bd3786\"], [0.5555555555555556, \"#d8576b\"], [0.6666666666666666, \"#ed7953\"], [0.7777777777777778, \"#fb9f3a\"], [0.8888888888888888, \"#fdca26\"], [1.0, \"#f0f921\"]], \"sequentialminus\": [[0.0, \"#0d0887\"], [0.1111111111111111, \"#46039f\"], [0.2222222222222222, \"#7201a8\"], [0.3333333333333333, \"#9c179e\"], [0.4444444444444444, \"#bd3786\"], [0.5555555555555556, \"#d8576b\"], [0.6666666666666666, \"#ed7953\"], [0.7777777777777778, \"#fb9f3a\"], [0.8888888888888888, \"#fdca26\"], [1.0, \"#f0f921\"]]}, \"colorway\": [\"#636efa\", \"#EF553B\", \"#00cc96\", \"#ab63fa\", \"#FFA15A\", \"#19d3f3\", \"#FF6692\", \"#B6E880\", \"#FF97FF\", \"#FECB52\"], \"font\": {\"color\": \"#2a3f5f\"}, \"geo\": {\"bgcolor\": \"white\", \"lakecolor\": \"white\", \"landcolor\": \"#E5ECF6\", \"showlakes\": true, \"showland\": true, \"subunitcolor\": \"white\"}, \"hoverlabel\": {\"align\": \"left\"}, \"hovermode\": \"closest\", \"mapbox\": {\"style\": \"light\"}, \"paper_bgcolor\": \"white\", \"plot_bgcolor\": \"#E5ECF6\", \"polar\": {\"angularaxis\": {\"gridcolor\": \"white\", \"linecolor\": \"white\", \"ticks\": \"\"}, \"bgcolor\": \"#E5ECF6\", \"radialaxis\": {\"gridcolor\": \"white\", \"linecolor\": \"white\", \"ticks\": \"\"}}, \"scene\": {\"xaxis\": {\"backgroundcolor\": \"#E5ECF6\", \"gridcolor\": \"white\", \"gridwidth\": 2, \"linecolor\": \"white\", \"showbackground\": true, \"ticks\": \"\", \"zerolinecolor\": \"white\"}, \"yaxis\": {\"backgroundcolor\": \"#E5ECF6\", \"gridcolor\": \"white\", \"gridwidth\": 2, \"linecolor\": \"white\", \"showbackground\": true, \"ticks\": \"\", \"zerolinecolor\": \"white\"}, \"zaxis\": {\"backgroundcolor\": \"#E5ECF6\", \"gridcolor\": \"white\", \"gridwidth\": 2, \"linecolor\": \"white\", \"showbackground\": true, \"ticks\": \"\", \"zerolinecolor\": \"white\"}}, \"shapedefaults\": {\"line\": {\"color\": \"#2a3f5f\"}}, \"ternary\": {\"aaxis\": {\"gridcolor\": \"white\", \"linecolor\": \"white\", \"ticks\": \"\"}, \"baxis\": {\"gridcolor\": \"white\", \"linecolor\": \"white\", \"ticks\": \"\"}, \"bgcolor\": \"#E5ECF6\", \"caxis\": {\"gridcolor\": \"white\", \"linecolor\": \"white\", \"ticks\": \"\"}}, \"title\": {\"x\": 0.05}, \"xaxis\": {\"automargin\": true, \"gridcolor\": \"white\", \"linecolor\": \"white\", \"ticks\": \"\", \"title\": {\"standoff\": 15}, \"zerolinecolor\": \"white\", \"zerolinewidth\": 2}, \"yaxis\": {\"automargin\": true, \"gridcolor\": \"white\", \"linecolor\": \"white\", \"ticks\": \"\", \"title\": {\"standoff\": 15}, \"zerolinecolor\": \"white\", \"zerolinewidth\": 2}}}, \"xaxis\": {\"anchor\": \"y\", \"domain\": [0.0, 1.0], \"title\": {\"text\": \"Year\"}}, \"yaxis\": {\"anchor\": \"x\", \"domain\": [0.0, 1.0], \"title\": {\"text\": \"Total reserves (includes gold, current US$)\"}}},                        {\"responsive\": true}                    ).then(function(){\n",
       "                            \n",
       "var gd = document.getElementById('3b7b44fc-6c0a-43d0-85c3-bdefd3a9a1c7');\n",
       "var x = new MutationObserver(function (mutations, observer) {{\n",
       "        var display = window.getComputedStyle(gd).display;\n",
       "        if (!display || display === 'none') {{\n",
       "            console.log([gd, 'removed!']);\n",
       "            Plotly.purge(gd);\n",
       "            observer.disconnect();\n",
       "        }}\n",
       "}});\n",
       "\n",
       "// Listen for the removal of the full notebook cells\n",
       "var notebookContainer = gd.closest('#notebook-container');\n",
       "if (notebookContainer) {{\n",
       "    x.observe(notebookContainer, {childList: true});\n",
       "}}\n",
       "\n",
       "// Listen for the clearing of the current output cell\n",
       "var outputEl = gd.closest('.output');\n",
       "if (outputEl) {{\n",
       "    x.observe(outputEl, {childList: true});\n",
       "}}\n",
       "\n",
       "                        })                };                });            </script>        </div>"
      ]
     },
     "metadata": {},
     "output_type": "display_data"
    }
   ],
   "source": [
    "fig = px.scatter(selectedCountry, x = 'Year', y = \"Total reserves (includes gold, current US$)\", color = 'Country Name')\n",
    "fig.show()"
   ]
  },
  {
   "cell_type": "code",
   "execution_count": null,
   "id": "surprising-demonstration",
   "metadata": {},
   "outputs": [],
   "source": []
  },
  {
   "cell_type": "code",
   "execution_count": 90,
   "id": "laden-study",
   "metadata": {},
   "outputs": [],
   "source": [
    "balance = selectedCountry[['Year', \"Current account balance (BoP, current US$)\", \"Country Name\"]]\n",
    "balance = balance.sort_values(by='Year', ascending=True)"
   ]
  },
  {
   "cell_type": "code",
   "execution_count": 91,
   "id": "circular-agent",
   "metadata": {},
   "outputs": [
    {
     "data": {
      "application/vnd.plotly.v1+json": {
       "config": {
        "plotlyServerURL": "https://plot.ly"
       },
       "data": [
        {
         "hovertemplate": "Country Name=China<br>Year=%{x}<br>Current account balance (BoP, current US$)=%{y}<extra></extra>",
         "legendgroup": "China",
         "line": {
          "color": "#636efa",
          "dash": "solid"
         },
         "mode": "lines",
         "name": "China",
         "orientation": "v",
         "showlegend": true,
         "type": "scatter",
         "x": [
          1960,
          1961,
          1962,
          1963,
          1964,
          1965,
          1966,
          1967,
          1968,
          1969,
          1970,
          1971,
          1972,
          1973,
          1974,
          1975,
          1976,
          1977,
          1978,
          1979,
          1980,
          1981,
          1982,
          1983,
          1984,
          1985,
          1986,
          1987,
          1988,
          1989,
          1990,
          1991,
          1992,
          1993,
          1994,
          1995,
          1996,
          1997,
          1998,
          1999,
          2000,
          2001,
          2002,
          2003,
          2004,
          2005,
          2006,
          2007,
          2008,
          2009,
          2010,
          2011,
          2012,
          2013,
          2014,
          2015,
          2016,
          2017
         ],
         "xaxis": "x",
         "y": [
          0,
          0,
          0,
          0,
          0,
          0,
          0,
          0,
          0,
          0,
          0,
          0,
          0,
          0,
          0,
          0,
          0,
          0,
          0,
          0,
          0,
          0,
          5674000000,
          4240000000,
          2030000000,
          -11417000000,
          -7034000000,
          300000000,
          -3802000000,
          -4317000000,
          23994000000,
          13272000000,
          6401000000,
          -11609000000,
          6908000000,
          1618390000,
          7243000000,
          36963000000,
          31472000000,
          21115000000,
          20518382000,
          17401000000,
          35421997979.6472,
          43051582861.334,
          68940960688.562,
          132378493766.399,
          231843041064.414,
          353182677237.316,
          420568516143.545,
          243256567919.618,
          237810389607.955,
          136096761577.55,
          215391747469.442,
          148203949879.877,
          236046577873.629,
          304164445643.017,
          202203423877.644,
          164886647435.18
         ],
         "yaxis": "y"
        },
        {
         "hovertemplate": "Country Name=United States<br>Year=%{x}<br>Current account balance (BoP, current US$)=%{y}<extra></extra>",
         "legendgroup": "United States",
         "line": {
          "color": "#EF553B",
          "dash": "solid"
         },
         "mode": "lines",
         "name": "United States",
         "orientation": "v",
         "showlegend": true,
         "type": "scatter",
         "x": [
          1960,
          1961,
          1962,
          1963,
          1964,
          1965,
          1966,
          1967,
          1968,
          1969,
          1970,
          1971,
          1972,
          1973,
          1974,
          1975,
          1976,
          1977,
          1978,
          1979,
          1980,
          1981,
          1982,
          1983,
          1984,
          1985,
          1986,
          1987,
          1988,
          1989,
          1990,
          1991,
          1992,
          1993,
          1994,
          1995,
          1996,
          1997,
          1998,
          1999,
          2000,
          2001,
          2002,
          2003,
          2004,
          2005,
          2006,
          2007,
          2008,
          2009,
          2010,
          2011,
          2012,
          2013,
          2014,
          2015,
          2016,
          2017
         ],
         "xaxis": "x",
         "y": [
          0,
          0,
          0,
          0,
          0,
          0,
          0,
          0,
          0,
          0,
          5240000000,
          -980000000,
          -5260000000,
          7580000000,
          1700000000,
          17880000000,
          3840000000,
          -15100000000,
          -15747000000,
          -156700000,
          4254000000,
          4810000000,
          -11607000000,
          -44222000000,
          -99008000000,
          -124455000000,
          -147174000000,
          -160647000000,
          -121258000000,
          -99506000000,
          -157904000000,
          2851000000,
          -51605050000,
          -84782800000,
          -121642400000,
          -113561000000,
          -124727100000,
          -140724500000,
          -215037000000,
          -288366000000,
          -403460000000,
          -389693000000,
          -450802000000,
          -518747000000,
          -631590000000,
          -745246000000,
          -805962000000,
          -711033000000,
          -681391000000,
          -372522000000,
          -430702000000,
          -444593000000,
          -426197000000,
          -349544000000,
          -373796000000,
          -434603000000,
          -451692000000,
          -466248000000
         ],
         "yaxis": "y"
        },
        {
         "hovertemplate": "Country Name=Japan<br>Year=%{x}<br>Current account balance (BoP, current US$)=%{y}<extra></extra>",
         "legendgroup": "Japan",
         "line": {
          "color": "#00cc96",
          "dash": "solid"
         },
         "mode": "lines",
         "name": "Japan",
         "orientation": "v",
         "showlegend": true,
         "type": "scatter",
         "x": [
          1960,
          1961,
          1962,
          1963,
          1964,
          1965,
          1966,
          1967,
          1968,
          1969,
          1970,
          1971,
          1972,
          1973,
          1974,
          1975,
          1976,
          1977,
          1978,
          1979,
          1980,
          1981,
          1982,
          1983,
          1984,
          1985,
          1986,
          1987,
          1988,
          1989,
          1990,
          1991,
          1992,
          1993,
          1994,
          1995,
          1996,
          1997,
          1998,
          1999,
          2000,
          2001,
          2002,
          2003,
          2004,
          2005,
          2006,
          2007,
          2008,
          2009,
          2010,
          2011,
          2012,
          2013,
          2014,
          2015,
          2016,
          2017
         ],
         "xaxis": "x",
         "y": [
          0,
          0,
          0,
          0,
          0,
          0,
          0,
          0,
          0,
          0,
          0,
          0,
          0,
          0,
          0,
          0,
          0,
          0,
          0,
          0,
          0,
          0,
          0,
          0,
          0,
          0,
          0,
          0,
          0,
          0,
          0,
          0,
          0,
          0,
          0,
          0,
          68994126647.2952,
          95455879688.361,
          114685034700.846,
          114126431432.297,
          130690474028.488,
          86219920754.3291,
          108861295892.018,
          139380520054.084,
          181993749574.64,
          170122750083.948,
          174672769353.091,
          211735646402.301,
          142115935666.067,
          145677709652.338,
          220887986144.054,
          129596684408.633,
          60116999697.1116,
          46378535980.1121,
          36351469239.9693,
          136471801667.015,
          193995974827.822,
          195800717651.474
         ],
         "yaxis": "y"
        }
       ],
       "layout": {
        "legend": {
         "title": {
          "text": "Country Name"
         },
         "tracegroupgap": 0
        },
        "margin": {
         "t": 60
        },
        "template": {
         "data": {
          "bar": [
           {
            "error_x": {
             "color": "#2a3f5f"
            },
            "error_y": {
             "color": "#2a3f5f"
            },
            "marker": {
             "line": {
              "color": "#E5ECF6",
              "width": 0.5
             }
            },
            "type": "bar"
           }
          ],
          "barpolar": [
           {
            "marker": {
             "line": {
              "color": "#E5ECF6",
              "width": 0.5
             }
            },
            "type": "barpolar"
           }
          ],
          "carpet": [
           {
            "aaxis": {
             "endlinecolor": "#2a3f5f",
             "gridcolor": "white",
             "linecolor": "white",
             "minorgridcolor": "white",
             "startlinecolor": "#2a3f5f"
            },
            "baxis": {
             "endlinecolor": "#2a3f5f",
             "gridcolor": "white",
             "linecolor": "white",
             "minorgridcolor": "white",
             "startlinecolor": "#2a3f5f"
            },
            "type": "carpet"
           }
          ],
          "choropleth": [
           {
            "colorbar": {
             "outlinewidth": 0,
             "ticks": ""
            },
            "type": "choropleth"
           }
          ],
          "contour": [
           {
            "colorbar": {
             "outlinewidth": 0,
             "ticks": ""
            },
            "colorscale": [
             [
              0,
              "#0d0887"
             ],
             [
              0.1111111111111111,
              "#46039f"
             ],
             [
              0.2222222222222222,
              "#7201a8"
             ],
             [
              0.3333333333333333,
              "#9c179e"
             ],
             [
              0.4444444444444444,
              "#bd3786"
             ],
             [
              0.5555555555555556,
              "#d8576b"
             ],
             [
              0.6666666666666666,
              "#ed7953"
             ],
             [
              0.7777777777777778,
              "#fb9f3a"
             ],
             [
              0.8888888888888888,
              "#fdca26"
             ],
             [
              1,
              "#f0f921"
             ]
            ],
            "type": "contour"
           }
          ],
          "contourcarpet": [
           {
            "colorbar": {
             "outlinewidth": 0,
             "ticks": ""
            },
            "type": "contourcarpet"
           }
          ],
          "heatmap": [
           {
            "colorbar": {
             "outlinewidth": 0,
             "ticks": ""
            },
            "colorscale": [
             [
              0,
              "#0d0887"
             ],
             [
              0.1111111111111111,
              "#46039f"
             ],
             [
              0.2222222222222222,
              "#7201a8"
             ],
             [
              0.3333333333333333,
              "#9c179e"
             ],
             [
              0.4444444444444444,
              "#bd3786"
             ],
             [
              0.5555555555555556,
              "#d8576b"
             ],
             [
              0.6666666666666666,
              "#ed7953"
             ],
             [
              0.7777777777777778,
              "#fb9f3a"
             ],
             [
              0.8888888888888888,
              "#fdca26"
             ],
             [
              1,
              "#f0f921"
             ]
            ],
            "type": "heatmap"
           }
          ],
          "heatmapgl": [
           {
            "colorbar": {
             "outlinewidth": 0,
             "ticks": ""
            },
            "colorscale": [
             [
              0,
              "#0d0887"
             ],
             [
              0.1111111111111111,
              "#46039f"
             ],
             [
              0.2222222222222222,
              "#7201a8"
             ],
             [
              0.3333333333333333,
              "#9c179e"
             ],
             [
              0.4444444444444444,
              "#bd3786"
             ],
             [
              0.5555555555555556,
              "#d8576b"
             ],
             [
              0.6666666666666666,
              "#ed7953"
             ],
             [
              0.7777777777777778,
              "#fb9f3a"
             ],
             [
              0.8888888888888888,
              "#fdca26"
             ],
             [
              1,
              "#f0f921"
             ]
            ],
            "type": "heatmapgl"
           }
          ],
          "histogram": [
           {
            "marker": {
             "colorbar": {
              "outlinewidth": 0,
              "ticks": ""
             }
            },
            "type": "histogram"
           }
          ],
          "histogram2d": [
           {
            "colorbar": {
             "outlinewidth": 0,
             "ticks": ""
            },
            "colorscale": [
             [
              0,
              "#0d0887"
             ],
             [
              0.1111111111111111,
              "#46039f"
             ],
             [
              0.2222222222222222,
              "#7201a8"
             ],
             [
              0.3333333333333333,
              "#9c179e"
             ],
             [
              0.4444444444444444,
              "#bd3786"
             ],
             [
              0.5555555555555556,
              "#d8576b"
             ],
             [
              0.6666666666666666,
              "#ed7953"
             ],
             [
              0.7777777777777778,
              "#fb9f3a"
             ],
             [
              0.8888888888888888,
              "#fdca26"
             ],
             [
              1,
              "#f0f921"
             ]
            ],
            "type": "histogram2d"
           }
          ],
          "histogram2dcontour": [
           {
            "colorbar": {
             "outlinewidth": 0,
             "ticks": ""
            },
            "colorscale": [
             [
              0,
              "#0d0887"
             ],
             [
              0.1111111111111111,
              "#46039f"
             ],
             [
              0.2222222222222222,
              "#7201a8"
             ],
             [
              0.3333333333333333,
              "#9c179e"
             ],
             [
              0.4444444444444444,
              "#bd3786"
             ],
             [
              0.5555555555555556,
              "#d8576b"
             ],
             [
              0.6666666666666666,
              "#ed7953"
             ],
             [
              0.7777777777777778,
              "#fb9f3a"
             ],
             [
              0.8888888888888888,
              "#fdca26"
             ],
             [
              1,
              "#f0f921"
             ]
            ],
            "type": "histogram2dcontour"
           }
          ],
          "mesh3d": [
           {
            "colorbar": {
             "outlinewidth": 0,
             "ticks": ""
            },
            "type": "mesh3d"
           }
          ],
          "parcoords": [
           {
            "line": {
             "colorbar": {
              "outlinewidth": 0,
              "ticks": ""
             }
            },
            "type": "parcoords"
           }
          ],
          "pie": [
           {
            "automargin": true,
            "type": "pie"
           }
          ],
          "scatter": [
           {
            "marker": {
             "colorbar": {
              "outlinewidth": 0,
              "ticks": ""
             }
            },
            "type": "scatter"
           }
          ],
          "scatter3d": [
           {
            "line": {
             "colorbar": {
              "outlinewidth": 0,
              "ticks": ""
             }
            },
            "marker": {
             "colorbar": {
              "outlinewidth": 0,
              "ticks": ""
             }
            },
            "type": "scatter3d"
           }
          ],
          "scattercarpet": [
           {
            "marker": {
             "colorbar": {
              "outlinewidth": 0,
              "ticks": ""
             }
            },
            "type": "scattercarpet"
           }
          ],
          "scattergeo": [
           {
            "marker": {
             "colorbar": {
              "outlinewidth": 0,
              "ticks": ""
             }
            },
            "type": "scattergeo"
           }
          ],
          "scattergl": [
           {
            "marker": {
             "colorbar": {
              "outlinewidth": 0,
              "ticks": ""
             }
            },
            "type": "scattergl"
           }
          ],
          "scattermapbox": [
           {
            "marker": {
             "colorbar": {
              "outlinewidth": 0,
              "ticks": ""
             }
            },
            "type": "scattermapbox"
           }
          ],
          "scatterpolar": [
           {
            "marker": {
             "colorbar": {
              "outlinewidth": 0,
              "ticks": ""
             }
            },
            "type": "scatterpolar"
           }
          ],
          "scatterpolargl": [
           {
            "marker": {
             "colorbar": {
              "outlinewidth": 0,
              "ticks": ""
             }
            },
            "type": "scatterpolargl"
           }
          ],
          "scatterternary": [
           {
            "marker": {
             "colorbar": {
              "outlinewidth": 0,
              "ticks": ""
             }
            },
            "type": "scatterternary"
           }
          ],
          "surface": [
           {
            "colorbar": {
             "outlinewidth": 0,
             "ticks": ""
            },
            "colorscale": [
             [
              0,
              "#0d0887"
             ],
             [
              0.1111111111111111,
              "#46039f"
             ],
             [
              0.2222222222222222,
              "#7201a8"
             ],
             [
              0.3333333333333333,
              "#9c179e"
             ],
             [
              0.4444444444444444,
              "#bd3786"
             ],
             [
              0.5555555555555556,
              "#d8576b"
             ],
             [
              0.6666666666666666,
              "#ed7953"
             ],
             [
              0.7777777777777778,
              "#fb9f3a"
             ],
             [
              0.8888888888888888,
              "#fdca26"
             ],
             [
              1,
              "#f0f921"
             ]
            ],
            "type": "surface"
           }
          ],
          "table": [
           {
            "cells": {
             "fill": {
              "color": "#EBF0F8"
             },
             "line": {
              "color": "white"
             }
            },
            "header": {
             "fill": {
              "color": "#C8D4E3"
             },
             "line": {
              "color": "white"
             }
            },
            "type": "table"
           }
          ]
         },
         "layout": {
          "annotationdefaults": {
           "arrowcolor": "#2a3f5f",
           "arrowhead": 0,
           "arrowwidth": 1
          },
          "autotypenumbers": "strict",
          "coloraxis": {
           "colorbar": {
            "outlinewidth": 0,
            "ticks": ""
           }
          },
          "colorscale": {
           "diverging": [
            [
             0,
             "#8e0152"
            ],
            [
             0.1,
             "#c51b7d"
            ],
            [
             0.2,
             "#de77ae"
            ],
            [
             0.3,
             "#f1b6da"
            ],
            [
             0.4,
             "#fde0ef"
            ],
            [
             0.5,
             "#f7f7f7"
            ],
            [
             0.6,
             "#e6f5d0"
            ],
            [
             0.7,
             "#b8e186"
            ],
            [
             0.8,
             "#7fbc41"
            ],
            [
             0.9,
             "#4d9221"
            ],
            [
             1,
             "#276419"
            ]
           ],
           "sequential": [
            [
             0,
             "#0d0887"
            ],
            [
             0.1111111111111111,
             "#46039f"
            ],
            [
             0.2222222222222222,
             "#7201a8"
            ],
            [
             0.3333333333333333,
             "#9c179e"
            ],
            [
             0.4444444444444444,
             "#bd3786"
            ],
            [
             0.5555555555555556,
             "#d8576b"
            ],
            [
             0.6666666666666666,
             "#ed7953"
            ],
            [
             0.7777777777777778,
             "#fb9f3a"
            ],
            [
             0.8888888888888888,
             "#fdca26"
            ],
            [
             1,
             "#f0f921"
            ]
           ],
           "sequentialminus": [
            [
             0,
             "#0d0887"
            ],
            [
             0.1111111111111111,
             "#46039f"
            ],
            [
             0.2222222222222222,
             "#7201a8"
            ],
            [
             0.3333333333333333,
             "#9c179e"
            ],
            [
             0.4444444444444444,
             "#bd3786"
            ],
            [
             0.5555555555555556,
             "#d8576b"
            ],
            [
             0.6666666666666666,
             "#ed7953"
            ],
            [
             0.7777777777777778,
             "#fb9f3a"
            ],
            [
             0.8888888888888888,
             "#fdca26"
            ],
            [
             1,
             "#f0f921"
            ]
           ]
          },
          "colorway": [
           "#636efa",
           "#EF553B",
           "#00cc96",
           "#ab63fa",
           "#FFA15A",
           "#19d3f3",
           "#FF6692",
           "#B6E880",
           "#FF97FF",
           "#FECB52"
          ],
          "font": {
           "color": "#2a3f5f"
          },
          "geo": {
           "bgcolor": "white",
           "lakecolor": "white",
           "landcolor": "#E5ECF6",
           "showlakes": true,
           "showland": true,
           "subunitcolor": "white"
          },
          "hoverlabel": {
           "align": "left"
          },
          "hovermode": "closest",
          "mapbox": {
           "style": "light"
          },
          "paper_bgcolor": "white",
          "plot_bgcolor": "#E5ECF6",
          "polar": {
           "angularaxis": {
            "gridcolor": "white",
            "linecolor": "white",
            "ticks": ""
           },
           "bgcolor": "#E5ECF6",
           "radialaxis": {
            "gridcolor": "white",
            "linecolor": "white",
            "ticks": ""
           }
          },
          "scene": {
           "xaxis": {
            "backgroundcolor": "#E5ECF6",
            "gridcolor": "white",
            "gridwidth": 2,
            "linecolor": "white",
            "showbackground": true,
            "ticks": "",
            "zerolinecolor": "white"
           },
           "yaxis": {
            "backgroundcolor": "#E5ECF6",
            "gridcolor": "white",
            "gridwidth": 2,
            "linecolor": "white",
            "showbackground": true,
            "ticks": "",
            "zerolinecolor": "white"
           },
           "zaxis": {
            "backgroundcolor": "#E5ECF6",
            "gridcolor": "white",
            "gridwidth": 2,
            "linecolor": "white",
            "showbackground": true,
            "ticks": "",
            "zerolinecolor": "white"
           }
          },
          "shapedefaults": {
           "line": {
            "color": "#2a3f5f"
           }
          },
          "ternary": {
           "aaxis": {
            "gridcolor": "white",
            "linecolor": "white",
            "ticks": ""
           },
           "baxis": {
            "gridcolor": "white",
            "linecolor": "white",
            "ticks": ""
           },
           "bgcolor": "#E5ECF6",
           "caxis": {
            "gridcolor": "white",
            "linecolor": "white",
            "ticks": ""
           }
          },
          "title": {
           "x": 0.05
          },
          "xaxis": {
           "automargin": true,
           "gridcolor": "white",
           "linecolor": "white",
           "ticks": "",
           "title": {
            "standoff": 15
           },
           "zerolinecolor": "white",
           "zerolinewidth": 2
          },
          "yaxis": {
           "automargin": true,
           "gridcolor": "white",
           "linecolor": "white",
           "ticks": "",
           "title": {
            "standoff": 15
           },
           "zerolinecolor": "white",
           "zerolinewidth": 2
          }
         }
        },
        "xaxis": {
         "anchor": "y",
         "domain": [
          0,
          1
         ],
         "title": {
          "text": "Year"
         }
        },
        "yaxis": {
         "anchor": "x",
         "domain": [
          0,
          1
         ],
         "title": {
          "text": "Current account balance (BoP, current US$)"
         }
        }
       }
      },
      "text/html": [
       "<div>                            <div id=\"33b0a719-6760-4daf-8f44-82662ebe98d8\" class=\"plotly-graph-div\" style=\"height:525px; width:100%;\"></div>            <script type=\"text/javascript\">                require([\"plotly\"], function(Plotly) {                    window.PLOTLYENV=window.PLOTLYENV || {};                                    if (document.getElementById(\"33b0a719-6760-4daf-8f44-82662ebe98d8\")) {                    Plotly.newPlot(                        \"33b0a719-6760-4daf-8f44-82662ebe98d8\",                        [{\"hovertemplate\": \"Country Name=China<br>Year=%{x}<br>Current account balance (BoP, current US$)=%{y}<extra></extra>\", \"legendgroup\": \"China\", \"line\": {\"color\": \"#636efa\", \"dash\": \"solid\"}, \"mode\": \"lines\", \"name\": \"China\", \"orientation\": \"v\", \"showlegend\": true, \"type\": \"scatter\", \"x\": [1960, 1961, 1962, 1963, 1964, 1965, 1966, 1967, 1968, 1969, 1970, 1971, 1972, 1973, 1974, 1975, 1976, 1977, 1978, 1979, 1980, 1981, 1982, 1983, 1984, 1985, 1986, 1987, 1988, 1989, 1990, 1991, 1992, 1993, 1994, 1995, 1996, 1997, 1998, 1999, 2000, 2001, 2002, 2003, 2004, 2005, 2006, 2007, 2008, 2009, 2010, 2011, 2012, 2013, 2014, 2015, 2016, 2017], \"xaxis\": \"x\", \"y\": [0.0, 0.0, 0.0, 0.0, 0.0, 0.0, 0.0, 0.0, 0.0, 0.0, 0.0, 0.0, 0.0, 0.0, 0.0, 0.0, 0.0, 0.0, 0.0, 0.0, 0.0, 0.0, 5674000000.0, 4240000000.0, 2030000000.0, -11417000000.0, -7034000000.0, 300000000.0, -3802000000.0, -4317000000.0, 23994000000.0, 13272000000.0, 6401000000.0, -11609000000.0, 6908000000.0, 1618390000.0, 7243000000.0, 36963000000.0, 31472000000.0, 21115000000.0, 20518382000.0, 17401000000.0, 35421997979.6472, 43051582861.334, 68940960688.562, 132378493766.399, 231843041064.414, 353182677237.316, 420568516143.545, 243256567919.618, 237810389607.955, 136096761577.55, 215391747469.442, 148203949879.877, 236046577873.629, 304164445643.017, 202203423877.644, 164886647435.18], \"yaxis\": \"y\"}, {\"hovertemplate\": \"Country Name=United States<br>Year=%{x}<br>Current account balance (BoP, current US$)=%{y}<extra></extra>\", \"legendgroup\": \"United States\", \"line\": {\"color\": \"#EF553B\", \"dash\": \"solid\"}, \"mode\": \"lines\", \"name\": \"United States\", \"orientation\": \"v\", \"showlegend\": true, \"type\": \"scatter\", \"x\": [1960, 1961, 1962, 1963, 1964, 1965, 1966, 1967, 1968, 1969, 1970, 1971, 1972, 1973, 1974, 1975, 1976, 1977, 1978, 1979, 1980, 1981, 1982, 1983, 1984, 1985, 1986, 1987, 1988, 1989, 1990, 1991, 1992, 1993, 1994, 1995, 1996, 1997, 1998, 1999, 2000, 2001, 2002, 2003, 2004, 2005, 2006, 2007, 2008, 2009, 2010, 2011, 2012, 2013, 2014, 2015, 2016, 2017], \"xaxis\": \"x\", \"y\": [0.0, 0.0, 0.0, 0.0, 0.0, 0.0, 0.0, 0.0, 0.0, 0.0, 5240000000.0, -980000000.0, -5260000000.0, 7580000000.0, 1700000000.0, 17880000000.0, 3840000000.0, -15100000000.0, -15747000000.0, -156700000.0, 4254000000.0, 4810000000.0, -11607000000.0, -44222000000.0, -99008000000.0, -124455000000.0, -147174000000.0, -160647000000.0, -121258000000.0, -99506000000.0, -157904000000.0, 2851000000.0, -51605050000.0, -84782800000.0, -121642400000.0, -113561000000.0, -124727100000.0, -140724500000.0, -215037000000.0, -288366000000.0, -403460000000.0, -389693000000.0, -450802000000.0, -518747000000.0, -631590000000.0, -745246000000.0, -805962000000.0, -711033000000.0, -681391000000.0, -372522000000.0, -430702000000.0, -444593000000.0, -426197000000.0, -349544000000.0, -373796000000.0, -434603000000.0, -451692000000.0, -466248000000.0], \"yaxis\": \"y\"}, {\"hovertemplate\": \"Country Name=Japan<br>Year=%{x}<br>Current account balance (BoP, current US$)=%{y}<extra></extra>\", \"legendgroup\": \"Japan\", \"line\": {\"color\": \"#00cc96\", \"dash\": \"solid\"}, \"mode\": \"lines\", \"name\": \"Japan\", \"orientation\": \"v\", \"showlegend\": true, \"type\": \"scatter\", \"x\": [1960, 1961, 1962, 1963, 1964, 1965, 1966, 1967, 1968, 1969, 1970, 1971, 1972, 1973, 1974, 1975, 1976, 1977, 1978, 1979, 1980, 1981, 1982, 1983, 1984, 1985, 1986, 1987, 1988, 1989, 1990, 1991, 1992, 1993, 1994, 1995, 1996, 1997, 1998, 1999, 2000, 2001, 2002, 2003, 2004, 2005, 2006, 2007, 2008, 2009, 2010, 2011, 2012, 2013, 2014, 2015, 2016, 2017], \"xaxis\": \"x\", \"y\": [0.0, 0.0, 0.0, 0.0, 0.0, 0.0, 0.0, 0.0, 0.0, 0.0, 0.0, 0.0, 0.0, 0.0, 0.0, 0.0, 0.0, 0.0, 0.0, 0.0, 0.0, 0.0, 0.0, 0.0, 0.0, 0.0, 0.0, 0.0, 0.0, 0.0, 0.0, 0.0, 0.0, 0.0, 0.0, 0.0, 68994126647.2952, 95455879688.361, 114685034700.846, 114126431432.297, 130690474028.488, 86219920754.3291, 108861295892.018, 139380520054.084, 181993749574.64, 170122750083.948, 174672769353.091, 211735646402.301, 142115935666.067, 145677709652.338, 220887986144.054, 129596684408.633, 60116999697.1116, 46378535980.1121, 36351469239.9693, 136471801667.015, 193995974827.822, 195800717651.474], \"yaxis\": \"y\"}],                        {\"legend\": {\"title\": {\"text\": \"Country Name\"}, \"tracegroupgap\": 0}, \"margin\": {\"t\": 60}, \"template\": {\"data\": {\"bar\": [{\"error_x\": {\"color\": \"#2a3f5f\"}, \"error_y\": {\"color\": \"#2a3f5f\"}, \"marker\": {\"line\": {\"color\": \"#E5ECF6\", \"width\": 0.5}}, \"type\": \"bar\"}], \"barpolar\": [{\"marker\": {\"line\": {\"color\": \"#E5ECF6\", \"width\": 0.5}}, \"type\": \"barpolar\"}], \"carpet\": [{\"aaxis\": {\"endlinecolor\": \"#2a3f5f\", \"gridcolor\": \"white\", \"linecolor\": \"white\", \"minorgridcolor\": \"white\", \"startlinecolor\": \"#2a3f5f\"}, \"baxis\": {\"endlinecolor\": \"#2a3f5f\", \"gridcolor\": \"white\", \"linecolor\": \"white\", \"minorgridcolor\": \"white\", \"startlinecolor\": \"#2a3f5f\"}, \"type\": \"carpet\"}], \"choropleth\": [{\"colorbar\": {\"outlinewidth\": 0, \"ticks\": \"\"}, \"type\": \"choropleth\"}], \"contour\": [{\"colorbar\": {\"outlinewidth\": 0, \"ticks\": \"\"}, \"colorscale\": [[0.0, \"#0d0887\"], [0.1111111111111111, \"#46039f\"], [0.2222222222222222, \"#7201a8\"], [0.3333333333333333, \"#9c179e\"], [0.4444444444444444, \"#bd3786\"], [0.5555555555555556, \"#d8576b\"], [0.6666666666666666, \"#ed7953\"], [0.7777777777777778, \"#fb9f3a\"], [0.8888888888888888, \"#fdca26\"], [1.0, \"#f0f921\"]], \"type\": \"contour\"}], \"contourcarpet\": [{\"colorbar\": {\"outlinewidth\": 0, \"ticks\": \"\"}, \"type\": \"contourcarpet\"}], \"heatmap\": [{\"colorbar\": {\"outlinewidth\": 0, \"ticks\": \"\"}, \"colorscale\": [[0.0, \"#0d0887\"], [0.1111111111111111, \"#46039f\"], [0.2222222222222222, \"#7201a8\"], [0.3333333333333333, \"#9c179e\"], [0.4444444444444444, \"#bd3786\"], [0.5555555555555556, \"#d8576b\"], [0.6666666666666666, \"#ed7953\"], [0.7777777777777778, \"#fb9f3a\"], [0.8888888888888888, \"#fdca26\"], [1.0, \"#f0f921\"]], \"type\": \"heatmap\"}], \"heatmapgl\": [{\"colorbar\": {\"outlinewidth\": 0, \"ticks\": \"\"}, \"colorscale\": [[0.0, \"#0d0887\"], [0.1111111111111111, \"#46039f\"], [0.2222222222222222, \"#7201a8\"], [0.3333333333333333, \"#9c179e\"], [0.4444444444444444, \"#bd3786\"], [0.5555555555555556, \"#d8576b\"], [0.6666666666666666, \"#ed7953\"], [0.7777777777777778, \"#fb9f3a\"], [0.8888888888888888, \"#fdca26\"], [1.0, \"#f0f921\"]], \"type\": \"heatmapgl\"}], \"histogram\": [{\"marker\": {\"colorbar\": {\"outlinewidth\": 0, \"ticks\": \"\"}}, \"type\": \"histogram\"}], \"histogram2d\": [{\"colorbar\": {\"outlinewidth\": 0, \"ticks\": \"\"}, \"colorscale\": [[0.0, \"#0d0887\"], [0.1111111111111111, \"#46039f\"], [0.2222222222222222, \"#7201a8\"], [0.3333333333333333, \"#9c179e\"], [0.4444444444444444, \"#bd3786\"], [0.5555555555555556, \"#d8576b\"], [0.6666666666666666, \"#ed7953\"], [0.7777777777777778, \"#fb9f3a\"], [0.8888888888888888, \"#fdca26\"], [1.0, \"#f0f921\"]], \"type\": \"histogram2d\"}], \"histogram2dcontour\": [{\"colorbar\": {\"outlinewidth\": 0, \"ticks\": \"\"}, \"colorscale\": [[0.0, \"#0d0887\"], [0.1111111111111111, \"#46039f\"], [0.2222222222222222, \"#7201a8\"], [0.3333333333333333, \"#9c179e\"], [0.4444444444444444, \"#bd3786\"], [0.5555555555555556, \"#d8576b\"], [0.6666666666666666, \"#ed7953\"], [0.7777777777777778, \"#fb9f3a\"], [0.8888888888888888, \"#fdca26\"], [1.0, \"#f0f921\"]], \"type\": \"histogram2dcontour\"}], \"mesh3d\": [{\"colorbar\": {\"outlinewidth\": 0, \"ticks\": \"\"}, \"type\": \"mesh3d\"}], \"parcoords\": [{\"line\": {\"colorbar\": {\"outlinewidth\": 0, \"ticks\": \"\"}}, \"type\": \"parcoords\"}], \"pie\": [{\"automargin\": true, \"type\": \"pie\"}], \"scatter\": [{\"marker\": {\"colorbar\": {\"outlinewidth\": 0, \"ticks\": \"\"}}, \"type\": \"scatter\"}], \"scatter3d\": [{\"line\": {\"colorbar\": {\"outlinewidth\": 0, \"ticks\": \"\"}}, \"marker\": {\"colorbar\": {\"outlinewidth\": 0, \"ticks\": \"\"}}, \"type\": \"scatter3d\"}], \"scattercarpet\": [{\"marker\": {\"colorbar\": {\"outlinewidth\": 0, \"ticks\": \"\"}}, \"type\": \"scattercarpet\"}], \"scattergeo\": [{\"marker\": {\"colorbar\": {\"outlinewidth\": 0, \"ticks\": \"\"}}, \"type\": \"scattergeo\"}], \"scattergl\": [{\"marker\": {\"colorbar\": {\"outlinewidth\": 0, \"ticks\": \"\"}}, \"type\": \"scattergl\"}], \"scattermapbox\": [{\"marker\": {\"colorbar\": {\"outlinewidth\": 0, \"ticks\": \"\"}}, \"type\": \"scattermapbox\"}], \"scatterpolar\": [{\"marker\": {\"colorbar\": {\"outlinewidth\": 0, \"ticks\": \"\"}}, \"type\": \"scatterpolar\"}], \"scatterpolargl\": [{\"marker\": {\"colorbar\": {\"outlinewidth\": 0, \"ticks\": \"\"}}, \"type\": \"scatterpolargl\"}], \"scatterternary\": [{\"marker\": {\"colorbar\": {\"outlinewidth\": 0, \"ticks\": \"\"}}, \"type\": \"scatterternary\"}], \"surface\": [{\"colorbar\": {\"outlinewidth\": 0, \"ticks\": \"\"}, \"colorscale\": [[0.0, \"#0d0887\"], [0.1111111111111111, \"#46039f\"], [0.2222222222222222, \"#7201a8\"], [0.3333333333333333, \"#9c179e\"], [0.4444444444444444, \"#bd3786\"], [0.5555555555555556, \"#d8576b\"], [0.6666666666666666, \"#ed7953\"], [0.7777777777777778, \"#fb9f3a\"], [0.8888888888888888, \"#fdca26\"], [1.0, \"#f0f921\"]], \"type\": \"surface\"}], \"table\": [{\"cells\": {\"fill\": {\"color\": \"#EBF0F8\"}, \"line\": {\"color\": \"white\"}}, \"header\": {\"fill\": {\"color\": \"#C8D4E3\"}, \"line\": {\"color\": \"white\"}}, \"type\": \"table\"}]}, \"layout\": {\"annotationdefaults\": {\"arrowcolor\": \"#2a3f5f\", \"arrowhead\": 0, \"arrowwidth\": 1}, \"autotypenumbers\": \"strict\", \"coloraxis\": {\"colorbar\": {\"outlinewidth\": 0, \"ticks\": \"\"}}, \"colorscale\": {\"diverging\": [[0, \"#8e0152\"], [0.1, \"#c51b7d\"], [0.2, \"#de77ae\"], [0.3, \"#f1b6da\"], [0.4, \"#fde0ef\"], [0.5, \"#f7f7f7\"], [0.6, \"#e6f5d0\"], [0.7, \"#b8e186\"], [0.8, \"#7fbc41\"], [0.9, \"#4d9221\"], [1, \"#276419\"]], \"sequential\": [[0.0, \"#0d0887\"], [0.1111111111111111, \"#46039f\"], [0.2222222222222222, \"#7201a8\"], [0.3333333333333333, \"#9c179e\"], [0.4444444444444444, \"#bd3786\"], [0.5555555555555556, \"#d8576b\"], [0.6666666666666666, \"#ed7953\"], [0.7777777777777778, \"#fb9f3a\"], [0.8888888888888888, \"#fdca26\"], [1.0, \"#f0f921\"]], \"sequentialminus\": [[0.0, \"#0d0887\"], [0.1111111111111111, \"#46039f\"], [0.2222222222222222, \"#7201a8\"], [0.3333333333333333, \"#9c179e\"], [0.4444444444444444, \"#bd3786\"], [0.5555555555555556, \"#d8576b\"], [0.6666666666666666, \"#ed7953\"], [0.7777777777777778, \"#fb9f3a\"], [0.8888888888888888, \"#fdca26\"], [1.0, \"#f0f921\"]]}, \"colorway\": [\"#636efa\", \"#EF553B\", \"#00cc96\", \"#ab63fa\", \"#FFA15A\", \"#19d3f3\", \"#FF6692\", \"#B6E880\", \"#FF97FF\", \"#FECB52\"], \"font\": {\"color\": \"#2a3f5f\"}, \"geo\": {\"bgcolor\": \"white\", \"lakecolor\": \"white\", \"landcolor\": \"#E5ECF6\", \"showlakes\": true, \"showland\": true, \"subunitcolor\": \"white\"}, \"hoverlabel\": {\"align\": \"left\"}, \"hovermode\": \"closest\", \"mapbox\": {\"style\": \"light\"}, \"paper_bgcolor\": \"white\", \"plot_bgcolor\": \"#E5ECF6\", \"polar\": {\"angularaxis\": {\"gridcolor\": \"white\", \"linecolor\": \"white\", \"ticks\": \"\"}, \"bgcolor\": \"#E5ECF6\", \"radialaxis\": {\"gridcolor\": \"white\", \"linecolor\": \"white\", \"ticks\": \"\"}}, \"scene\": {\"xaxis\": {\"backgroundcolor\": \"#E5ECF6\", \"gridcolor\": \"white\", \"gridwidth\": 2, \"linecolor\": \"white\", \"showbackground\": true, \"ticks\": \"\", \"zerolinecolor\": \"white\"}, \"yaxis\": {\"backgroundcolor\": \"#E5ECF6\", \"gridcolor\": \"white\", \"gridwidth\": 2, \"linecolor\": \"white\", \"showbackground\": true, \"ticks\": \"\", \"zerolinecolor\": \"white\"}, \"zaxis\": {\"backgroundcolor\": \"#E5ECF6\", \"gridcolor\": \"white\", \"gridwidth\": 2, \"linecolor\": \"white\", \"showbackground\": true, \"ticks\": \"\", \"zerolinecolor\": \"white\"}}, \"shapedefaults\": {\"line\": {\"color\": \"#2a3f5f\"}}, \"ternary\": {\"aaxis\": {\"gridcolor\": \"white\", \"linecolor\": \"white\", \"ticks\": \"\"}, \"baxis\": {\"gridcolor\": \"white\", \"linecolor\": \"white\", \"ticks\": \"\"}, \"bgcolor\": \"#E5ECF6\", \"caxis\": {\"gridcolor\": \"white\", \"linecolor\": \"white\", \"ticks\": \"\"}}, \"title\": {\"x\": 0.05}, \"xaxis\": {\"automargin\": true, \"gridcolor\": \"white\", \"linecolor\": \"white\", \"ticks\": \"\", \"title\": {\"standoff\": 15}, \"zerolinecolor\": \"white\", \"zerolinewidth\": 2}, \"yaxis\": {\"automargin\": true, \"gridcolor\": \"white\", \"linecolor\": \"white\", \"ticks\": \"\", \"title\": {\"standoff\": 15}, \"zerolinecolor\": \"white\", \"zerolinewidth\": 2}}}, \"xaxis\": {\"anchor\": \"y\", \"domain\": [0.0, 1.0], \"title\": {\"text\": \"Year\"}}, \"yaxis\": {\"anchor\": \"x\", \"domain\": [0.0, 1.0], \"title\": {\"text\": \"Current account balance (BoP, current US$)\"}}},                        {\"responsive\": true}                    ).then(function(){\n",
       "                            \n",
       "var gd = document.getElementById('33b0a719-6760-4daf-8f44-82662ebe98d8');\n",
       "var x = new MutationObserver(function (mutations, observer) {{\n",
       "        var display = window.getComputedStyle(gd).display;\n",
       "        if (!display || display === 'none') {{\n",
       "            console.log([gd, 'removed!']);\n",
       "            Plotly.purge(gd);\n",
       "            observer.disconnect();\n",
       "        }}\n",
       "}});\n",
       "\n",
       "// Listen for the removal of the full notebook cells\n",
       "var notebookContainer = gd.closest('#notebook-container');\n",
       "if (notebookContainer) {{\n",
       "    x.observe(notebookContainer, {childList: true});\n",
       "}}\n",
       "\n",
       "// Listen for the clearing of the current output cell\n",
       "var outputEl = gd.closest('.output');\n",
       "if (outputEl) {{\n",
       "    x.observe(outputEl, {childList: true});\n",
       "}}\n",
       "\n",
       "                        })                };                });            </script>        </div>"
      ]
     },
     "metadata": {},
     "output_type": "display_data"
    }
   ],
   "source": [
    "fig = px.line(balance, x=\"Year\", y=\"Current account balance (BoP, current US$)\", color=\"Country Name\",\n",
    "              line_group=\"Country Name\")\n",
    "fig.show()"
   ]
  },
  {
   "cell_type": "code",
   "execution_count": 144,
   "id": "consolidated-civilization",
   "metadata": {},
   "outputs": [],
   "source": [
    "SandP = pd.read_csv(\"SP500.csv\")"
   ]
  },
  {
   "cell_type": "code",
   "execution_count": 145,
   "id": "breeding-prague",
   "metadata": {},
   "outputs": [],
   "source": [
    "SandP['JPN'] = SandP['JPN'] / 10"
   ]
  },
  {
   "cell_type": "code",
   "execution_count": 146,
   "id": "gothic-compilation",
   "metadata": {},
   "outputs": [
    {
     "data": {
      "text/html": [
       "<div>\n",
       "<style scoped>\n",
       "    .dataframe tbody tr th:only-of-type {\n",
       "        vertical-align: middle;\n",
       "    }\n",
       "\n",
       "    .dataframe tbody tr th {\n",
       "        vertical-align: top;\n",
       "    }\n",
       "\n",
       "    .dataframe thead th {\n",
       "        text-align: right;\n",
       "    }\n",
       "</style>\n",
       "<table border=\"1\" class=\"dataframe\">\n",
       "  <thead>\n",
       "    <tr style=\"text-align: right;\">\n",
       "      <th></th>\n",
       "      <th>DATE</th>\n",
       "      <th>SP500</th>\n",
       "      <th>SSE</th>\n",
       "      <th>TNX</th>\n",
       "      <th>JPN</th>\n",
       "      <th>GOLD</th>\n",
       "    </tr>\n",
       "  </thead>\n",
       "  <tbody>\n",
       "    <tr>\n",
       "      <th>0</th>\n",
       "      <td>4/1/2016</td>\n",
       "      <td>2075.535238</td>\n",
       "      <td>2929.605957</td>\n",
       "      <td>1.488</td>\n",
       "      <td>1557.591992</td>\n",
       "      <td>1318.400024</td>\n",
       "    </tr>\n",
       "    <tr>\n",
       "      <th>1</th>\n",
       "      <td>5/1/2016</td>\n",
       "      <td>2065.550952</td>\n",
       "      <td>2979.339111</td>\n",
       "      <td>1.458</td>\n",
       "      <td>1656.926953</td>\n",
       "      <td>1349.000000</td>\n",
       "    </tr>\n",
       "    <tr>\n",
       "      <th>2</th>\n",
       "      <td>6/1/2016</td>\n",
       "      <td>2083.891364</td>\n",
       "      <td>3085.490967</td>\n",
       "      <td>1.568</td>\n",
       "      <td>1688.740039</td>\n",
       "      <td>1306.900024</td>\n",
       "    </tr>\n",
       "    <tr>\n",
       "      <th>3</th>\n",
       "      <td>7/1/2016</td>\n",
       "      <td>2148.902000</td>\n",
       "      <td>3004.702881</td>\n",
       "      <td>1.608</td>\n",
       "      <td>1644.983984</td>\n",
       "      <td>1313.300049</td>\n",
       "    </tr>\n",
       "    <tr>\n",
       "      <th>4</th>\n",
       "      <td>8/1/2016</td>\n",
       "      <td>2177.482174</td>\n",
       "      <td>3100.491943</td>\n",
       "      <td>1.834</td>\n",
       "      <td>1742.501953</td>\n",
       "      <td>1271.500000</td>\n",
       "    </tr>\n",
       "    <tr>\n",
       "      <th>...</th>\n",
       "      <td>...</td>\n",
       "      <td>...</td>\n",
       "      <td>...</td>\n",
       "      <td>...</td>\n",
       "      <td>...</td>\n",
       "      <td>...</td>\n",
       "    </tr>\n",
       "    <tr>\n",
       "      <th>56</th>\n",
       "      <td>12/1/2020</td>\n",
       "      <td>3695.310000</td>\n",
       "      <td>3509.080078</td>\n",
       "      <td>1.460</td>\n",
       "      <td>2896.600977</td>\n",
       "      <td>1930.200000</td>\n",
       "    </tr>\n",
       "    <tr>\n",
       "      <th>57</th>\n",
       "      <td>1/1/2021</td>\n",
       "      <td>3793.748421</td>\n",
       "      <td>3441.909912</td>\n",
       "      <td>1.746</td>\n",
       "      <td>2917.880078</td>\n",
       "      <td>1910.030000</td>\n",
       "    </tr>\n",
       "    <tr>\n",
       "      <th>58</th>\n",
       "      <td>2/1/2021</td>\n",
       "      <td>3883.432105</td>\n",
       "      <td>3446.860107</td>\n",
       "      <td>1.631</td>\n",
       "      <td>2881.263086</td>\n",
       "      <td>1919.030000</td>\n",
       "    </tr>\n",
       "    <tr>\n",
       "      <th>59</th>\n",
       "      <td>3/1/2021</td>\n",
       "      <td>3910.508261</td>\n",
       "      <td>3506.939941</td>\n",
       "      <td>1.634</td>\n",
       "      <td>2809.825000</td>\n",
       "      <td>1900.000000</td>\n",
       "    </tr>\n",
       "    <tr>\n",
       "      <th>60</th>\n",
       "      <td>4/1/2021</td>\n",
       "      <td>4141.176190</td>\n",
       "      <td>3483.069092</td>\n",
       "      <td>1.631</td>\n",
       "      <td>2881.263086</td>\n",
       "      <td>1902.500000</td>\n",
       "    </tr>\n",
       "  </tbody>\n",
       "</table>\n",
       "<p>61 rows × 6 columns</p>\n",
       "</div>"
      ],
      "text/plain": [
       "         DATE        SP500          SSE    TNX          JPN         GOLD\n",
       "0    4/1/2016  2075.535238  2929.605957  1.488  1557.591992  1318.400024\n",
       "1    5/1/2016  2065.550952  2979.339111  1.458  1656.926953  1349.000000\n",
       "2    6/1/2016  2083.891364  3085.490967  1.568  1688.740039  1306.900024\n",
       "3    7/1/2016  2148.902000  3004.702881  1.608  1644.983984  1313.300049\n",
       "4    8/1/2016  2177.482174  3100.491943  1.834  1742.501953  1271.500000\n",
       "..        ...          ...          ...    ...          ...          ...\n",
       "56  12/1/2020  3695.310000  3509.080078  1.460  2896.600977  1930.200000\n",
       "57   1/1/2021  3793.748421  3441.909912  1.746  2917.880078  1910.030000\n",
       "58   2/1/2021  3883.432105  3446.860107  1.631  2881.263086  1919.030000\n",
       "59   3/1/2021  3910.508261  3506.939941  1.634  2809.825000  1900.000000\n",
       "60   4/1/2021  4141.176190  3483.069092  1.631  2881.263086  1902.500000\n",
       "\n",
       "[61 rows x 6 columns]"
      ]
     },
     "execution_count": 146,
     "metadata": {},
     "output_type": "execute_result"
    }
   ],
   "source": [
    "SandP"
   ]
  },
  {
   "cell_type": "code",
   "execution_count": 147,
   "id": "short-cinema",
   "metadata": {},
   "outputs": [
    {
     "data": {
      "text/html": [
       "<div>\n",
       "<style scoped>\n",
       "    .dataframe tbody tr th:only-of-type {\n",
       "        vertical-align: middle;\n",
       "    }\n",
       "\n",
       "    .dataframe tbody tr th {\n",
       "        vertical-align: top;\n",
       "    }\n",
       "\n",
       "    .dataframe thead th {\n",
       "        text-align: right;\n",
       "    }\n",
       "</style>\n",
       "<table border=\"1\" class=\"dataframe\">\n",
       "  <thead>\n",
       "    <tr style=\"text-align: right;\">\n",
       "      <th></th>\n",
       "      <th>DATE</th>\n",
       "      <th>TNX</th>\n",
       "      <th>GOLD</th>\n",
       "      <th>variable</th>\n",
       "      <th>value</th>\n",
       "    </tr>\n",
       "  </thead>\n",
       "  <tbody>\n",
       "    <tr>\n",
       "      <th>0</th>\n",
       "      <td>4/1/2016</td>\n",
       "      <td>1.488</td>\n",
       "      <td>1318.400024</td>\n",
       "      <td>SP500</td>\n",
       "      <td>2075.535238</td>\n",
       "    </tr>\n",
       "    <tr>\n",
       "      <th>1</th>\n",
       "      <td>5/1/2016</td>\n",
       "      <td>1.458</td>\n",
       "      <td>1349.000000</td>\n",
       "      <td>SP500</td>\n",
       "      <td>2065.550952</td>\n",
       "    </tr>\n",
       "    <tr>\n",
       "      <th>2</th>\n",
       "      <td>6/1/2016</td>\n",
       "      <td>1.568</td>\n",
       "      <td>1306.900024</td>\n",
       "      <td>SP500</td>\n",
       "      <td>2083.891364</td>\n",
       "    </tr>\n",
       "    <tr>\n",
       "      <th>3</th>\n",
       "      <td>7/1/2016</td>\n",
       "      <td>1.608</td>\n",
       "      <td>1313.300049</td>\n",
       "      <td>SP500</td>\n",
       "      <td>2148.902000</td>\n",
       "    </tr>\n",
       "    <tr>\n",
       "      <th>4</th>\n",
       "      <td>8/1/2016</td>\n",
       "      <td>1.834</td>\n",
       "      <td>1271.500000</td>\n",
       "      <td>SP500</td>\n",
       "      <td>2177.482174</td>\n",
       "    </tr>\n",
       "    <tr>\n",
       "      <th>...</th>\n",
       "      <td>...</td>\n",
       "      <td>...</td>\n",
       "      <td>...</td>\n",
       "      <td>...</td>\n",
       "      <td>...</td>\n",
       "    </tr>\n",
       "    <tr>\n",
       "      <th>178</th>\n",
       "      <td>12/1/2020</td>\n",
       "      <td>1.460</td>\n",
       "      <td>1930.200000</td>\n",
       "      <td>JPN</td>\n",
       "      <td>2896.600977</td>\n",
       "    </tr>\n",
       "    <tr>\n",
       "      <th>179</th>\n",
       "      <td>1/1/2021</td>\n",
       "      <td>1.746</td>\n",
       "      <td>1910.030000</td>\n",
       "      <td>JPN</td>\n",
       "      <td>2917.880078</td>\n",
       "    </tr>\n",
       "    <tr>\n",
       "      <th>180</th>\n",
       "      <td>2/1/2021</td>\n",
       "      <td>1.631</td>\n",
       "      <td>1919.030000</td>\n",
       "      <td>JPN</td>\n",
       "      <td>2881.263086</td>\n",
       "    </tr>\n",
       "    <tr>\n",
       "      <th>181</th>\n",
       "      <td>3/1/2021</td>\n",
       "      <td>1.634</td>\n",
       "      <td>1900.000000</td>\n",
       "      <td>JPN</td>\n",
       "      <td>2809.825000</td>\n",
       "    </tr>\n",
       "    <tr>\n",
       "      <th>182</th>\n",
       "      <td>4/1/2021</td>\n",
       "      <td>1.631</td>\n",
       "      <td>1902.500000</td>\n",
       "      <td>JPN</td>\n",
       "      <td>2881.263086</td>\n",
       "    </tr>\n",
       "  </tbody>\n",
       "</table>\n",
       "<p>183 rows × 5 columns</p>\n",
       "</div>"
      ],
      "text/plain": [
       "          DATE    TNX         GOLD variable        value\n",
       "0     4/1/2016  1.488  1318.400024    SP500  2075.535238\n",
       "1     5/1/2016  1.458  1349.000000    SP500  2065.550952\n",
       "2     6/1/2016  1.568  1306.900024    SP500  2083.891364\n",
       "3     7/1/2016  1.608  1313.300049    SP500  2148.902000\n",
       "4     8/1/2016  1.834  1271.500000    SP500  2177.482174\n",
       "..         ...    ...          ...      ...          ...\n",
       "178  12/1/2020  1.460  1930.200000      JPN  2896.600977\n",
       "179   1/1/2021  1.746  1910.030000      JPN  2917.880078\n",
       "180   2/1/2021  1.631  1919.030000      JPN  2881.263086\n",
       "181   3/1/2021  1.634  1900.000000      JPN  2809.825000\n",
       "182   4/1/2021  1.631  1902.500000      JPN  2881.263086\n",
       "\n",
       "[183 rows x 5 columns]"
      ]
     },
     "execution_count": 147,
     "metadata": {},
     "output_type": "execute_result"
    }
   ],
   "source": [
    "SandP = SandP.melt(id_vars=['DATE', 'TNX', 'GOLD'])\n",
    "SandP\n"
   ]
  },
  {
   "cell_type": "code",
   "execution_count": 149,
   "id": "annual-ancient",
   "metadata": {},
   "outputs": [
    {
     "data": {
      "text/plain": [
       "4141.17619"
      ]
     },
     "execution_count": 149,
     "metadata": {},
     "output_type": "execute_result"
    }
   ],
   "source": [
    "SandP.value.max()"
   ]
  },
  {
   "cell_type": "code",
   "execution_count": 178,
   "id": "boxed-bulgarian",
   "metadata": {},
   "outputs": [
    {
     "data": {
      "application/vnd.plotly.v1+json": {
       "config": {
        "plotlyServerURL": "https://plot.ly"
       },
       "data": [
        {
         "hovertemplate": "<b>%{hovertext}</b><br><br>Market Standard=SP500<br>DATE=4/1/2016<br>Gold Price in Dollar=%{x}<br>Stock Market Closing Price in Dollar=%{marker.size}<extra></extra>",
         "hovertext": [
          "SP500"
         ],
         "ids": [
          "SP500"
         ],
         "legendgroup": "SP500",
         "marker": {
          "color": "#636efa",
          "size": [
           2075.535238
          ],
          "sizemode": "area",
          "sizeref": 10.352940475,
          "symbol": "circle"
         },
         "mode": "markers",
         "name": "SP500",
         "orientation": "v",
         "showlegend": true,
         "type": "scatter",
         "x": [
          1318.400024
         ],
         "xaxis": "x",
         "y": [
          2075.535238
         ],
         "yaxis": "y"
        },
        {
         "hovertemplate": "<b>%{hovertext}</b><br><br>Market Standard=SSE<br>DATE=4/1/2016<br>Gold Price in Dollar=%{x}<br>Stock Market Closing Price in Dollar=%{marker.size}<extra></extra>",
         "hovertext": [
          "SSE"
         ],
         "ids": [
          "SSE"
         ],
         "legendgroup": "SSE",
         "marker": {
          "color": "#EF553B",
          "size": [
           2929.605957
          ],
          "sizemode": "area",
          "sizeref": 10.352940475,
          "symbol": "circle"
         },
         "mode": "markers",
         "name": "SSE",
         "orientation": "v",
         "showlegend": true,
         "type": "scatter",
         "x": [
          1318.400024
         ],
         "xaxis": "x",
         "y": [
          2929.605957
         ],
         "yaxis": "y"
        },
        {
         "hovertemplate": "<b>%{hovertext}</b><br><br>Market Standard=JPN<br>DATE=4/1/2016<br>Gold Price in Dollar=%{x}<br>Stock Market Closing Price in Dollar=%{marker.size}<extra></extra>",
         "hovertext": [
          "JPN"
         ],
         "ids": [
          "JPN"
         ],
         "legendgroup": "JPN",
         "marker": {
          "color": "#00cc96",
          "size": [
           1557.5919920000001
          ],
          "sizemode": "area",
          "sizeref": 10.352940475,
          "symbol": "circle"
         },
         "mode": "markers",
         "name": "JPN",
         "orientation": "v",
         "showlegend": true,
         "type": "scatter",
         "x": [
          1318.400024
         ],
         "xaxis": "x",
         "y": [
          1557.5919920000001
         ],
         "yaxis": "y"
        }
       ],
       "frames": [
        {
         "data": [
          {
           "hovertemplate": "<b>%{hovertext}</b><br><br>Market Standard=SP500<br>DATE=4/1/2016<br>Gold Price in Dollar=%{x}<br>Stock Market Closing Price in Dollar=%{marker.size}<extra></extra>",
           "hovertext": [
            "SP500"
           ],
           "ids": [
            "SP500"
           ],
           "legendgroup": "SP500",
           "marker": {
            "color": "#636efa",
            "size": [
             2075.535238
            ],
            "sizemode": "area",
            "sizeref": 10.352940475,
            "symbol": "circle"
           },
           "mode": "markers",
           "name": "SP500",
           "orientation": "v",
           "showlegend": true,
           "type": "scatter",
           "x": [
            1318.400024
           ],
           "xaxis": "x",
           "y": [
            2075.535238
           ],
           "yaxis": "y"
          },
          {
           "hovertemplate": "<b>%{hovertext}</b><br><br>Market Standard=SSE<br>DATE=4/1/2016<br>Gold Price in Dollar=%{x}<br>Stock Market Closing Price in Dollar=%{marker.size}<extra></extra>",
           "hovertext": [
            "SSE"
           ],
           "ids": [
            "SSE"
           ],
           "legendgroup": "SSE",
           "marker": {
            "color": "#EF553B",
            "size": [
             2929.605957
            ],
            "sizemode": "area",
            "sizeref": 10.352940475,
            "symbol": "circle"
           },
           "mode": "markers",
           "name": "SSE",
           "orientation": "v",
           "showlegend": true,
           "type": "scatter",
           "x": [
            1318.400024
           ],
           "xaxis": "x",
           "y": [
            2929.605957
           ],
           "yaxis": "y"
          },
          {
           "hovertemplate": "<b>%{hovertext}</b><br><br>Market Standard=JPN<br>DATE=4/1/2016<br>Gold Price in Dollar=%{x}<br>Stock Market Closing Price in Dollar=%{marker.size}<extra></extra>",
           "hovertext": [
            "JPN"
           ],
           "ids": [
            "JPN"
           ],
           "legendgroup": "JPN",
           "marker": {
            "color": "#00cc96",
            "size": [
             1557.5919920000001
            ],
            "sizemode": "area",
            "sizeref": 10.352940475,
            "symbol": "circle"
           },
           "mode": "markers",
           "name": "JPN",
           "orientation": "v",
           "showlegend": true,
           "type": "scatter",
           "x": [
            1318.400024
           ],
           "xaxis": "x",
           "y": [
            1557.5919920000001
           ],
           "yaxis": "y"
          }
         ],
         "name": "4/1/2016"
        },
        {
         "data": [
          {
           "hovertemplate": "<b>%{hovertext}</b><br><br>Market Standard=SP500<br>DATE=5/1/2016<br>Gold Price in Dollar=%{x}<br>Stock Market Closing Price in Dollar=%{marker.size}<extra></extra>",
           "hovertext": [
            "SP500"
           ],
           "ids": [
            "SP500"
           ],
           "legendgroup": "SP500",
           "marker": {
            "color": "#636efa",
            "size": [
             2065.550952
            ],
            "sizemode": "area",
            "sizeref": 10.352940475,
            "symbol": "circle"
           },
           "mode": "markers",
           "name": "SP500",
           "orientation": "v",
           "showlegend": true,
           "type": "scatter",
           "x": [
            1349
           ],
           "xaxis": "x",
           "y": [
            2065.550952
           ],
           "yaxis": "y"
          },
          {
           "hovertemplate": "<b>%{hovertext}</b><br><br>Market Standard=SSE<br>DATE=5/1/2016<br>Gold Price in Dollar=%{x}<br>Stock Market Closing Price in Dollar=%{marker.size}<extra></extra>",
           "hovertext": [
            "SSE"
           ],
           "ids": [
            "SSE"
           ],
           "legendgroup": "SSE",
           "marker": {
            "color": "#EF553B",
            "size": [
             2979.339111
            ],
            "sizemode": "area",
            "sizeref": 10.352940475,
            "symbol": "circle"
           },
           "mode": "markers",
           "name": "SSE",
           "orientation": "v",
           "showlegend": true,
           "type": "scatter",
           "x": [
            1349
           ],
           "xaxis": "x",
           "y": [
            2979.339111
           ],
           "yaxis": "y"
          },
          {
           "hovertemplate": "<b>%{hovertext}</b><br><br>Market Standard=JPN<br>DATE=5/1/2016<br>Gold Price in Dollar=%{x}<br>Stock Market Closing Price in Dollar=%{marker.size}<extra></extra>",
           "hovertext": [
            "JPN"
           ],
           "ids": [
            "JPN"
           ],
           "legendgroup": "JPN",
           "marker": {
            "color": "#00cc96",
            "size": [
             1656.9269530000001
            ],
            "sizemode": "area",
            "sizeref": 10.352940475,
            "symbol": "circle"
           },
           "mode": "markers",
           "name": "JPN",
           "orientation": "v",
           "showlegend": true,
           "type": "scatter",
           "x": [
            1349
           ],
           "xaxis": "x",
           "y": [
            1656.9269530000001
           ],
           "yaxis": "y"
          }
         ],
         "name": "5/1/2016"
        },
        {
         "data": [
          {
           "hovertemplate": "<b>%{hovertext}</b><br><br>Market Standard=SP500<br>DATE=6/1/2016<br>Gold Price in Dollar=%{x}<br>Stock Market Closing Price in Dollar=%{marker.size}<extra></extra>",
           "hovertext": [
            "SP500"
           ],
           "ids": [
            "SP500"
           ],
           "legendgroup": "SP500",
           "marker": {
            "color": "#636efa",
            "size": [
             2083.891364
            ],
            "sizemode": "area",
            "sizeref": 10.352940475,
            "symbol": "circle"
           },
           "mode": "markers",
           "name": "SP500",
           "orientation": "v",
           "showlegend": true,
           "type": "scatter",
           "x": [
            1306.900024
           ],
           "xaxis": "x",
           "y": [
            2083.891364
           ],
           "yaxis": "y"
          },
          {
           "hovertemplate": "<b>%{hovertext}</b><br><br>Market Standard=SSE<br>DATE=6/1/2016<br>Gold Price in Dollar=%{x}<br>Stock Market Closing Price in Dollar=%{marker.size}<extra></extra>",
           "hovertext": [
            "SSE"
           ],
           "ids": [
            "SSE"
           ],
           "legendgroup": "SSE",
           "marker": {
            "color": "#EF553B",
            "size": [
             3085.490967
            ],
            "sizemode": "area",
            "sizeref": 10.352940475,
            "symbol": "circle"
           },
           "mode": "markers",
           "name": "SSE",
           "orientation": "v",
           "showlegend": true,
           "type": "scatter",
           "x": [
            1306.900024
           ],
           "xaxis": "x",
           "y": [
            3085.490967
           ],
           "yaxis": "y"
          },
          {
           "hovertemplate": "<b>%{hovertext}</b><br><br>Market Standard=JPN<br>DATE=6/1/2016<br>Gold Price in Dollar=%{x}<br>Stock Market Closing Price in Dollar=%{marker.size}<extra></extra>",
           "hovertext": [
            "JPN"
           ],
           "ids": [
            "JPN"
           ],
           "legendgroup": "JPN",
           "marker": {
            "color": "#00cc96",
            "size": [
             1688.7400389999998
            ],
            "sizemode": "area",
            "sizeref": 10.352940475,
            "symbol": "circle"
           },
           "mode": "markers",
           "name": "JPN",
           "orientation": "v",
           "showlegend": true,
           "type": "scatter",
           "x": [
            1306.900024
           ],
           "xaxis": "x",
           "y": [
            1688.7400389999998
           ],
           "yaxis": "y"
          }
         ],
         "name": "6/1/2016"
        },
        {
         "data": [
          {
           "hovertemplate": "<b>%{hovertext}</b><br><br>Market Standard=SP500<br>DATE=7/1/2016<br>Gold Price in Dollar=%{x}<br>Stock Market Closing Price in Dollar=%{marker.size}<extra></extra>",
           "hovertext": [
            "SP500"
           ],
           "ids": [
            "SP500"
           ],
           "legendgroup": "SP500",
           "marker": {
            "color": "#636efa",
            "size": [
             2148.902
            ],
            "sizemode": "area",
            "sizeref": 10.352940475,
            "symbol": "circle"
           },
           "mode": "markers",
           "name": "SP500",
           "orientation": "v",
           "showlegend": true,
           "type": "scatter",
           "x": [
            1313.300049
           ],
           "xaxis": "x",
           "y": [
            2148.902
           ],
           "yaxis": "y"
          },
          {
           "hovertemplate": "<b>%{hovertext}</b><br><br>Market Standard=SSE<br>DATE=7/1/2016<br>Gold Price in Dollar=%{x}<br>Stock Market Closing Price in Dollar=%{marker.size}<extra></extra>",
           "hovertext": [
            "SSE"
           ],
           "ids": [
            "SSE"
           ],
           "legendgroup": "SSE",
           "marker": {
            "color": "#EF553B",
            "size": [
             3004.702881
            ],
            "sizemode": "area",
            "sizeref": 10.352940475,
            "symbol": "circle"
           },
           "mode": "markers",
           "name": "SSE",
           "orientation": "v",
           "showlegend": true,
           "type": "scatter",
           "x": [
            1313.300049
           ],
           "xaxis": "x",
           "y": [
            3004.702881
           ],
           "yaxis": "y"
          },
          {
           "hovertemplate": "<b>%{hovertext}</b><br><br>Market Standard=JPN<br>DATE=7/1/2016<br>Gold Price in Dollar=%{x}<br>Stock Market Closing Price in Dollar=%{marker.size}<extra></extra>",
           "hovertext": [
            "JPN"
           ],
           "ids": [
            "JPN"
           ],
           "legendgroup": "JPN",
           "marker": {
            "color": "#00cc96",
            "size": [
             1644.983984
            ],
            "sizemode": "area",
            "sizeref": 10.352940475,
            "symbol": "circle"
           },
           "mode": "markers",
           "name": "JPN",
           "orientation": "v",
           "showlegend": true,
           "type": "scatter",
           "x": [
            1313.300049
           ],
           "xaxis": "x",
           "y": [
            1644.983984
           ],
           "yaxis": "y"
          }
         ],
         "name": "7/1/2016"
        },
        {
         "data": [
          {
           "hovertemplate": "<b>%{hovertext}</b><br><br>Market Standard=SP500<br>DATE=8/1/2016<br>Gold Price in Dollar=%{x}<br>Stock Market Closing Price in Dollar=%{marker.size}<extra></extra>",
           "hovertext": [
            "SP500"
           ],
           "ids": [
            "SP500"
           ],
           "legendgroup": "SP500",
           "marker": {
            "color": "#636efa",
            "size": [
             2177.482174
            ],
            "sizemode": "area",
            "sizeref": 10.352940475,
            "symbol": "circle"
           },
           "mode": "markers",
           "name": "SP500",
           "orientation": "v",
           "showlegend": true,
           "type": "scatter",
           "x": [
            1271.5
           ],
           "xaxis": "x",
           "y": [
            2177.482174
           ],
           "yaxis": "y"
          },
          {
           "hovertemplate": "<b>%{hovertext}</b><br><br>Market Standard=SSE<br>DATE=8/1/2016<br>Gold Price in Dollar=%{x}<br>Stock Market Closing Price in Dollar=%{marker.size}<extra></extra>",
           "hovertext": [
            "SSE"
           ],
           "ids": [
            "SSE"
           ],
           "legendgroup": "SSE",
           "marker": {
            "color": "#EF553B",
            "size": [
             3100.491943
            ],
            "sizemode": "area",
            "sizeref": 10.352940475,
            "symbol": "circle"
           },
           "mode": "markers",
           "name": "SSE",
           "orientation": "v",
           "showlegend": true,
           "type": "scatter",
           "x": [
            1271.5
           ],
           "xaxis": "x",
           "y": [
            3100.491943
           ],
           "yaxis": "y"
          },
          {
           "hovertemplate": "<b>%{hovertext}</b><br><br>Market Standard=JPN<br>DATE=8/1/2016<br>Gold Price in Dollar=%{x}<br>Stock Market Closing Price in Dollar=%{marker.size}<extra></extra>",
           "hovertext": [
            "JPN"
           ],
           "ids": [
            "JPN"
           ],
           "legendgroup": "JPN",
           "marker": {
            "color": "#00cc96",
            "size": [
             1742.5019530000002
            ],
            "sizemode": "area",
            "sizeref": 10.352940475,
            "symbol": "circle"
           },
           "mode": "markers",
           "name": "JPN",
           "orientation": "v",
           "showlegend": true,
           "type": "scatter",
           "x": [
            1271.5
           ],
           "xaxis": "x",
           "y": [
            1742.5019530000002
           ],
           "yaxis": "y"
          }
         ],
         "name": "8/1/2016"
        },
        {
         "data": [
          {
           "hovertemplate": "<b>%{hovertext}</b><br><br>Market Standard=SP500<br>DATE=9/1/2016<br>Gold Price in Dollar=%{x}<br>Stock Market Closing Price in Dollar=%{marker.size}<extra></extra>",
           "hovertext": [
            "SP500"
           ],
           "ids": [
            "SP500"
           ],
           "legendgroup": "SP500",
           "marker": {
            "color": "#636efa",
            "size": [
             2157.690952
            ],
            "sizemode": "area",
            "sizeref": 10.352940475,
            "symbol": "circle"
           },
           "mode": "markers",
           "name": "SP500",
           "orientation": "v",
           "showlegend": true,
           "type": "scatter",
           "x": [
            1170.800049
           ],
           "xaxis": "x",
           "y": [
            2157.690952
           ],
           "yaxis": "y"
          },
          {
           "hovertemplate": "<b>%{hovertext}</b><br><br>Market Standard=SSE<br>DATE=9/1/2016<br>Gold Price in Dollar=%{x}<br>Stock Market Closing Price in Dollar=%{marker.size}<extra></extra>",
           "hovertext": [
            "SSE"
           ],
           "ids": [
            "SSE"
           ],
           "legendgroup": "SSE",
           "marker": {
            "color": "#EF553B",
            "size": [
             3250.033936
            ],
            "sizemode": "area",
            "sizeref": 10.352940475,
            "symbol": "circle"
           },
           "mode": "markers",
           "name": "SSE",
           "orientation": "v",
           "showlegend": true,
           "type": "scatter",
           "x": [
            1170.800049
           ],
           "xaxis": "x",
           "y": [
            3250.033936
           ],
           "yaxis": "y"
          },
          {
           "hovertemplate": "<b>%{hovertext}</b><br><br>Market Standard=JPN<br>DATE=9/1/2016<br>Gold Price in Dollar=%{x}<br>Stock Market Closing Price in Dollar=%{marker.size}<extra></extra>",
           "hovertext": [
            "JPN"
           ],
           "ids": [
            "JPN"
           ],
           "legendgroup": "JPN",
           "marker": {
            "color": "#00cc96",
            "size": [
             1830.848047
            ],
            "sizemode": "area",
            "sizeref": 10.352940475,
            "symbol": "circle"
           },
           "mode": "markers",
           "name": "JPN",
           "orientation": "v",
           "showlegend": true,
           "type": "scatter",
           "x": [
            1170.800049
           ],
           "xaxis": "x",
           "y": [
            1830.848047
           ],
           "yaxis": "y"
          }
         ],
         "name": "9/1/2016"
        },
        {
         "data": [
          {
           "hovertemplate": "<b>%{hovertext}</b><br><br>Market Standard=SP500<br>DATE=10/1/2016<br>Gold Price in Dollar=%{x}<br>Stock Market Closing Price in Dollar=%{marker.size}<extra></extra>",
           "hovertext": [
            "SP500"
           ],
           "ids": [
            "SP500"
           ],
           "legendgroup": "SP500",
           "marker": {
            "color": "#636efa",
            "size": [
             2143.020952
            ],
            "sizemode": "area",
            "sizeref": 10.352940475,
            "symbol": "circle"
           },
           "mode": "markers",
           "name": "SP500",
           "orientation": "v",
           "showlegend": true,
           "type": "scatter",
           "x": [
            1150
           ],
           "xaxis": "x",
           "y": [
            2143.020952
           ],
           "yaxis": "y"
          },
          {
           "hovertemplate": "<b>%{hovertext}</b><br><br>Market Standard=SSE<br>DATE=10/1/2016<br>Gold Price in Dollar=%{x}<br>Stock Market Closing Price in Dollar=%{marker.size}<extra></extra>",
           "hovertext": [
            "SSE"
           ],
           "ids": [
            "SSE"
           ],
           "legendgroup": "SSE",
           "marker": {
            "color": "#EF553B",
            "size": [
             3103.636963
            ],
            "sizemode": "area",
            "sizeref": 10.352940475,
            "symbol": "circle"
           },
           "mode": "markers",
           "name": "SSE",
           "orientation": "v",
           "showlegend": true,
           "type": "scatter",
           "x": [
            1150
           ],
           "xaxis": "x",
           "y": [
            3103.636963
           ],
           "yaxis": "y"
          },
          {
           "hovertemplate": "<b>%{hovertext}</b><br><br>Market Standard=JPN<br>DATE=10/1/2016<br>Gold Price in Dollar=%{x}<br>Stock Market Closing Price in Dollar=%{marker.size}<extra></extra>",
           "hovertext": [
            "JPN"
           ],
           "ids": [
            "JPN"
           ],
           "legendgroup": "JPN",
           "marker": {
            "color": "#00cc96",
            "size": [
             1911.436914
            ],
            "sizemode": "area",
            "sizeref": 10.352940475,
            "symbol": "circle"
           },
           "mode": "markers",
           "name": "JPN",
           "orientation": "v",
           "showlegend": true,
           "type": "scatter",
           "x": [
            1150
           ],
           "xaxis": "x",
           "y": [
            1911.436914
           ],
           "yaxis": "y"
          }
         ],
         "name": "10/1/2016"
        },
        {
         "data": [
          {
           "hovertemplate": "<b>%{hovertext}</b><br><br>Market Standard=SP500<br>DATE=11/1/2016<br>Gold Price in Dollar=%{x}<br>Stock Market Closing Price in Dollar=%{marker.size}<extra></extra>",
           "hovertext": [
            "SP500"
           ],
           "ids": [
            "SP500"
           ],
           "legendgroup": "SP500",
           "marker": {
            "color": "#636efa",
            "size": [
             2164.985714
            ],
            "sizemode": "area",
            "sizeref": 10.352940475,
            "symbol": "circle"
           },
           "mode": "markers",
           "name": "SP500",
           "orientation": "v",
           "showlegend": true,
           "type": "scatter",
           "x": [
            1252.599976
           ],
           "xaxis": "x",
           "y": [
            2164.985714
           ],
           "yaxis": "y"
          },
          {
           "hovertemplate": "<b>%{hovertext}</b><br><br>Market Standard=SSE<br>DATE=11/1/2016<br>Gold Price in Dollar=%{x}<br>Stock Market Closing Price in Dollar=%{marker.size}<extra></extra>",
           "hovertext": [
            "SSE"
           ],
           "ids": [
            "SSE"
           ],
           "legendgroup": "SSE",
           "marker": {
            "color": "#EF553B",
            "size": [
             3159.166016
            ],
            "sizemode": "area",
            "sizeref": 10.352940475,
            "symbol": "circle"
           },
           "mode": "markers",
           "name": "SSE",
           "orientation": "v",
           "showlegend": true,
           "type": "scatter",
           "x": [
            1252.599976
           ],
           "xaxis": "x",
           "y": [
            3159.166016
           ],
           "yaxis": "y"
          },
          {
           "hovertemplate": "<b>%{hovertext}</b><br><br>Market Standard=JPN<br>DATE=11/1/2016<br>Gold Price in Dollar=%{x}<br>Stock Market Closing Price in Dollar=%{marker.size}<extra></extra>",
           "hovertext": [
            "JPN"
           ],
           "ids": [
            "JPN"
           ],
           "legendgroup": "JPN",
           "marker": {
            "color": "#00cc96",
            "size": [
             1904.133984
            ],
            "sizemode": "area",
            "sizeref": 10.352940475,
            "symbol": "circle"
           },
           "mode": "markers",
           "name": "JPN",
           "orientation": "v",
           "showlegend": true,
           "type": "scatter",
           "x": [
            1252.599976
           ],
           "xaxis": "x",
           "y": [
            1904.133984
           ],
           "yaxis": "y"
          }
         ],
         "name": "11/1/2016"
        },
        {
         "data": [
          {
           "hovertemplate": "<b>%{hovertext}</b><br><br>Market Standard=SP500<br>DATE=12/1/2016<br>Gold Price in Dollar=%{x}<br>Stock Market Closing Price in Dollar=%{marker.size}<extra></extra>",
           "hovertext": [
            "SP500"
           ],
           "ids": [
            "SP500"
           ],
           "legendgroup": "SP500",
           "marker": {
            "color": "#636efa",
            "size": [
             2246.629048
            ],
            "sizemode": "area",
            "sizeref": 10.352940475,
            "symbol": "circle"
           },
           "mode": "markers",
           "name": "SP500",
           "orientation": "v",
           "showlegend": true,
           "type": "scatter",
           "x": [
            1247.300049
           ],
           "xaxis": "x",
           "y": [
            2246.629048
           ],
           "yaxis": "y"
          },
          {
           "hovertemplate": "<b>%{hovertext}</b><br><br>Market Standard=SSE<br>DATE=12/1/2016<br>Gold Price in Dollar=%{x}<br>Stock Market Closing Price in Dollar=%{marker.size}<extra></extra>",
           "hovertext": [
            "SSE"
           ],
           "ids": [
            "SSE"
           ],
           "legendgroup": "SSE",
           "marker": {
            "color": "#EF553B",
            "size": [
             3241.73291
            ],
            "sizemode": "area",
            "sizeref": 10.352940475,
            "symbol": "circle"
           },
           "mode": "markers",
           "name": "SSE",
           "orientation": "v",
           "showlegend": true,
           "type": "scatter",
           "x": [
            1247.300049
           ],
           "xaxis": "x",
           "y": [
            3241.73291
           ],
           "yaxis": "y"
          },
          {
           "hovertemplate": "<b>%{hovertext}</b><br><br>Market Standard=JPN<br>DATE=12/1/2016<br>Gold Price in Dollar=%{x}<br>Stock Market Closing Price in Dollar=%{marker.size}<extra></extra>",
           "hovertext": [
            "JPN"
           ],
           "ids": [
            "JPN"
           ],
           "legendgroup": "JPN",
           "marker": {
            "color": "#00cc96",
            "size": [
             1911.899023
            ],
            "sizemode": "area",
            "sizeref": 10.352940475,
            "symbol": "circle"
           },
           "mode": "markers",
           "name": "JPN",
           "orientation": "v",
           "showlegend": true,
           "type": "scatter",
           "x": [
            1247.300049
           ],
           "xaxis": "x",
           "y": [
            1911.899023
           ],
           "yaxis": "y"
          }
         ],
         "name": "12/1/2016"
        },
        {
         "data": [
          {
           "hovertemplate": "<b>%{hovertext}</b><br><br>Market Standard=SP500<br>DATE=1/1/2017<br>Gold Price in Dollar=%{x}<br>Stock Market Closing Price in Dollar=%{marker.size}<extra></extra>",
           "hovertext": [
            "SP500"
           ],
           "ids": [
            "SP500"
           ],
           "legendgroup": "SP500",
           "marker": {
            "color": "#636efa",
            "size": [
             2275.116
            ],
            "sizemode": "area",
            "sizeref": 10.352940475,
            "symbol": "circle"
           },
           "mode": "markers",
           "name": "SP500",
           "orientation": "v",
           "showlegend": true,
           "type": "scatter",
           "x": [
            1266.099976
           ],
           "xaxis": "x",
           "y": [
            2275.116
           ],
           "yaxis": "y"
          },
          {
           "hovertemplate": "<b>%{hovertext}</b><br><br>Market Standard=SSE<br>DATE=1/1/2017<br>Gold Price in Dollar=%{x}<br>Stock Market Closing Price in Dollar=%{marker.size}<extra></extra>",
           "hovertext": [
            "SSE"
           ],
           "ids": [
            "SSE"
           ],
           "legendgroup": "SSE",
           "marker": {
            "color": "#EF553B",
            "size": [
             3222.513916
            ],
            "sizemode": "area",
            "sizeref": 10.352940475,
            "symbol": "circle"
           },
           "mode": "markers",
           "name": "SSE",
           "orientation": "v",
           "showlegend": true,
           "type": "scatter",
           "x": [
            1266.099976
           ],
           "xaxis": "x",
           "y": [
            3222.513916
           ],
           "yaxis": "y"
          },
          {
           "hovertemplate": "<b>%{hovertext}</b><br><br>Market Standard=JPN<br>DATE=1/1/2017<br>Gold Price in Dollar=%{x}<br>Stock Market Closing Price in Dollar=%{marker.size}<extra></extra>",
           "hovertext": [
            "JPN"
           ],
           "ids": [
            "JPN"
           ],
           "legendgroup": "JPN",
           "marker": {
            "color": "#00cc96",
            "size": [
             1890.925977
            ],
            "sizemode": "area",
            "sizeref": 10.352940475,
            "symbol": "circle"
           },
           "mode": "markers",
           "name": "JPN",
           "orientation": "v",
           "showlegend": true,
           "type": "scatter",
           "x": [
            1266.099976
           ],
           "xaxis": "x",
           "y": [
            1890.925977
           ],
           "yaxis": "y"
          }
         ],
         "name": "1/1/2017"
        },
        {
         "data": [
          {
           "hovertemplate": "<b>%{hovertext}</b><br><br>Market Standard=SP500<br>DATE=2/1/2017<br>Gold Price in Dollar=%{x}<br>Stock Market Closing Price in Dollar=%{marker.size}<extra></extra>",
           "hovertext": [
            "SP500"
           ],
           "ids": [
            "SP500"
           ],
           "legendgroup": "SP500",
           "marker": {
            "color": "#636efa",
            "size": [
             2329.910526
            ],
            "sizemode": "area",
            "sizeref": 10.352940475,
            "symbol": "circle"
           },
           "mode": "markers",
           "name": "SP500",
           "orientation": "v",
           "showlegend": true,
           "type": "scatter",
           "x": [
            1272
           ],
           "xaxis": "x",
           "y": [
            2329.910526
           ],
           "yaxis": "y"
          },
          {
           "hovertemplate": "<b>%{hovertext}</b><br><br>Market Standard=SSE<br>DATE=2/1/2017<br>Gold Price in Dollar=%{x}<br>Stock Market Closing Price in Dollar=%{marker.size}<extra></extra>",
           "hovertext": [
            "SSE"
           ],
           "ids": [
            "SSE"
           ],
           "legendgroup": "SSE",
           "marker": {
            "color": "#EF553B",
            "size": [
             3154.657959
            ],
            "sizemode": "area",
            "sizeref": 10.352940475,
            "symbol": "circle"
           },
           "mode": "markers",
           "name": "SSE",
           "orientation": "v",
           "showlegend": true,
           "type": "scatter",
           "x": [
            1272
           ],
           "xaxis": "x",
           "y": [
            3154.657959
           ],
           "yaxis": "y"
          },
          {
           "hovertemplate": "<b>%{hovertext}</b><br><br>Market Standard=JPN<br>DATE=2/1/2017<br>Gold Price in Dollar=%{x}<br>Stock Market Closing Price in Dollar=%{marker.size}<extra></extra>",
           "hovertext": [
            "JPN"
           ],
           "ids": [
            "JPN"
           ],
           "legendgroup": "JPN",
           "marker": {
            "color": "#00cc96",
            "size": [
             1919.674023
            ],
            "sizemode": "area",
            "sizeref": 10.352940475,
            "symbol": "circle"
           },
           "mode": "markers",
           "name": "JPN",
           "orientation": "v",
           "showlegend": true,
           "type": "scatter",
           "x": [
            1272
           ],
           "xaxis": "x",
           "y": [
            1919.674023
           ],
           "yaxis": "y"
          }
         ],
         "name": "2/1/2017"
        },
        {
         "data": [
          {
           "hovertemplate": "<b>%{hovertext}</b><br><br>Market Standard=SP500<br>DATE=3/1/2017<br>Gold Price in Dollar=%{x}<br>Stock Market Closing Price in Dollar=%{marker.size}<extra></extra>",
           "hovertext": [
            "SP500"
           ],
           "ids": [
            "SP500"
           ],
           "legendgroup": "SP500",
           "marker": {
            "color": "#636efa",
            "size": [
             2366.822174
            ],
            "sizemode": "area",
            "sizeref": 10.352940475,
            "symbol": "circle"
           },
           "mode": "markers",
           "name": "SP500",
           "orientation": "v",
           "showlegend": true,
           "type": "scatter",
           "x": [
            1240.699951
           ],
           "xaxis": "x",
           "y": [
            2366.822174
           ],
           "yaxis": "y"
          },
          {
           "hovertemplate": "<b>%{hovertext}</b><br><br>Market Standard=SSE<br>DATE=3/1/2017<br>Gold Price in Dollar=%{x}<br>Stock Market Closing Price in Dollar=%{marker.size}<extra></extra>",
           "hovertext": [
            "SSE"
           ],
           "ids": [
            "SSE"
           ],
           "legendgroup": "SSE",
           "marker": {
            "color": "#EF553B",
            "size": [
             3117.177979
            ],
            "sizemode": "area",
            "sizeref": 10.352940475,
            "symbol": "circle"
           },
           "mode": "markers",
           "name": "SSE",
           "orientation": "v",
           "showlegend": true,
           "type": "scatter",
           "x": [
            1240.699951
           ],
           "xaxis": "x",
           "y": [
            3117.177979
           ],
           "yaxis": "y"
          },
          {
           "hovertemplate": "<b>%{hovertext}</b><br><br>Market Standard=JPN<br>DATE=3/1/2017<br>Gold Price in Dollar=%{x}<br>Stock Market Closing Price in Dollar=%{marker.size}<extra></extra>",
           "hovertext": [
            "JPN"
           ],
           "ids": [
            "JPN"
           ],
           "legendgroup": "JPN",
           "marker": {
            "color": "#00cc96",
            "size": [
             1965.0570309999998
            ],
            "sizemode": "area",
            "sizeref": 10.352940475,
            "symbol": "circle"
           },
           "mode": "markers",
           "name": "JPN",
           "orientation": "v",
           "showlegend": true,
           "type": "scatter",
           "x": [
            1240.699951
           ],
           "xaxis": "x",
           "y": [
            1965.0570309999998
           ],
           "yaxis": "y"
          }
         ],
         "name": "3/1/2017"
        },
        {
         "data": [
          {
           "hovertemplate": "<b>%{hovertext}</b><br><br>Market Standard=SP500<br>DATE=4/1/2017<br>Gold Price in Dollar=%{x}<br>Stock Market Closing Price in Dollar=%{marker.size}<extra></extra>",
           "hovertext": [
            "SP500"
           ],
           "ids": [
            "SP500"
           ],
           "legendgroup": "SP500",
           "marker": {
            "color": "#636efa",
            "size": [
             2359.309474
            ],
            "sizemode": "area",
            "sizeref": 10.352940475,
            "symbol": "circle"
           },
           "mode": "markers",
           "name": "SP500",
           "orientation": "v",
           "showlegend": true,
           "type": "scatter",
           "x": [
            1266.599976
           ],
           "xaxis": "x",
           "y": [
            2359.309474
           ],
           "yaxis": "y"
          },
          {
           "hovertemplate": "<b>%{hovertext}</b><br><br>Market Standard=SSE<br>DATE=4/1/2017<br>Gold Price in Dollar=%{x}<br>Stock Market Closing Price in Dollar=%{marker.size}<extra></extra>",
           "hovertext": [
            "SSE"
           ],
           "ids": [
            "SSE"
           ],
           "legendgroup": "SSE",
           "marker": {
            "color": "#EF553B",
            "size": [
             3192.427002
            ],
            "sizemode": "area",
            "sizeref": 10.352940475,
            "symbol": "circle"
           },
           "mode": "markers",
           "name": "SSE",
           "orientation": "v",
           "showlegend": true,
           "type": "scatter",
           "x": [
            1266.599976
           ],
           "xaxis": "x",
           "y": [
            3192.427002
           ],
           "yaxis": "y"
          },
          {
           "hovertemplate": "<b>%{hovertext}</b><br><br>Market Standard=JPN<br>DATE=4/1/2017<br>Gold Price in Dollar=%{x}<br>Stock Market Closing Price in Dollar=%{marker.size}<extra></extra>",
           "hovertext": [
            "JPN"
           ],
           "ids": [
            "JPN"
           ],
           "legendgroup": "JPN",
           "marker": {
            "color": "#00cc96",
            "size": [
             2003.342969
            ],
            "sizemode": "area",
            "sizeref": 10.352940475,
            "symbol": "circle"
           },
           "mode": "markers",
           "name": "JPN",
           "orientation": "v",
           "showlegend": true,
           "type": "scatter",
           "x": [
            1266.599976
           ],
           "xaxis": "x",
           "y": [
            2003.342969
           ],
           "yaxis": "y"
          }
         ],
         "name": "4/1/2017"
        },
        {
         "data": [
          {
           "hovertemplate": "<b>%{hovertext}</b><br><br>Market Standard=SP500<br>DATE=5/1/2017<br>Gold Price in Dollar=%{x}<br>Stock Market Closing Price in Dollar=%{marker.size}<extra></extra>",
           "hovertext": [
            "SP500"
           ],
           "ids": [
            "SP500"
           ],
           "legendgroup": "SP500",
           "marker": {
            "color": "#636efa",
            "size": [
             2395.345909
            ],
            "sizemode": "area",
            "sizeref": 10.352940475,
            "symbol": "circle"
           },
           "mode": "markers",
           "name": "SP500",
           "orientation": "v",
           "showlegend": true,
           "type": "scatter",
           "x": [
            1316.199951
           ],
           "xaxis": "x",
           "y": [
            2395.345909
           ],
           "yaxis": "y"
          },
          {
           "hovertemplate": "<b>%{hovertext}</b><br><br>Market Standard=SSE<br>DATE=5/1/2017<br>Gold Price in Dollar=%{x}<br>Stock Market Closing Price in Dollar=%{marker.size}<extra></extra>",
           "hovertext": [
            "SSE"
           ],
           "ids": [
            "SSE"
           ],
           "legendgroup": "SSE",
           "marker": {
            "color": "#EF553B",
            "size": [
             3273.028076
            ],
            "sizemode": "area",
            "sizeref": 10.352940475,
            "symbol": "circle"
           },
           "mode": "markers",
           "name": "SSE",
           "orientation": "v",
           "showlegend": true,
           "type": "scatter",
           "x": [
            1316.199951
           ],
           "xaxis": "x",
           "y": [
            3273.028076
           ],
           "yaxis": "y"
          },
          {
           "hovertemplate": "<b>%{hovertext}</b><br><br>Market Standard=JPN<br>DATE=5/1/2017<br>Gold Price in Dollar=%{x}<br>Stock Market Closing Price in Dollar=%{marker.size}<extra></extra>",
           "hovertext": [
            "JPN"
           ],
           "ids": [
            "JPN"
           ],
           "legendgroup": "JPN",
           "marker": {
            "color": "#00cc96",
            "size": [
             1992.517969
            ],
            "sizemode": "area",
            "sizeref": 10.352940475,
            "symbol": "circle"
           },
           "mode": "markers",
           "name": "JPN",
           "orientation": "v",
           "showlegend": true,
           "type": "scatter",
           "x": [
            1316.199951
           ],
           "xaxis": "x",
           "y": [
            1992.517969
           ],
           "yaxis": "y"
          }
         ],
         "name": "5/1/2017"
        },
        {
         "data": [
          {
           "hovertemplate": "<b>%{hovertext}</b><br><br>Market Standard=SP500<br>DATE=6/1/2017<br>Gold Price in Dollar=%{x}<br>Stock Market Closing Price in Dollar=%{marker.size}<extra></extra>",
           "hovertext": [
            "SP500"
           ],
           "ids": [
            "SP500"
           ],
           "legendgroup": "SP500",
           "marker": {
            "color": "#636efa",
            "size": [
             2433.985455
            ],
            "sizemode": "area",
            "sizeref": 10.352940475,
            "symbol": "circle"
           },
           "mode": "markers",
           "name": "SP500",
           "orientation": "v",
           "showlegend": true,
           "type": "scatter",
           "x": [
            1281.5
           ],
           "xaxis": "x",
           "y": [
            2433.985455
           ],
           "yaxis": "y"
          },
          {
           "hovertemplate": "<b>%{hovertext}</b><br><br>Market Standard=SSE<br>DATE=6/1/2017<br>Gold Price in Dollar=%{x}<br>Stock Market Closing Price in Dollar=%{marker.size}<extra></extra>",
           "hovertext": [
            "SSE"
           ],
           "ids": [
            "SSE"
           ],
           "legendgroup": "SSE",
           "marker": {
            "color": "#EF553B",
            "size": [
             3360.810059
            ],
            "sizemode": "area",
            "sizeref": 10.352940475,
            "symbol": "circle"
           },
           "mode": "markers",
           "name": "SSE",
           "orientation": "v",
           "showlegend": true,
           "type": "scatter",
           "x": [
            1281.5
           ],
           "xaxis": "x",
           "y": [
            3360.810059
           ],
           "yaxis": "y"
          },
          {
           "hovertemplate": "<b>%{hovertext}</b><br><br>Market Standard=JPN<br>DATE=6/1/2017<br>Gold Price in Dollar=%{x}<br>Stock Market Closing Price in Dollar=%{marker.size}<extra></extra>",
           "hovertext": [
            "JPN"
           ],
           "ids": [
            "JPN"
           ],
           "legendgroup": "JPN",
           "marker": {
            "color": "#00cc96",
            "size": [
             1964.6240229999999
            ],
            "sizemode": "area",
            "sizeref": 10.352940475,
            "symbol": "circle"
           },
           "mode": "markers",
           "name": "JPN",
           "orientation": "v",
           "showlegend": true,
           "type": "scatter",
           "x": [
            1281.5
           ],
           "xaxis": "x",
           "y": [
            1964.6240229999999
           ],
           "yaxis": "y"
          }
         ],
         "name": "6/1/2017"
        },
        {
         "data": [
          {
           "hovertemplate": "<b>%{hovertext}</b><br><br>Market Standard=SP500<br>DATE=7/1/2017<br>Gold Price in Dollar=%{x}<br>Stock Market Closing Price in Dollar=%{marker.size}<extra></extra>",
           "hovertext": [
            "SP500"
           ],
           "ids": [
            "SP500"
           ],
           "legendgroup": "SP500",
           "marker": {
            "color": "#636efa",
            "size": [
             2454.1025
            ],
            "sizemode": "area",
            "sizeref": 10.352940475,
            "symbol": "circle"
           },
           "mode": "markers",
           "name": "SP500",
           "orientation": "v",
           "showlegend": true,
           "type": "scatter",
           "x": [
            1273.199951
           ],
           "xaxis": "x",
           "y": [
            2454.1025
           ],
           "yaxis": "y"
          },
          {
           "hovertemplate": "<b>%{hovertext}</b><br><br>Market Standard=SSE<br>DATE=7/1/2017<br>Gold Price in Dollar=%{x}<br>Stock Market Closing Price in Dollar=%{marker.size}<extra></extra>",
           "hovertext": [
            "SSE"
           ],
           "ids": [
            "SSE"
           ],
           "legendgroup": "SSE",
           "marker": {
            "color": "#EF553B",
            "size": [
             3348.943115
            ],
            "sizemode": "area",
            "sizeref": 10.352940475,
            "symbol": "circle"
           },
           "mode": "markers",
           "name": "SSE",
           "orientation": "v",
           "showlegend": true,
           "type": "scatter",
           "x": [
            1273.199951
           ],
           "xaxis": "x",
           "y": [
            3348.943115
           ],
           "yaxis": "y"
          },
          {
           "hovertemplate": "<b>%{hovertext}</b><br><br>Market Standard=JPN<br>DATE=7/1/2017<br>Gold Price in Dollar=%{x}<br>Stock Market Closing Price in Dollar=%{marker.size}<extra></extra>",
           "hovertext": [
            "JPN"
           ],
           "ids": [
            "JPN"
           ],
           "legendgroup": "JPN",
           "marker": {
            "color": "#00cc96",
            "size": [
             2035.6279299999999
            ],
            "sizemode": "area",
            "sizeref": 10.352940475,
            "symbol": "circle"
           },
           "mode": "markers",
           "name": "JPN",
           "orientation": "v",
           "showlegend": true,
           "type": "scatter",
           "x": [
            1273.199951
           ],
           "xaxis": "x",
           "y": [
            2035.6279299999999
           ],
           "yaxis": "y"
          }
         ],
         "name": "7/1/2017"
        },
        {
         "data": [
          {
           "hovertemplate": "<b>%{hovertext}</b><br><br>Market Standard=SP500<br>DATE=8/1/2017<br>Gold Price in Dollar=%{x}<br>Stock Market Closing Price in Dollar=%{marker.size}<extra></extra>",
           "hovertext": [
            "SP500"
           ],
           "ids": [
            "SP500"
           ],
           "legendgroup": "SP500",
           "marker": {
            "color": "#636efa",
            "size": [
             2456.223043
            ],
            "sizemode": "area",
            "sizeref": 10.352940475,
            "symbol": "circle"
           },
           "mode": "markers",
           "name": "SP500",
           "orientation": "v",
           "showlegend": true,
           "type": "scatter",
           "x": [
            1306.300049
           ],
           "xaxis": "x",
           "y": [
            2456.223043
           ],
           "yaxis": "y"
          },
          {
           "hovertemplate": "<b>%{hovertext}</b><br><br>Market Standard=SSE<br>DATE=8/1/2017<br>Gold Price in Dollar=%{x}<br>Stock Market Closing Price in Dollar=%{marker.size}<extra></extra>",
           "hovertext": [
            "SSE"
           ],
           "ids": [
            "SSE"
           ],
           "legendgroup": "SSE",
           "marker": {
            "color": "#EF553B",
            "size": [
             3393.342041
            ],
            "sizemode": "area",
            "sizeref": 10.352940475,
            "symbol": "circle"
           },
           "mode": "markers",
           "name": "SSE",
           "orientation": "v",
           "showlegend": true,
           "type": "scatter",
           "x": [
            1306.300049
           ],
           "xaxis": "x",
           "y": [
            3393.342041
           ],
           "yaxis": "y"
          },
          {
           "hovertemplate": "<b>%{hovertext}</b><br><br>Market Standard=JPN<br>DATE=8/1/2017<br>Gold Price in Dollar=%{x}<br>Stock Market Closing Price in Dollar=%{marker.size}<extra></extra>",
           "hovertext": [
            "JPN"
           ],
           "ids": [
            "JPN"
           ],
           "legendgroup": "JPN",
           "marker": {
            "color": "#00cc96",
            "size": [
             2201.160938
            ],
            "sizemode": "area",
            "sizeref": 10.352940475,
            "symbol": "circle"
           },
           "mode": "markers",
           "name": "JPN",
           "orientation": "v",
           "showlegend": true,
           "type": "scatter",
           "x": [
            1306.300049
           ],
           "xaxis": "x",
           "y": [
            2201.160938
           ],
           "yaxis": "y"
          }
         ],
         "name": "8/1/2017"
        },
        {
         "data": [
          {
           "hovertemplate": "<b>%{hovertext}</b><br><br>Market Standard=SP500<br>DATE=9/1/2017<br>Gold Price in Dollar=%{x}<br>Stock Market Closing Price in Dollar=%{marker.size}<extra></extra>",
           "hovertext": [
            "SP500"
           ],
           "ids": [
            "SP500"
           ],
           "legendgroup": "SP500",
           "marker": {
            "color": "#636efa",
            "size": [
             2492.841
            ],
            "sizemode": "area",
            "sizeref": 10.352940475,
            "symbol": "circle"
           },
           "mode": "markers",
           "name": "SP500",
           "orientation": "v",
           "showlegend": true,
           "type": "scatter",
           "x": [
            1339
           ],
           "xaxis": "x",
           "y": [
            2492.841
           ],
           "yaxis": "y"
          },
          {
           "hovertemplate": "<b>%{hovertext}</b><br><br>Market Standard=SSE<br>DATE=9/1/2017<br>Gold Price in Dollar=%{x}<br>Stock Market Closing Price in Dollar=%{marker.size}<extra></extra>",
           "hovertext": [
            "SSE"
           ],
           "ids": [
            "SSE"
           ],
           "legendgroup": "SSE",
           "marker": {
            "color": "#EF553B",
            "size": [
             3317.187988
            ],
            "sizemode": "area",
            "sizeref": 10.352940475,
            "symbol": "circle"
           },
           "mode": "markers",
           "name": "SSE",
           "orientation": "v",
           "showlegend": true,
           "type": "scatter",
           "x": [
            1339
           ],
           "xaxis": "x",
           "y": [
            3317.187988
           ],
           "yaxis": "y"
          },
          {
           "hovertemplate": "<b>%{hovertext}</b><br><br>Market Standard=JPN<br>DATE=9/1/2017<br>Gold Price in Dollar=%{x}<br>Stock Market Closing Price in Dollar=%{marker.size}<extra></extra>",
           "hovertext": [
            "JPN"
           ],
           "ids": [
            "JPN"
           ],
           "legendgroup": "JPN",
           "marker": {
            "color": "#00cc96",
            "size": [
             2272.496094
            ],
            "sizemode": "area",
            "sizeref": 10.352940475,
            "symbol": "circle"
           },
           "mode": "markers",
           "name": "JPN",
           "orientation": "v",
           "showlegend": true,
           "type": "scatter",
           "x": [
            1339
           ],
           "xaxis": "x",
           "y": [
            2272.496094
           ],
           "yaxis": "y"
          }
         ],
         "name": "9/1/2017"
        },
        {
         "data": [
          {
           "hovertemplate": "<b>%{hovertext}</b><br><br>Market Standard=SP500<br>DATE=10/1/2017<br>Gold Price in Dollar=%{x}<br>Stock Market Closing Price in Dollar=%{marker.size}<extra></extra>",
           "hovertext": [
            "SP500"
           ],
           "ids": [
            "SP500"
           ],
           "legendgroup": "SP500",
           "marker": {
            "color": "#636efa",
            "size": [
             2556.997273
            ],
            "sizemode": "area",
            "sizeref": 10.352940475,
            "symbol": "circle"
           },
           "mode": "markers",
           "name": "SP500",
           "orientation": "v",
           "showlegend": true,
           "type": "scatter",
           "x": [
            1315.5
           ],
           "xaxis": "x",
           "y": [
            2556.997273
           ],
           "yaxis": "y"
          },
          {
           "hovertemplate": "<b>%{hovertext}</b><br><br>Market Standard=SSE<br>DATE=10/1/2017<br>Gold Price in Dollar=%{x}<br>Stock Market Closing Price in Dollar=%{marker.size}<extra></extra>",
           "hovertext": [
            "SSE"
           ],
           "ids": [
            "SSE"
           ],
           "legendgroup": "SSE",
           "marker": {
            "color": "#EF553B",
            "size": [
             3307.172119
            ],
            "sizemode": "area",
            "sizeref": 10.352940475,
            "symbol": "circle"
           },
           "mode": "markers",
           "name": "SSE",
           "orientation": "v",
           "showlegend": true,
           "type": "scatter",
           "x": [
            1315.5
           ],
           "xaxis": "x",
           "y": [
            3307.172119
           ],
           "yaxis": "y"
          },
          {
           "hovertemplate": "<b>%{hovertext}</b><br><br>Market Standard=JPN<br>DATE=10/1/2017<br>Gold Price in Dollar=%{x}<br>Stock Market Closing Price in Dollar=%{marker.size}<extra></extra>",
           "hovertext": [
            "JPN"
           ],
           "ids": [
            "JPN"
           ],
           "legendgroup": "JPN",
           "marker": {
            "color": "#00cc96",
            "size": [
             2276.493945
            ],
            "sizemode": "area",
            "sizeref": 10.352940475,
            "symbol": "circle"
           },
           "mode": "markers",
           "name": "JPN",
           "orientation": "v",
           "showlegend": true,
           "type": "scatter",
           "x": [
            1315.5
           ],
           "xaxis": "x",
           "y": [
            2276.493945
           ],
           "yaxis": "y"
          }
         ],
         "name": "10/1/2017"
        },
        {
         "data": [
          {
           "hovertemplate": "<b>%{hovertext}</b><br><br>Market Standard=SP500<br>DATE=11/1/2017<br>Gold Price in Dollar=%{x}<br>Stock Market Closing Price in Dollar=%{marker.size}<extra></extra>",
           "hovertext": [
            "SP500"
           ],
           "ids": [
            "SP500"
           ],
           "legendgroup": "SP500",
           "marker": {
            "color": "#636efa",
            "size": [
             2593.605714
            ],
            "sizemode": "area",
            "sizeref": 10.352940475,
            "symbol": "circle"
           },
           "mode": "markers",
           "name": "SP500",
           "orientation": "v",
           "showlegend": true,
           "type": "scatter",
           "x": [
            1322.800049
           ],
           "xaxis": "x",
           "y": [
            2593.605714
           ],
           "yaxis": "y"
          },
          {
           "hovertemplate": "<b>%{hovertext}</b><br><br>Market Standard=SSE<br>DATE=11/1/2017<br>Gold Price in Dollar=%{x}<br>Stock Market Closing Price in Dollar=%{marker.size}<extra></extra>",
           "hovertext": [
            "SSE"
           ],
           "ids": [
            "SSE"
           ],
           "legendgroup": "SSE",
           "marker": {
            "color": "#EF553B",
            "size": [
             3480.833008
            ],
            "sizemode": "area",
            "sizeref": 10.352940475,
            "symbol": "circle"
           },
           "mode": "markers",
           "name": "SSE",
           "orientation": "v",
           "showlegend": true,
           "type": "scatter",
           "x": [
            1322.800049
           ],
           "xaxis": "x",
           "y": [
            3480.833008
           ],
           "yaxis": "y"
          },
          {
           "hovertemplate": "<b>%{hovertext}</b><br><br>Market Standard=JPN<br>DATE=11/1/2017<br>Gold Price in Dollar=%{x}<br>Stock Market Closing Price in Dollar=%{marker.size}<extra></extra>",
           "hovertext": [
            "JPN"
           ],
           "ids": [
            "JPN"
           ],
           "legendgroup": "JPN",
           "marker": {
            "color": "#00cc96",
            "size": [
             2309.8289059999997
            ],
            "sizemode": "area",
            "sizeref": 10.352940475,
            "symbol": "circle"
           },
           "mode": "markers",
           "name": "JPN",
           "orientation": "v",
           "showlegend": true,
           "type": "scatter",
           "x": [
            1322.800049
           ],
           "xaxis": "x",
           "y": [
            2309.8289059999997
           ],
           "yaxis": "y"
          }
         ],
         "name": "11/1/2017"
        },
        {
         "data": [
          {
           "hovertemplate": "<b>%{hovertext}</b><br><br>Market Standard=SP500<br>DATE=12/1/2017<br>Gold Price in Dollar=%{x}<br>Stock Market Closing Price in Dollar=%{marker.size}<extra></extra>",
           "hovertext": [
            "SP500"
           ],
           "ids": [
            "SP500"
           ],
           "legendgroup": "SP500",
           "marker": {
            "color": "#636efa",
            "size": [
             2664.3405
            ],
            "sizemode": "area",
            "sizeref": 10.352940475,
            "symbol": "circle"
           },
           "mode": "markers",
           "name": "SP500",
           "orientation": "v",
           "showlegend": true,
           "type": "scatter",
           "x": [
            1300.099976
           ],
           "xaxis": "x",
           "y": [
            2664.3405
           ],
           "yaxis": "y"
          },
          {
           "hovertemplate": "<b>%{hovertext}</b><br><br>Market Standard=SSE<br>DATE=12/1/2017<br>Gold Price in Dollar=%{x}<br>Stock Market Closing Price in Dollar=%{marker.size}<extra></extra>",
           "hovertext": [
            "SSE"
           ],
           "ids": [
            "SSE"
           ],
           "legendgroup": "SSE",
           "marker": {
            "color": "#EF553B",
            "size": [
             3259.407959
            ],
            "sizemode": "area",
            "sizeref": 10.352940475,
            "symbol": "circle"
           },
           "mode": "markers",
           "name": "SSE",
           "orientation": "v",
           "showlegend": true,
           "type": "scatter",
           "x": [
            1300.099976
           ],
           "xaxis": "x",
           "y": [
            3259.407959
           ],
           "yaxis": "y"
          },
          {
           "hovertemplate": "<b>%{hovertext}</b><br><br>Market Standard=JPN<br>DATE=12/1/2017<br>Gold Price in Dollar=%{x}<br>Stock Market Closing Price in Dollar=%{marker.size}<extra></extra>",
           "hovertext": [
            "JPN"
           ],
           "ids": [
            "JPN"
           ],
           "legendgroup": "JPN",
           "marker": {
            "color": "#00cc96",
            "size": [
             2206.824023
            ],
            "sizemode": "area",
            "sizeref": 10.352940475,
            "symbol": "circle"
           },
           "mode": "markers",
           "name": "JPN",
           "orientation": "v",
           "showlegend": true,
           "type": "scatter",
           "x": [
            1300.099976
           ],
           "xaxis": "x",
           "y": [
            2206.824023
           ],
           "yaxis": "y"
          }
         ],
         "name": "12/1/2017"
        },
        {
         "data": [
          {
           "hovertemplate": "<b>%{hovertext}</b><br><br>Market Standard=SP500<br>DATE=1/1/2018<br>Gold Price in Dollar=%{x}<br>Stock Market Closing Price in Dollar=%{marker.size}<extra></extra>",
           "hovertext": [
            "SP500"
           ],
           "ids": [
            "SP500"
           ],
           "legendgroup": "SP500",
           "marker": {
            "color": "#636efa",
            "size": [
             2789.80381
            ],
            "sizemode": "area",
            "sizeref": 10.352940475,
            "symbol": "circle"
           },
           "mode": "markers",
           "name": "SP500",
           "orientation": "v",
           "showlegend": true,
           "type": "scatter",
           "x": [
            1251.300049
           ],
           "xaxis": "x",
           "y": [
            2789.80381
           ],
           "yaxis": "y"
          },
          {
           "hovertemplate": "<b>%{hovertext}</b><br><br>Market Standard=SSE<br>DATE=1/1/2018<br>Gold Price in Dollar=%{x}<br>Stock Market Closing Price in Dollar=%{marker.size}<extra></extra>",
           "hovertext": [
            "SSE"
           ],
           "ids": [
            "SSE"
           ],
           "legendgroup": "SSE",
           "marker": {
            "color": "#EF553B",
            "size": [
             3168.896973
            ],
            "sizemode": "area",
            "sizeref": 10.352940475,
            "symbol": "circle"
           },
           "mode": "markers",
           "name": "SSE",
           "orientation": "v",
           "showlegend": true,
           "type": "scatter",
           "x": [
            1251.300049
           ],
           "xaxis": "x",
           "y": [
            3168.896973
           ],
           "yaxis": "y"
          },
          {
           "hovertemplate": "<b>%{hovertext}</b><br><br>Market Standard=JPN<br>DATE=1/1/2018<br>Gold Price in Dollar=%{x}<br>Stock Market Closing Price in Dollar=%{marker.size}<extra></extra>",
           "hovertext": [
            "JPN"
           ],
           "ids": [
            "JPN"
           ],
           "legendgroup": "JPN",
           "marker": {
            "color": "#00cc96",
            "size": [
             2145.4300780000003
            ],
            "sizemode": "area",
            "sizeref": 10.352940475,
            "symbol": "circle"
           },
           "mode": "markers",
           "name": "JPN",
           "orientation": "v",
           "showlegend": true,
           "type": "scatter",
           "x": [
            1251.300049
           ],
           "xaxis": "x",
           "y": [
            2145.4300780000003
           ],
           "yaxis": "y"
          }
         ],
         "name": "1/1/2018"
        },
        {
         "data": [
          {
           "hovertemplate": "<b>%{hovertext}</b><br><br>Market Standard=SP500<br>DATE=2/1/2018<br>Gold Price in Dollar=%{x}<br>Stock Market Closing Price in Dollar=%{marker.size}<extra></extra>",
           "hovertext": [
            "SP500"
           ],
           "ids": [
            "SP500"
           ],
           "legendgroup": "SP500",
           "marker": {
            "color": "#636efa",
            "size": [
             2705.155263
            ],
            "sizemode": "area",
            "sizeref": 10.352940475,
            "symbol": "circle"
           },
           "mode": "markers",
           "name": "SP500",
           "orientation": "v",
           "showlegend": true,
           "type": "scatter",
           "x": [
            1200.300049
           ],
           "xaxis": "x",
           "y": [
            2705.155263
           ],
           "yaxis": "y"
          },
          {
           "hovertemplate": "<b>%{hovertext}</b><br><br>Market Standard=SSE<br>DATE=2/1/2018<br>Gold Price in Dollar=%{x}<br>Stock Market Closing Price in Dollar=%{marker.size}<extra></extra>",
           "hovertext": [
            "SSE"
           ],
           "ids": [
            "SSE"
           ],
           "legendgroup": "SSE",
           "marker": {
            "color": "#EF553B",
            "size": [
             3082.231934
            ],
            "sizemode": "area",
            "sizeref": 10.352940475,
            "symbol": "circle"
           },
           "mode": "markers",
           "name": "SSE",
           "orientation": "v",
           "showlegend": true,
           "type": "scatter",
           "x": [
            1200.300049
           ],
           "xaxis": "x",
           "y": [
            3082.231934
           ],
           "yaxis": "y"
          },
          {
           "hovertemplate": "<b>%{hovertext}</b><br><br>Market Standard=JPN<br>DATE=2/1/2018<br>Gold Price in Dollar=%{x}<br>Stock Market Closing Price in Dollar=%{marker.size}<extra></extra>",
           "hovertext": [
            "JPN"
           ],
           "ids": [
            "JPN"
           ],
           "legendgroup": "JPN",
           "marker": {
            "color": "#00cc96",
            "size": [
             2246.786914
            ],
            "sizemode": "area",
            "sizeref": 10.352940475,
            "symbol": "circle"
           },
           "mode": "markers",
           "name": "JPN",
           "orientation": "v",
           "showlegend": true,
           "type": "scatter",
           "x": [
            1200.300049
           ],
           "xaxis": "x",
           "y": [
            2246.786914
           ],
           "yaxis": "y"
          }
         ],
         "name": "2/1/2018"
        },
        {
         "data": [
          {
           "hovertemplate": "<b>%{hovertext}</b><br><br>Market Standard=SP500<br>DATE=3/1/2018<br>Gold Price in Dollar=%{x}<br>Stock Market Closing Price in Dollar=%{marker.size}<extra></extra>",
           "hovertext": [
            "SP500"
           ],
           "ids": [
            "SP500"
           ],
           "legendgroup": "SP500",
           "marker": {
            "color": "#636efa",
            "size": [
             2702.77381
            ],
            "sizemode": "area",
            "sizeref": 10.352940475,
            "symbol": "circle"
           },
           "mode": "markers",
           "name": "SP500",
           "orientation": "v",
           "showlegend": true,
           "type": "scatter",
           "x": [
            1191.5
           ],
           "xaxis": "x",
           "y": [
            2702.77381
           ],
           "yaxis": "y"
          },
          {
           "hovertemplate": "<b>%{hovertext}</b><br><br>Market Standard=SSE<br>DATE=3/1/2018<br>Gold Price in Dollar=%{x}<br>Stock Market Closing Price in Dollar=%{marker.size}<extra></extra>",
           "hovertext": [
            "SSE"
           ],
           "ids": [
            "SSE"
           ],
           "legendgroup": "SSE",
           "marker": {
            "color": "#EF553B",
            "size": [
             3095.474121
            ],
            "sizemode": "area",
            "sizeref": 10.352940475,
            "symbol": "circle"
           },
           "mode": "markers",
           "name": "SSE",
           "orientation": "v",
           "showlegend": true,
           "type": "scatter",
           "x": [
            1191.5
           ],
           "xaxis": "x",
           "y": [
            3095.474121
           ],
           "yaxis": "y"
          },
          {
           "hovertemplate": "<b>%{hovertext}</b><br><br>Market Standard=JPN<br>DATE=3/1/2018<br>Gold Price in Dollar=%{x}<br>Stock Market Closing Price in Dollar=%{marker.size}<extra></extra>",
           "hovertext": [
            "JPN"
           ],
           "ids": [
            "JPN"
           ],
           "legendgroup": "JPN",
           "marker": {
            "color": "#00cc96",
            "size": [
             2220.182031
            ],
            "sizemode": "area",
            "sizeref": 10.352940475,
            "symbol": "circle"
           },
           "mode": "markers",
           "name": "JPN",
           "orientation": "v",
           "showlegend": true,
           "type": "scatter",
           "x": [
            1191.5
           ],
           "xaxis": "x",
           "y": [
            2220.182031
           ],
           "yaxis": "y"
          }
         ],
         "name": "3/1/2018"
        },
        {
         "data": [
          {
           "hovertemplate": "<b>%{hovertext}</b><br><br>Market Standard=SP500<br>DATE=4/1/2018<br>Gold Price in Dollar=%{x}<br>Stock Market Closing Price in Dollar=%{marker.size}<extra></extra>",
           "hovertext": [
            "SP500"
           ],
           "ids": [
            "SP500"
           ],
           "legendgroup": "SP500",
           "marker": {
            "color": "#636efa",
            "size": [
             2653.625238
            ],
            "sizemode": "area",
            "sizeref": 10.352940475,
            "symbol": "circle"
           },
           "mode": "markers",
           "name": "SP500",
           "orientation": "v",
           "showlegend": true,
           "type": "scatter",
           "x": [
            1212.300049
           ],
           "xaxis": "x",
           "y": [
            2653.625238
           ],
           "yaxis": "y"
          },
          {
           "hovertemplate": "<b>%{hovertext}</b><br><br>Market Standard=SSE<br>DATE=4/1/2018<br>Gold Price in Dollar=%{x}<br>Stock Market Closing Price in Dollar=%{marker.size}<extra></extra>",
           "hovertext": [
            "SSE"
           ],
           "ids": [
            "SSE"
           ],
           "legendgroup": "SSE",
           "marker": {
            "color": "#EF553B",
            "size": [
             2847.417969
            ],
            "sizemode": "area",
            "sizeref": 10.352940475,
            "symbol": "circle"
           },
           "mode": "markers",
           "name": "SSE",
           "orientation": "v",
           "showlegend": true,
           "type": "scatter",
           "x": [
            1212.300049
           ],
           "xaxis": "x",
           "y": [
            2847.417969
           ],
           "yaxis": "y"
          },
          {
           "hovertemplate": "<b>%{hovertext}</b><br><br>Market Standard=JPN<br>DATE=4/1/2018<br>Gold Price in Dollar=%{x}<br>Stock Market Closing Price in Dollar=%{marker.size}<extra></extra>",
           "hovertext": [
            "JPN"
           ],
           "ids": [
            "JPN"
           ],
           "legendgroup": "JPN",
           "marker": {
            "color": "#00cc96",
            "size": [
             2230.450977
            ],
            "sizemode": "area",
            "sizeref": 10.352940475,
            "symbol": "circle"
           },
           "mode": "markers",
           "name": "JPN",
           "orientation": "v",
           "showlegend": true,
           "type": "scatter",
           "x": [
            1212.300049
           ],
           "xaxis": "x",
           "y": [
            2230.450977
           ],
           "yaxis": "y"
          }
         ],
         "name": "4/1/2018"
        },
        {
         "data": [
          {
           "hovertemplate": "<b>%{hovertext}</b><br><br>Market Standard=SP500<br>DATE=5/1/2018<br>Gold Price in Dollar=%{x}<br>Stock Market Closing Price in Dollar=%{marker.size}<extra></extra>",
           "hovertext": [
            "SP500"
           ],
           "ids": [
            "SP500"
           ],
           "legendgroup": "SP500",
           "marker": {
            "color": "#636efa",
            "size": [
             2701.493636
            ],
            "sizemode": "area",
            "sizeref": 10.352940475,
            "symbol": "circle"
           },
           "mode": "markers",
           "name": "SP500",
           "orientation": "v",
           "showlegend": true,
           "type": "scatter",
           "x": [
            1220.199951
           ],
           "xaxis": "x",
           "y": [
            2701.493636
           ],
           "yaxis": "y"
          },
          {
           "hovertemplate": "<b>%{hovertext}</b><br><br>Market Standard=SSE<br>DATE=5/1/2018<br>Gold Price in Dollar=%{x}<br>Stock Market Closing Price in Dollar=%{marker.size}<extra></extra>",
           "hovertext": [
            "SSE"
           ],
           "ids": [
            "SSE"
           ],
           "legendgroup": "SSE",
           "marker": {
            "color": "#EF553B",
            "size": [
             2876.400879
            ],
            "sizemode": "area",
            "sizeref": 10.352940475,
            "symbol": "circle"
           },
           "mode": "markers",
           "name": "SSE",
           "orientation": "v",
           "showlegend": true,
           "type": "scatter",
           "x": [
            1220.199951
           ],
           "xaxis": "x",
           "y": [
            2876.400879
           ],
           "yaxis": "y"
          },
          {
           "hovertemplate": "<b>%{hovertext}</b><br><br>Market Standard=JPN<br>DATE=5/1/2018<br>Gold Price in Dollar=%{x}<br>Stock Market Closing Price in Dollar=%{marker.size}<extra></extra>",
           "hovertext": [
            "JPN"
           ],
           "ids": [
            "JPN"
           ],
           "legendgroup": "JPN",
           "marker": {
            "color": "#00cc96",
            "size": [
             2255.3720700000003
            ],
            "sizemode": "area",
            "sizeref": 10.352940475,
            "symbol": "circle"
           },
           "mode": "markers",
           "name": "JPN",
           "orientation": "v",
           "showlegend": true,
           "type": "scatter",
           "x": [
            1220.199951
           ],
           "xaxis": "x",
           "y": [
            2255.3720700000003
           ],
           "yaxis": "y"
          }
         ],
         "name": "5/1/2018"
        },
        {
         "data": [
          {
           "hovertemplate": "<b>%{hovertext}</b><br><br>Market Standard=SP500<br>DATE=6/1/2018<br>Gold Price in Dollar=%{x}<br>Stock Market Closing Price in Dollar=%{marker.size}<extra></extra>",
           "hovertext": [
            "SP500"
           ],
           "ids": [
            "SP500"
           ],
           "legendgroup": "SP500",
           "marker": {
            "color": "#636efa",
            "size": [
             2754.352857
            ],
            "sizemode": "area",
            "sizeref": 10.352940475,
            "symbol": "circle"
           },
           "mode": "markers",
           "name": "SP500",
           "orientation": "v",
           "showlegend": true,
           "type": "scatter",
           "x": [
            1278.300049
           ],
           "xaxis": "x",
           "y": [
            2754.352857
           ],
           "yaxis": "y"
          },
          {
           "hovertemplate": "<b>%{hovertext}</b><br><br>Market Standard=SSE<br>DATE=6/1/2018<br>Gold Price in Dollar=%{x}<br>Stock Market Closing Price in Dollar=%{marker.size}<extra></extra>",
           "hovertext": [
            "SSE"
           ],
           "ids": [
            "SSE"
           ],
           "legendgroup": "SSE",
           "marker": {
            "color": "#EF553B",
            "size": [
             2725.25
            ],
            "sizemode": "area",
            "sizeref": 10.352940475,
            "symbol": "circle"
           },
           "mode": "markers",
           "name": "SSE",
           "orientation": "v",
           "showlegend": true,
           "type": "scatter",
           "x": [
            1278.300049
           ],
           "xaxis": "x",
           "y": [
            2725.25
           ],
           "yaxis": "y"
          },
          {
           "hovertemplate": "<b>%{hovertext}</b><br><br>Market Standard=JPN<br>DATE=6/1/2018<br>Gold Price in Dollar=%{x}<br>Stock Market Closing Price in Dollar=%{marker.size}<extra></extra>",
           "hovertext": [
            "JPN"
           ],
           "ids": [
            "JPN"
           ],
           "legendgroup": "JPN",
           "marker": {
            "color": "#00cc96",
            "size": [
             2286.515039
            ],
            "sizemode": "area",
            "sizeref": 10.352940475,
            "symbol": "circle"
           },
           "mode": "markers",
           "name": "JPN",
           "orientation": "v",
           "showlegend": true,
           "type": "scatter",
           "x": [
            1278.300049
           ],
           "xaxis": "x",
           "y": [
            2286.515039
           ],
           "yaxis": "y"
          }
         ],
         "name": "6/1/2018"
        },
        {
         "data": [
          {
           "hovertemplate": "<b>%{hovertext}</b><br><br>Market Standard=SP500<br>DATE=7/1/2018<br>Gold Price in Dollar=%{x}<br>Stock Market Closing Price in Dollar=%{marker.size}<extra></extra>",
           "hovertext": [
            "SP500"
           ],
           "ids": [
            "SP500"
           ],
           "legendgroup": "SP500",
           "marker": {
            "color": "#636efa",
            "size": [
             2793.643333
            ],
            "sizemode": "area",
            "sizeref": 10.352940475,
            "symbol": "circle"
           },
           "mode": "markers",
           "name": "SP500",
           "orientation": "v",
           "showlegend": true,
           "type": "scatter",
           "x": [
            1319.699951
           ],
           "xaxis": "x",
           "y": [
            2793.643333
           ],
           "yaxis": "y"
          },
          {
           "hovertemplate": "<b>%{hovertext}</b><br><br>Market Standard=SSE<br>DATE=7/1/2018<br>Gold Price in Dollar=%{x}<br>Stock Market Closing Price in Dollar=%{marker.size}<extra></extra>",
           "hovertext": [
            "SSE"
           ],
           "ids": [
            "SSE"
           ],
           "legendgroup": "SSE",
           "marker": {
            "color": "#EF553B",
            "size": [
             2821.350098
            ],
            "sizemode": "area",
            "sizeref": 10.352940475,
            "symbol": "circle"
           },
           "mode": "markers",
           "name": "SSE",
           "orientation": "v",
           "showlegend": true,
           "type": "scatter",
           "x": [
            1319.699951
           ],
           "xaxis": "x",
           "y": [
            2821.350098
           ],
           "yaxis": "y"
          },
          {
           "hovertemplate": "<b>%{hovertext}</b><br><br>Market Standard=JPN<br>DATE=7/1/2018<br>Gold Price in Dollar=%{x}<br>Stock Market Closing Price in Dollar=%{marker.size}<extra></extra>",
           "hovertext": [
            "JPN"
           ],
           "ids": [
            "JPN"
           ],
           "legendgroup": "JPN",
           "marker": {
            "color": "#00cc96",
            "size": [
             2412.003906
            ],
            "sizemode": "area",
            "sizeref": 10.352940475,
            "symbol": "circle"
           },
           "mode": "markers",
           "name": "JPN",
           "orientation": "v",
           "showlegend": true,
           "type": "scatter",
           "x": [
            1319.699951
           ],
           "xaxis": "x",
           "y": [
            2412.003906
           ],
           "yaxis": "y"
          }
         ],
         "name": "7/1/2018"
        },
        {
         "data": [
          {
           "hovertemplate": "<b>%{hovertext}</b><br><br>Market Standard=SP500<br>DATE=8/1/2018<br>Gold Price in Dollar=%{x}<br>Stock Market Closing Price in Dollar=%{marker.size}<extra></extra>",
           "hovertext": [
            "SP500"
           ],
           "ids": [
            "SP500"
           ],
           "legendgroup": "SP500",
           "marker": {
            "color": "#636efa",
            "size": [
             2857.820435
            ],
            "sizemode": "area",
            "sizeref": 10.352940475,
            "symbol": "circle"
           },
           "mode": "markers",
           "name": "SP500",
           "orientation": "v",
           "showlegend": true,
           "type": "scatter",
           "x": [
            1312.800049
           ],
           "xaxis": "x",
           "y": [
            2857.820435
           ],
           "yaxis": "y"
          },
          {
           "hovertemplate": "<b>%{hovertext}</b><br><br>Market Standard=SSE<br>DATE=8/1/2018<br>Gold Price in Dollar=%{x}<br>Stock Market Closing Price in Dollar=%{marker.size}<extra></extra>",
           "hovertext": [
            "SSE"
           ],
           "ids": [
            "SSE"
           ],
           "legendgroup": "SSE",
           "marker": {
            "color": "#EF553B",
            "size": [
             2602.782959
            ],
            "sizemode": "area",
            "sizeref": 10.352940475,
            "symbol": "circle"
           },
           "mode": "markers",
           "name": "SSE",
           "orientation": "v",
           "showlegend": true,
           "type": "scatter",
           "x": [
            1312.800049
           ],
           "xaxis": "x",
           "y": [
            2602.782959
           ],
           "yaxis": "y"
          },
          {
           "hovertemplate": "<b>%{hovertext}</b><br><br>Market Standard=JPN<br>DATE=8/1/2018<br>Gold Price in Dollar=%{x}<br>Stock Market Closing Price in Dollar=%{marker.size}<extra></extra>",
           "hovertext": [
            "JPN"
           ],
           "ids": [
            "JPN"
           ],
           "legendgroup": "JPN",
           "marker": {
            "color": "#00cc96",
            "size": [
             2192.0460940000003
            ],
            "sizemode": "area",
            "sizeref": 10.352940475,
            "symbol": "circle"
           },
           "mode": "markers",
           "name": "JPN",
           "orientation": "v",
           "showlegend": true,
           "type": "scatter",
           "x": [
            1312.800049
           ],
           "xaxis": "x",
           "y": [
            2192.0460940000003
           ],
           "yaxis": "y"
          }
         ],
         "name": "8/1/2018"
        },
        {
         "data": [
          {
           "hovertemplate": "<b>%{hovertext}</b><br><br>Market Standard=SP500<br>DATE=9/1/2018<br>Gold Price in Dollar=%{x}<br>Stock Market Closing Price in Dollar=%{marker.size}<extra></extra>",
           "hovertext": [
            "SP500"
           ],
           "ids": [
            "SP500"
           ],
           "legendgroup": "SP500",
           "marker": {
            "color": "#636efa",
            "size": [
             2901.500526
            ],
            "sizemode": "area",
            "sizeref": 10.352940475,
            "symbol": "circle"
           },
           "mode": "markers",
           "name": "SP500",
           "orientation": "v",
           "showlegend": true,
           "type": "scatter",
           "x": [
            1293
           ],
           "xaxis": "x",
           "y": [
            2901.500526
           ],
           "yaxis": "y"
          },
          {
           "hovertemplate": "<b>%{hovertext}</b><br><br>Market Standard=SSE<br>DATE=9/1/2018<br>Gold Price in Dollar=%{x}<br>Stock Market Closing Price in Dollar=%{marker.size}<extra></extra>",
           "hovertext": [
            "SSE"
           ],
           "ids": [
            "SSE"
           ],
           "legendgroup": "SSE",
           "marker": {
            "color": "#EF553B",
            "size": [
             2588.187988
            ],
            "sizemode": "area",
            "sizeref": 10.352940475,
            "symbol": "circle"
           },
           "mode": "markers",
           "name": "SSE",
           "orientation": "v",
           "showlegend": true,
           "type": "scatter",
           "x": [
            1293
           ],
           "xaxis": "x",
           "y": [
            2588.187988
           ],
           "yaxis": "y"
          },
          {
           "hovertemplate": "<b>%{hovertext}</b><br><br>Market Standard=JPN<br>DATE=9/1/2018<br>Gold Price in Dollar=%{x}<br>Stock Market Closing Price in Dollar=%{marker.size}<extra></extra>",
           "hovertext": [
            "JPN"
           ],
           "ids": [
            "JPN"
           ],
           "legendgroup": "JPN",
           "marker": {
            "color": "#00cc96",
            "size": [
             2235.1060549999997
            ],
            "sizemode": "area",
            "sizeref": 10.352940475,
            "symbol": "circle"
           },
           "mode": "markers",
           "name": "JPN",
           "orientation": "v",
           "showlegend": true,
           "type": "scatter",
           "x": [
            1293
           ],
           "xaxis": "x",
           "y": [
            2235.1060549999997
           ],
           "yaxis": "y"
          }
         ],
         "name": "9/1/2018"
        },
        {
         "data": [
          {
           "hovertemplate": "<b>%{hovertext}</b><br><br>Market Standard=SP500<br>DATE=10/1/2018<br>Gold Price in Dollar=%{x}<br>Stock Market Closing Price in Dollar=%{marker.size}<extra></extra>",
           "hovertext": [
            "SP500"
           ],
           "ids": [
            "SP500"
           ],
           "legendgroup": "SP500",
           "marker": {
            "color": "#636efa",
            "size": [
             2785.464783
            ],
            "sizemode": "area",
            "sizeref": 10.352940475,
            "symbol": "circle"
           },
           "mode": "markers",
           "name": "SP500",
           "orientation": "v",
           "showlegend": true,
           "type": "scatter",
           "x": [
            1282.800049
           ],
           "xaxis": "x",
           "y": [
            2785.464783
           ],
           "yaxis": "y"
          },
          {
           "hovertemplate": "<b>%{hovertext}</b><br><br>Market Standard=SSE<br>DATE=10/1/2018<br>Gold Price in Dollar=%{x}<br>Stock Market Closing Price in Dollar=%{marker.size}<extra></extra>",
           "hovertext": [
            "SSE"
           ],
           "ids": [
            "SSE"
           ],
           "legendgroup": "SSE",
           "marker": {
            "color": "#EF553B",
            "size": [
             2493.895996
            ],
            "sizemode": "area",
            "sizeref": 10.352940475,
            "symbol": "circle"
           },
           "mode": "markers",
           "name": "SSE",
           "orientation": "v",
           "showlegend": true,
           "type": "scatter",
           "x": [
            1282.800049
           ],
           "xaxis": "x",
           "y": [
            2493.895996
           ],
           "yaxis": "y"
          },
          {
           "hovertemplate": "<b>%{hovertext}</b><br><br>Market Standard=JPN<br>DATE=10/1/2018<br>Gold Price in Dollar=%{x}<br>Stock Market Closing Price in Dollar=%{marker.size}<extra></extra>",
           "hovertext": [
            "JPN"
           ],
           "ids": [
            "JPN"
           ],
           "legendgroup": "JPN",
           "marker": {
            "color": "#00cc96",
            "size": [
             2001.476953
            ],
            "sizemode": "area",
            "sizeref": 10.352940475,
            "symbol": "circle"
           },
           "mode": "markers",
           "name": "JPN",
           "orientation": "v",
           "showlegend": true,
           "type": "scatter",
           "x": [
            1282.800049
           ],
           "xaxis": "x",
           "y": [
            2001.476953
           ],
           "yaxis": "y"
          }
         ],
         "name": "10/1/2018"
        },
        {
         "data": [
          {
           "hovertemplate": "<b>%{hovertext}</b><br><br>Market Standard=SP500<br>DATE=11/1/2018<br>Gold Price in Dollar=%{x}<br>Stock Market Closing Price in Dollar=%{marker.size}<extra></extra>",
           "hovertext": [
            "SP500"
           ],
           "ids": [
            "SP500"
           ],
           "legendgroup": "SP500",
           "marker": {
            "color": "#636efa",
            "size": [
             2723.229524
            ],
            "sizemode": "area",
            "sizeref": 10.352940475,
            "symbol": "circle"
           },
           "mode": "markers",
           "name": "SP500",
           "orientation": "v",
           "showlegend": true,
           "type": "scatter",
           "x": [
            1305.800049
           ],
           "xaxis": "x",
           "y": [
            2723.229524
           ],
           "yaxis": "y"
          },
          {
           "hovertemplate": "<b>%{hovertext}</b><br><br>Market Standard=SSE<br>DATE=11/1/2018<br>Gold Price in Dollar=%{x}<br>Stock Market Closing Price in Dollar=%{marker.size}<extra></extra>",
           "hovertext": [
            "SSE"
           ],
           "ids": [
            "SSE"
           ],
           "legendgroup": "SSE",
           "marker": {
            "color": "#EF553B",
            "size": [
             2584.572021
            ],
            "sizemode": "area",
            "sizeref": 10.352940475,
            "symbol": "circle"
           },
           "mode": "markers",
           "name": "SSE",
           "orientation": "v",
           "showlegend": true,
           "type": "scatter",
           "x": [
            1305.800049
           ],
           "xaxis": "x",
           "y": [
            2584.572021
           ],
           "yaxis": "y"
          },
          {
           "hovertemplate": "<b>%{hovertext}</b><br><br>Market Standard=JPN<br>DATE=11/1/2018<br>Gold Price in Dollar=%{x}<br>Stock Market Closing Price in Dollar=%{marker.size}<extra></extra>",
           "hovertext": [
            "JPN"
           ],
           "ids": [
            "JPN"
           ],
           "legendgroup": "JPN",
           "marker": {
            "color": "#00cc96",
            "size": [
             2077.3490229999998
            ],
            "sizemode": "area",
            "sizeref": 10.352940475,
            "symbol": "circle"
           },
           "mode": "markers",
           "name": "JPN",
           "orientation": "v",
           "showlegend": true,
           "type": "scatter",
           "x": [
            1305.800049
           ],
           "xaxis": "x",
           "y": [
            2077.3490229999998
           ],
           "yaxis": "y"
          }
         ],
         "name": "11/1/2018"
        },
        {
         "data": [
          {
           "hovertemplate": "<b>%{hovertext}</b><br><br>Market Standard=SP500<br>DATE=12/1/2018<br>Gold Price in Dollar=%{x}<br>Stock Market Closing Price in Dollar=%{marker.size}<extra></extra>",
           "hovertext": [
            "SP500"
           ],
           "ids": [
            "SP500"
           ],
           "legendgroup": "SP500",
           "marker": {
            "color": "#636efa",
            "size": [
             2567.307368
            ],
            "sizemode": "area",
            "sizeref": 10.352940475,
            "symbol": "circle"
           },
           "mode": "markers",
           "name": "SP500",
           "orientation": "v",
           "showlegend": true,
           "type": "scatter",
           "x": [
            1409.699951
           ],
           "xaxis": "x",
           "y": [
            2567.307368
           ],
           "yaxis": "y"
          },
          {
           "hovertemplate": "<b>%{hovertext}</b><br><br>Market Standard=SSE<br>DATE=12/1/2018<br>Gold Price in Dollar=%{x}<br>Stock Market Closing Price in Dollar=%{marker.size}<extra></extra>",
           "hovertext": [
            "SSE"
           ],
           "ids": [
            "SSE"
           ],
           "legendgroup": "SSE",
           "marker": {
            "color": "#EF553B",
            "size": [
             2940.954102
            ],
            "sizemode": "area",
            "sizeref": 10.352940475,
            "symbol": "circle"
           },
           "mode": "markers",
           "name": "SSE",
           "orientation": "v",
           "showlegend": true,
           "type": "scatter",
           "x": [
            1409.699951
           ],
           "xaxis": "x",
           "y": [
            2940.954102
           ],
           "yaxis": "y"
          },
          {
           "hovertemplate": "<b>%{hovertext}</b><br><br>Market Standard=JPN<br>DATE=12/1/2018<br>Gold Price in Dollar=%{x}<br>Stock Market Closing Price in Dollar=%{marker.size}<extra></extra>",
           "hovertext": [
            "JPN"
           ],
           "ids": [
            "JPN"
           ],
           "legendgroup": "JPN",
           "marker": {
            "color": "#00cc96",
            "size": [
             2138.516016
            ],
            "sizemode": "area",
            "sizeref": 10.352940475,
            "symbol": "circle"
           },
           "mode": "markers",
           "name": "JPN",
           "orientation": "v",
           "showlegend": true,
           "type": "scatter",
           "x": [
            1409.699951
           ],
           "xaxis": "x",
           "y": [
            2138.516016
           ],
           "yaxis": "y"
          }
         ],
         "name": "12/1/2018"
        },
        {
         "data": [
          {
           "hovertemplate": "<b>%{hovertext}</b><br><br>Market Standard=SP500<br>DATE=1/1/2019<br>Gold Price in Dollar=%{x}<br>Stock Market Closing Price in Dollar=%{marker.size}<extra></extra>",
           "hovertext": [
            "SP500"
           ],
           "ids": [
            "SP500"
           ],
           "legendgroup": "SP500",
           "marker": {
            "color": "#636efa",
            "size": [
             2607.39
            ],
            "sizemode": "area",
            "sizeref": 10.352940475,
            "symbol": "circle"
           },
           "mode": "markers",
           "name": "SP500",
           "orientation": "v",
           "showlegend": true,
           "type": "scatter",
           "x": [
            1426.099976
           ],
           "xaxis": "x",
           "y": [
            2607.39
           ],
           "yaxis": "y"
          },
          {
           "hovertemplate": "<b>%{hovertext}</b><br><br>Market Standard=SSE<br>DATE=1/1/2019<br>Gold Price in Dollar=%{x}<br>Stock Market Closing Price in Dollar=%{marker.size}<extra></extra>",
           "hovertext": [
            "SSE"
           ],
           "ids": [
            "SSE"
           ],
           "legendgroup": "SSE",
           "marker": {
            "color": "#EF553B",
            "size": [
             3090.758057
            ],
            "sizemode": "area",
            "sizeref": 10.352940475,
            "symbol": "circle"
           },
           "mode": "markers",
           "name": "SSE",
           "orientation": "v",
           "showlegend": true,
           "type": "scatter",
           "x": [
            1426.099976
           ],
           "xaxis": "x",
           "y": [
            3090.758057
           ],
           "yaxis": "y"
          },
          {
           "hovertemplate": "<b>%{hovertext}</b><br><br>Market Standard=JPN<br>DATE=1/1/2019<br>Gold Price in Dollar=%{x}<br>Stock Market Closing Price in Dollar=%{marker.size}<extra></extra>",
           "hovertext": [
            "JPN"
           ],
           "ids": [
            "JPN"
           ],
           "legendgroup": "JPN",
           "marker": {
            "color": "#00cc96",
            "size": [
             2120.5810549999997
            ],
            "sizemode": "area",
            "sizeref": 10.352940475,
            "symbol": "circle"
           },
           "mode": "markers",
           "name": "JPN",
           "orientation": "v",
           "showlegend": true,
           "type": "scatter",
           "x": [
            1426.099976
           ],
           "xaxis": "x",
           "y": [
            2120.5810549999997
           ],
           "yaxis": "y"
          }
         ],
         "name": "1/1/2019"
        },
        {
         "data": [
          {
           "hovertemplate": "<b>%{hovertext}</b><br><br>Market Standard=SP500<br>DATE=2/1/2019<br>Gold Price in Dollar=%{x}<br>Stock Market Closing Price in Dollar=%{marker.size}<extra></extra>",
           "hovertext": [
            "SP500"
           ],
           "ids": [
            "SP500"
           ],
           "legendgroup": "SP500",
           "marker": {
            "color": "#636efa",
            "size": [
             2754.864211
            ],
            "sizemode": "area",
            "sizeref": 10.352940475,
            "symbol": "circle"
           },
           "mode": "markers",
           "name": "SP500",
           "orientation": "v",
           "showlegend": true,
           "type": "scatter",
           "x": [
            1519.099976
           ],
           "xaxis": "x",
           "y": [
            2754.864211
           ],
           "yaxis": "y"
          },
          {
           "hovertemplate": "<b>%{hovertext}</b><br><br>Market Standard=SSE<br>DATE=2/1/2019<br>Gold Price in Dollar=%{x}<br>Stock Market Closing Price in Dollar=%{marker.size}<extra></extra>",
           "hovertext": [
            "SSE"
           ],
           "ids": [
            "SSE"
           ],
           "legendgroup": "SSE",
           "marker": {
            "color": "#EF553B",
            "size": [
             3078.339111
            ],
            "sizemode": "area",
            "sizeref": 10.352940475,
            "symbol": "circle"
           },
           "mode": "markers",
           "name": "SSE",
           "orientation": "v",
           "showlegend": true,
           "type": "scatter",
           "x": [
            1519.099976
           ],
           "xaxis": "x",
           "y": [
            3078.339111
           ],
           "yaxis": "y"
          },
          {
           "hovertemplate": "<b>%{hovertext}</b><br><br>Market Standard=JPN<br>DATE=2/1/2019<br>Gold Price in Dollar=%{x}<br>Stock Market Closing Price in Dollar=%{marker.size}<extra></extra>",
           "hovertext": [
            "JPN"
           ],
           "ids": [
            "JPN"
           ],
           "legendgroup": "JPN",
           "marker": {
            "color": "#00cc96",
            "size": [
             2225.873047
            ],
            "sizemode": "area",
            "sizeref": 10.352940475,
            "symbol": "circle"
           },
           "mode": "markers",
           "name": "JPN",
           "orientation": "v",
           "showlegend": true,
           "type": "scatter",
           "x": [
            1519.099976
           ],
           "xaxis": "x",
           "y": [
            2225.873047
           ],
           "yaxis": "y"
          }
         ],
         "name": "2/1/2019"
        },
        {
         "data": [
          {
           "hovertemplate": "<b>%{hovertext}</b><br><br>Market Standard=SP500<br>DATE=3/1/2019<br>Gold Price in Dollar=%{x}<br>Stock Market Closing Price in Dollar=%{marker.size}<extra></extra>",
           "hovertext": [
            "SP500"
           ],
           "ids": [
            "SP500"
           ],
           "legendgroup": "SP500",
           "marker": {
            "color": "#636efa",
            "size": [
             2803.98381
            ],
            "sizemode": "area",
            "sizeref": 10.352940475,
            "symbol": "circle"
           },
           "mode": "markers",
           "name": "SP500",
           "orientation": "v",
           "showlegend": true,
           "type": "scatter",
           "x": [
            1511.400024
           ],
           "xaxis": "x",
           "y": [
            2803.98381
           ],
           "yaxis": "y"
          },
          {
           "hovertemplate": "<b>%{hovertext}</b><br><br>Market Standard=SSE<br>DATE=3/1/2019<br>Gold Price in Dollar=%{x}<br>Stock Market Closing Price in Dollar=%{marker.size}<extra></extra>",
           "hovertext": [
            "SSE"
           ],
           "ids": [
            "SSE"
           ],
           "legendgroup": "SSE",
           "marker": {
            "color": "#EF553B",
            "size": [
             2898.696045
            ],
            "sizemode": "area",
            "sizeref": 10.352940475,
            "symbol": "circle"
           },
           "mode": "markers",
           "name": "SSE",
           "orientation": "v",
           "showlegend": true,
           "type": "scatter",
           "x": [
            1511.400024
           ],
           "xaxis": "x",
           "y": [
            2898.696045
           ],
           "yaxis": "y"
          },
          {
           "hovertemplate": "<b>%{hovertext}</b><br><br>Market Standard=JPN<br>DATE=3/1/2019<br>Gold Price in Dollar=%{x}<br>Stock Market Closing Price in Dollar=%{marker.size}<extra></extra>",
           "hovertext": [
            "JPN"
           ],
           "ids": [
            "JPN"
           ],
           "legendgroup": "JPN",
           "marker": {
            "color": "#00cc96",
            "size": [
             2060.118945
            ],
            "sizemode": "area",
            "sizeref": 10.352940475,
            "symbol": "circle"
           },
           "mode": "markers",
           "name": "JPN",
           "orientation": "v",
           "showlegend": true,
           "type": "scatter",
           "x": [
            1511.400024
           ],
           "xaxis": "x",
           "y": [
            2060.118945
           ],
           "yaxis": "y"
          }
         ],
         "name": "3/1/2019"
        },
        {
         "data": [
          {
           "hovertemplate": "<b>%{hovertext}</b><br><br>Market Standard=SP500<br>DATE=4/1/2019<br>Gold Price in Dollar=%{x}<br>Stock Market Closing Price in Dollar=%{marker.size}<extra></extra>",
           "hovertext": [
            "SP500"
           ],
           "ids": [
            "SP500"
           ],
           "legendgroup": "SP500",
           "marker": {
            "color": "#636efa",
            "size": [
             2903.8
            ],
            "sizemode": "area",
            "sizeref": 10.352940475,
            "symbol": "circle"
           },
           "mode": "markers",
           "name": "SP500",
           "orientation": "v",
           "showlegend": true,
           "type": "scatter",
           "x": [
            1465.599976
           ],
           "xaxis": "x",
           "y": [
            2903.8
           ],
           "yaxis": "y"
          },
          {
           "hovertemplate": "<b>%{hovertext}</b><br><br>Market Standard=SSE<br>DATE=4/1/2019<br>Gold Price in Dollar=%{x}<br>Stock Market Closing Price in Dollar=%{marker.size}<extra></extra>",
           "hovertext": [
            "SSE"
           ],
           "ids": [
            "SSE"
           ],
           "legendgroup": "SSE",
           "marker": {
            "color": "#EF553B",
            "size": [
             2978.87793
            ],
            "sizemode": "area",
            "sizeref": 10.352940475,
            "symbol": "circle"
           },
           "mode": "markers",
           "name": "SSE",
           "orientation": "v",
           "showlegend": true,
           "type": "scatter",
           "x": [
            1465.599976
           ],
           "xaxis": "x",
           "y": [
            2978.87793
           ],
           "yaxis": "y"
          },
          {
           "hovertemplate": "<b>%{hovertext}</b><br><br>Market Standard=JPN<br>DATE=4/1/2019<br>Gold Price in Dollar=%{x}<br>Stock Market Closing Price in Dollar=%{marker.size}<extra></extra>",
           "hovertext": [
            "JPN"
           ],
           "ids": [
            "JPN"
           ],
           "legendgroup": "JPN",
           "marker": {
            "color": "#00cc96",
            "size": [
             2127.591992
            ],
            "sizemode": "area",
            "sizeref": 10.352940475,
            "symbol": "circle"
           },
           "mode": "markers",
           "name": "JPN",
           "orientation": "v",
           "showlegend": true,
           "type": "scatter",
           "x": [
            1465.599976
           ],
           "xaxis": "x",
           "y": [
            2127.591992
           ],
           "yaxis": "y"
          }
         ],
         "name": "4/1/2019"
        },
        {
         "data": [
          {
           "hovertemplate": "<b>%{hovertext}</b><br><br>Market Standard=SP500<br>DATE=5/1/2019<br>Gold Price in Dollar=%{x}<br>Stock Market Closing Price in Dollar=%{marker.size}<extra></extra>",
           "hovertext": [
            "SP500"
           ],
           "ids": [
            "SP500"
           ],
           "legendgroup": "SP500",
           "marker": {
            "color": "#636efa",
            "size": [
             2854.705909
            ],
            "sizemode": "area",
            "sizeref": 10.352940475,
            "symbol": "circle"
           },
           "mode": "markers",
           "name": "SP500",
           "orientation": "v",
           "showlegend": true,
           "type": "scatter",
           "x": [
            1582.900024
           ],
           "xaxis": "x",
           "y": [
            2854.705909
           ],
           "yaxis": "y"
          },
          {
           "hovertemplate": "<b>%{hovertext}</b><br><br>Market Standard=SSE<br>DATE=5/1/2019<br>Gold Price in Dollar=%{x}<br>Stock Market Closing Price in Dollar=%{marker.size}<extra></extra>",
           "hovertext": [
            "SSE"
           ],
           "ids": [
            "SSE"
           ],
           "legendgroup": "SSE",
           "marker": {
            "color": "#EF553B",
            "size": [
             2932.51001
            ],
            "sizemode": "area",
            "sizeref": 10.352940475,
            "symbol": "circle"
           },
           "mode": "markers",
           "name": "SSE",
           "orientation": "v",
           "showlegend": true,
           "type": "scatter",
           "x": [
            1582.900024
           ],
           "xaxis": "x",
           "y": [
            2932.51001
           ],
           "yaxis": "y"
          },
          {
           "hovertemplate": "<b>%{hovertext}</b><br><br>Market Standard=JPN<br>DATE=5/1/2019<br>Gold Price in Dollar=%{x}<br>Stock Market Closing Price in Dollar=%{marker.size}<extra></extra>",
           "hovertext": [
            "JPN"
           ],
           "ids": [
            "JPN"
           ],
           "legendgroup": "JPN",
           "marker": {
            "color": "#00cc96",
            "size": [
             2152.1529299999997
            ],
            "sizemode": "area",
            "sizeref": 10.352940475,
            "symbol": "circle"
           },
           "mode": "markers",
           "name": "JPN",
           "orientation": "v",
           "showlegend": true,
           "type": "scatter",
           "x": [
            1582.900024
           ],
           "xaxis": "x",
           "y": [
            2152.1529299999997
           ],
           "yaxis": "y"
          }
         ],
         "name": "5/1/2019"
        },
        {
         "data": [
          {
           "hovertemplate": "<b>%{hovertext}</b><br><br>Market Standard=SP500<br>DATE=6/1/2019<br>Gold Price in Dollar=%{x}<br>Stock Market Closing Price in Dollar=%{marker.size}<extra></extra>",
           "hovertext": [
            "SP500"
           ],
           "ids": [
            "SP500"
           ],
           "legendgroup": "SP500",
           "marker": {
            "color": "#636efa",
            "size": [
             2890.166
            ],
            "sizemode": "area",
            "sizeref": 10.352940475,
            "symbol": "circle"
           },
           "mode": "markers",
           "name": "SP500",
           "orientation": "v",
           "showlegend": true,
           "type": "scatter",
           "x": [
            1564.099976
           ],
           "xaxis": "x",
           "y": [
            2890.166
           ],
           "yaxis": "y"
          },
          {
           "hovertemplate": "<b>%{hovertext}</b><br><br>Market Standard=SSE<br>DATE=6/1/2019<br>Gold Price in Dollar=%{x}<br>Stock Market Closing Price in Dollar=%{marker.size}<extra></extra>",
           "hovertext": [
            "SSE"
           ],
           "ids": [
            "SSE"
           ],
           "legendgroup": "SSE",
           "marker": {
            "color": "#EF553B",
            "size": [
             2886.23999
            ],
            "sizemode": "area",
            "sizeref": 10.352940475,
            "symbol": "circle"
           },
           "mode": "markers",
           "name": "SSE",
           "orientation": "v",
           "showlegend": true,
           "type": "scatter",
           "x": [
            1564.099976
           ],
           "xaxis": "x",
           "y": [
            2886.23999
           ],
           "yaxis": "y"
          },
          {
           "hovertemplate": "<b>%{hovertext}</b><br><br>Market Standard=JPN<br>DATE=6/1/2019<br>Gold Price in Dollar=%{x}<br>Stock Market Closing Price in Dollar=%{marker.size}<extra></extra>",
           "hovertext": [
            "JPN"
           ],
           "ids": [
            "JPN"
           ],
           "legendgroup": "JPN",
           "marker": {
            "color": "#00cc96",
            "size": [
             2070.436914
            ],
            "sizemode": "area",
            "sizeref": 10.352940475,
            "symbol": "circle"
           },
           "mode": "markers",
           "name": "JPN",
           "orientation": "v",
           "showlegend": true,
           "type": "scatter",
           "x": [
            1564.099976
           ],
           "xaxis": "x",
           "y": [
            2070.436914
           ],
           "yaxis": "y"
          }
         ],
         "name": "6/1/2019"
        },
        {
         "data": [
          {
           "hovertemplate": "<b>%{hovertext}</b><br><br>Market Standard=SP500<br>DATE=7/1/2019<br>Gold Price in Dollar=%{x}<br>Stock Market Closing Price in Dollar=%{marker.size}<extra></extra>",
           "hovertext": [
            "SP500"
           ],
           "ids": [
            "SP500"
           ],
           "legendgroup": "SP500",
           "marker": {
            "color": "#636efa",
            "size": [
             2996.113636
            ],
            "sizemode": "area",
            "sizeref": 10.352940475,
            "symbol": "circle"
           },
           "mode": "markers",
           "name": "SP500",
           "orientation": "v",
           "showlegend": true,
           "type": "scatter",
           "x": [
            1684.199951
           ],
           "xaxis": "x",
           "y": [
            2996.113636
           ],
           "yaxis": "y"
          },
          {
           "hovertemplate": "<b>%{hovertext}</b><br><br>Market Standard=SSE<br>DATE=7/1/2019<br>Gold Price in Dollar=%{x}<br>Stock Market Closing Price in Dollar=%{marker.size}<extra></extra>",
           "hovertext": [
            "SSE"
           ],
           "ids": [
            "SSE"
           ],
           "legendgroup": "SSE",
           "marker": {
            "color": "#EF553B",
            "size": [
             2905.189941
            ],
            "sizemode": "area",
            "sizeref": 10.352940475,
            "symbol": "circle"
           },
           "mode": "markers",
           "name": "SSE",
           "orientation": "v",
           "showlegend": true,
           "type": "scatter",
           "x": [
            1684.199951
           ],
           "xaxis": "x",
           "y": [
            2905.189941
           ],
           "yaxis": "y"
          },
          {
           "hovertemplate": "<b>%{hovertext}</b><br><br>Market Standard=JPN<br>DATE=7/1/2019<br>Gold Price in Dollar=%{x}<br>Stock Market Closing Price in Dollar=%{marker.size}<extra></extra>",
           "hovertext": [
            "JPN"
           ],
           "ids": [
            "JPN"
           ],
           "legendgroup": "JPN",
           "marker": {
            "color": "#00cc96",
            "size": [
             2175.583984
            ],
            "sizemode": "area",
            "sizeref": 10.352940475,
            "symbol": "circle"
           },
           "mode": "markers",
           "name": "JPN",
           "orientation": "v",
           "showlegend": true,
           "type": "scatter",
           "x": [
            1684.199951
           ],
           "xaxis": "x",
           "y": [
            2175.583984
           ],
           "yaxis": "y"
          }
         ],
         "name": "7/1/2019"
        },
        {
         "data": [
          {
           "hovertemplate": "<b>%{hovertext}</b><br><br>Market Standard=SP500<br>DATE=8/1/2019<br>Gold Price in Dollar=%{x}<br>Stock Market Closing Price in Dollar=%{marker.size}<extra></extra>",
           "hovertext": [
            "SP500"
           ],
           "ids": [
            "SP500"
           ],
           "legendgroup": "SP500",
           "marker": {
            "color": "#636efa",
            "size": [
             2897.498182
            ],
            "sizemode": "area",
            "sizeref": 10.352940475,
            "symbol": "circle"
           },
           "mode": "markers",
           "name": "SP500",
           "orientation": "v",
           "showlegend": true,
           "type": "scatter",
           "x": [
            1736.900024
           ],
           "xaxis": "x",
           "y": [
            2897.498182
           ],
           "yaxis": "y"
          },
          {
           "hovertemplate": "<b>%{hovertext}</b><br><br>Market Standard=SSE<br>DATE=8/1/2019<br>Gold Price in Dollar=%{x}<br>Stock Market Closing Price in Dollar=%{marker.size}<extra></extra>",
           "hovertext": [
            "SSE"
           ],
           "ids": [
            "SSE"
           ],
           "legendgroup": "SSE",
           "marker": {
            "color": "#EF553B",
            "size": [
             2929.060059
            ],
            "sizemode": "area",
            "sizeref": 10.352940475,
            "symbol": "circle"
           },
           "mode": "markers",
           "name": "SSE",
           "orientation": "v",
           "showlegend": true,
           "type": "scatter",
           "x": [
            1736.900024
           ],
           "xaxis": "x",
           "y": [
            2929.060059
           ],
           "yaxis": "y"
          },
          {
           "hovertemplate": "<b>%{hovertext}</b><br><br>Market Standard=JPN<br>DATE=8/1/2019<br>Gold Price in Dollar=%{x}<br>Stock Market Closing Price in Dollar=%{marker.size}<extra></extra>",
           "hovertext": [
            "JPN"
           ],
           "ids": [
            "JPN"
           ],
           "legendgroup": "JPN",
           "marker": {
            "color": "#00cc96",
            "size": [
             2292.7039059999997
            ],
            "sizemode": "area",
            "sizeref": 10.352940475,
            "symbol": "circle"
           },
           "mode": "markers",
           "name": "JPN",
           "orientation": "v",
           "showlegend": true,
           "type": "scatter",
           "x": [
            1736.900024
           ],
           "xaxis": "x",
           "y": [
            2292.7039059999997
           ],
           "yaxis": "y"
          }
         ],
         "name": "8/1/2019"
        },
        {
         "data": [
          {
           "hovertemplate": "<b>%{hovertext}</b><br><br>Market Standard=SP500<br>DATE=9/1/2019<br>Gold Price in Dollar=%{x}<br>Stock Market Closing Price in Dollar=%{marker.size}<extra></extra>",
           "hovertext": [
            "SP500"
           ],
           "ids": [
            "SP500"
           ],
           "legendgroup": "SP500",
           "marker": {
            "color": "#636efa",
            "size": [
             2982.156
            ],
            "sizemode": "area",
            "sizeref": 10.352940475,
            "symbol": "circle"
           },
           "mode": "markers",
           "name": "SP500",
           "orientation": "v",
           "showlegend": true,
           "type": "scatter",
           "x": [
            1793
           ],
           "xaxis": "x",
           "y": [
            2982.156
           ],
           "yaxis": "y"
          },
          {
           "hovertemplate": "<b>%{hovertext}</b><br><br>Market Standard=SSE<br>DATE=9/1/2019<br>Gold Price in Dollar=%{x}<br>Stock Market Closing Price in Dollar=%{marker.size}<extra></extra>",
           "hovertext": [
            "SSE"
           ],
           "ids": [
            "SSE"
           ],
           "legendgroup": "SSE",
           "marker": {
            "color": "#EF553B",
            "size": [
             2871.97998
            ],
            "sizemode": "area",
            "sizeref": 10.352940475,
            "symbol": "circle"
           },
           "mode": "markers",
           "name": "SSE",
           "orientation": "v",
           "showlegend": true,
           "type": "scatter",
           "x": [
            1793
           ],
           "xaxis": "x",
           "y": [
            2871.97998
           ],
           "yaxis": "y"
          },
          {
           "hovertemplate": "<b>%{hovertext}</b><br><br>Market Standard=JPN<br>DATE=9/1/2019<br>Gold Price in Dollar=%{x}<br>Stock Market Closing Price in Dollar=%{marker.size}<extra></extra>",
           "hovertext": [
            "JPN"
           ],
           "ids": [
            "JPN"
           ],
           "legendgroup": "JPN",
           "marker": {
            "color": "#00cc96",
            "size": [
             2329.391016
            ],
            "sizemode": "area",
            "sizeref": 10.352940475,
            "symbol": "circle"
           },
           "mode": "markers",
           "name": "JPN",
           "orientation": "v",
           "showlegend": true,
           "type": "scatter",
           "x": [
            1793
           ],
           "xaxis": "x",
           "y": [
            2329.391016
           ],
           "yaxis": "y"
          }
         ],
         "name": "9/1/2019"
        },
        {
         "data": [
          {
           "hovertemplate": "<b>%{hovertext}</b><br><br>Market Standard=SP500<br>DATE=10/1/2019<br>Gold Price in Dollar=%{x}<br>Stock Market Closing Price in Dollar=%{marker.size}<extra></extra>",
           "hovertext": [
            "SP500"
           ],
           "ids": [
            "SP500"
           ],
           "legendgroup": "SP500",
           "marker": {
            "color": "#636efa",
            "size": [
             2977.675217
            ],
            "sizemode": "area",
            "sizeref": 10.352940475,
            "symbol": "circle"
           },
           "mode": "markers",
           "name": "SP500",
           "orientation": "v",
           "showlegend": true,
           "type": "scatter",
           "x": [
            1962.800049
           ],
           "xaxis": "x",
           "y": [
            2977.675217
           ],
           "yaxis": "y"
          },
          {
           "hovertemplate": "<b>%{hovertext}</b><br><br>Market Standard=SSE<br>DATE=10/1/2019<br>Gold Price in Dollar=%{x}<br>Stock Market Closing Price in Dollar=%{marker.size}<extra></extra>",
           "hovertext": [
            "SSE"
           ],
           "ids": [
            "SSE"
           ],
           "legendgroup": "SSE",
           "marker": {
            "color": "#EF553B",
            "size": [
             3050.124023
            ],
            "sizemode": "area",
            "sizeref": 10.352940475,
            "symbol": "circle"
           },
           "mode": "markers",
           "name": "SSE",
           "orientation": "v",
           "showlegend": true,
           "type": "scatter",
           "x": [
            1962.800049
           ],
           "xaxis": "x",
           "y": [
            3050.124023
           ],
           "yaxis": "y"
          },
          {
           "hovertemplate": "<b>%{hovertext}</b><br><br>Market Standard=JPN<br>DATE=10/1/2019<br>Gold Price in Dollar=%{x}<br>Stock Market Closing Price in Dollar=%{marker.size}<extra></extra>",
           "hovertext": [
            "JPN"
           ],
           "ids": [
            "JPN"
           ],
           "legendgroup": "JPN",
           "marker": {
            "color": "#00cc96",
            "size": [
             2365.661914
            ],
            "sizemode": "area",
            "sizeref": 10.352940475,
            "symbol": "circle"
           },
           "mode": "markers",
           "name": "JPN",
           "orientation": "v",
           "showlegend": true,
           "type": "scatter",
           "x": [
            1962.800049
           ],
           "xaxis": "x",
           "y": [
            2365.661914
           ],
           "yaxis": "y"
          }
         ],
         "name": "10/1/2019"
        },
        {
         "data": [
          {
           "hovertemplate": "<b>%{hovertext}</b><br><br>Market Standard=SP500<br>DATE=11/1/2019<br>Gold Price in Dollar=%{x}<br>Stock Market Closing Price in Dollar=%{marker.size}<extra></extra>",
           "hovertext": [
            "SP500"
           ],
           "ids": [
            "SP500"
           ],
           "legendgroup": "SP500",
           "marker": {
            "color": "#636efa",
            "size": [
             3104.9045
            ],
            "sizemode": "area",
            "sizeref": 10.352940475,
            "symbol": "circle"
           },
           "mode": "markers",
           "name": "SP500",
           "orientation": "v",
           "showlegend": true,
           "type": "scatter",
           "x": [
            1967.599976
           ],
           "xaxis": "x",
           "y": [
            3104.9045
           ],
           "yaxis": "y"
          },
          {
           "hovertemplate": "<b>%{hovertext}</b><br><br>Market Standard=SSE<br>DATE=11/1/2019<br>Gold Price in Dollar=%{x}<br>Stock Market Closing Price in Dollar=%{marker.size}<extra></extra>",
           "hovertext": [
            "SSE"
           ],
           "ids": [
            "SSE"
           ],
           "legendgroup": "SSE",
           "marker": {
            "color": "#EF553B",
            "size": [
             2976.528076
            ],
            "sizemode": "area",
            "sizeref": 10.352940475,
            "symbol": "circle"
           },
           "mode": "markers",
           "name": "SSE",
           "orientation": "v",
           "showlegend": true,
           "type": "scatter",
           "x": [
            1967.599976
           ],
           "xaxis": "x",
           "y": [
            2976.528076
           ],
           "yaxis": "y"
          },
          {
           "hovertemplate": "<b>%{hovertext}</b><br><br>Market Standard=JPN<br>DATE=11/1/2019<br>Gold Price in Dollar=%{x}<br>Stock Market Closing Price in Dollar=%{marker.size}<extra></extra>",
           "hovertext": [
            "JPN"
           ],
           "ids": [
            "JPN"
           ],
           "legendgroup": "JPN",
           "marker": {
            "color": "#00cc96",
            "size": [
             2320.517969
            ],
            "sizemode": "area",
            "sizeref": 10.352940475,
            "symbol": "circle"
           },
           "mode": "markers",
           "name": "JPN",
           "orientation": "v",
           "showlegend": true,
           "type": "scatter",
           "x": [
            1967.599976
           ],
           "xaxis": "x",
           "y": [
            2320.517969
           ],
           "yaxis": "y"
          }
         ],
         "name": "11/1/2019"
        },
        {
         "data": [
          {
           "hovertemplate": "<b>%{hovertext}</b><br><br>Market Standard=SP500<br>DATE=12/1/2019<br>Gold Price in Dollar=%{x}<br>Stock Market Closing Price in Dollar=%{marker.size}<extra></extra>",
           "hovertext": [
            "SP500"
           ],
           "ids": [
            "SP500"
           ],
           "legendgroup": "SP500",
           "marker": {
            "color": "#636efa",
            "size": [
             3176.749524
            ],
            "sizemode": "area",
            "sizeref": 10.352940475,
            "symbol": "circle"
           },
           "mode": "markers",
           "name": "SP500",
           "orientation": "v",
           "showlegend": true,
           "type": "scatter",
           "x": [
            1887.5
           ],
           "xaxis": "x",
           "y": [
            3176.749524
           ],
           "yaxis": "y"
          },
          {
           "hovertemplate": "<b>%{hovertext}</b><br><br>Market Standard=SSE<br>DATE=12/1/2019<br>Gold Price in Dollar=%{x}<br>Stock Market Closing Price in Dollar=%{marker.size}<extra></extra>",
           "hovertext": [
            "SSE"
           ],
           "ids": [
            "SSE"
           ],
           "legendgroup": "SSE",
           "marker": {
            "color": "#EF553B",
            "size": [
             2880.303955
            ],
            "sizemode": "area",
            "sizeref": 10.352940475,
            "symbol": "circle"
           },
           "mode": "markers",
           "name": "SSE",
           "orientation": "v",
           "showlegend": true,
           "type": "scatter",
           "x": [
            1887.5
           ],
           "xaxis": "x",
           "y": [
            2880.303955
           ],
           "yaxis": "y"
          },
          {
           "hovertemplate": "<b>%{hovertext}</b><br><br>Market Standard=JPN<br>DATE=12/1/2019<br>Gold Price in Dollar=%{x}<br>Stock Market Closing Price in Dollar=%{marker.size}<extra></extra>",
           "hovertext": [
            "JPN"
           ],
           "ids": [
            "JPN"
           ],
           "legendgroup": "JPN",
           "marker": {
            "color": "#00cc96",
            "size": [
             2114.2960940000003
            ],
            "sizemode": "area",
            "sizeref": 10.352940475,
            "symbol": "circle"
           },
           "mode": "markers",
           "name": "JPN",
           "orientation": "v",
           "showlegend": true,
           "type": "scatter",
           "x": [
            1887.5
           ],
           "xaxis": "x",
           "y": [
            2114.2960940000003
           ],
           "yaxis": "y"
          }
         ],
         "name": "12/1/2019"
        },
        {
         "data": [
          {
           "hovertemplate": "<b>%{hovertext}</b><br><br>Market Standard=SP500<br>DATE=1/1/2020<br>Gold Price in Dollar=%{x}<br>Stock Market Closing Price in Dollar=%{marker.size}<extra></extra>",
           "hovertext": [
            "SP500"
           ],
           "ids": [
            "SP500"
           ],
           "legendgroup": "SP500",
           "marker": {
            "color": "#636efa",
            "size": [
             3278.202857
            ],
            "sizemode": "area",
            "sizeref": 10.352940475,
            "symbol": "circle"
           },
           "mode": "markers",
           "name": "SP500",
           "orientation": "v",
           "showlegend": true,
           "type": "scatter",
           "x": [
            1877.400024
           ],
           "xaxis": "x",
           "y": [
            3278.202857
           ],
           "yaxis": "y"
          },
          {
           "hovertemplate": "<b>%{hovertext}</b><br><br>Market Standard=SSE<br>DATE=1/1/2020<br>Gold Price in Dollar=%{x}<br>Stock Market Closing Price in Dollar=%{marker.size}<extra></extra>",
           "hovertext": [
            "SSE"
           ],
           "ids": [
            "SSE"
           ],
           "legendgroup": "SSE",
           "marker": {
            "color": "#EF553B",
            "size": [
             2750.295898
            ],
            "sizemode": "area",
            "sizeref": 10.352940475,
            "symbol": "circle"
           },
           "mode": "markers",
           "name": "SSE",
           "orientation": "v",
           "showlegend": true,
           "type": "scatter",
           "x": [
            1877.400024
           ],
           "xaxis": "x",
           "y": [
            2750.295898
           ],
           "yaxis": "y"
          },
          {
           "hovertemplate": "<b>%{hovertext}</b><br><br>Market Standard=JPN<br>DATE=1/1/2020<br>Gold Price in Dollar=%{x}<br>Stock Market Closing Price in Dollar=%{marker.size}<extra></extra>",
           "hovertext": [
            "JPN"
           ],
           "ids": [
            "JPN"
           ],
           "legendgroup": "JPN",
           "marker": {
            "color": "#00cc96",
            "size": [
             1891.700977
            ],
            "sizemode": "area",
            "sizeref": 10.352940475,
            "symbol": "circle"
           },
           "mode": "markers",
           "name": "JPN",
           "orientation": "v",
           "showlegend": true,
           "type": "scatter",
           "x": [
            1877.400024
           ],
           "xaxis": "x",
           "y": [
            1891.700977
           ],
           "yaxis": "y"
          }
         ],
         "name": "1/1/2020"
        },
        {
         "data": [
          {
           "hovertemplate": "<b>%{hovertext}</b><br><br>Market Standard=SP500<br>DATE=2/1/2020<br>Gold Price in Dollar=%{x}<br>Stock Market Closing Price in Dollar=%{marker.size}<extra></extra>",
           "hovertext": [
            "SP500"
           ],
           "ids": [
            "SP500"
           ],
           "legendgroup": "SP500",
           "marker": {
            "color": "#636efa",
            "size": [
             3277.314211
            ],
            "sizemode": "area",
            "sizeref": 10.352940475,
            "symbol": "circle"
           },
           "mode": "markers",
           "name": "SP500",
           "orientation": "v",
           "showlegend": true,
           "type": "scatter",
           "x": [
            1893.099976
           ],
           "xaxis": "x",
           "y": [
            3277.314211
           ],
           "yaxis": "y"
          },
          {
           "hovertemplate": "<b>%{hovertext}</b><br><br>Market Standard=SSE<br>DATE=2/1/2020<br>Gold Price in Dollar=%{x}<br>Stock Market Closing Price in Dollar=%{marker.size}<extra></extra>",
           "hovertext": [
            "SSE"
           ],
           "ids": [
            "SSE"
           ],
           "legendgroup": "SSE",
           "marker": {
            "color": "#EF553B",
            "size": [
             2860.082031
            ],
            "sizemode": "area",
            "sizeref": 10.352940475,
            "symbol": "circle"
           },
           "mode": "markers",
           "name": "SSE",
           "orientation": "v",
           "showlegend": true,
           "type": "scatter",
           "x": [
            1893.099976
           ],
           "xaxis": "x",
           "y": [
            2860.082031
           ],
           "yaxis": "y"
          },
          {
           "hovertemplate": "<b>%{hovertext}</b><br><br>Market Standard=JPN<br>DATE=2/1/2020<br>Gold Price in Dollar=%{x}<br>Stock Market Closing Price in Dollar=%{marker.size}<extra></extra>",
           "hovertext": [
            "JPN"
           ],
           "ids": [
            "JPN"
           ],
           "legendgroup": "JPN",
           "marker": {
            "color": "#00cc96",
            "size": [
             2019.3689450000002
            ],
            "sizemode": "area",
            "sizeref": 10.352940475,
            "symbol": "circle"
           },
           "mode": "markers",
           "name": "JPN",
           "orientation": "v",
           "showlegend": true,
           "type": "scatter",
           "x": [
            1893.099976
           ],
           "xaxis": "x",
           "y": [
            2019.3689450000002
           ],
           "yaxis": "y"
          }
         ],
         "name": "2/1/2020"
        },
        {
         "data": [
          {
           "hovertemplate": "<b>%{hovertext}</b><br><br>Market Standard=SP500<br>DATE=3/1/2020<br>Gold Price in Dollar=%{x}<br>Stock Market Closing Price in Dollar=%{marker.size}<extra></extra>",
           "hovertext": [
            "SP500"
           ],
           "ids": [
            "SP500"
           ],
           "legendgroup": "SP500",
           "marker": {
            "color": "#636efa",
            "size": [
             2652.393636
            ],
            "sizemode": "area",
            "sizeref": 10.352940475,
            "symbol": "circle"
           },
           "mode": "markers",
           "name": "SP500",
           "orientation": "v",
           "showlegend": true,
           "type": "scatter",
           "x": [
            1847.300049
           ],
           "xaxis": "x",
           "y": [
            2652.393636
           ],
           "yaxis": "y"
          },
          {
           "hovertemplate": "<b>%{hovertext}</b><br><br>Market Standard=SSE<br>DATE=3/1/2020<br>Gold Price in Dollar=%{x}<br>Stock Market Closing Price in Dollar=%{marker.size}<extra></extra>",
           "hovertext": [
            "SSE"
           ],
           "ids": [
            "SSE"
           ],
           "legendgroup": "SSE",
           "marker": {
            "color": "#EF553B",
            "size": [
             2852.351074
            ],
            "sizemode": "area",
            "sizeref": 10.352940475,
            "symbol": "circle"
           },
           "mode": "markers",
           "name": "SSE",
           "orientation": "v",
           "showlegend": true,
           "type": "scatter",
           "x": [
            1847.300049
           ],
           "xaxis": "x",
           "y": [
            2852.351074
           ],
           "yaxis": "y"
          },
          {
           "hovertemplate": "<b>%{hovertext}</b><br><br>Market Standard=JPN<br>DATE=3/1/2020<br>Gold Price in Dollar=%{x}<br>Stock Market Closing Price in Dollar=%{marker.size}<extra></extra>",
           "hovertext": [
            "JPN"
           ],
           "ids": [
            "JPN"
           ],
           "legendgroup": "JPN",
           "marker": {
            "color": "#00cc96",
            "size": [
             2187.789063
            ],
            "sizemode": "area",
            "sizeref": 10.352940475,
            "symbol": "circle"
           },
           "mode": "markers",
           "name": "JPN",
           "orientation": "v",
           "showlegend": true,
           "type": "scatter",
           "x": [
            1847.300049
           ],
           "xaxis": "x",
           "y": [
            2187.789063
           ],
           "yaxis": "y"
          }
         ],
         "name": "3/1/2020"
        },
        {
         "data": [
          {
           "hovertemplate": "<b>%{hovertext}</b><br><br>Market Standard=SP500<br>DATE=4/1/2020<br>Gold Price in Dollar=%{x}<br>Stock Market Closing Price in Dollar=%{marker.size}<extra></extra>",
           "hovertext": [
            "SP500"
           ],
           "ids": [
            "SP500"
           ],
           "legendgroup": "SP500",
           "marker": {
            "color": "#636efa",
            "size": [
             2761.975238
            ],
            "sizemode": "area",
            "sizeref": 10.352940475,
            "symbol": "circle"
           },
           "mode": "markers",
           "name": "SP500",
           "orientation": "v",
           "showlegend": true,
           "type": "scatter",
           "x": [
            1728.099976
           ],
           "xaxis": "x",
           "y": [
            2761.975238
           ],
           "yaxis": "y"
          },
          {
           "hovertemplate": "<b>%{hovertext}</b><br><br>Market Standard=SSE<br>DATE=4/1/2020<br>Gold Price in Dollar=%{x}<br>Stock Market Closing Price in Dollar=%{marker.size}<extra></extra>",
           "hovertext": [
            "SSE"
           ],
           "ids": [
            "SSE"
           ],
           "legendgroup": "SSE",
           "marker": {
            "color": "#EF553B",
            "size": [
             2984.674072
            ],
            "sizemode": "area",
            "sizeref": 10.352940475,
            "symbol": "circle"
           },
           "mode": "markers",
           "name": "SSE",
           "orientation": "v",
           "showlegend": true,
           "type": "scatter",
           "x": [
            1728.099976
           ],
           "xaxis": "x",
           "y": [
            2984.674072
           ],
           "yaxis": "y"
          },
          {
           "hovertemplate": "<b>%{hovertext}</b><br><br>Market Standard=JPN<br>DATE=4/1/2020<br>Gold Price in Dollar=%{x}<br>Stock Market Closing Price in Dollar=%{marker.size}<extra></extra>",
           "hovertext": [
            "JPN"
           ],
           "ids": [
            "JPN"
           ],
           "legendgroup": "JPN",
           "marker": {
            "color": "#00cc96",
            "size": [
             2228.8140630000003
            ],
            "sizemode": "area",
            "sizeref": 10.352940475,
            "symbol": "circle"
           },
           "mode": "markers",
           "name": "JPN",
           "orientation": "v",
           "showlegend": true,
           "type": "scatter",
           "x": [
            1728.099976
           ],
           "xaxis": "x",
           "y": [
            2228.8140630000003
           ],
           "yaxis": "y"
          }
         ],
         "name": "4/1/2020"
        },
        {
         "data": [
          {
           "hovertemplate": "<b>%{hovertext}</b><br><br>Market Standard=SP500<br>DATE=5/1/2020<br>Gold Price in Dollar=%{x}<br>Stock Market Closing Price in Dollar=%{marker.size}<extra></extra>",
           "hovertext": [
            "SP500"
           ],
           "ids": [
            "SP500"
           ],
           "legendgroup": "SP500",
           "marker": {
            "color": "#636efa",
            "size": [
             2919.615
            ],
            "sizemode": "area",
            "sizeref": 10.352940475,
            "symbol": "circle"
           },
           "mode": "markers",
           "name": "SP500",
           "orientation": "v",
           "showlegend": true,
           "type": "scatter",
           "x": [
            1713.800049
           ],
           "xaxis": "x",
           "y": [
            2919.615
           ],
           "yaxis": "y"
          },
          {
           "hovertemplate": "<b>%{hovertext}</b><br><br>Market Standard=SSE<br>DATE=5/1/2020<br>Gold Price in Dollar=%{x}<br>Stock Market Closing Price in Dollar=%{marker.size}<extra></extra>",
           "hovertext": [
            "SSE"
           ],
           "ids": [
            "SSE"
           ],
           "legendgroup": "SSE",
           "marker": {
            "color": "#EF553B",
            "size": [
             3310.00708
            ],
            "sizemode": "area",
            "sizeref": 10.352940475,
            "symbol": "circle"
           },
           "mode": "markers",
           "name": "SSE",
           "orientation": "v",
           "showlegend": true,
           "type": "scatter",
           "x": [
            1713.800049
           ],
           "xaxis": "x",
           "y": [
            3310.00708
           ],
           "yaxis": "y"
          },
          {
           "hovertemplate": "<b>%{hovertext}</b><br><br>Market Standard=JPN<br>DATE=5/1/2020<br>Gold Price in Dollar=%{x}<br>Stock Market Closing Price in Dollar=%{marker.size}<extra></extra>",
           "hovertext": [
            "JPN"
           ],
           "ids": [
            "JPN"
           ],
           "legendgroup": "JPN",
           "marker": {
            "color": "#00cc96",
            "size": [
             2171
            ],
            "sizemode": "area",
            "sizeref": 10.352940475,
            "symbol": "circle"
           },
           "mode": "markers",
           "name": "JPN",
           "orientation": "v",
           "showlegend": true,
           "type": "scatter",
           "x": [
            1713.800049
           ],
           "xaxis": "x",
           "y": [
            2171
           ],
           "yaxis": "y"
          }
         ],
         "name": "5/1/2020"
        },
        {
         "data": [
          {
           "hovertemplate": "<b>%{hovertext}</b><br><br>Market Standard=SP500<br>DATE=6/1/2020<br>Gold Price in Dollar=%{x}<br>Stock Market Closing Price in Dollar=%{marker.size}<extra></extra>",
           "hovertext": [
            "SP500"
           ],
           "ids": [
            "SP500"
           ],
           "legendgroup": "SP500",
           "marker": {
            "color": "#636efa",
            "size": [
             3104.660909
            ],
            "sizemode": "area",
            "sizeref": 10.352940475,
            "symbol": "circle"
           },
           "mode": "markers",
           "name": "SP500",
           "orientation": "v",
           "showlegend": true,
           "type": "scatter",
           "x": [
            1767.300049
           ],
           "xaxis": "x",
           "y": [
            3104.660909
           ],
           "yaxis": "y"
          },
          {
           "hovertemplate": "<b>%{hovertext}</b><br><br>Market Standard=SSE<br>DATE=6/1/2020<br>Gold Price in Dollar=%{x}<br>Stock Market Closing Price in Dollar=%{marker.size}<extra></extra>",
           "hovertext": [
            "SSE"
           ],
           "ids": [
            "SSE"
           ],
           "legendgroup": "SSE",
           "marker": {
            "color": "#EF553B",
            "size": [
             3395.677979
            ],
            "sizemode": "area",
            "sizeref": 10.352940475,
            "symbol": "circle"
           },
           "mode": "markers",
           "name": "SSE",
           "orientation": "v",
           "showlegend": true,
           "type": "scatter",
           "x": [
            1767.300049
           ],
           "xaxis": "x",
           "y": [
            3395.677979
           ],
           "yaxis": "y"
          },
          {
           "hovertemplate": "<b>%{hovertext}</b><br><br>Market Standard=JPN<br>DATE=6/1/2020<br>Gold Price in Dollar=%{x}<br>Stock Market Closing Price in Dollar=%{marker.size}<extra></extra>",
           "hovertext": [
            "JPN"
           ],
           "ids": [
            "JPN"
           ],
           "legendgroup": "JPN",
           "marker": {
            "color": "#00cc96",
            "size": [
             2313.975977
            ],
            "sizemode": "area",
            "sizeref": 10.352940475,
            "symbol": "circle"
           },
           "mode": "markers",
           "name": "JPN",
           "orientation": "v",
           "showlegend": true,
           "type": "scatter",
           "x": [
            1767.300049
           ],
           "xaxis": "x",
           "y": [
            2313.975977
           ],
           "yaxis": "y"
          }
         ],
         "name": "6/1/2020"
        },
        {
         "data": [
          {
           "hovertemplate": "<b>%{hovertext}</b><br><br>Market Standard=SP500<br>DATE=7/1/2020<br>Gold Price in Dollar=%{x}<br>Stock Market Closing Price in Dollar=%{marker.size}<extra></extra>",
           "hovertext": [
            "SP500"
           ],
           "ids": [
            "SP500"
           ],
           "legendgroup": "SP500",
           "marker": {
            "color": "#636efa",
            "size": [
             3207.619091
            ],
            "sizemode": "area",
            "sizeref": 10.352940475,
            "symbol": "circle"
           },
           "mode": "markers",
           "name": "SP500",
           "orientation": "v",
           "showlegend": true,
           "type": "scatter",
           "x": [
            1902.5
           ],
           "xaxis": "x",
           "y": [
            3207.619091
           ],
           "yaxis": "y"
          },
          {
           "hovertemplate": "<b>%{hovertext}</b><br><br>Market Standard=SSE<br>DATE=7/1/2020<br>Gold Price in Dollar=%{x}<br>Stock Market Closing Price in Dollar=%{marker.size}<extra></extra>",
           "hovertext": [
            "SSE"
           ],
           "ids": [
            "SSE"
           ],
           "legendgroup": "SSE",
           "marker": {
            "color": "#EF553B",
            "size": [
             3218.052002
            ],
            "sizemode": "area",
            "sizeref": 10.352940475,
            "symbol": "circle"
           },
           "mode": "markers",
           "name": "SSE",
           "orientation": "v",
           "showlegend": true,
           "type": "scatter",
           "x": [
            1902.5
           ],
           "xaxis": "x",
           "y": [
            3218.052002
           ],
           "yaxis": "y"
          },
          {
           "hovertemplate": "<b>%{hovertext}</b><br><br>Market Standard=JPN<br>DATE=7/1/2020<br>Gold Price in Dollar=%{x}<br>Stock Market Closing Price in Dollar=%{marker.size}<extra></extra>",
           "hovertext": [
            "JPN"
           ],
           "ids": [
            "JPN"
           ],
           "legendgroup": "JPN",
           "marker": {
            "color": "#00cc96",
            "size": [
             2318.5119139999997
            ],
            "sizemode": "area",
            "sizeref": 10.352940475,
            "symbol": "circle"
           },
           "mode": "markers",
           "name": "JPN",
           "orientation": "v",
           "showlegend": true,
           "type": "scatter",
           "x": [
            1902.5
           ],
           "xaxis": "x",
           "y": [
            2318.5119139999997
           ],
           "yaxis": "y"
          }
         ],
         "name": "7/1/2020"
        },
        {
         "data": [
          {
           "hovertemplate": "<b>%{hovertext}</b><br><br>Market Standard=SP500<br>DATE=8/1/2020<br>Gold Price in Dollar=%{x}<br>Stock Market Closing Price in Dollar=%{marker.size}<extra></extra>",
           "hovertext": [
            "SP500"
           ],
           "ids": [
            "SP500"
           ],
           "legendgroup": "SP500",
           "marker": {
            "color": "#636efa",
            "size": [
             3391.71
            ],
            "sizemode": "area",
            "sizeref": 10.352940475,
            "symbol": "circle"
           },
           "mode": "markers",
           "name": "SP500",
           "orientation": "v",
           "showlegend": true,
           "type": "scatter",
           "x": [
            1910.300049
           ],
           "xaxis": "x",
           "y": [
            3391.71
           ],
           "yaxis": "y"
          },
          {
           "hovertemplate": "<b>%{hovertext}</b><br><br>Market Standard=SSE<br>DATE=8/1/2020<br>Gold Price in Dollar=%{x}<br>Stock Market Closing Price in Dollar=%{marker.size}<extra></extra>",
           "hovertext": [
            "SSE"
           ],
           "ids": [
            "SSE"
           ],
           "legendgroup": "SSE",
           "marker": {
            "color": "#EF553B",
            "size": [
             3224.532959
            ],
            "sizemode": "area",
            "sizeref": 10.352940475,
            "symbol": "circle"
           },
           "mode": "markers",
           "name": "SSE",
           "orientation": "v",
           "showlegend": true,
           "type": "scatter",
           "x": [
            1910.300049
           ],
           "xaxis": "x",
           "y": [
            3224.532959
           ],
           "yaxis": "y"
          },
          {
           "hovertemplate": "<b>%{hovertext}</b><br><br>Market Standard=JPN<br>DATE=8/1/2020<br>Gold Price in Dollar=%{x}<br>Stock Market Closing Price in Dollar=%{marker.size}<extra></extra>",
           "hovertext": [
            "JPN"
           ],
           "ids": [
            "JPN"
           ],
           "legendgroup": "JPN",
           "marker": {
            "color": "#00cc96",
            "size": [
             2297.713086
            ],
            "sizemode": "area",
            "sizeref": 10.352940475,
            "symbol": "circle"
           },
           "mode": "markers",
           "name": "JPN",
           "orientation": "v",
           "showlegend": true,
           "type": "scatter",
           "x": [
            1910.300049
           ],
           "xaxis": "x",
           "y": [
            2297.713086
           ],
           "yaxis": "y"
          }
         ],
         "name": "8/1/2020"
        },
        {
         "data": [
          {
           "hovertemplate": "<b>%{hovertext}</b><br><br>Market Standard=SP500<br>DATE=9/1/2020<br>Gold Price in Dollar=%{x}<br>Stock Market Closing Price in Dollar=%{marker.size}<extra></extra>",
           "hovertext": [
            "SP500"
           ],
           "ids": [
            "SP500"
           ],
           "legendgroup": "SP500",
           "marker": {
            "color": "#636efa",
            "size": [
             3365.516667
            ],
            "sizemode": "area",
            "sizeref": 10.352940475,
            "symbol": "circle"
           },
           "mode": "markers",
           "name": "SP500",
           "orientation": "v",
           "showlegend": true,
           "type": "scatter",
           "x": [
            1920
           ],
           "xaxis": "x",
           "y": [
            3365.516667
           ],
           "yaxis": "y"
          },
          {
           "hovertemplate": "<b>%{hovertext}</b><br><br>Market Standard=SSE<br>DATE=9/1/2020<br>Gold Price in Dollar=%{x}<br>Stock Market Closing Price in Dollar=%{marker.size}<extra></extra>",
           "hovertext": [
            "SSE"
           ],
           "ids": [
            "SSE"
           ],
           "legendgroup": "SSE",
           "marker": {
            "color": "#EF553B",
            "size": [
             3391.76001
            ],
            "sizemode": "area",
            "sizeref": 10.352940475,
            "symbol": "circle"
           },
           "mode": "markers",
           "name": "SSE",
           "orientation": "v",
           "showlegend": true,
           "type": "scatter",
           "x": [
            1920
           ],
           "xaxis": "x",
           "y": [
            3391.76001
           ],
           "yaxis": "y"
          },
          {
           "hovertemplate": "<b>%{hovertext}</b><br><br>Market Standard=JPN<br>DATE=9/1/2020<br>Gold Price in Dollar=%{x}<br>Stock Market Closing Price in Dollar=%{marker.size}<extra></extra>",
           "hovertext": [
            "JPN"
           ],
           "ids": [
            "JPN"
           ],
           "legendgroup": "JPN",
           "marker": {
            "color": "#00cc96",
            "size": [
             2643.361914
            ],
            "sizemode": "area",
            "sizeref": 10.352940475,
            "symbol": "circle"
           },
           "mode": "markers",
           "name": "JPN",
           "orientation": "v",
           "showlegend": true,
           "type": "scatter",
           "x": [
            1920
           ],
           "xaxis": "x",
           "y": [
            2643.361914
           ],
           "yaxis": "y"
          }
         ],
         "name": "9/1/2020"
        },
        {
         "data": [
          {
           "hovertemplate": "<b>%{hovertext}</b><br><br>Market Standard=SP500<br>DATE=10/1/2020<br>Gold Price in Dollar=%{x}<br>Stock Market Closing Price in Dollar=%{marker.size}<extra></extra>",
           "hovertext": [
            "SP500"
           ],
           "ids": [
            "SP500"
           ],
           "legendgroup": "SP500",
           "marker": {
            "color": "#636efa",
            "size": [
             3418.701364
            ],
            "sizemode": "area",
            "sizeref": 10.352940475,
            "symbol": "circle"
           },
           "mode": "markers",
           "name": "SP500",
           "orientation": "v",
           "showlegend": true,
           "type": "scatter",
           "x": [
            1905
           ],
           "xaxis": "x",
           "y": [
            3418.701364
           ],
           "yaxis": "y"
          },
          {
           "hovertemplate": "<b>%{hovertext}</b><br><br>Market Standard=SSE<br>DATE=10/1/2020<br>Gold Price in Dollar=%{x}<br>Stock Market Closing Price in Dollar=%{marker.size}<extra></extra>",
           "hovertext": [
            "SSE"
           ],
           "ids": [
            "SSE"
           ],
           "legendgroup": "SSE",
           "marker": {
            "color": "#EF553B",
            "size": [
             3473.069092
            ],
            "sizemode": "area",
            "sizeref": 10.352940475,
            "symbol": "circle"
           },
           "mode": "markers",
           "name": "SSE",
           "orientation": "v",
           "showlegend": true,
           "type": "scatter",
           "x": [
            1905
           ],
           "xaxis": "x",
           "y": [
            3473.069092
           ],
           "yaxis": "y"
          },
          {
           "hovertemplate": "<b>%{hovertext}</b><br><br>Market Standard=JPN<br>DATE=10/1/2020<br>Gold Price in Dollar=%{x}<br>Stock Market Closing Price in Dollar=%{marker.size}<extra></extra>",
           "hovertext": [
            "JPN"
           ],
           "ids": [
            "JPN"
           ],
           "legendgroup": "JPN",
           "marker": {
            "color": "#00cc96",
            "size": [
             2744.416992
            ],
            "sizemode": "area",
            "sizeref": 10.352940475,
            "symbol": "circle"
           },
           "mode": "markers",
           "name": "JPN",
           "orientation": "v",
           "showlegend": true,
           "type": "scatter",
           "x": [
            1905
           ],
           "xaxis": "x",
           "y": [
            2744.416992
           ],
           "yaxis": "y"
          }
         ],
         "name": "10/1/2020"
        },
        {
         "data": [
          {
           "hovertemplate": "<b>%{hovertext}</b><br><br>Market Standard=SP500<br>DATE=11/1/2020<br>Gold Price in Dollar=%{x}<br>Stock Market Closing Price in Dollar=%{marker.size}<extra></extra>",
           "hovertext": [
            "SP500"
           ],
           "ids": [
            "SP500"
           ],
           "legendgroup": "SP500",
           "marker": {
            "color": "#636efa",
            "size": [
             3548.9925
            ],
            "sizemode": "area",
            "sizeref": 10.352940475,
            "symbol": "circle"
           },
           "mode": "markers",
           "name": "SP500",
           "orientation": "v",
           "showlegend": true,
           "type": "scatter",
           "x": [
            1910
           ],
           "xaxis": "x",
           "y": [
            3548.9925
           ],
           "yaxis": "y"
          },
          {
           "hovertemplate": "<b>%{hovertext}</b><br><br>Market Standard=SSE<br>DATE=11/1/2020<br>Gold Price in Dollar=%{x}<br>Stock Market Closing Price in Dollar=%{marker.size}<extra></extra>",
           "hovertext": [
            "SSE"
           ],
           "ids": [
            "SSE"
           ],
           "legendgroup": "SSE",
           "marker": {
            "color": "#EF553B",
            "size": [
             3483.069092
            ],
            "sizemode": "area",
            "sizeref": 10.352940475,
            "symbol": "circle"
           },
           "mode": "markers",
           "name": "SSE",
           "orientation": "v",
           "showlegend": true,
           "type": "scatter",
           "x": [
            1910
           ],
           "xaxis": "x",
           "y": [
            3483.069092
           ],
           "yaxis": "y"
          },
          {
           "hovertemplate": "<b>%{hovertext}</b><br><br>Market Standard=JPN<br>DATE=11/1/2020<br>Gold Price in Dollar=%{x}<br>Stock Market Closing Price in Dollar=%{marker.size}<extra></extra>",
           "hovertext": [
            "JPN"
           ],
           "ids": [
            "JPN"
           ],
           "legendgroup": "JPN",
           "marker": {
            "color": "#00cc96",
            "size": [
             2766.3390630000004
            ],
            "sizemode": "area",
            "sizeref": 10.352940475,
            "symbol": "circle"
           },
           "mode": "markers",
           "name": "JPN",
           "orientation": "v",
           "showlegend": true,
           "type": "scatter",
           "x": [
            1910
           ],
           "xaxis": "x",
           "y": [
            2766.3390630000004
           ],
           "yaxis": "y"
          }
         ],
         "name": "11/1/2020"
        },
        {
         "data": [
          {
           "hovertemplate": "<b>%{hovertext}</b><br><br>Market Standard=SP500<br>DATE=12/1/2020<br>Gold Price in Dollar=%{x}<br>Stock Market Closing Price in Dollar=%{marker.size}<extra></extra>",
           "hovertext": [
            "SP500"
           ],
           "ids": [
            "SP500"
           ],
           "legendgroup": "SP500",
           "marker": {
            "color": "#636efa",
            "size": [
             3695.31
            ],
            "sizemode": "area",
            "sizeref": 10.352940475,
            "symbol": "circle"
           },
           "mode": "markers",
           "name": "SP500",
           "orientation": "v",
           "showlegend": true,
           "type": "scatter",
           "x": [
            1930.2
           ],
           "xaxis": "x",
           "y": [
            3695.31
           ],
           "yaxis": "y"
          },
          {
           "hovertemplate": "<b>%{hovertext}</b><br><br>Market Standard=SSE<br>DATE=12/1/2020<br>Gold Price in Dollar=%{x}<br>Stock Market Closing Price in Dollar=%{marker.size}<extra></extra>",
           "hovertext": [
            "SSE"
           ],
           "ids": [
            "SSE"
           ],
           "legendgroup": "SSE",
           "marker": {
            "color": "#EF553B",
            "size": [
             3509.080078
            ],
            "sizemode": "area",
            "sizeref": 10.352940475,
            "symbol": "circle"
           },
           "mode": "markers",
           "name": "SSE",
           "orientation": "v",
           "showlegend": true,
           "type": "scatter",
           "x": [
            1930.2
           ],
           "xaxis": "x",
           "y": [
            3509.080078
           ],
           "yaxis": "y"
          },
          {
           "hovertemplate": "<b>%{hovertext}</b><br><br>Market Standard=JPN<br>DATE=12/1/2020<br>Gold Price in Dollar=%{x}<br>Stock Market Closing Price in Dollar=%{marker.size}<extra></extra>",
           "hovertext": [
            "JPN"
           ],
           "ids": [
            "JPN"
           ],
           "legendgroup": "JPN",
           "marker": {
            "color": "#00cc96",
            "size": [
             2896.600977
            ],
            "sizemode": "area",
            "sizeref": 10.352940475,
            "symbol": "circle"
           },
           "mode": "markers",
           "name": "JPN",
           "orientation": "v",
           "showlegend": true,
           "type": "scatter",
           "x": [
            1930.2
           ],
           "xaxis": "x",
           "y": [
            2896.600977
           ],
           "yaxis": "y"
          }
         ],
         "name": "12/1/2020"
        },
        {
         "data": [
          {
           "hovertemplate": "<b>%{hovertext}</b><br><br>Market Standard=SP500<br>DATE=1/1/2021<br>Gold Price in Dollar=%{x}<br>Stock Market Closing Price in Dollar=%{marker.size}<extra></extra>",
           "hovertext": [
            "SP500"
           ],
           "ids": [
            "SP500"
           ],
           "legendgroup": "SP500",
           "marker": {
            "color": "#636efa",
            "size": [
             3793.748421
            ],
            "sizemode": "area",
            "sizeref": 10.352940475,
            "symbol": "circle"
           },
           "mode": "markers",
           "name": "SP500",
           "orientation": "v",
           "showlegend": true,
           "type": "scatter",
           "x": [
            1910.03
           ],
           "xaxis": "x",
           "y": [
            3793.748421
           ],
           "yaxis": "y"
          },
          {
           "hovertemplate": "<b>%{hovertext}</b><br><br>Market Standard=SSE<br>DATE=1/1/2021<br>Gold Price in Dollar=%{x}<br>Stock Market Closing Price in Dollar=%{marker.size}<extra></extra>",
           "hovertext": [
            "SSE"
           ],
           "ids": [
            "SSE"
           ],
           "legendgroup": "SSE",
           "marker": {
            "color": "#EF553B",
            "size": [
             3441.909912
            ],
            "sizemode": "area",
            "sizeref": 10.352940475,
            "symbol": "circle"
           },
           "mode": "markers",
           "name": "SSE",
           "orientation": "v",
           "showlegend": true,
           "type": "scatter",
           "x": [
            1910.03
           ],
           "xaxis": "x",
           "y": [
            3441.909912
           ],
           "yaxis": "y"
          },
          {
           "hovertemplate": "<b>%{hovertext}</b><br><br>Market Standard=JPN<br>DATE=1/1/2021<br>Gold Price in Dollar=%{x}<br>Stock Market Closing Price in Dollar=%{marker.size}<extra></extra>",
           "hovertext": [
            "JPN"
           ],
           "ids": [
            "JPN"
           ],
           "legendgroup": "JPN",
           "marker": {
            "color": "#00cc96",
            "size": [
             2917.880078
            ],
            "sizemode": "area",
            "sizeref": 10.352940475,
            "symbol": "circle"
           },
           "mode": "markers",
           "name": "JPN",
           "orientation": "v",
           "showlegend": true,
           "type": "scatter",
           "x": [
            1910.03
           ],
           "xaxis": "x",
           "y": [
            2917.880078
           ],
           "yaxis": "y"
          }
         ],
         "name": "1/1/2021"
        },
        {
         "data": [
          {
           "hovertemplate": "<b>%{hovertext}</b><br><br>Market Standard=SP500<br>DATE=2/1/2021<br>Gold Price in Dollar=%{x}<br>Stock Market Closing Price in Dollar=%{marker.size}<extra></extra>",
           "hovertext": [
            "SP500"
           ],
           "ids": [
            "SP500"
           ],
           "legendgroup": "SP500",
           "marker": {
            "color": "#636efa",
            "size": [
             3883.432105
            ],
            "sizemode": "area",
            "sizeref": 10.352940475,
            "symbol": "circle"
           },
           "mode": "markers",
           "name": "SP500",
           "orientation": "v",
           "showlegend": true,
           "type": "scatter",
           "x": [
            1919.03
           ],
           "xaxis": "x",
           "y": [
            3883.432105
           ],
           "yaxis": "y"
          },
          {
           "hovertemplate": "<b>%{hovertext}</b><br><br>Market Standard=SSE<br>DATE=2/1/2021<br>Gold Price in Dollar=%{x}<br>Stock Market Closing Price in Dollar=%{marker.size}<extra></extra>",
           "hovertext": [
            "SSE"
           ],
           "ids": [
            "SSE"
           ],
           "legendgroup": "SSE",
           "marker": {
            "color": "#EF553B",
            "size": [
             3446.860107
            ],
            "sizemode": "area",
            "sizeref": 10.352940475,
            "symbol": "circle"
           },
           "mode": "markers",
           "name": "SSE",
           "orientation": "v",
           "showlegend": true,
           "type": "scatter",
           "x": [
            1919.03
           ],
           "xaxis": "x",
           "y": [
            3446.860107
           ],
           "yaxis": "y"
          },
          {
           "hovertemplate": "<b>%{hovertext}</b><br><br>Market Standard=JPN<br>DATE=2/1/2021<br>Gold Price in Dollar=%{x}<br>Stock Market Closing Price in Dollar=%{marker.size}<extra></extra>",
           "hovertext": [
            "JPN"
           ],
           "ids": [
            "JPN"
           ],
           "legendgroup": "JPN",
           "marker": {
            "color": "#00cc96",
            "size": [
             2881.263086
            ],
            "sizemode": "area",
            "sizeref": 10.352940475,
            "symbol": "circle"
           },
           "mode": "markers",
           "name": "JPN",
           "orientation": "v",
           "showlegend": true,
           "type": "scatter",
           "x": [
            1919.03
           ],
           "xaxis": "x",
           "y": [
            2881.263086
           ],
           "yaxis": "y"
          }
         ],
         "name": "2/1/2021"
        },
        {
         "data": [
          {
           "hovertemplate": "<b>%{hovertext}</b><br><br>Market Standard=SP500<br>DATE=3/1/2021<br>Gold Price in Dollar=%{x}<br>Stock Market Closing Price in Dollar=%{marker.size}<extra></extra>",
           "hovertext": [
            "SP500"
           ],
           "ids": [
            "SP500"
           ],
           "legendgroup": "SP500",
           "marker": {
            "color": "#636efa",
            "size": [
             3910.508261
            ],
            "sizemode": "area",
            "sizeref": 10.352940475,
            "symbol": "circle"
           },
           "mode": "markers",
           "name": "SP500",
           "orientation": "v",
           "showlegend": true,
           "type": "scatter",
           "x": [
            1900
           ],
           "xaxis": "x",
           "y": [
            3910.508261
           ],
           "yaxis": "y"
          },
          {
           "hovertemplate": "<b>%{hovertext}</b><br><br>Market Standard=SSE<br>DATE=3/1/2021<br>Gold Price in Dollar=%{x}<br>Stock Market Closing Price in Dollar=%{marker.size}<extra></extra>",
           "hovertext": [
            "SSE"
           ],
           "ids": [
            "SSE"
           ],
           "legendgroup": "SSE",
           "marker": {
            "color": "#EF553B",
            "size": [
             3506.939941
            ],
            "sizemode": "area",
            "sizeref": 10.352940475,
            "symbol": "circle"
           },
           "mode": "markers",
           "name": "SSE",
           "orientation": "v",
           "showlegend": true,
           "type": "scatter",
           "x": [
            1900
           ],
           "xaxis": "x",
           "y": [
            3506.939941
           ],
           "yaxis": "y"
          },
          {
           "hovertemplate": "<b>%{hovertext}</b><br><br>Market Standard=JPN<br>DATE=3/1/2021<br>Gold Price in Dollar=%{x}<br>Stock Market Closing Price in Dollar=%{marker.size}<extra></extra>",
           "hovertext": [
            "JPN"
           ],
           "ids": [
            "JPN"
           ],
           "legendgroup": "JPN",
           "marker": {
            "color": "#00cc96",
            "size": [
             2809.825
            ],
            "sizemode": "area",
            "sizeref": 10.352940475,
            "symbol": "circle"
           },
           "mode": "markers",
           "name": "JPN",
           "orientation": "v",
           "showlegend": true,
           "type": "scatter",
           "x": [
            1900
           ],
           "xaxis": "x",
           "y": [
            2809.825
           ],
           "yaxis": "y"
          }
         ],
         "name": "3/1/2021"
        },
        {
         "data": [
          {
           "hovertemplate": "<b>%{hovertext}</b><br><br>Market Standard=SP500<br>DATE=4/1/2021<br>Gold Price in Dollar=%{x}<br>Stock Market Closing Price in Dollar=%{marker.size}<extra></extra>",
           "hovertext": [
            "SP500"
           ],
           "ids": [
            "SP500"
           ],
           "legendgroup": "SP500",
           "marker": {
            "color": "#636efa",
            "size": [
             4141.17619
            ],
            "sizemode": "area",
            "sizeref": 10.352940475,
            "symbol": "circle"
           },
           "mode": "markers",
           "name": "SP500",
           "orientation": "v",
           "showlegend": true,
           "type": "scatter",
           "x": [
            1902.5
           ],
           "xaxis": "x",
           "y": [
            4141.17619
           ],
           "yaxis": "y"
          },
          {
           "hovertemplate": "<b>%{hovertext}</b><br><br>Market Standard=SSE<br>DATE=4/1/2021<br>Gold Price in Dollar=%{x}<br>Stock Market Closing Price in Dollar=%{marker.size}<extra></extra>",
           "hovertext": [
            "SSE"
           ],
           "ids": [
            "SSE"
           ],
           "legendgroup": "SSE",
           "marker": {
            "color": "#EF553B",
            "size": [
             3483.069092
            ],
            "sizemode": "area",
            "sizeref": 10.352940475,
            "symbol": "circle"
           },
           "mode": "markers",
           "name": "SSE",
           "orientation": "v",
           "showlegend": true,
           "type": "scatter",
           "x": [
            1902.5
           ],
           "xaxis": "x",
           "y": [
            3483.069092
           ],
           "yaxis": "y"
          },
          {
           "hovertemplate": "<b>%{hovertext}</b><br><br>Market Standard=JPN<br>DATE=4/1/2021<br>Gold Price in Dollar=%{x}<br>Stock Market Closing Price in Dollar=%{marker.size}<extra></extra>",
           "hovertext": [
            "JPN"
           ],
           "ids": [
            "JPN"
           ],
           "legendgroup": "JPN",
           "marker": {
            "color": "#00cc96",
            "size": [
             2881.263086
            ],
            "sizemode": "area",
            "sizeref": 10.352940475,
            "symbol": "circle"
           },
           "mode": "markers",
           "name": "JPN",
           "orientation": "v",
           "showlegend": true,
           "type": "scatter",
           "x": [
            1902.5
           ],
           "xaxis": "x",
           "y": [
            2881.263086
           ],
           "yaxis": "y"
          }
         ],
         "name": "4/1/2021"
        }
       ],
       "layout": {
        "legend": {
         "itemsizing": "constant",
         "title": {
          "text": "Market Standard"
         },
         "tracegroupgap": 0
        },
        "margin": {
         "t": 60
        },
        "sliders": [
         {
          "active": 0,
          "currentvalue": {
           "prefix": "DATE="
          },
          "len": 0.9,
          "pad": {
           "b": 10,
           "t": 60
          },
          "steps": [
           {
            "args": [
             [
              "4/1/2016"
             ],
             {
              "frame": {
               "duration": 0,
               "redraw": false
              },
              "fromcurrent": true,
              "mode": "immediate",
              "transition": {
               "duration": 0,
               "easing": "linear"
              }
             }
            ],
            "label": "4/1/2016",
            "method": "animate"
           },
           {
            "args": [
             [
              "5/1/2016"
             ],
             {
              "frame": {
               "duration": 0,
               "redraw": false
              },
              "fromcurrent": true,
              "mode": "immediate",
              "transition": {
               "duration": 0,
               "easing": "linear"
              }
             }
            ],
            "label": "5/1/2016",
            "method": "animate"
           },
           {
            "args": [
             [
              "6/1/2016"
             ],
             {
              "frame": {
               "duration": 0,
               "redraw": false
              },
              "fromcurrent": true,
              "mode": "immediate",
              "transition": {
               "duration": 0,
               "easing": "linear"
              }
             }
            ],
            "label": "6/1/2016",
            "method": "animate"
           },
           {
            "args": [
             [
              "7/1/2016"
             ],
             {
              "frame": {
               "duration": 0,
               "redraw": false
              },
              "fromcurrent": true,
              "mode": "immediate",
              "transition": {
               "duration": 0,
               "easing": "linear"
              }
             }
            ],
            "label": "7/1/2016",
            "method": "animate"
           },
           {
            "args": [
             [
              "8/1/2016"
             ],
             {
              "frame": {
               "duration": 0,
               "redraw": false
              },
              "fromcurrent": true,
              "mode": "immediate",
              "transition": {
               "duration": 0,
               "easing": "linear"
              }
             }
            ],
            "label": "8/1/2016",
            "method": "animate"
           },
           {
            "args": [
             [
              "9/1/2016"
             ],
             {
              "frame": {
               "duration": 0,
               "redraw": false
              },
              "fromcurrent": true,
              "mode": "immediate",
              "transition": {
               "duration": 0,
               "easing": "linear"
              }
             }
            ],
            "label": "9/1/2016",
            "method": "animate"
           },
           {
            "args": [
             [
              "10/1/2016"
             ],
             {
              "frame": {
               "duration": 0,
               "redraw": false
              },
              "fromcurrent": true,
              "mode": "immediate",
              "transition": {
               "duration": 0,
               "easing": "linear"
              }
             }
            ],
            "label": "10/1/2016",
            "method": "animate"
           },
           {
            "args": [
             [
              "11/1/2016"
             ],
             {
              "frame": {
               "duration": 0,
               "redraw": false
              },
              "fromcurrent": true,
              "mode": "immediate",
              "transition": {
               "duration": 0,
               "easing": "linear"
              }
             }
            ],
            "label": "11/1/2016",
            "method": "animate"
           },
           {
            "args": [
             [
              "12/1/2016"
             ],
             {
              "frame": {
               "duration": 0,
               "redraw": false
              },
              "fromcurrent": true,
              "mode": "immediate",
              "transition": {
               "duration": 0,
               "easing": "linear"
              }
             }
            ],
            "label": "12/1/2016",
            "method": "animate"
           },
           {
            "args": [
             [
              "1/1/2017"
             ],
             {
              "frame": {
               "duration": 0,
               "redraw": false
              },
              "fromcurrent": true,
              "mode": "immediate",
              "transition": {
               "duration": 0,
               "easing": "linear"
              }
             }
            ],
            "label": "1/1/2017",
            "method": "animate"
           },
           {
            "args": [
             [
              "2/1/2017"
             ],
             {
              "frame": {
               "duration": 0,
               "redraw": false
              },
              "fromcurrent": true,
              "mode": "immediate",
              "transition": {
               "duration": 0,
               "easing": "linear"
              }
             }
            ],
            "label": "2/1/2017",
            "method": "animate"
           },
           {
            "args": [
             [
              "3/1/2017"
             ],
             {
              "frame": {
               "duration": 0,
               "redraw": false
              },
              "fromcurrent": true,
              "mode": "immediate",
              "transition": {
               "duration": 0,
               "easing": "linear"
              }
             }
            ],
            "label": "3/1/2017",
            "method": "animate"
           },
           {
            "args": [
             [
              "4/1/2017"
             ],
             {
              "frame": {
               "duration": 0,
               "redraw": false
              },
              "fromcurrent": true,
              "mode": "immediate",
              "transition": {
               "duration": 0,
               "easing": "linear"
              }
             }
            ],
            "label": "4/1/2017",
            "method": "animate"
           },
           {
            "args": [
             [
              "5/1/2017"
             ],
             {
              "frame": {
               "duration": 0,
               "redraw": false
              },
              "fromcurrent": true,
              "mode": "immediate",
              "transition": {
               "duration": 0,
               "easing": "linear"
              }
             }
            ],
            "label": "5/1/2017",
            "method": "animate"
           },
           {
            "args": [
             [
              "6/1/2017"
             ],
             {
              "frame": {
               "duration": 0,
               "redraw": false
              },
              "fromcurrent": true,
              "mode": "immediate",
              "transition": {
               "duration": 0,
               "easing": "linear"
              }
             }
            ],
            "label": "6/1/2017",
            "method": "animate"
           },
           {
            "args": [
             [
              "7/1/2017"
             ],
             {
              "frame": {
               "duration": 0,
               "redraw": false
              },
              "fromcurrent": true,
              "mode": "immediate",
              "transition": {
               "duration": 0,
               "easing": "linear"
              }
             }
            ],
            "label": "7/1/2017",
            "method": "animate"
           },
           {
            "args": [
             [
              "8/1/2017"
             ],
             {
              "frame": {
               "duration": 0,
               "redraw": false
              },
              "fromcurrent": true,
              "mode": "immediate",
              "transition": {
               "duration": 0,
               "easing": "linear"
              }
             }
            ],
            "label": "8/1/2017",
            "method": "animate"
           },
           {
            "args": [
             [
              "9/1/2017"
             ],
             {
              "frame": {
               "duration": 0,
               "redraw": false
              },
              "fromcurrent": true,
              "mode": "immediate",
              "transition": {
               "duration": 0,
               "easing": "linear"
              }
             }
            ],
            "label": "9/1/2017",
            "method": "animate"
           },
           {
            "args": [
             [
              "10/1/2017"
             ],
             {
              "frame": {
               "duration": 0,
               "redraw": false
              },
              "fromcurrent": true,
              "mode": "immediate",
              "transition": {
               "duration": 0,
               "easing": "linear"
              }
             }
            ],
            "label": "10/1/2017",
            "method": "animate"
           },
           {
            "args": [
             [
              "11/1/2017"
             ],
             {
              "frame": {
               "duration": 0,
               "redraw": false
              },
              "fromcurrent": true,
              "mode": "immediate",
              "transition": {
               "duration": 0,
               "easing": "linear"
              }
             }
            ],
            "label": "11/1/2017",
            "method": "animate"
           },
           {
            "args": [
             [
              "12/1/2017"
             ],
             {
              "frame": {
               "duration": 0,
               "redraw": false
              },
              "fromcurrent": true,
              "mode": "immediate",
              "transition": {
               "duration": 0,
               "easing": "linear"
              }
             }
            ],
            "label": "12/1/2017",
            "method": "animate"
           },
           {
            "args": [
             [
              "1/1/2018"
             ],
             {
              "frame": {
               "duration": 0,
               "redraw": false
              },
              "fromcurrent": true,
              "mode": "immediate",
              "transition": {
               "duration": 0,
               "easing": "linear"
              }
             }
            ],
            "label": "1/1/2018",
            "method": "animate"
           },
           {
            "args": [
             [
              "2/1/2018"
             ],
             {
              "frame": {
               "duration": 0,
               "redraw": false
              },
              "fromcurrent": true,
              "mode": "immediate",
              "transition": {
               "duration": 0,
               "easing": "linear"
              }
             }
            ],
            "label": "2/1/2018",
            "method": "animate"
           },
           {
            "args": [
             [
              "3/1/2018"
             ],
             {
              "frame": {
               "duration": 0,
               "redraw": false
              },
              "fromcurrent": true,
              "mode": "immediate",
              "transition": {
               "duration": 0,
               "easing": "linear"
              }
             }
            ],
            "label": "3/1/2018",
            "method": "animate"
           },
           {
            "args": [
             [
              "4/1/2018"
             ],
             {
              "frame": {
               "duration": 0,
               "redraw": false
              },
              "fromcurrent": true,
              "mode": "immediate",
              "transition": {
               "duration": 0,
               "easing": "linear"
              }
             }
            ],
            "label": "4/1/2018",
            "method": "animate"
           },
           {
            "args": [
             [
              "5/1/2018"
             ],
             {
              "frame": {
               "duration": 0,
               "redraw": false
              },
              "fromcurrent": true,
              "mode": "immediate",
              "transition": {
               "duration": 0,
               "easing": "linear"
              }
             }
            ],
            "label": "5/1/2018",
            "method": "animate"
           },
           {
            "args": [
             [
              "6/1/2018"
             ],
             {
              "frame": {
               "duration": 0,
               "redraw": false
              },
              "fromcurrent": true,
              "mode": "immediate",
              "transition": {
               "duration": 0,
               "easing": "linear"
              }
             }
            ],
            "label": "6/1/2018",
            "method": "animate"
           },
           {
            "args": [
             [
              "7/1/2018"
             ],
             {
              "frame": {
               "duration": 0,
               "redraw": false
              },
              "fromcurrent": true,
              "mode": "immediate",
              "transition": {
               "duration": 0,
               "easing": "linear"
              }
             }
            ],
            "label": "7/1/2018",
            "method": "animate"
           },
           {
            "args": [
             [
              "8/1/2018"
             ],
             {
              "frame": {
               "duration": 0,
               "redraw": false
              },
              "fromcurrent": true,
              "mode": "immediate",
              "transition": {
               "duration": 0,
               "easing": "linear"
              }
             }
            ],
            "label": "8/1/2018",
            "method": "animate"
           },
           {
            "args": [
             [
              "9/1/2018"
             ],
             {
              "frame": {
               "duration": 0,
               "redraw": false
              },
              "fromcurrent": true,
              "mode": "immediate",
              "transition": {
               "duration": 0,
               "easing": "linear"
              }
             }
            ],
            "label": "9/1/2018",
            "method": "animate"
           },
           {
            "args": [
             [
              "10/1/2018"
             ],
             {
              "frame": {
               "duration": 0,
               "redraw": false
              },
              "fromcurrent": true,
              "mode": "immediate",
              "transition": {
               "duration": 0,
               "easing": "linear"
              }
             }
            ],
            "label": "10/1/2018",
            "method": "animate"
           },
           {
            "args": [
             [
              "11/1/2018"
             ],
             {
              "frame": {
               "duration": 0,
               "redraw": false
              },
              "fromcurrent": true,
              "mode": "immediate",
              "transition": {
               "duration": 0,
               "easing": "linear"
              }
             }
            ],
            "label": "11/1/2018",
            "method": "animate"
           },
           {
            "args": [
             [
              "12/1/2018"
             ],
             {
              "frame": {
               "duration": 0,
               "redraw": false
              },
              "fromcurrent": true,
              "mode": "immediate",
              "transition": {
               "duration": 0,
               "easing": "linear"
              }
             }
            ],
            "label": "12/1/2018",
            "method": "animate"
           },
           {
            "args": [
             [
              "1/1/2019"
             ],
             {
              "frame": {
               "duration": 0,
               "redraw": false
              },
              "fromcurrent": true,
              "mode": "immediate",
              "transition": {
               "duration": 0,
               "easing": "linear"
              }
             }
            ],
            "label": "1/1/2019",
            "method": "animate"
           },
           {
            "args": [
             [
              "2/1/2019"
             ],
             {
              "frame": {
               "duration": 0,
               "redraw": false
              },
              "fromcurrent": true,
              "mode": "immediate",
              "transition": {
               "duration": 0,
               "easing": "linear"
              }
             }
            ],
            "label": "2/1/2019",
            "method": "animate"
           },
           {
            "args": [
             [
              "3/1/2019"
             ],
             {
              "frame": {
               "duration": 0,
               "redraw": false
              },
              "fromcurrent": true,
              "mode": "immediate",
              "transition": {
               "duration": 0,
               "easing": "linear"
              }
             }
            ],
            "label": "3/1/2019",
            "method": "animate"
           },
           {
            "args": [
             [
              "4/1/2019"
             ],
             {
              "frame": {
               "duration": 0,
               "redraw": false
              },
              "fromcurrent": true,
              "mode": "immediate",
              "transition": {
               "duration": 0,
               "easing": "linear"
              }
             }
            ],
            "label": "4/1/2019",
            "method": "animate"
           },
           {
            "args": [
             [
              "5/1/2019"
             ],
             {
              "frame": {
               "duration": 0,
               "redraw": false
              },
              "fromcurrent": true,
              "mode": "immediate",
              "transition": {
               "duration": 0,
               "easing": "linear"
              }
             }
            ],
            "label": "5/1/2019",
            "method": "animate"
           },
           {
            "args": [
             [
              "6/1/2019"
             ],
             {
              "frame": {
               "duration": 0,
               "redraw": false
              },
              "fromcurrent": true,
              "mode": "immediate",
              "transition": {
               "duration": 0,
               "easing": "linear"
              }
             }
            ],
            "label": "6/1/2019",
            "method": "animate"
           },
           {
            "args": [
             [
              "7/1/2019"
             ],
             {
              "frame": {
               "duration": 0,
               "redraw": false
              },
              "fromcurrent": true,
              "mode": "immediate",
              "transition": {
               "duration": 0,
               "easing": "linear"
              }
             }
            ],
            "label": "7/1/2019",
            "method": "animate"
           },
           {
            "args": [
             [
              "8/1/2019"
             ],
             {
              "frame": {
               "duration": 0,
               "redraw": false
              },
              "fromcurrent": true,
              "mode": "immediate",
              "transition": {
               "duration": 0,
               "easing": "linear"
              }
             }
            ],
            "label": "8/1/2019",
            "method": "animate"
           },
           {
            "args": [
             [
              "9/1/2019"
             ],
             {
              "frame": {
               "duration": 0,
               "redraw": false
              },
              "fromcurrent": true,
              "mode": "immediate",
              "transition": {
               "duration": 0,
               "easing": "linear"
              }
             }
            ],
            "label": "9/1/2019",
            "method": "animate"
           },
           {
            "args": [
             [
              "10/1/2019"
             ],
             {
              "frame": {
               "duration": 0,
               "redraw": false
              },
              "fromcurrent": true,
              "mode": "immediate",
              "transition": {
               "duration": 0,
               "easing": "linear"
              }
             }
            ],
            "label": "10/1/2019",
            "method": "animate"
           },
           {
            "args": [
             [
              "11/1/2019"
             ],
             {
              "frame": {
               "duration": 0,
               "redraw": false
              },
              "fromcurrent": true,
              "mode": "immediate",
              "transition": {
               "duration": 0,
               "easing": "linear"
              }
             }
            ],
            "label": "11/1/2019",
            "method": "animate"
           },
           {
            "args": [
             [
              "12/1/2019"
             ],
             {
              "frame": {
               "duration": 0,
               "redraw": false
              },
              "fromcurrent": true,
              "mode": "immediate",
              "transition": {
               "duration": 0,
               "easing": "linear"
              }
             }
            ],
            "label": "12/1/2019",
            "method": "animate"
           },
           {
            "args": [
             [
              "1/1/2020"
             ],
             {
              "frame": {
               "duration": 0,
               "redraw": false
              },
              "fromcurrent": true,
              "mode": "immediate",
              "transition": {
               "duration": 0,
               "easing": "linear"
              }
             }
            ],
            "label": "1/1/2020",
            "method": "animate"
           },
           {
            "args": [
             [
              "2/1/2020"
             ],
             {
              "frame": {
               "duration": 0,
               "redraw": false
              },
              "fromcurrent": true,
              "mode": "immediate",
              "transition": {
               "duration": 0,
               "easing": "linear"
              }
             }
            ],
            "label": "2/1/2020",
            "method": "animate"
           },
           {
            "args": [
             [
              "3/1/2020"
             ],
             {
              "frame": {
               "duration": 0,
               "redraw": false
              },
              "fromcurrent": true,
              "mode": "immediate",
              "transition": {
               "duration": 0,
               "easing": "linear"
              }
             }
            ],
            "label": "3/1/2020",
            "method": "animate"
           },
           {
            "args": [
             [
              "4/1/2020"
             ],
             {
              "frame": {
               "duration": 0,
               "redraw": false
              },
              "fromcurrent": true,
              "mode": "immediate",
              "transition": {
               "duration": 0,
               "easing": "linear"
              }
             }
            ],
            "label": "4/1/2020",
            "method": "animate"
           },
           {
            "args": [
             [
              "5/1/2020"
             ],
             {
              "frame": {
               "duration": 0,
               "redraw": false
              },
              "fromcurrent": true,
              "mode": "immediate",
              "transition": {
               "duration": 0,
               "easing": "linear"
              }
             }
            ],
            "label": "5/1/2020",
            "method": "animate"
           },
           {
            "args": [
             [
              "6/1/2020"
             ],
             {
              "frame": {
               "duration": 0,
               "redraw": false
              },
              "fromcurrent": true,
              "mode": "immediate",
              "transition": {
               "duration": 0,
               "easing": "linear"
              }
             }
            ],
            "label": "6/1/2020",
            "method": "animate"
           },
           {
            "args": [
             [
              "7/1/2020"
             ],
             {
              "frame": {
               "duration": 0,
               "redraw": false
              },
              "fromcurrent": true,
              "mode": "immediate",
              "transition": {
               "duration": 0,
               "easing": "linear"
              }
             }
            ],
            "label": "7/1/2020",
            "method": "animate"
           },
           {
            "args": [
             [
              "8/1/2020"
             ],
             {
              "frame": {
               "duration": 0,
               "redraw": false
              },
              "fromcurrent": true,
              "mode": "immediate",
              "transition": {
               "duration": 0,
               "easing": "linear"
              }
             }
            ],
            "label": "8/1/2020",
            "method": "animate"
           },
           {
            "args": [
             [
              "9/1/2020"
             ],
             {
              "frame": {
               "duration": 0,
               "redraw": false
              },
              "fromcurrent": true,
              "mode": "immediate",
              "transition": {
               "duration": 0,
               "easing": "linear"
              }
             }
            ],
            "label": "9/1/2020",
            "method": "animate"
           },
           {
            "args": [
             [
              "10/1/2020"
             ],
             {
              "frame": {
               "duration": 0,
               "redraw": false
              },
              "fromcurrent": true,
              "mode": "immediate",
              "transition": {
               "duration": 0,
               "easing": "linear"
              }
             }
            ],
            "label": "10/1/2020",
            "method": "animate"
           },
           {
            "args": [
             [
              "11/1/2020"
             ],
             {
              "frame": {
               "duration": 0,
               "redraw": false
              },
              "fromcurrent": true,
              "mode": "immediate",
              "transition": {
               "duration": 0,
               "easing": "linear"
              }
             }
            ],
            "label": "11/1/2020",
            "method": "animate"
           },
           {
            "args": [
             [
              "12/1/2020"
             ],
             {
              "frame": {
               "duration": 0,
               "redraw": false
              },
              "fromcurrent": true,
              "mode": "immediate",
              "transition": {
               "duration": 0,
               "easing": "linear"
              }
             }
            ],
            "label": "12/1/2020",
            "method": "animate"
           },
           {
            "args": [
             [
              "1/1/2021"
             ],
             {
              "frame": {
               "duration": 0,
               "redraw": false
              },
              "fromcurrent": true,
              "mode": "immediate",
              "transition": {
               "duration": 0,
               "easing": "linear"
              }
             }
            ],
            "label": "1/1/2021",
            "method": "animate"
           },
           {
            "args": [
             [
              "2/1/2021"
             ],
             {
              "frame": {
               "duration": 0,
               "redraw": false
              },
              "fromcurrent": true,
              "mode": "immediate",
              "transition": {
               "duration": 0,
               "easing": "linear"
              }
             }
            ],
            "label": "2/1/2021",
            "method": "animate"
           },
           {
            "args": [
             [
              "3/1/2021"
             ],
             {
              "frame": {
               "duration": 0,
               "redraw": false
              },
              "fromcurrent": true,
              "mode": "immediate",
              "transition": {
               "duration": 0,
               "easing": "linear"
              }
             }
            ],
            "label": "3/1/2021",
            "method": "animate"
           },
           {
            "args": [
             [
              "4/1/2021"
             ],
             {
              "frame": {
               "duration": 0,
               "redraw": false
              },
              "fromcurrent": true,
              "mode": "immediate",
              "transition": {
               "duration": 0,
               "easing": "linear"
              }
             }
            ],
            "label": "4/1/2021",
            "method": "animate"
           }
          ],
          "x": 0.1,
          "xanchor": "left",
          "y": 0,
          "yanchor": "top"
         }
        ],
        "template": {
         "data": {
          "bar": [
           {
            "error_x": {
             "color": "#2a3f5f"
            },
            "error_y": {
             "color": "#2a3f5f"
            },
            "marker": {
             "line": {
              "color": "#E5ECF6",
              "width": 0.5
             }
            },
            "type": "bar"
           }
          ],
          "barpolar": [
           {
            "marker": {
             "line": {
              "color": "#E5ECF6",
              "width": 0.5
             }
            },
            "type": "barpolar"
           }
          ],
          "carpet": [
           {
            "aaxis": {
             "endlinecolor": "#2a3f5f",
             "gridcolor": "white",
             "linecolor": "white",
             "minorgridcolor": "white",
             "startlinecolor": "#2a3f5f"
            },
            "baxis": {
             "endlinecolor": "#2a3f5f",
             "gridcolor": "white",
             "linecolor": "white",
             "minorgridcolor": "white",
             "startlinecolor": "#2a3f5f"
            },
            "type": "carpet"
           }
          ],
          "choropleth": [
           {
            "colorbar": {
             "outlinewidth": 0,
             "ticks": ""
            },
            "type": "choropleth"
           }
          ],
          "contour": [
           {
            "colorbar": {
             "outlinewidth": 0,
             "ticks": ""
            },
            "colorscale": [
             [
              0,
              "#0d0887"
             ],
             [
              0.1111111111111111,
              "#46039f"
             ],
             [
              0.2222222222222222,
              "#7201a8"
             ],
             [
              0.3333333333333333,
              "#9c179e"
             ],
             [
              0.4444444444444444,
              "#bd3786"
             ],
             [
              0.5555555555555556,
              "#d8576b"
             ],
             [
              0.6666666666666666,
              "#ed7953"
             ],
             [
              0.7777777777777778,
              "#fb9f3a"
             ],
             [
              0.8888888888888888,
              "#fdca26"
             ],
             [
              1,
              "#f0f921"
             ]
            ],
            "type": "contour"
           }
          ],
          "contourcarpet": [
           {
            "colorbar": {
             "outlinewidth": 0,
             "ticks": ""
            },
            "type": "contourcarpet"
           }
          ],
          "heatmap": [
           {
            "colorbar": {
             "outlinewidth": 0,
             "ticks": ""
            },
            "colorscale": [
             [
              0,
              "#0d0887"
             ],
             [
              0.1111111111111111,
              "#46039f"
             ],
             [
              0.2222222222222222,
              "#7201a8"
             ],
             [
              0.3333333333333333,
              "#9c179e"
             ],
             [
              0.4444444444444444,
              "#bd3786"
             ],
             [
              0.5555555555555556,
              "#d8576b"
             ],
             [
              0.6666666666666666,
              "#ed7953"
             ],
             [
              0.7777777777777778,
              "#fb9f3a"
             ],
             [
              0.8888888888888888,
              "#fdca26"
             ],
             [
              1,
              "#f0f921"
             ]
            ],
            "type": "heatmap"
           }
          ],
          "heatmapgl": [
           {
            "colorbar": {
             "outlinewidth": 0,
             "ticks": ""
            },
            "colorscale": [
             [
              0,
              "#0d0887"
             ],
             [
              0.1111111111111111,
              "#46039f"
             ],
             [
              0.2222222222222222,
              "#7201a8"
             ],
             [
              0.3333333333333333,
              "#9c179e"
             ],
             [
              0.4444444444444444,
              "#bd3786"
             ],
             [
              0.5555555555555556,
              "#d8576b"
             ],
             [
              0.6666666666666666,
              "#ed7953"
             ],
             [
              0.7777777777777778,
              "#fb9f3a"
             ],
             [
              0.8888888888888888,
              "#fdca26"
             ],
             [
              1,
              "#f0f921"
             ]
            ],
            "type": "heatmapgl"
           }
          ],
          "histogram": [
           {
            "marker": {
             "colorbar": {
              "outlinewidth": 0,
              "ticks": ""
             }
            },
            "type": "histogram"
           }
          ],
          "histogram2d": [
           {
            "colorbar": {
             "outlinewidth": 0,
             "ticks": ""
            },
            "colorscale": [
             [
              0,
              "#0d0887"
             ],
             [
              0.1111111111111111,
              "#46039f"
             ],
             [
              0.2222222222222222,
              "#7201a8"
             ],
             [
              0.3333333333333333,
              "#9c179e"
             ],
             [
              0.4444444444444444,
              "#bd3786"
             ],
             [
              0.5555555555555556,
              "#d8576b"
             ],
             [
              0.6666666666666666,
              "#ed7953"
             ],
             [
              0.7777777777777778,
              "#fb9f3a"
             ],
             [
              0.8888888888888888,
              "#fdca26"
             ],
             [
              1,
              "#f0f921"
             ]
            ],
            "type": "histogram2d"
           }
          ],
          "histogram2dcontour": [
           {
            "colorbar": {
             "outlinewidth": 0,
             "ticks": ""
            },
            "colorscale": [
             [
              0,
              "#0d0887"
             ],
             [
              0.1111111111111111,
              "#46039f"
             ],
             [
              0.2222222222222222,
              "#7201a8"
             ],
             [
              0.3333333333333333,
              "#9c179e"
             ],
             [
              0.4444444444444444,
              "#bd3786"
             ],
             [
              0.5555555555555556,
              "#d8576b"
             ],
             [
              0.6666666666666666,
              "#ed7953"
             ],
             [
              0.7777777777777778,
              "#fb9f3a"
             ],
             [
              0.8888888888888888,
              "#fdca26"
             ],
             [
              1,
              "#f0f921"
             ]
            ],
            "type": "histogram2dcontour"
           }
          ],
          "mesh3d": [
           {
            "colorbar": {
             "outlinewidth": 0,
             "ticks": ""
            },
            "type": "mesh3d"
           }
          ],
          "parcoords": [
           {
            "line": {
             "colorbar": {
              "outlinewidth": 0,
              "ticks": ""
             }
            },
            "type": "parcoords"
           }
          ],
          "pie": [
           {
            "automargin": true,
            "type": "pie"
           }
          ],
          "scatter": [
           {
            "marker": {
             "colorbar": {
              "outlinewidth": 0,
              "ticks": ""
             }
            },
            "type": "scatter"
           }
          ],
          "scatter3d": [
           {
            "line": {
             "colorbar": {
              "outlinewidth": 0,
              "ticks": ""
             }
            },
            "marker": {
             "colorbar": {
              "outlinewidth": 0,
              "ticks": ""
             }
            },
            "type": "scatter3d"
           }
          ],
          "scattercarpet": [
           {
            "marker": {
             "colorbar": {
              "outlinewidth": 0,
              "ticks": ""
             }
            },
            "type": "scattercarpet"
           }
          ],
          "scattergeo": [
           {
            "marker": {
             "colorbar": {
              "outlinewidth": 0,
              "ticks": ""
             }
            },
            "type": "scattergeo"
           }
          ],
          "scattergl": [
           {
            "marker": {
             "colorbar": {
              "outlinewidth": 0,
              "ticks": ""
             }
            },
            "type": "scattergl"
           }
          ],
          "scattermapbox": [
           {
            "marker": {
             "colorbar": {
              "outlinewidth": 0,
              "ticks": ""
             }
            },
            "type": "scattermapbox"
           }
          ],
          "scatterpolar": [
           {
            "marker": {
             "colorbar": {
              "outlinewidth": 0,
              "ticks": ""
             }
            },
            "type": "scatterpolar"
           }
          ],
          "scatterpolargl": [
           {
            "marker": {
             "colorbar": {
              "outlinewidth": 0,
              "ticks": ""
             }
            },
            "type": "scatterpolargl"
           }
          ],
          "scatterternary": [
           {
            "marker": {
             "colorbar": {
              "outlinewidth": 0,
              "ticks": ""
             }
            },
            "type": "scatterternary"
           }
          ],
          "surface": [
           {
            "colorbar": {
             "outlinewidth": 0,
             "ticks": ""
            },
            "colorscale": [
             [
              0,
              "#0d0887"
             ],
             [
              0.1111111111111111,
              "#46039f"
             ],
             [
              0.2222222222222222,
              "#7201a8"
             ],
             [
              0.3333333333333333,
              "#9c179e"
             ],
             [
              0.4444444444444444,
              "#bd3786"
             ],
             [
              0.5555555555555556,
              "#d8576b"
             ],
             [
              0.6666666666666666,
              "#ed7953"
             ],
             [
              0.7777777777777778,
              "#fb9f3a"
             ],
             [
              0.8888888888888888,
              "#fdca26"
             ],
             [
              1,
              "#f0f921"
             ]
            ],
            "type": "surface"
           }
          ],
          "table": [
           {
            "cells": {
             "fill": {
              "color": "#EBF0F8"
             },
             "line": {
              "color": "white"
             }
            },
            "header": {
             "fill": {
              "color": "#C8D4E3"
             },
             "line": {
              "color": "white"
             }
            },
            "type": "table"
           }
          ]
         },
         "layout": {
          "annotationdefaults": {
           "arrowcolor": "#2a3f5f",
           "arrowhead": 0,
           "arrowwidth": 1
          },
          "autotypenumbers": "strict",
          "coloraxis": {
           "colorbar": {
            "outlinewidth": 0,
            "ticks": ""
           }
          },
          "colorscale": {
           "diverging": [
            [
             0,
             "#8e0152"
            ],
            [
             0.1,
             "#c51b7d"
            ],
            [
             0.2,
             "#de77ae"
            ],
            [
             0.3,
             "#f1b6da"
            ],
            [
             0.4,
             "#fde0ef"
            ],
            [
             0.5,
             "#f7f7f7"
            ],
            [
             0.6,
             "#e6f5d0"
            ],
            [
             0.7,
             "#b8e186"
            ],
            [
             0.8,
             "#7fbc41"
            ],
            [
             0.9,
             "#4d9221"
            ],
            [
             1,
             "#276419"
            ]
           ],
           "sequential": [
            [
             0,
             "#0d0887"
            ],
            [
             0.1111111111111111,
             "#46039f"
            ],
            [
             0.2222222222222222,
             "#7201a8"
            ],
            [
             0.3333333333333333,
             "#9c179e"
            ],
            [
             0.4444444444444444,
             "#bd3786"
            ],
            [
             0.5555555555555556,
             "#d8576b"
            ],
            [
             0.6666666666666666,
             "#ed7953"
            ],
            [
             0.7777777777777778,
             "#fb9f3a"
            ],
            [
             0.8888888888888888,
             "#fdca26"
            ],
            [
             1,
             "#f0f921"
            ]
           ],
           "sequentialminus": [
            [
             0,
             "#0d0887"
            ],
            [
             0.1111111111111111,
             "#46039f"
            ],
            [
             0.2222222222222222,
             "#7201a8"
            ],
            [
             0.3333333333333333,
             "#9c179e"
            ],
            [
             0.4444444444444444,
             "#bd3786"
            ],
            [
             0.5555555555555556,
             "#d8576b"
            ],
            [
             0.6666666666666666,
             "#ed7953"
            ],
            [
             0.7777777777777778,
             "#fb9f3a"
            ],
            [
             0.8888888888888888,
             "#fdca26"
            ],
            [
             1,
             "#f0f921"
            ]
           ]
          },
          "colorway": [
           "#636efa",
           "#EF553B",
           "#00cc96",
           "#ab63fa",
           "#FFA15A",
           "#19d3f3",
           "#FF6692",
           "#B6E880",
           "#FF97FF",
           "#FECB52"
          ],
          "font": {
           "color": "#2a3f5f"
          },
          "geo": {
           "bgcolor": "white",
           "lakecolor": "white",
           "landcolor": "#E5ECF6",
           "showlakes": true,
           "showland": true,
           "subunitcolor": "white"
          },
          "hoverlabel": {
           "align": "left"
          },
          "hovermode": "closest",
          "mapbox": {
           "style": "light"
          },
          "paper_bgcolor": "white",
          "plot_bgcolor": "#E5ECF6",
          "polar": {
           "angularaxis": {
            "gridcolor": "white",
            "linecolor": "white",
            "ticks": ""
           },
           "bgcolor": "#E5ECF6",
           "radialaxis": {
            "gridcolor": "white",
            "linecolor": "white",
            "ticks": ""
           }
          },
          "scene": {
           "xaxis": {
            "backgroundcolor": "#E5ECF6",
            "gridcolor": "white",
            "gridwidth": 2,
            "linecolor": "white",
            "showbackground": true,
            "ticks": "",
            "zerolinecolor": "white"
           },
           "yaxis": {
            "backgroundcolor": "#E5ECF6",
            "gridcolor": "white",
            "gridwidth": 2,
            "linecolor": "white",
            "showbackground": true,
            "ticks": "",
            "zerolinecolor": "white"
           },
           "zaxis": {
            "backgroundcolor": "#E5ECF6",
            "gridcolor": "white",
            "gridwidth": 2,
            "linecolor": "white",
            "showbackground": true,
            "ticks": "",
            "zerolinecolor": "white"
           }
          },
          "shapedefaults": {
           "line": {
            "color": "#2a3f5f"
           }
          },
          "ternary": {
           "aaxis": {
            "gridcolor": "white",
            "linecolor": "white",
            "ticks": ""
           },
           "baxis": {
            "gridcolor": "white",
            "linecolor": "white",
            "ticks": ""
           },
           "bgcolor": "#E5ECF6",
           "caxis": {
            "gridcolor": "white",
            "linecolor": "white",
            "ticks": ""
           }
          },
          "title": {
           "x": 0.05
          },
          "xaxis": {
           "automargin": true,
           "gridcolor": "white",
           "linecolor": "white",
           "ticks": "",
           "title": {
            "standoff": 15
           },
           "zerolinecolor": "white",
           "zerolinewidth": 2
          },
          "yaxis": {
           "automargin": true,
           "gridcolor": "white",
           "linecolor": "white",
           "ticks": "",
           "title": {
            "standoff": 15
           },
           "zerolinecolor": "white",
           "zerolinewidth": 2
          }
         }
        },
        "updatemenus": [
         {
          "buttons": [
           {
            "args": [
             null,
             {
              "frame": {
               "duration": 200,
               "redraw": false
              },
              "fromcurrent": true,
              "mode": "immediate",
              "transition": {
               "duration": 500,
               "easing": "linear"
              }
             }
            ],
            "label": "&#9654;",
            "method": "animate"
           },
           {
            "args": [
             [
              null
             ],
             {
              "frame": {
               "duration": 0,
               "redraw": false
              },
              "fromcurrent": true,
              "mode": "immediate",
              "transition": {
               "duration": 0,
               "easing": "linear"
              }
             }
            ],
            "label": "&#9724;",
            "method": "animate"
           }
          ],
          "direction": "left",
          "pad": {
           "r": 10,
           "t": 70
          },
          "showactive": false,
          "type": "buttons",
          "x": 0.1,
          "xanchor": "right",
          "y": 0,
          "yanchor": "top"
         }
        ],
        "xaxis": {
         "anchor": "y",
         "domain": [
          0,
          1
         ],
         "range": [
          1000,
          2000
         ],
         "title": {
          "text": "Gold Price in Dollar"
         }
        },
        "yaxis": {
         "anchor": "x",
         "domain": [
          0,
          1
         ],
         "range": [
          1500,
          4500
         ],
         "title": {
          "text": "Stock Market Closing Price in Dollar"
         }
        }
       }
      },
      "text/html": [
       "<div>                            <div id=\"52785004-95ae-44c4-bcee-b84d7edc2681\" class=\"plotly-graph-div\" style=\"height:525px; width:100%;\"></div>            <script type=\"text/javascript\">                require([\"plotly\"], function(Plotly) {                    window.PLOTLYENV=window.PLOTLYENV || {};                                    if (document.getElementById(\"52785004-95ae-44c4-bcee-b84d7edc2681\")) {                    Plotly.newPlot(                        \"52785004-95ae-44c4-bcee-b84d7edc2681\",                        [{\"hovertemplate\": \"<b>%{hovertext}</b><br><br>Market Standard=SP500<br>DATE=4/1/2016<br>Gold Price in Dollar=%{x}<br>Stock Market Closing Price in Dollar=%{marker.size}<extra></extra>\", \"hovertext\": [\"SP500\"], \"ids\": [\"SP500\"], \"legendgroup\": \"SP500\", \"marker\": {\"color\": \"#636efa\", \"size\": [2075.535238], \"sizemode\": \"area\", \"sizeref\": 10.352940475, \"symbol\": \"circle\"}, \"mode\": \"markers\", \"name\": \"SP500\", \"orientation\": \"v\", \"showlegend\": true, \"type\": \"scatter\", \"x\": [1318.400024], \"xaxis\": \"x\", \"y\": [2075.535238], \"yaxis\": \"y\"}, {\"hovertemplate\": \"<b>%{hovertext}</b><br><br>Market Standard=SSE<br>DATE=4/1/2016<br>Gold Price in Dollar=%{x}<br>Stock Market Closing Price in Dollar=%{marker.size}<extra></extra>\", \"hovertext\": [\"SSE\"], \"ids\": [\"SSE\"], \"legendgroup\": \"SSE\", \"marker\": {\"color\": \"#EF553B\", \"size\": [2929.605957], \"sizemode\": \"area\", \"sizeref\": 10.352940475, \"symbol\": \"circle\"}, \"mode\": \"markers\", \"name\": \"SSE\", \"orientation\": \"v\", \"showlegend\": true, \"type\": \"scatter\", \"x\": [1318.400024], \"xaxis\": \"x\", \"y\": [2929.605957], \"yaxis\": \"y\"}, {\"hovertemplate\": \"<b>%{hovertext}</b><br><br>Market Standard=JPN<br>DATE=4/1/2016<br>Gold Price in Dollar=%{x}<br>Stock Market Closing Price in Dollar=%{marker.size}<extra></extra>\", \"hovertext\": [\"JPN\"], \"ids\": [\"JPN\"], \"legendgroup\": \"JPN\", \"marker\": {\"color\": \"#00cc96\", \"size\": [1557.5919920000001], \"sizemode\": \"area\", \"sizeref\": 10.352940475, \"symbol\": \"circle\"}, \"mode\": \"markers\", \"name\": \"JPN\", \"orientation\": \"v\", \"showlegend\": true, \"type\": \"scatter\", \"x\": [1318.400024], \"xaxis\": \"x\", \"y\": [1557.5919920000001], \"yaxis\": \"y\"}],                        {\"legend\": {\"itemsizing\": \"constant\", \"title\": {\"text\": \"Market Standard\"}, \"tracegroupgap\": 0}, \"margin\": {\"t\": 60}, \"sliders\": [{\"active\": 0, \"currentvalue\": {\"prefix\": \"DATE=\"}, \"len\": 0.9, \"pad\": {\"b\": 10, \"t\": 60}, \"steps\": [{\"args\": [[\"4/1/2016\"], {\"frame\": {\"duration\": 0, \"redraw\": false}, \"fromcurrent\": true, \"mode\": \"immediate\", \"transition\": {\"duration\": 0, \"easing\": \"linear\"}}], \"label\": \"4/1/2016\", \"method\": \"animate\"}, {\"args\": [[\"5/1/2016\"], {\"frame\": {\"duration\": 0, \"redraw\": false}, \"fromcurrent\": true, \"mode\": \"immediate\", \"transition\": {\"duration\": 0, \"easing\": \"linear\"}}], \"label\": \"5/1/2016\", \"method\": \"animate\"}, {\"args\": [[\"6/1/2016\"], {\"frame\": {\"duration\": 0, \"redraw\": false}, \"fromcurrent\": true, \"mode\": \"immediate\", \"transition\": {\"duration\": 0, \"easing\": \"linear\"}}], \"label\": \"6/1/2016\", \"method\": \"animate\"}, {\"args\": [[\"7/1/2016\"], {\"frame\": {\"duration\": 0, \"redraw\": false}, \"fromcurrent\": true, \"mode\": \"immediate\", \"transition\": {\"duration\": 0, \"easing\": \"linear\"}}], \"label\": \"7/1/2016\", \"method\": \"animate\"}, {\"args\": [[\"8/1/2016\"], {\"frame\": {\"duration\": 0, \"redraw\": false}, \"fromcurrent\": true, \"mode\": \"immediate\", \"transition\": {\"duration\": 0, \"easing\": \"linear\"}}], \"label\": \"8/1/2016\", \"method\": \"animate\"}, {\"args\": [[\"9/1/2016\"], {\"frame\": {\"duration\": 0, \"redraw\": false}, \"fromcurrent\": true, \"mode\": \"immediate\", \"transition\": {\"duration\": 0, \"easing\": \"linear\"}}], \"label\": \"9/1/2016\", \"method\": \"animate\"}, {\"args\": [[\"10/1/2016\"], {\"frame\": {\"duration\": 0, \"redraw\": false}, \"fromcurrent\": true, \"mode\": \"immediate\", \"transition\": {\"duration\": 0, \"easing\": \"linear\"}}], \"label\": \"10/1/2016\", \"method\": \"animate\"}, {\"args\": [[\"11/1/2016\"], {\"frame\": {\"duration\": 0, \"redraw\": false}, \"fromcurrent\": true, \"mode\": \"immediate\", \"transition\": {\"duration\": 0, \"easing\": \"linear\"}}], \"label\": \"11/1/2016\", \"method\": \"animate\"}, {\"args\": [[\"12/1/2016\"], {\"frame\": {\"duration\": 0, \"redraw\": false}, \"fromcurrent\": true, \"mode\": \"immediate\", \"transition\": {\"duration\": 0, \"easing\": \"linear\"}}], \"label\": \"12/1/2016\", \"method\": \"animate\"}, {\"args\": [[\"1/1/2017\"], {\"frame\": {\"duration\": 0, \"redraw\": false}, \"fromcurrent\": true, \"mode\": \"immediate\", \"transition\": {\"duration\": 0, \"easing\": \"linear\"}}], \"label\": \"1/1/2017\", \"method\": \"animate\"}, {\"args\": [[\"2/1/2017\"], {\"frame\": {\"duration\": 0, \"redraw\": false}, \"fromcurrent\": true, \"mode\": \"immediate\", \"transition\": {\"duration\": 0, \"easing\": \"linear\"}}], \"label\": \"2/1/2017\", \"method\": \"animate\"}, {\"args\": [[\"3/1/2017\"], {\"frame\": {\"duration\": 0, \"redraw\": false}, \"fromcurrent\": true, \"mode\": \"immediate\", \"transition\": {\"duration\": 0, \"easing\": \"linear\"}}], \"label\": \"3/1/2017\", \"method\": \"animate\"}, {\"args\": [[\"4/1/2017\"], {\"frame\": {\"duration\": 0, \"redraw\": false}, \"fromcurrent\": true, \"mode\": \"immediate\", \"transition\": {\"duration\": 0, \"easing\": \"linear\"}}], \"label\": \"4/1/2017\", \"method\": \"animate\"}, {\"args\": [[\"5/1/2017\"], {\"frame\": {\"duration\": 0, \"redraw\": false}, \"fromcurrent\": true, \"mode\": \"immediate\", \"transition\": {\"duration\": 0, \"easing\": \"linear\"}}], \"label\": \"5/1/2017\", \"method\": \"animate\"}, {\"args\": [[\"6/1/2017\"], {\"frame\": {\"duration\": 0, \"redraw\": false}, \"fromcurrent\": true, \"mode\": \"immediate\", \"transition\": {\"duration\": 0, \"easing\": \"linear\"}}], \"label\": \"6/1/2017\", \"method\": \"animate\"}, {\"args\": [[\"7/1/2017\"], {\"frame\": {\"duration\": 0, \"redraw\": false}, \"fromcurrent\": true, \"mode\": \"immediate\", \"transition\": {\"duration\": 0, \"easing\": \"linear\"}}], \"label\": \"7/1/2017\", \"method\": \"animate\"}, {\"args\": [[\"8/1/2017\"], {\"frame\": {\"duration\": 0, \"redraw\": false}, \"fromcurrent\": true, \"mode\": \"immediate\", \"transition\": {\"duration\": 0, \"easing\": \"linear\"}}], \"label\": \"8/1/2017\", \"method\": \"animate\"}, {\"args\": [[\"9/1/2017\"], {\"frame\": {\"duration\": 0, \"redraw\": false}, \"fromcurrent\": true, \"mode\": \"immediate\", \"transition\": {\"duration\": 0, \"easing\": \"linear\"}}], \"label\": \"9/1/2017\", \"method\": \"animate\"}, {\"args\": [[\"10/1/2017\"], {\"frame\": {\"duration\": 0, \"redraw\": false}, \"fromcurrent\": true, \"mode\": \"immediate\", \"transition\": {\"duration\": 0, \"easing\": \"linear\"}}], \"label\": \"10/1/2017\", \"method\": \"animate\"}, {\"args\": [[\"11/1/2017\"], {\"frame\": {\"duration\": 0, \"redraw\": false}, \"fromcurrent\": true, \"mode\": \"immediate\", \"transition\": {\"duration\": 0, \"easing\": \"linear\"}}], \"label\": \"11/1/2017\", \"method\": \"animate\"}, {\"args\": [[\"12/1/2017\"], {\"frame\": {\"duration\": 0, \"redraw\": false}, \"fromcurrent\": true, \"mode\": \"immediate\", \"transition\": {\"duration\": 0, \"easing\": \"linear\"}}], \"label\": \"12/1/2017\", \"method\": \"animate\"}, {\"args\": [[\"1/1/2018\"], {\"frame\": {\"duration\": 0, \"redraw\": false}, \"fromcurrent\": true, \"mode\": \"immediate\", \"transition\": {\"duration\": 0, \"easing\": \"linear\"}}], \"label\": \"1/1/2018\", \"method\": \"animate\"}, {\"args\": [[\"2/1/2018\"], {\"frame\": {\"duration\": 0, \"redraw\": false}, \"fromcurrent\": true, \"mode\": \"immediate\", \"transition\": {\"duration\": 0, \"easing\": \"linear\"}}], \"label\": \"2/1/2018\", \"method\": \"animate\"}, {\"args\": [[\"3/1/2018\"], {\"frame\": {\"duration\": 0, \"redraw\": false}, \"fromcurrent\": true, \"mode\": \"immediate\", \"transition\": {\"duration\": 0, \"easing\": \"linear\"}}], \"label\": \"3/1/2018\", \"method\": \"animate\"}, {\"args\": [[\"4/1/2018\"], {\"frame\": {\"duration\": 0, \"redraw\": false}, \"fromcurrent\": true, \"mode\": \"immediate\", \"transition\": {\"duration\": 0, \"easing\": \"linear\"}}], \"label\": \"4/1/2018\", \"method\": \"animate\"}, {\"args\": [[\"5/1/2018\"], {\"frame\": {\"duration\": 0, \"redraw\": false}, \"fromcurrent\": true, \"mode\": \"immediate\", \"transition\": {\"duration\": 0, \"easing\": \"linear\"}}], \"label\": \"5/1/2018\", \"method\": \"animate\"}, {\"args\": [[\"6/1/2018\"], {\"frame\": {\"duration\": 0, \"redraw\": false}, \"fromcurrent\": true, \"mode\": \"immediate\", \"transition\": {\"duration\": 0, \"easing\": \"linear\"}}], \"label\": \"6/1/2018\", \"method\": \"animate\"}, {\"args\": [[\"7/1/2018\"], {\"frame\": {\"duration\": 0, \"redraw\": false}, \"fromcurrent\": true, \"mode\": \"immediate\", \"transition\": {\"duration\": 0, \"easing\": \"linear\"}}], \"label\": \"7/1/2018\", \"method\": \"animate\"}, {\"args\": [[\"8/1/2018\"], {\"frame\": {\"duration\": 0, \"redraw\": false}, \"fromcurrent\": true, \"mode\": \"immediate\", \"transition\": {\"duration\": 0, \"easing\": \"linear\"}}], \"label\": \"8/1/2018\", \"method\": \"animate\"}, {\"args\": [[\"9/1/2018\"], {\"frame\": {\"duration\": 0, \"redraw\": false}, \"fromcurrent\": true, \"mode\": \"immediate\", \"transition\": {\"duration\": 0, \"easing\": \"linear\"}}], \"label\": \"9/1/2018\", \"method\": \"animate\"}, {\"args\": [[\"10/1/2018\"], {\"frame\": {\"duration\": 0, \"redraw\": false}, \"fromcurrent\": true, \"mode\": \"immediate\", \"transition\": {\"duration\": 0, \"easing\": \"linear\"}}], \"label\": \"10/1/2018\", \"method\": \"animate\"}, {\"args\": [[\"11/1/2018\"], {\"frame\": {\"duration\": 0, \"redraw\": false}, \"fromcurrent\": true, \"mode\": \"immediate\", \"transition\": {\"duration\": 0, \"easing\": \"linear\"}}], \"label\": \"11/1/2018\", \"method\": \"animate\"}, {\"args\": [[\"12/1/2018\"], {\"frame\": {\"duration\": 0, \"redraw\": false}, \"fromcurrent\": true, \"mode\": \"immediate\", \"transition\": {\"duration\": 0, \"easing\": \"linear\"}}], \"label\": \"12/1/2018\", \"method\": \"animate\"}, {\"args\": [[\"1/1/2019\"], {\"frame\": {\"duration\": 0, \"redraw\": false}, \"fromcurrent\": true, \"mode\": \"immediate\", \"transition\": {\"duration\": 0, \"easing\": \"linear\"}}], \"label\": \"1/1/2019\", \"method\": \"animate\"}, {\"args\": [[\"2/1/2019\"], {\"frame\": {\"duration\": 0, \"redraw\": false}, \"fromcurrent\": true, \"mode\": \"immediate\", \"transition\": {\"duration\": 0, \"easing\": \"linear\"}}], \"label\": \"2/1/2019\", \"method\": \"animate\"}, {\"args\": [[\"3/1/2019\"], {\"frame\": {\"duration\": 0, \"redraw\": false}, \"fromcurrent\": true, \"mode\": \"immediate\", \"transition\": {\"duration\": 0, \"easing\": \"linear\"}}], \"label\": \"3/1/2019\", \"method\": \"animate\"}, {\"args\": [[\"4/1/2019\"], {\"frame\": {\"duration\": 0, \"redraw\": false}, \"fromcurrent\": true, \"mode\": \"immediate\", \"transition\": {\"duration\": 0, \"easing\": \"linear\"}}], \"label\": \"4/1/2019\", \"method\": \"animate\"}, {\"args\": [[\"5/1/2019\"], {\"frame\": {\"duration\": 0, \"redraw\": false}, \"fromcurrent\": true, \"mode\": \"immediate\", \"transition\": {\"duration\": 0, \"easing\": \"linear\"}}], \"label\": \"5/1/2019\", \"method\": \"animate\"}, {\"args\": [[\"6/1/2019\"], {\"frame\": {\"duration\": 0, \"redraw\": false}, \"fromcurrent\": true, \"mode\": \"immediate\", \"transition\": {\"duration\": 0, \"easing\": \"linear\"}}], \"label\": \"6/1/2019\", \"method\": \"animate\"}, {\"args\": [[\"7/1/2019\"], {\"frame\": {\"duration\": 0, \"redraw\": false}, \"fromcurrent\": true, \"mode\": \"immediate\", \"transition\": {\"duration\": 0, \"easing\": \"linear\"}}], \"label\": \"7/1/2019\", \"method\": \"animate\"}, {\"args\": [[\"8/1/2019\"], {\"frame\": {\"duration\": 0, \"redraw\": false}, \"fromcurrent\": true, \"mode\": \"immediate\", \"transition\": {\"duration\": 0, \"easing\": \"linear\"}}], \"label\": \"8/1/2019\", \"method\": \"animate\"}, {\"args\": [[\"9/1/2019\"], {\"frame\": {\"duration\": 0, \"redraw\": false}, \"fromcurrent\": true, \"mode\": \"immediate\", \"transition\": {\"duration\": 0, \"easing\": \"linear\"}}], \"label\": \"9/1/2019\", \"method\": \"animate\"}, {\"args\": [[\"10/1/2019\"], {\"frame\": {\"duration\": 0, \"redraw\": false}, \"fromcurrent\": true, \"mode\": \"immediate\", \"transition\": {\"duration\": 0, \"easing\": \"linear\"}}], \"label\": \"10/1/2019\", \"method\": \"animate\"}, {\"args\": [[\"11/1/2019\"], {\"frame\": {\"duration\": 0, \"redraw\": false}, \"fromcurrent\": true, \"mode\": \"immediate\", \"transition\": {\"duration\": 0, \"easing\": \"linear\"}}], \"label\": \"11/1/2019\", \"method\": \"animate\"}, {\"args\": [[\"12/1/2019\"], {\"frame\": {\"duration\": 0, \"redraw\": false}, \"fromcurrent\": true, \"mode\": \"immediate\", \"transition\": {\"duration\": 0, \"easing\": \"linear\"}}], \"label\": \"12/1/2019\", \"method\": \"animate\"}, {\"args\": [[\"1/1/2020\"], {\"frame\": {\"duration\": 0, \"redraw\": false}, \"fromcurrent\": true, \"mode\": \"immediate\", \"transition\": {\"duration\": 0, \"easing\": \"linear\"}}], \"label\": \"1/1/2020\", \"method\": \"animate\"}, {\"args\": [[\"2/1/2020\"], {\"frame\": {\"duration\": 0, \"redraw\": false}, \"fromcurrent\": true, \"mode\": \"immediate\", \"transition\": {\"duration\": 0, \"easing\": \"linear\"}}], \"label\": \"2/1/2020\", \"method\": \"animate\"}, {\"args\": [[\"3/1/2020\"], {\"frame\": {\"duration\": 0, \"redraw\": false}, \"fromcurrent\": true, \"mode\": \"immediate\", \"transition\": {\"duration\": 0, \"easing\": \"linear\"}}], \"label\": \"3/1/2020\", \"method\": \"animate\"}, {\"args\": [[\"4/1/2020\"], {\"frame\": {\"duration\": 0, \"redraw\": false}, \"fromcurrent\": true, \"mode\": \"immediate\", \"transition\": {\"duration\": 0, \"easing\": \"linear\"}}], \"label\": \"4/1/2020\", \"method\": \"animate\"}, {\"args\": [[\"5/1/2020\"], {\"frame\": {\"duration\": 0, \"redraw\": false}, \"fromcurrent\": true, \"mode\": \"immediate\", \"transition\": {\"duration\": 0, \"easing\": \"linear\"}}], \"label\": \"5/1/2020\", \"method\": \"animate\"}, {\"args\": [[\"6/1/2020\"], {\"frame\": {\"duration\": 0, \"redraw\": false}, \"fromcurrent\": true, \"mode\": \"immediate\", \"transition\": {\"duration\": 0, \"easing\": \"linear\"}}], \"label\": \"6/1/2020\", \"method\": \"animate\"}, {\"args\": [[\"7/1/2020\"], {\"frame\": {\"duration\": 0, \"redraw\": false}, \"fromcurrent\": true, \"mode\": \"immediate\", \"transition\": {\"duration\": 0, \"easing\": \"linear\"}}], \"label\": \"7/1/2020\", \"method\": \"animate\"}, {\"args\": [[\"8/1/2020\"], {\"frame\": {\"duration\": 0, \"redraw\": false}, \"fromcurrent\": true, \"mode\": \"immediate\", \"transition\": {\"duration\": 0, \"easing\": \"linear\"}}], \"label\": \"8/1/2020\", \"method\": \"animate\"}, {\"args\": [[\"9/1/2020\"], {\"frame\": {\"duration\": 0, \"redraw\": false}, \"fromcurrent\": true, \"mode\": \"immediate\", \"transition\": {\"duration\": 0, \"easing\": \"linear\"}}], \"label\": \"9/1/2020\", \"method\": \"animate\"}, {\"args\": [[\"10/1/2020\"], {\"frame\": {\"duration\": 0, \"redraw\": false}, \"fromcurrent\": true, \"mode\": \"immediate\", \"transition\": {\"duration\": 0, \"easing\": \"linear\"}}], \"label\": \"10/1/2020\", \"method\": \"animate\"}, {\"args\": [[\"11/1/2020\"], {\"frame\": {\"duration\": 0, \"redraw\": false}, \"fromcurrent\": true, \"mode\": \"immediate\", \"transition\": {\"duration\": 0, \"easing\": \"linear\"}}], \"label\": \"11/1/2020\", \"method\": \"animate\"}, {\"args\": [[\"12/1/2020\"], {\"frame\": {\"duration\": 0, \"redraw\": false}, \"fromcurrent\": true, \"mode\": \"immediate\", \"transition\": {\"duration\": 0, \"easing\": \"linear\"}}], \"label\": \"12/1/2020\", \"method\": \"animate\"}, {\"args\": [[\"1/1/2021\"], {\"frame\": {\"duration\": 0, \"redraw\": false}, \"fromcurrent\": true, \"mode\": \"immediate\", \"transition\": {\"duration\": 0, \"easing\": \"linear\"}}], \"label\": \"1/1/2021\", \"method\": \"animate\"}, {\"args\": [[\"2/1/2021\"], {\"frame\": {\"duration\": 0, \"redraw\": false}, \"fromcurrent\": true, \"mode\": \"immediate\", \"transition\": {\"duration\": 0, \"easing\": \"linear\"}}], \"label\": \"2/1/2021\", \"method\": \"animate\"}, {\"args\": [[\"3/1/2021\"], {\"frame\": {\"duration\": 0, \"redraw\": false}, \"fromcurrent\": true, \"mode\": \"immediate\", \"transition\": {\"duration\": 0, \"easing\": \"linear\"}}], \"label\": \"3/1/2021\", \"method\": \"animate\"}, {\"args\": [[\"4/1/2021\"], {\"frame\": {\"duration\": 0, \"redraw\": false}, \"fromcurrent\": true, \"mode\": \"immediate\", \"transition\": {\"duration\": 0, \"easing\": \"linear\"}}], \"label\": \"4/1/2021\", \"method\": \"animate\"}], \"x\": 0.1, \"xanchor\": \"left\", \"y\": 0, \"yanchor\": \"top\"}], \"template\": {\"data\": {\"bar\": [{\"error_x\": {\"color\": \"#2a3f5f\"}, \"error_y\": {\"color\": \"#2a3f5f\"}, \"marker\": {\"line\": {\"color\": \"#E5ECF6\", \"width\": 0.5}}, \"type\": \"bar\"}], \"barpolar\": [{\"marker\": {\"line\": {\"color\": \"#E5ECF6\", \"width\": 0.5}}, \"type\": \"barpolar\"}], \"carpet\": [{\"aaxis\": {\"endlinecolor\": \"#2a3f5f\", \"gridcolor\": \"white\", \"linecolor\": \"white\", \"minorgridcolor\": \"white\", \"startlinecolor\": \"#2a3f5f\"}, \"baxis\": {\"endlinecolor\": \"#2a3f5f\", \"gridcolor\": \"white\", \"linecolor\": \"white\", \"minorgridcolor\": \"white\", \"startlinecolor\": \"#2a3f5f\"}, \"type\": \"carpet\"}], \"choropleth\": [{\"colorbar\": {\"outlinewidth\": 0, \"ticks\": \"\"}, \"type\": \"choropleth\"}], \"contour\": [{\"colorbar\": {\"outlinewidth\": 0, \"ticks\": \"\"}, \"colorscale\": [[0.0, \"#0d0887\"], [0.1111111111111111, \"#46039f\"], [0.2222222222222222, \"#7201a8\"], [0.3333333333333333, \"#9c179e\"], [0.4444444444444444, \"#bd3786\"], [0.5555555555555556, \"#d8576b\"], [0.6666666666666666, \"#ed7953\"], [0.7777777777777778, \"#fb9f3a\"], [0.8888888888888888, \"#fdca26\"], [1.0, \"#f0f921\"]], \"type\": \"contour\"}], \"contourcarpet\": [{\"colorbar\": {\"outlinewidth\": 0, \"ticks\": \"\"}, \"type\": \"contourcarpet\"}], \"heatmap\": [{\"colorbar\": {\"outlinewidth\": 0, \"ticks\": \"\"}, \"colorscale\": [[0.0, \"#0d0887\"], [0.1111111111111111, \"#46039f\"], [0.2222222222222222, \"#7201a8\"], [0.3333333333333333, \"#9c179e\"], [0.4444444444444444, \"#bd3786\"], [0.5555555555555556, \"#d8576b\"], [0.6666666666666666, \"#ed7953\"], [0.7777777777777778, \"#fb9f3a\"], [0.8888888888888888, \"#fdca26\"], [1.0, \"#f0f921\"]], \"type\": \"heatmap\"}], \"heatmapgl\": [{\"colorbar\": {\"outlinewidth\": 0, \"ticks\": \"\"}, \"colorscale\": [[0.0, \"#0d0887\"], [0.1111111111111111, \"#46039f\"], [0.2222222222222222, \"#7201a8\"], [0.3333333333333333, \"#9c179e\"], [0.4444444444444444, \"#bd3786\"], [0.5555555555555556, \"#d8576b\"], [0.6666666666666666, \"#ed7953\"], [0.7777777777777778, \"#fb9f3a\"], [0.8888888888888888, \"#fdca26\"], [1.0, \"#f0f921\"]], \"type\": \"heatmapgl\"}], \"histogram\": [{\"marker\": {\"colorbar\": {\"outlinewidth\": 0, \"ticks\": \"\"}}, \"type\": \"histogram\"}], \"histogram2d\": [{\"colorbar\": {\"outlinewidth\": 0, \"ticks\": \"\"}, \"colorscale\": [[0.0, \"#0d0887\"], [0.1111111111111111, \"#46039f\"], [0.2222222222222222, \"#7201a8\"], [0.3333333333333333, \"#9c179e\"], [0.4444444444444444, \"#bd3786\"], [0.5555555555555556, \"#d8576b\"], [0.6666666666666666, \"#ed7953\"], [0.7777777777777778, \"#fb9f3a\"], [0.8888888888888888, \"#fdca26\"], [1.0, \"#f0f921\"]], \"type\": \"histogram2d\"}], \"histogram2dcontour\": [{\"colorbar\": {\"outlinewidth\": 0, \"ticks\": \"\"}, \"colorscale\": [[0.0, \"#0d0887\"], [0.1111111111111111, \"#46039f\"], [0.2222222222222222, \"#7201a8\"], [0.3333333333333333, \"#9c179e\"], [0.4444444444444444, \"#bd3786\"], [0.5555555555555556, \"#d8576b\"], [0.6666666666666666, \"#ed7953\"], [0.7777777777777778, \"#fb9f3a\"], [0.8888888888888888, \"#fdca26\"], [1.0, \"#f0f921\"]], \"type\": \"histogram2dcontour\"}], \"mesh3d\": [{\"colorbar\": {\"outlinewidth\": 0, \"ticks\": \"\"}, \"type\": \"mesh3d\"}], \"parcoords\": [{\"line\": {\"colorbar\": {\"outlinewidth\": 0, \"ticks\": \"\"}}, \"type\": \"parcoords\"}], \"pie\": [{\"automargin\": true, \"type\": \"pie\"}], \"scatter\": [{\"marker\": {\"colorbar\": {\"outlinewidth\": 0, \"ticks\": \"\"}}, \"type\": \"scatter\"}], \"scatter3d\": [{\"line\": {\"colorbar\": {\"outlinewidth\": 0, \"ticks\": \"\"}}, \"marker\": {\"colorbar\": {\"outlinewidth\": 0, \"ticks\": \"\"}}, \"type\": \"scatter3d\"}], \"scattercarpet\": [{\"marker\": {\"colorbar\": {\"outlinewidth\": 0, \"ticks\": \"\"}}, \"type\": \"scattercarpet\"}], \"scattergeo\": [{\"marker\": {\"colorbar\": {\"outlinewidth\": 0, \"ticks\": \"\"}}, \"type\": \"scattergeo\"}], \"scattergl\": [{\"marker\": {\"colorbar\": {\"outlinewidth\": 0, \"ticks\": \"\"}}, \"type\": \"scattergl\"}], \"scattermapbox\": [{\"marker\": {\"colorbar\": {\"outlinewidth\": 0, \"ticks\": \"\"}}, \"type\": \"scattermapbox\"}], \"scatterpolar\": [{\"marker\": {\"colorbar\": {\"outlinewidth\": 0, \"ticks\": \"\"}}, \"type\": \"scatterpolar\"}], \"scatterpolargl\": [{\"marker\": {\"colorbar\": {\"outlinewidth\": 0, \"ticks\": \"\"}}, \"type\": \"scatterpolargl\"}], \"scatterternary\": [{\"marker\": {\"colorbar\": {\"outlinewidth\": 0, \"ticks\": \"\"}}, \"type\": \"scatterternary\"}], \"surface\": [{\"colorbar\": {\"outlinewidth\": 0, \"ticks\": \"\"}, \"colorscale\": [[0.0, \"#0d0887\"], [0.1111111111111111, \"#46039f\"], [0.2222222222222222, \"#7201a8\"], [0.3333333333333333, \"#9c179e\"], [0.4444444444444444, \"#bd3786\"], [0.5555555555555556, \"#d8576b\"], [0.6666666666666666, \"#ed7953\"], [0.7777777777777778, \"#fb9f3a\"], [0.8888888888888888, \"#fdca26\"], [1.0, \"#f0f921\"]], \"type\": \"surface\"}], \"table\": [{\"cells\": {\"fill\": {\"color\": \"#EBF0F8\"}, \"line\": {\"color\": \"white\"}}, \"header\": {\"fill\": {\"color\": \"#C8D4E3\"}, \"line\": {\"color\": \"white\"}}, \"type\": \"table\"}]}, \"layout\": {\"annotationdefaults\": {\"arrowcolor\": \"#2a3f5f\", \"arrowhead\": 0, \"arrowwidth\": 1}, \"autotypenumbers\": \"strict\", \"coloraxis\": {\"colorbar\": {\"outlinewidth\": 0, \"ticks\": \"\"}}, \"colorscale\": {\"diverging\": [[0, \"#8e0152\"], [0.1, \"#c51b7d\"], [0.2, \"#de77ae\"], [0.3, \"#f1b6da\"], [0.4, \"#fde0ef\"], [0.5, \"#f7f7f7\"], [0.6, \"#e6f5d0\"], [0.7, \"#b8e186\"], [0.8, \"#7fbc41\"], [0.9, \"#4d9221\"], [1, \"#276419\"]], \"sequential\": [[0.0, \"#0d0887\"], [0.1111111111111111, \"#46039f\"], [0.2222222222222222, \"#7201a8\"], [0.3333333333333333, \"#9c179e\"], [0.4444444444444444, \"#bd3786\"], [0.5555555555555556, \"#d8576b\"], [0.6666666666666666, \"#ed7953\"], [0.7777777777777778, \"#fb9f3a\"], [0.8888888888888888, \"#fdca26\"], [1.0, \"#f0f921\"]], \"sequentialminus\": [[0.0, \"#0d0887\"], [0.1111111111111111, \"#46039f\"], [0.2222222222222222, \"#7201a8\"], [0.3333333333333333, \"#9c179e\"], [0.4444444444444444, \"#bd3786\"], [0.5555555555555556, \"#d8576b\"], [0.6666666666666666, \"#ed7953\"], [0.7777777777777778, \"#fb9f3a\"], [0.8888888888888888, \"#fdca26\"], [1.0, \"#f0f921\"]]}, \"colorway\": [\"#636efa\", \"#EF553B\", \"#00cc96\", \"#ab63fa\", \"#FFA15A\", \"#19d3f3\", \"#FF6692\", \"#B6E880\", \"#FF97FF\", \"#FECB52\"], \"font\": {\"color\": \"#2a3f5f\"}, \"geo\": {\"bgcolor\": \"white\", \"lakecolor\": \"white\", \"landcolor\": \"#E5ECF6\", \"showlakes\": true, \"showland\": true, \"subunitcolor\": \"white\"}, \"hoverlabel\": {\"align\": \"left\"}, \"hovermode\": \"closest\", \"mapbox\": {\"style\": \"light\"}, \"paper_bgcolor\": \"white\", \"plot_bgcolor\": \"#E5ECF6\", \"polar\": {\"angularaxis\": {\"gridcolor\": \"white\", \"linecolor\": \"white\", \"ticks\": \"\"}, \"bgcolor\": \"#E5ECF6\", \"radialaxis\": {\"gridcolor\": \"white\", \"linecolor\": \"white\", \"ticks\": \"\"}}, \"scene\": {\"xaxis\": {\"backgroundcolor\": \"#E5ECF6\", \"gridcolor\": \"white\", \"gridwidth\": 2, \"linecolor\": \"white\", \"showbackground\": true, \"ticks\": \"\", \"zerolinecolor\": \"white\"}, \"yaxis\": {\"backgroundcolor\": \"#E5ECF6\", \"gridcolor\": \"white\", \"gridwidth\": 2, \"linecolor\": \"white\", \"showbackground\": true, \"ticks\": \"\", \"zerolinecolor\": \"white\"}, \"zaxis\": {\"backgroundcolor\": \"#E5ECF6\", \"gridcolor\": \"white\", \"gridwidth\": 2, \"linecolor\": \"white\", \"showbackground\": true, \"ticks\": \"\", \"zerolinecolor\": \"white\"}}, \"shapedefaults\": {\"line\": {\"color\": \"#2a3f5f\"}}, \"ternary\": {\"aaxis\": {\"gridcolor\": \"white\", \"linecolor\": \"white\", \"ticks\": \"\"}, \"baxis\": {\"gridcolor\": \"white\", \"linecolor\": \"white\", \"ticks\": \"\"}, \"bgcolor\": \"#E5ECF6\", \"caxis\": {\"gridcolor\": \"white\", \"linecolor\": \"white\", \"ticks\": \"\"}}, \"title\": {\"x\": 0.05}, \"xaxis\": {\"automargin\": true, \"gridcolor\": \"white\", \"linecolor\": \"white\", \"ticks\": \"\", \"title\": {\"standoff\": 15}, \"zerolinecolor\": \"white\", \"zerolinewidth\": 2}, \"yaxis\": {\"automargin\": true, \"gridcolor\": \"white\", \"linecolor\": \"white\", \"ticks\": \"\", \"title\": {\"standoff\": 15}, \"zerolinecolor\": \"white\", \"zerolinewidth\": 2}}}, \"updatemenus\": [{\"buttons\": [{\"args\": [null, {\"frame\": {\"duration\": 200, \"redraw\": false}, \"fromcurrent\": true, \"mode\": \"immediate\", \"transition\": {\"duration\": 500, \"easing\": \"linear\"}}], \"label\": \"&#9654;\", \"method\": \"animate\"}, {\"args\": [[null], {\"frame\": {\"duration\": 0, \"redraw\": false}, \"fromcurrent\": true, \"mode\": \"immediate\", \"transition\": {\"duration\": 0, \"easing\": \"linear\"}}], \"label\": \"&#9724;\", \"method\": \"animate\"}], \"direction\": \"left\", \"pad\": {\"r\": 10, \"t\": 70}, \"showactive\": false, \"type\": \"buttons\", \"x\": 0.1, \"xanchor\": \"right\", \"y\": 0, \"yanchor\": \"top\"}], \"xaxis\": {\"anchor\": \"y\", \"domain\": [0.0, 1.0], \"range\": [1000, 2000], \"title\": {\"text\": \"Gold Price in Dollar\"}}, \"yaxis\": {\"anchor\": \"x\", \"domain\": [0.0, 1.0], \"range\": [1500, 4500], \"title\": {\"text\": \"Stock Market Closing Price in Dollar\"}}},                        {\"responsive\": true}                    ).then(function(){\n",
       "                            Plotly.addFrames('52785004-95ae-44c4-bcee-b84d7edc2681', [{\"data\": [{\"hovertemplate\": \"<b>%{hovertext}</b><br><br>Market Standard=SP500<br>DATE=4/1/2016<br>Gold Price in Dollar=%{x}<br>Stock Market Closing Price in Dollar=%{marker.size}<extra></extra>\", \"hovertext\": [\"SP500\"], \"ids\": [\"SP500\"], \"legendgroup\": \"SP500\", \"marker\": {\"color\": \"#636efa\", \"size\": [2075.535238], \"sizemode\": \"area\", \"sizeref\": 10.352940475, \"symbol\": \"circle\"}, \"mode\": \"markers\", \"name\": \"SP500\", \"orientation\": \"v\", \"showlegend\": true, \"x\": [1318.400024], \"xaxis\": \"x\", \"y\": [2075.535238], \"yaxis\": \"y\", \"type\": \"scatter\"}, {\"hovertemplate\": \"<b>%{hovertext}</b><br><br>Market Standard=SSE<br>DATE=4/1/2016<br>Gold Price in Dollar=%{x}<br>Stock Market Closing Price in Dollar=%{marker.size}<extra></extra>\", \"hovertext\": [\"SSE\"], \"ids\": [\"SSE\"], \"legendgroup\": \"SSE\", \"marker\": {\"color\": \"#EF553B\", \"size\": [2929.605957], \"sizemode\": \"area\", \"sizeref\": 10.352940475, \"symbol\": \"circle\"}, \"mode\": \"markers\", \"name\": \"SSE\", \"orientation\": \"v\", \"showlegend\": true, \"x\": [1318.400024], \"xaxis\": \"x\", \"y\": [2929.605957], \"yaxis\": \"y\", \"type\": \"scatter\"}, {\"hovertemplate\": \"<b>%{hovertext}</b><br><br>Market Standard=JPN<br>DATE=4/1/2016<br>Gold Price in Dollar=%{x}<br>Stock Market Closing Price in Dollar=%{marker.size}<extra></extra>\", \"hovertext\": [\"JPN\"], \"ids\": [\"JPN\"], \"legendgroup\": \"JPN\", \"marker\": {\"color\": \"#00cc96\", \"size\": [1557.5919920000001], \"sizemode\": \"area\", \"sizeref\": 10.352940475, \"symbol\": \"circle\"}, \"mode\": \"markers\", \"name\": \"JPN\", \"orientation\": \"v\", \"showlegend\": true, \"x\": [1318.400024], \"xaxis\": \"x\", \"y\": [1557.5919920000001], \"yaxis\": \"y\", \"type\": \"scatter\"}], \"name\": \"4/1/2016\"}, {\"data\": [{\"hovertemplate\": \"<b>%{hovertext}</b><br><br>Market Standard=SP500<br>DATE=5/1/2016<br>Gold Price in Dollar=%{x}<br>Stock Market Closing Price in Dollar=%{marker.size}<extra></extra>\", \"hovertext\": [\"SP500\"], \"ids\": [\"SP500\"], \"legendgroup\": \"SP500\", \"marker\": {\"color\": \"#636efa\", \"size\": [2065.550952], \"sizemode\": \"area\", \"sizeref\": 10.352940475, \"symbol\": \"circle\"}, \"mode\": \"markers\", \"name\": \"SP500\", \"orientation\": \"v\", \"showlegend\": true, \"x\": [1349.0], \"xaxis\": \"x\", \"y\": [2065.550952], \"yaxis\": \"y\", \"type\": \"scatter\"}, {\"hovertemplate\": \"<b>%{hovertext}</b><br><br>Market Standard=SSE<br>DATE=5/1/2016<br>Gold Price in Dollar=%{x}<br>Stock Market Closing Price in Dollar=%{marker.size}<extra></extra>\", \"hovertext\": [\"SSE\"], \"ids\": [\"SSE\"], \"legendgroup\": \"SSE\", \"marker\": {\"color\": \"#EF553B\", \"size\": [2979.339111], \"sizemode\": \"area\", \"sizeref\": 10.352940475, \"symbol\": \"circle\"}, \"mode\": \"markers\", \"name\": \"SSE\", \"orientation\": \"v\", \"showlegend\": true, \"x\": [1349.0], \"xaxis\": \"x\", \"y\": [2979.339111], \"yaxis\": \"y\", \"type\": \"scatter\"}, {\"hovertemplate\": \"<b>%{hovertext}</b><br><br>Market Standard=JPN<br>DATE=5/1/2016<br>Gold Price in Dollar=%{x}<br>Stock Market Closing Price in Dollar=%{marker.size}<extra></extra>\", \"hovertext\": [\"JPN\"], \"ids\": [\"JPN\"], \"legendgroup\": \"JPN\", \"marker\": {\"color\": \"#00cc96\", \"size\": [1656.9269530000001], \"sizemode\": \"area\", \"sizeref\": 10.352940475, \"symbol\": \"circle\"}, \"mode\": \"markers\", \"name\": \"JPN\", \"orientation\": \"v\", \"showlegend\": true, \"x\": [1349.0], \"xaxis\": \"x\", \"y\": [1656.9269530000001], \"yaxis\": \"y\", \"type\": \"scatter\"}], \"name\": \"5/1/2016\"}, {\"data\": [{\"hovertemplate\": \"<b>%{hovertext}</b><br><br>Market Standard=SP500<br>DATE=6/1/2016<br>Gold Price in Dollar=%{x}<br>Stock Market Closing Price in Dollar=%{marker.size}<extra></extra>\", \"hovertext\": [\"SP500\"], \"ids\": [\"SP500\"], \"legendgroup\": \"SP500\", \"marker\": {\"color\": \"#636efa\", \"size\": [2083.891364], \"sizemode\": \"area\", \"sizeref\": 10.352940475, \"symbol\": \"circle\"}, \"mode\": \"markers\", \"name\": \"SP500\", \"orientation\": \"v\", \"showlegend\": true, \"x\": [1306.900024], \"xaxis\": \"x\", \"y\": [2083.891364], \"yaxis\": \"y\", \"type\": \"scatter\"}, {\"hovertemplate\": \"<b>%{hovertext}</b><br><br>Market Standard=SSE<br>DATE=6/1/2016<br>Gold Price in Dollar=%{x}<br>Stock Market Closing Price in Dollar=%{marker.size}<extra></extra>\", \"hovertext\": [\"SSE\"], \"ids\": [\"SSE\"], \"legendgroup\": \"SSE\", \"marker\": {\"color\": \"#EF553B\", \"size\": [3085.490967], \"sizemode\": \"area\", \"sizeref\": 10.352940475, \"symbol\": \"circle\"}, \"mode\": \"markers\", \"name\": \"SSE\", \"orientation\": \"v\", \"showlegend\": true, \"x\": [1306.900024], \"xaxis\": \"x\", \"y\": [3085.490967], \"yaxis\": \"y\", \"type\": \"scatter\"}, {\"hovertemplate\": \"<b>%{hovertext}</b><br><br>Market Standard=JPN<br>DATE=6/1/2016<br>Gold Price in Dollar=%{x}<br>Stock Market Closing Price in Dollar=%{marker.size}<extra></extra>\", \"hovertext\": [\"JPN\"], \"ids\": [\"JPN\"], \"legendgroup\": \"JPN\", \"marker\": {\"color\": \"#00cc96\", \"size\": [1688.7400389999998], \"sizemode\": \"area\", \"sizeref\": 10.352940475, \"symbol\": \"circle\"}, \"mode\": \"markers\", \"name\": \"JPN\", \"orientation\": \"v\", \"showlegend\": true, \"x\": [1306.900024], \"xaxis\": \"x\", \"y\": [1688.7400389999998], \"yaxis\": \"y\", \"type\": \"scatter\"}], \"name\": \"6/1/2016\"}, {\"data\": [{\"hovertemplate\": \"<b>%{hovertext}</b><br><br>Market Standard=SP500<br>DATE=7/1/2016<br>Gold Price in Dollar=%{x}<br>Stock Market Closing Price in Dollar=%{marker.size}<extra></extra>\", \"hovertext\": [\"SP500\"], \"ids\": [\"SP500\"], \"legendgroup\": \"SP500\", \"marker\": {\"color\": \"#636efa\", \"size\": [2148.902], \"sizemode\": \"area\", \"sizeref\": 10.352940475, \"symbol\": \"circle\"}, \"mode\": \"markers\", \"name\": \"SP500\", \"orientation\": \"v\", \"showlegend\": true, \"x\": [1313.300049], \"xaxis\": \"x\", \"y\": [2148.902], \"yaxis\": \"y\", \"type\": \"scatter\"}, {\"hovertemplate\": \"<b>%{hovertext}</b><br><br>Market Standard=SSE<br>DATE=7/1/2016<br>Gold Price in Dollar=%{x}<br>Stock Market Closing Price in Dollar=%{marker.size}<extra></extra>\", \"hovertext\": [\"SSE\"], \"ids\": [\"SSE\"], \"legendgroup\": \"SSE\", \"marker\": {\"color\": \"#EF553B\", \"size\": [3004.702881], \"sizemode\": \"area\", \"sizeref\": 10.352940475, \"symbol\": \"circle\"}, \"mode\": \"markers\", \"name\": \"SSE\", \"orientation\": \"v\", \"showlegend\": true, \"x\": [1313.300049], \"xaxis\": \"x\", \"y\": [3004.702881], \"yaxis\": \"y\", \"type\": \"scatter\"}, {\"hovertemplate\": \"<b>%{hovertext}</b><br><br>Market Standard=JPN<br>DATE=7/1/2016<br>Gold Price in Dollar=%{x}<br>Stock Market Closing Price in Dollar=%{marker.size}<extra></extra>\", \"hovertext\": [\"JPN\"], \"ids\": [\"JPN\"], \"legendgroup\": \"JPN\", \"marker\": {\"color\": \"#00cc96\", \"size\": [1644.983984], \"sizemode\": \"area\", \"sizeref\": 10.352940475, \"symbol\": \"circle\"}, \"mode\": \"markers\", \"name\": \"JPN\", \"orientation\": \"v\", \"showlegend\": true, \"x\": [1313.300049], \"xaxis\": \"x\", \"y\": [1644.983984], \"yaxis\": \"y\", \"type\": \"scatter\"}], \"name\": \"7/1/2016\"}, {\"data\": [{\"hovertemplate\": \"<b>%{hovertext}</b><br><br>Market Standard=SP500<br>DATE=8/1/2016<br>Gold Price in Dollar=%{x}<br>Stock Market Closing Price in Dollar=%{marker.size}<extra></extra>\", \"hovertext\": [\"SP500\"], \"ids\": [\"SP500\"], \"legendgroup\": \"SP500\", \"marker\": {\"color\": \"#636efa\", \"size\": [2177.482174], \"sizemode\": \"area\", \"sizeref\": 10.352940475, \"symbol\": \"circle\"}, \"mode\": \"markers\", \"name\": \"SP500\", \"orientation\": \"v\", \"showlegend\": true, \"x\": [1271.5], \"xaxis\": \"x\", \"y\": [2177.482174], \"yaxis\": \"y\", \"type\": \"scatter\"}, {\"hovertemplate\": \"<b>%{hovertext}</b><br><br>Market Standard=SSE<br>DATE=8/1/2016<br>Gold Price in Dollar=%{x}<br>Stock Market Closing Price in Dollar=%{marker.size}<extra></extra>\", \"hovertext\": [\"SSE\"], \"ids\": [\"SSE\"], \"legendgroup\": \"SSE\", \"marker\": {\"color\": \"#EF553B\", \"size\": [3100.491943], \"sizemode\": \"area\", \"sizeref\": 10.352940475, \"symbol\": \"circle\"}, \"mode\": \"markers\", \"name\": \"SSE\", \"orientation\": \"v\", \"showlegend\": true, \"x\": [1271.5], \"xaxis\": \"x\", \"y\": [3100.491943], \"yaxis\": \"y\", \"type\": \"scatter\"}, {\"hovertemplate\": \"<b>%{hovertext}</b><br><br>Market Standard=JPN<br>DATE=8/1/2016<br>Gold Price in Dollar=%{x}<br>Stock Market Closing Price in Dollar=%{marker.size}<extra></extra>\", \"hovertext\": [\"JPN\"], \"ids\": [\"JPN\"], \"legendgroup\": \"JPN\", \"marker\": {\"color\": \"#00cc96\", \"size\": [1742.5019530000002], \"sizemode\": \"area\", \"sizeref\": 10.352940475, \"symbol\": \"circle\"}, \"mode\": \"markers\", \"name\": \"JPN\", \"orientation\": \"v\", \"showlegend\": true, \"x\": [1271.5], \"xaxis\": \"x\", \"y\": [1742.5019530000002], \"yaxis\": \"y\", \"type\": \"scatter\"}], \"name\": \"8/1/2016\"}, {\"data\": [{\"hovertemplate\": \"<b>%{hovertext}</b><br><br>Market Standard=SP500<br>DATE=9/1/2016<br>Gold Price in Dollar=%{x}<br>Stock Market Closing Price in Dollar=%{marker.size}<extra></extra>\", \"hovertext\": [\"SP500\"], \"ids\": [\"SP500\"], \"legendgroup\": \"SP500\", \"marker\": {\"color\": \"#636efa\", \"size\": [2157.690952], \"sizemode\": \"area\", \"sizeref\": 10.352940475, \"symbol\": \"circle\"}, \"mode\": \"markers\", \"name\": \"SP500\", \"orientation\": \"v\", \"showlegend\": true, \"x\": [1170.800049], \"xaxis\": \"x\", \"y\": [2157.690952], \"yaxis\": \"y\", \"type\": \"scatter\"}, {\"hovertemplate\": \"<b>%{hovertext}</b><br><br>Market Standard=SSE<br>DATE=9/1/2016<br>Gold Price in Dollar=%{x}<br>Stock Market Closing Price in Dollar=%{marker.size}<extra></extra>\", \"hovertext\": [\"SSE\"], \"ids\": [\"SSE\"], \"legendgroup\": \"SSE\", \"marker\": {\"color\": \"#EF553B\", \"size\": [3250.033936], \"sizemode\": \"area\", \"sizeref\": 10.352940475, \"symbol\": \"circle\"}, \"mode\": \"markers\", \"name\": \"SSE\", \"orientation\": \"v\", \"showlegend\": true, \"x\": [1170.800049], \"xaxis\": \"x\", \"y\": [3250.033936], \"yaxis\": \"y\", \"type\": \"scatter\"}, {\"hovertemplate\": \"<b>%{hovertext}</b><br><br>Market Standard=JPN<br>DATE=9/1/2016<br>Gold Price in Dollar=%{x}<br>Stock Market Closing Price in Dollar=%{marker.size}<extra></extra>\", \"hovertext\": [\"JPN\"], \"ids\": [\"JPN\"], \"legendgroup\": \"JPN\", \"marker\": {\"color\": \"#00cc96\", \"size\": [1830.848047], \"sizemode\": \"area\", \"sizeref\": 10.352940475, \"symbol\": \"circle\"}, \"mode\": \"markers\", \"name\": \"JPN\", \"orientation\": \"v\", \"showlegend\": true, \"x\": [1170.800049], \"xaxis\": \"x\", \"y\": [1830.848047], \"yaxis\": \"y\", \"type\": \"scatter\"}], \"name\": \"9/1/2016\"}, {\"data\": [{\"hovertemplate\": \"<b>%{hovertext}</b><br><br>Market Standard=SP500<br>DATE=10/1/2016<br>Gold Price in Dollar=%{x}<br>Stock Market Closing Price in Dollar=%{marker.size}<extra></extra>\", \"hovertext\": [\"SP500\"], \"ids\": [\"SP500\"], \"legendgroup\": \"SP500\", \"marker\": {\"color\": \"#636efa\", \"size\": [2143.020952], \"sizemode\": \"area\", \"sizeref\": 10.352940475, \"symbol\": \"circle\"}, \"mode\": \"markers\", \"name\": \"SP500\", \"orientation\": \"v\", \"showlegend\": true, \"x\": [1150.0], \"xaxis\": \"x\", \"y\": [2143.020952], \"yaxis\": \"y\", \"type\": \"scatter\"}, {\"hovertemplate\": \"<b>%{hovertext}</b><br><br>Market Standard=SSE<br>DATE=10/1/2016<br>Gold Price in Dollar=%{x}<br>Stock Market Closing Price in Dollar=%{marker.size}<extra></extra>\", \"hovertext\": [\"SSE\"], \"ids\": [\"SSE\"], \"legendgroup\": \"SSE\", \"marker\": {\"color\": \"#EF553B\", \"size\": [3103.636963], \"sizemode\": \"area\", \"sizeref\": 10.352940475, \"symbol\": \"circle\"}, \"mode\": \"markers\", \"name\": \"SSE\", \"orientation\": \"v\", \"showlegend\": true, \"x\": [1150.0], \"xaxis\": \"x\", \"y\": [3103.636963], \"yaxis\": \"y\", \"type\": \"scatter\"}, {\"hovertemplate\": \"<b>%{hovertext}</b><br><br>Market Standard=JPN<br>DATE=10/1/2016<br>Gold Price in Dollar=%{x}<br>Stock Market Closing Price in Dollar=%{marker.size}<extra></extra>\", \"hovertext\": [\"JPN\"], \"ids\": [\"JPN\"], \"legendgroup\": \"JPN\", \"marker\": {\"color\": \"#00cc96\", \"size\": [1911.436914], \"sizemode\": \"area\", \"sizeref\": 10.352940475, \"symbol\": \"circle\"}, \"mode\": \"markers\", \"name\": \"JPN\", \"orientation\": \"v\", \"showlegend\": true, \"x\": [1150.0], \"xaxis\": \"x\", \"y\": [1911.436914], \"yaxis\": \"y\", \"type\": \"scatter\"}], \"name\": \"10/1/2016\"}, {\"data\": [{\"hovertemplate\": \"<b>%{hovertext}</b><br><br>Market Standard=SP500<br>DATE=11/1/2016<br>Gold Price in Dollar=%{x}<br>Stock Market Closing Price in Dollar=%{marker.size}<extra></extra>\", \"hovertext\": [\"SP500\"], \"ids\": [\"SP500\"], \"legendgroup\": \"SP500\", \"marker\": {\"color\": \"#636efa\", \"size\": [2164.985714], \"sizemode\": \"area\", \"sizeref\": 10.352940475, \"symbol\": \"circle\"}, \"mode\": \"markers\", \"name\": \"SP500\", \"orientation\": \"v\", \"showlegend\": true, \"x\": [1252.599976], \"xaxis\": \"x\", \"y\": [2164.985714], \"yaxis\": \"y\", \"type\": \"scatter\"}, {\"hovertemplate\": \"<b>%{hovertext}</b><br><br>Market Standard=SSE<br>DATE=11/1/2016<br>Gold Price in Dollar=%{x}<br>Stock Market Closing Price in Dollar=%{marker.size}<extra></extra>\", \"hovertext\": [\"SSE\"], \"ids\": [\"SSE\"], \"legendgroup\": \"SSE\", \"marker\": {\"color\": \"#EF553B\", \"size\": [3159.166016], \"sizemode\": \"area\", \"sizeref\": 10.352940475, \"symbol\": \"circle\"}, \"mode\": \"markers\", \"name\": \"SSE\", \"orientation\": \"v\", \"showlegend\": true, \"x\": [1252.599976], \"xaxis\": \"x\", \"y\": [3159.166016], \"yaxis\": \"y\", \"type\": \"scatter\"}, {\"hovertemplate\": \"<b>%{hovertext}</b><br><br>Market Standard=JPN<br>DATE=11/1/2016<br>Gold Price in Dollar=%{x}<br>Stock Market Closing Price in Dollar=%{marker.size}<extra></extra>\", \"hovertext\": [\"JPN\"], \"ids\": [\"JPN\"], \"legendgroup\": \"JPN\", \"marker\": {\"color\": \"#00cc96\", \"size\": [1904.133984], \"sizemode\": \"area\", \"sizeref\": 10.352940475, \"symbol\": \"circle\"}, \"mode\": \"markers\", \"name\": \"JPN\", \"orientation\": \"v\", \"showlegend\": true, \"x\": [1252.599976], \"xaxis\": \"x\", \"y\": [1904.133984], \"yaxis\": \"y\", \"type\": \"scatter\"}], \"name\": \"11/1/2016\"}, {\"data\": [{\"hovertemplate\": \"<b>%{hovertext}</b><br><br>Market Standard=SP500<br>DATE=12/1/2016<br>Gold Price in Dollar=%{x}<br>Stock Market Closing Price in Dollar=%{marker.size}<extra></extra>\", \"hovertext\": [\"SP500\"], \"ids\": [\"SP500\"], \"legendgroup\": \"SP500\", \"marker\": {\"color\": \"#636efa\", \"size\": [2246.629048], \"sizemode\": \"area\", \"sizeref\": 10.352940475, \"symbol\": \"circle\"}, \"mode\": \"markers\", \"name\": \"SP500\", \"orientation\": \"v\", \"showlegend\": true, \"x\": [1247.300049], \"xaxis\": \"x\", \"y\": [2246.629048], \"yaxis\": \"y\", \"type\": \"scatter\"}, {\"hovertemplate\": \"<b>%{hovertext}</b><br><br>Market Standard=SSE<br>DATE=12/1/2016<br>Gold Price in Dollar=%{x}<br>Stock Market Closing Price in Dollar=%{marker.size}<extra></extra>\", \"hovertext\": [\"SSE\"], \"ids\": [\"SSE\"], \"legendgroup\": \"SSE\", \"marker\": {\"color\": \"#EF553B\", \"size\": [3241.73291], \"sizemode\": \"area\", \"sizeref\": 10.352940475, \"symbol\": \"circle\"}, \"mode\": \"markers\", \"name\": \"SSE\", \"orientation\": \"v\", \"showlegend\": true, \"x\": [1247.300049], \"xaxis\": \"x\", \"y\": [3241.73291], \"yaxis\": \"y\", \"type\": \"scatter\"}, {\"hovertemplate\": \"<b>%{hovertext}</b><br><br>Market Standard=JPN<br>DATE=12/1/2016<br>Gold Price in Dollar=%{x}<br>Stock Market Closing Price in Dollar=%{marker.size}<extra></extra>\", \"hovertext\": [\"JPN\"], \"ids\": [\"JPN\"], \"legendgroup\": \"JPN\", \"marker\": {\"color\": \"#00cc96\", \"size\": [1911.899023], \"sizemode\": \"area\", \"sizeref\": 10.352940475, \"symbol\": \"circle\"}, \"mode\": \"markers\", \"name\": \"JPN\", \"orientation\": \"v\", \"showlegend\": true, \"x\": [1247.300049], \"xaxis\": \"x\", \"y\": [1911.899023], \"yaxis\": \"y\", \"type\": \"scatter\"}], \"name\": \"12/1/2016\"}, {\"data\": [{\"hovertemplate\": \"<b>%{hovertext}</b><br><br>Market Standard=SP500<br>DATE=1/1/2017<br>Gold Price in Dollar=%{x}<br>Stock Market Closing Price in Dollar=%{marker.size}<extra></extra>\", \"hovertext\": [\"SP500\"], \"ids\": [\"SP500\"], \"legendgroup\": \"SP500\", \"marker\": {\"color\": \"#636efa\", \"size\": [2275.116], \"sizemode\": \"area\", \"sizeref\": 10.352940475, \"symbol\": \"circle\"}, \"mode\": \"markers\", \"name\": \"SP500\", \"orientation\": \"v\", \"showlegend\": true, \"x\": [1266.099976], \"xaxis\": \"x\", \"y\": [2275.116], \"yaxis\": \"y\", \"type\": \"scatter\"}, {\"hovertemplate\": \"<b>%{hovertext}</b><br><br>Market Standard=SSE<br>DATE=1/1/2017<br>Gold Price in Dollar=%{x}<br>Stock Market Closing Price in Dollar=%{marker.size}<extra></extra>\", \"hovertext\": [\"SSE\"], \"ids\": [\"SSE\"], \"legendgroup\": \"SSE\", \"marker\": {\"color\": \"#EF553B\", \"size\": [3222.513916], \"sizemode\": \"area\", \"sizeref\": 10.352940475, \"symbol\": \"circle\"}, \"mode\": \"markers\", \"name\": \"SSE\", \"orientation\": \"v\", \"showlegend\": true, \"x\": [1266.099976], \"xaxis\": \"x\", \"y\": [3222.513916], \"yaxis\": \"y\", \"type\": \"scatter\"}, {\"hovertemplate\": \"<b>%{hovertext}</b><br><br>Market Standard=JPN<br>DATE=1/1/2017<br>Gold Price in Dollar=%{x}<br>Stock Market Closing Price in Dollar=%{marker.size}<extra></extra>\", \"hovertext\": [\"JPN\"], \"ids\": [\"JPN\"], \"legendgroup\": \"JPN\", \"marker\": {\"color\": \"#00cc96\", \"size\": [1890.925977], \"sizemode\": \"area\", \"sizeref\": 10.352940475, \"symbol\": \"circle\"}, \"mode\": \"markers\", \"name\": \"JPN\", \"orientation\": \"v\", \"showlegend\": true, \"x\": [1266.099976], \"xaxis\": \"x\", \"y\": [1890.925977], \"yaxis\": \"y\", \"type\": \"scatter\"}], \"name\": \"1/1/2017\"}, {\"data\": [{\"hovertemplate\": \"<b>%{hovertext}</b><br><br>Market Standard=SP500<br>DATE=2/1/2017<br>Gold Price in Dollar=%{x}<br>Stock Market Closing Price in Dollar=%{marker.size}<extra></extra>\", \"hovertext\": [\"SP500\"], \"ids\": [\"SP500\"], \"legendgroup\": \"SP500\", \"marker\": {\"color\": \"#636efa\", \"size\": [2329.910526], \"sizemode\": \"area\", \"sizeref\": 10.352940475, \"symbol\": \"circle\"}, \"mode\": \"markers\", \"name\": \"SP500\", \"orientation\": \"v\", \"showlegend\": true, \"x\": [1272.0], \"xaxis\": \"x\", \"y\": [2329.910526], \"yaxis\": \"y\", \"type\": \"scatter\"}, {\"hovertemplate\": \"<b>%{hovertext}</b><br><br>Market Standard=SSE<br>DATE=2/1/2017<br>Gold Price in Dollar=%{x}<br>Stock Market Closing Price in Dollar=%{marker.size}<extra></extra>\", \"hovertext\": [\"SSE\"], \"ids\": [\"SSE\"], \"legendgroup\": \"SSE\", \"marker\": {\"color\": \"#EF553B\", \"size\": [3154.657959], \"sizemode\": \"area\", \"sizeref\": 10.352940475, \"symbol\": \"circle\"}, \"mode\": \"markers\", \"name\": \"SSE\", \"orientation\": \"v\", \"showlegend\": true, \"x\": [1272.0], \"xaxis\": \"x\", \"y\": [3154.657959], \"yaxis\": \"y\", \"type\": \"scatter\"}, {\"hovertemplate\": \"<b>%{hovertext}</b><br><br>Market Standard=JPN<br>DATE=2/1/2017<br>Gold Price in Dollar=%{x}<br>Stock Market Closing Price in Dollar=%{marker.size}<extra></extra>\", \"hovertext\": [\"JPN\"], \"ids\": [\"JPN\"], \"legendgroup\": \"JPN\", \"marker\": {\"color\": \"#00cc96\", \"size\": [1919.674023], \"sizemode\": \"area\", \"sizeref\": 10.352940475, \"symbol\": \"circle\"}, \"mode\": \"markers\", \"name\": \"JPN\", \"orientation\": \"v\", \"showlegend\": true, \"x\": [1272.0], \"xaxis\": \"x\", \"y\": [1919.674023], \"yaxis\": \"y\", \"type\": \"scatter\"}], \"name\": \"2/1/2017\"}, {\"data\": [{\"hovertemplate\": \"<b>%{hovertext}</b><br><br>Market Standard=SP500<br>DATE=3/1/2017<br>Gold Price in Dollar=%{x}<br>Stock Market Closing Price in Dollar=%{marker.size}<extra></extra>\", \"hovertext\": [\"SP500\"], \"ids\": [\"SP500\"], \"legendgroup\": \"SP500\", \"marker\": {\"color\": \"#636efa\", \"size\": [2366.822174], \"sizemode\": \"area\", \"sizeref\": 10.352940475, \"symbol\": \"circle\"}, \"mode\": \"markers\", \"name\": \"SP500\", \"orientation\": \"v\", \"showlegend\": true, \"x\": [1240.699951], \"xaxis\": \"x\", \"y\": [2366.822174], \"yaxis\": \"y\", \"type\": \"scatter\"}, {\"hovertemplate\": \"<b>%{hovertext}</b><br><br>Market Standard=SSE<br>DATE=3/1/2017<br>Gold Price in Dollar=%{x}<br>Stock Market Closing Price in Dollar=%{marker.size}<extra></extra>\", \"hovertext\": [\"SSE\"], \"ids\": [\"SSE\"], \"legendgroup\": \"SSE\", \"marker\": {\"color\": \"#EF553B\", \"size\": [3117.177979], \"sizemode\": \"area\", \"sizeref\": 10.352940475, \"symbol\": \"circle\"}, \"mode\": \"markers\", \"name\": \"SSE\", \"orientation\": \"v\", \"showlegend\": true, \"x\": [1240.699951], \"xaxis\": \"x\", \"y\": [3117.177979], \"yaxis\": \"y\", \"type\": \"scatter\"}, {\"hovertemplate\": \"<b>%{hovertext}</b><br><br>Market Standard=JPN<br>DATE=3/1/2017<br>Gold Price in Dollar=%{x}<br>Stock Market Closing Price in Dollar=%{marker.size}<extra></extra>\", \"hovertext\": [\"JPN\"], \"ids\": [\"JPN\"], \"legendgroup\": \"JPN\", \"marker\": {\"color\": \"#00cc96\", \"size\": [1965.0570309999998], \"sizemode\": \"area\", \"sizeref\": 10.352940475, \"symbol\": \"circle\"}, \"mode\": \"markers\", \"name\": \"JPN\", \"orientation\": \"v\", \"showlegend\": true, \"x\": [1240.699951], \"xaxis\": \"x\", \"y\": [1965.0570309999998], \"yaxis\": \"y\", \"type\": \"scatter\"}], \"name\": \"3/1/2017\"}, {\"data\": [{\"hovertemplate\": \"<b>%{hovertext}</b><br><br>Market Standard=SP500<br>DATE=4/1/2017<br>Gold Price in Dollar=%{x}<br>Stock Market Closing Price in Dollar=%{marker.size}<extra></extra>\", \"hovertext\": [\"SP500\"], \"ids\": [\"SP500\"], \"legendgroup\": \"SP500\", \"marker\": {\"color\": \"#636efa\", \"size\": [2359.309474], \"sizemode\": \"area\", \"sizeref\": 10.352940475, \"symbol\": \"circle\"}, \"mode\": \"markers\", \"name\": \"SP500\", \"orientation\": \"v\", \"showlegend\": true, \"x\": [1266.599976], \"xaxis\": \"x\", \"y\": [2359.309474], \"yaxis\": \"y\", \"type\": \"scatter\"}, {\"hovertemplate\": \"<b>%{hovertext}</b><br><br>Market Standard=SSE<br>DATE=4/1/2017<br>Gold Price in Dollar=%{x}<br>Stock Market Closing Price in Dollar=%{marker.size}<extra></extra>\", \"hovertext\": [\"SSE\"], \"ids\": [\"SSE\"], \"legendgroup\": \"SSE\", \"marker\": {\"color\": \"#EF553B\", \"size\": [3192.427002], \"sizemode\": \"area\", \"sizeref\": 10.352940475, \"symbol\": \"circle\"}, \"mode\": \"markers\", \"name\": \"SSE\", \"orientation\": \"v\", \"showlegend\": true, \"x\": [1266.599976], \"xaxis\": \"x\", \"y\": [3192.427002], \"yaxis\": \"y\", \"type\": \"scatter\"}, {\"hovertemplate\": \"<b>%{hovertext}</b><br><br>Market Standard=JPN<br>DATE=4/1/2017<br>Gold Price in Dollar=%{x}<br>Stock Market Closing Price in Dollar=%{marker.size}<extra></extra>\", \"hovertext\": [\"JPN\"], \"ids\": [\"JPN\"], \"legendgroup\": \"JPN\", \"marker\": {\"color\": \"#00cc96\", \"size\": [2003.342969], \"sizemode\": \"area\", \"sizeref\": 10.352940475, \"symbol\": \"circle\"}, \"mode\": \"markers\", \"name\": \"JPN\", \"orientation\": \"v\", \"showlegend\": true, \"x\": [1266.599976], \"xaxis\": \"x\", \"y\": [2003.342969], \"yaxis\": \"y\", \"type\": \"scatter\"}], \"name\": \"4/1/2017\"}, {\"data\": [{\"hovertemplate\": \"<b>%{hovertext}</b><br><br>Market Standard=SP500<br>DATE=5/1/2017<br>Gold Price in Dollar=%{x}<br>Stock Market Closing Price in Dollar=%{marker.size}<extra></extra>\", \"hovertext\": [\"SP500\"], \"ids\": [\"SP500\"], \"legendgroup\": \"SP500\", \"marker\": {\"color\": \"#636efa\", \"size\": [2395.345909], \"sizemode\": \"area\", \"sizeref\": 10.352940475, \"symbol\": \"circle\"}, \"mode\": \"markers\", \"name\": \"SP500\", \"orientation\": \"v\", \"showlegend\": true, \"x\": [1316.199951], \"xaxis\": \"x\", \"y\": [2395.345909], \"yaxis\": \"y\", \"type\": \"scatter\"}, {\"hovertemplate\": \"<b>%{hovertext}</b><br><br>Market Standard=SSE<br>DATE=5/1/2017<br>Gold Price in Dollar=%{x}<br>Stock Market Closing Price in Dollar=%{marker.size}<extra></extra>\", \"hovertext\": [\"SSE\"], \"ids\": [\"SSE\"], \"legendgroup\": \"SSE\", \"marker\": {\"color\": \"#EF553B\", \"size\": [3273.028076], \"sizemode\": \"area\", \"sizeref\": 10.352940475, \"symbol\": \"circle\"}, \"mode\": \"markers\", \"name\": \"SSE\", \"orientation\": \"v\", \"showlegend\": true, \"x\": [1316.199951], \"xaxis\": \"x\", \"y\": [3273.028076], \"yaxis\": \"y\", \"type\": \"scatter\"}, {\"hovertemplate\": \"<b>%{hovertext}</b><br><br>Market Standard=JPN<br>DATE=5/1/2017<br>Gold Price in Dollar=%{x}<br>Stock Market Closing Price in Dollar=%{marker.size}<extra></extra>\", \"hovertext\": [\"JPN\"], \"ids\": [\"JPN\"], \"legendgroup\": \"JPN\", \"marker\": {\"color\": \"#00cc96\", \"size\": [1992.517969], \"sizemode\": \"area\", \"sizeref\": 10.352940475, \"symbol\": \"circle\"}, \"mode\": \"markers\", \"name\": \"JPN\", \"orientation\": \"v\", \"showlegend\": true, \"x\": [1316.199951], \"xaxis\": \"x\", \"y\": [1992.517969], \"yaxis\": \"y\", \"type\": \"scatter\"}], \"name\": \"5/1/2017\"}, {\"data\": [{\"hovertemplate\": \"<b>%{hovertext}</b><br><br>Market Standard=SP500<br>DATE=6/1/2017<br>Gold Price in Dollar=%{x}<br>Stock Market Closing Price in Dollar=%{marker.size}<extra></extra>\", \"hovertext\": [\"SP500\"], \"ids\": [\"SP500\"], \"legendgroup\": \"SP500\", \"marker\": {\"color\": \"#636efa\", \"size\": [2433.985455], \"sizemode\": \"area\", \"sizeref\": 10.352940475, \"symbol\": \"circle\"}, \"mode\": \"markers\", \"name\": \"SP500\", \"orientation\": \"v\", \"showlegend\": true, \"x\": [1281.5], \"xaxis\": \"x\", \"y\": [2433.985455], \"yaxis\": \"y\", \"type\": \"scatter\"}, {\"hovertemplate\": \"<b>%{hovertext}</b><br><br>Market Standard=SSE<br>DATE=6/1/2017<br>Gold Price in Dollar=%{x}<br>Stock Market Closing Price in Dollar=%{marker.size}<extra></extra>\", \"hovertext\": [\"SSE\"], \"ids\": [\"SSE\"], \"legendgroup\": \"SSE\", \"marker\": {\"color\": \"#EF553B\", \"size\": [3360.810059], \"sizemode\": \"area\", \"sizeref\": 10.352940475, \"symbol\": \"circle\"}, \"mode\": \"markers\", \"name\": \"SSE\", \"orientation\": \"v\", \"showlegend\": true, \"x\": [1281.5], \"xaxis\": \"x\", \"y\": [3360.810059], \"yaxis\": \"y\", \"type\": \"scatter\"}, {\"hovertemplate\": \"<b>%{hovertext}</b><br><br>Market Standard=JPN<br>DATE=6/1/2017<br>Gold Price in Dollar=%{x}<br>Stock Market Closing Price in Dollar=%{marker.size}<extra></extra>\", \"hovertext\": [\"JPN\"], \"ids\": [\"JPN\"], \"legendgroup\": \"JPN\", \"marker\": {\"color\": \"#00cc96\", \"size\": [1964.6240229999999], \"sizemode\": \"area\", \"sizeref\": 10.352940475, \"symbol\": \"circle\"}, \"mode\": \"markers\", \"name\": \"JPN\", \"orientation\": \"v\", \"showlegend\": true, \"x\": [1281.5], \"xaxis\": \"x\", \"y\": [1964.6240229999999], \"yaxis\": \"y\", \"type\": \"scatter\"}], \"name\": \"6/1/2017\"}, {\"data\": [{\"hovertemplate\": \"<b>%{hovertext}</b><br><br>Market Standard=SP500<br>DATE=7/1/2017<br>Gold Price in Dollar=%{x}<br>Stock Market Closing Price in Dollar=%{marker.size}<extra></extra>\", \"hovertext\": [\"SP500\"], \"ids\": [\"SP500\"], \"legendgroup\": \"SP500\", \"marker\": {\"color\": \"#636efa\", \"size\": [2454.1025], \"sizemode\": \"area\", \"sizeref\": 10.352940475, \"symbol\": \"circle\"}, \"mode\": \"markers\", \"name\": \"SP500\", \"orientation\": \"v\", \"showlegend\": true, \"x\": [1273.199951], \"xaxis\": \"x\", \"y\": [2454.1025], \"yaxis\": \"y\", \"type\": \"scatter\"}, {\"hovertemplate\": \"<b>%{hovertext}</b><br><br>Market Standard=SSE<br>DATE=7/1/2017<br>Gold Price in Dollar=%{x}<br>Stock Market Closing Price in Dollar=%{marker.size}<extra></extra>\", \"hovertext\": [\"SSE\"], \"ids\": [\"SSE\"], \"legendgroup\": \"SSE\", \"marker\": {\"color\": \"#EF553B\", \"size\": [3348.943115], \"sizemode\": \"area\", \"sizeref\": 10.352940475, \"symbol\": \"circle\"}, \"mode\": \"markers\", \"name\": \"SSE\", \"orientation\": \"v\", \"showlegend\": true, \"x\": [1273.199951], \"xaxis\": \"x\", \"y\": [3348.943115], \"yaxis\": \"y\", \"type\": \"scatter\"}, {\"hovertemplate\": \"<b>%{hovertext}</b><br><br>Market Standard=JPN<br>DATE=7/1/2017<br>Gold Price in Dollar=%{x}<br>Stock Market Closing Price in Dollar=%{marker.size}<extra></extra>\", \"hovertext\": [\"JPN\"], \"ids\": [\"JPN\"], \"legendgroup\": \"JPN\", \"marker\": {\"color\": \"#00cc96\", \"size\": [2035.6279299999999], \"sizemode\": \"area\", \"sizeref\": 10.352940475, \"symbol\": \"circle\"}, \"mode\": \"markers\", \"name\": \"JPN\", \"orientation\": \"v\", \"showlegend\": true, \"x\": [1273.199951], \"xaxis\": \"x\", \"y\": [2035.6279299999999], \"yaxis\": \"y\", \"type\": \"scatter\"}], \"name\": \"7/1/2017\"}, {\"data\": [{\"hovertemplate\": \"<b>%{hovertext}</b><br><br>Market Standard=SP500<br>DATE=8/1/2017<br>Gold Price in Dollar=%{x}<br>Stock Market Closing Price in Dollar=%{marker.size}<extra></extra>\", \"hovertext\": [\"SP500\"], \"ids\": [\"SP500\"], \"legendgroup\": \"SP500\", \"marker\": {\"color\": \"#636efa\", \"size\": [2456.223043], \"sizemode\": \"area\", \"sizeref\": 10.352940475, \"symbol\": \"circle\"}, \"mode\": \"markers\", \"name\": \"SP500\", \"orientation\": \"v\", \"showlegend\": true, \"x\": [1306.300049], \"xaxis\": \"x\", \"y\": [2456.223043], \"yaxis\": \"y\", \"type\": \"scatter\"}, {\"hovertemplate\": \"<b>%{hovertext}</b><br><br>Market Standard=SSE<br>DATE=8/1/2017<br>Gold Price in Dollar=%{x}<br>Stock Market Closing Price in Dollar=%{marker.size}<extra></extra>\", \"hovertext\": [\"SSE\"], \"ids\": [\"SSE\"], \"legendgroup\": \"SSE\", \"marker\": {\"color\": \"#EF553B\", \"size\": [3393.342041], \"sizemode\": \"area\", \"sizeref\": 10.352940475, \"symbol\": \"circle\"}, \"mode\": \"markers\", \"name\": \"SSE\", \"orientation\": \"v\", \"showlegend\": true, \"x\": [1306.300049], \"xaxis\": \"x\", \"y\": [3393.342041], \"yaxis\": \"y\", \"type\": \"scatter\"}, {\"hovertemplate\": \"<b>%{hovertext}</b><br><br>Market Standard=JPN<br>DATE=8/1/2017<br>Gold Price in Dollar=%{x}<br>Stock Market Closing Price in Dollar=%{marker.size}<extra></extra>\", \"hovertext\": [\"JPN\"], \"ids\": [\"JPN\"], \"legendgroup\": \"JPN\", \"marker\": {\"color\": \"#00cc96\", \"size\": [2201.160938], \"sizemode\": \"area\", \"sizeref\": 10.352940475, \"symbol\": \"circle\"}, \"mode\": \"markers\", \"name\": \"JPN\", \"orientation\": \"v\", \"showlegend\": true, \"x\": [1306.300049], \"xaxis\": \"x\", \"y\": [2201.160938], \"yaxis\": \"y\", \"type\": \"scatter\"}], \"name\": \"8/1/2017\"}, {\"data\": [{\"hovertemplate\": \"<b>%{hovertext}</b><br><br>Market Standard=SP500<br>DATE=9/1/2017<br>Gold Price in Dollar=%{x}<br>Stock Market Closing Price in Dollar=%{marker.size}<extra></extra>\", \"hovertext\": [\"SP500\"], \"ids\": [\"SP500\"], \"legendgroup\": \"SP500\", \"marker\": {\"color\": \"#636efa\", \"size\": [2492.841], \"sizemode\": \"area\", \"sizeref\": 10.352940475, \"symbol\": \"circle\"}, \"mode\": \"markers\", \"name\": \"SP500\", \"orientation\": \"v\", \"showlegend\": true, \"x\": [1339.0], \"xaxis\": \"x\", \"y\": [2492.841], \"yaxis\": \"y\", \"type\": \"scatter\"}, {\"hovertemplate\": \"<b>%{hovertext}</b><br><br>Market Standard=SSE<br>DATE=9/1/2017<br>Gold Price in Dollar=%{x}<br>Stock Market Closing Price in Dollar=%{marker.size}<extra></extra>\", \"hovertext\": [\"SSE\"], \"ids\": [\"SSE\"], \"legendgroup\": \"SSE\", \"marker\": {\"color\": \"#EF553B\", \"size\": [3317.187988], \"sizemode\": \"area\", \"sizeref\": 10.352940475, \"symbol\": \"circle\"}, \"mode\": \"markers\", \"name\": \"SSE\", \"orientation\": \"v\", \"showlegend\": true, \"x\": [1339.0], \"xaxis\": \"x\", \"y\": [3317.187988], \"yaxis\": \"y\", \"type\": \"scatter\"}, {\"hovertemplate\": \"<b>%{hovertext}</b><br><br>Market Standard=JPN<br>DATE=9/1/2017<br>Gold Price in Dollar=%{x}<br>Stock Market Closing Price in Dollar=%{marker.size}<extra></extra>\", \"hovertext\": [\"JPN\"], \"ids\": [\"JPN\"], \"legendgroup\": \"JPN\", \"marker\": {\"color\": \"#00cc96\", \"size\": [2272.496094], \"sizemode\": \"area\", \"sizeref\": 10.352940475, \"symbol\": \"circle\"}, \"mode\": \"markers\", \"name\": \"JPN\", \"orientation\": \"v\", \"showlegend\": true, \"x\": [1339.0], \"xaxis\": \"x\", \"y\": [2272.496094], \"yaxis\": \"y\", \"type\": \"scatter\"}], \"name\": \"9/1/2017\"}, {\"data\": [{\"hovertemplate\": \"<b>%{hovertext}</b><br><br>Market Standard=SP500<br>DATE=10/1/2017<br>Gold Price in Dollar=%{x}<br>Stock Market Closing Price in Dollar=%{marker.size}<extra></extra>\", \"hovertext\": [\"SP500\"], \"ids\": [\"SP500\"], \"legendgroup\": \"SP500\", \"marker\": {\"color\": \"#636efa\", \"size\": [2556.997273], \"sizemode\": \"area\", \"sizeref\": 10.352940475, \"symbol\": \"circle\"}, \"mode\": \"markers\", \"name\": \"SP500\", \"orientation\": \"v\", \"showlegend\": true, \"x\": [1315.5], \"xaxis\": \"x\", \"y\": [2556.997273], \"yaxis\": \"y\", \"type\": \"scatter\"}, {\"hovertemplate\": \"<b>%{hovertext}</b><br><br>Market Standard=SSE<br>DATE=10/1/2017<br>Gold Price in Dollar=%{x}<br>Stock Market Closing Price in Dollar=%{marker.size}<extra></extra>\", \"hovertext\": [\"SSE\"], \"ids\": [\"SSE\"], \"legendgroup\": \"SSE\", \"marker\": {\"color\": \"#EF553B\", \"size\": [3307.172119], \"sizemode\": \"area\", \"sizeref\": 10.352940475, \"symbol\": \"circle\"}, \"mode\": \"markers\", \"name\": \"SSE\", \"orientation\": \"v\", \"showlegend\": true, \"x\": [1315.5], \"xaxis\": \"x\", \"y\": [3307.172119], \"yaxis\": \"y\", \"type\": \"scatter\"}, {\"hovertemplate\": \"<b>%{hovertext}</b><br><br>Market Standard=JPN<br>DATE=10/1/2017<br>Gold Price in Dollar=%{x}<br>Stock Market Closing Price in Dollar=%{marker.size}<extra></extra>\", \"hovertext\": [\"JPN\"], \"ids\": [\"JPN\"], \"legendgroup\": \"JPN\", \"marker\": {\"color\": \"#00cc96\", \"size\": [2276.493945], \"sizemode\": \"area\", \"sizeref\": 10.352940475, \"symbol\": \"circle\"}, \"mode\": \"markers\", \"name\": \"JPN\", \"orientation\": \"v\", \"showlegend\": true, \"x\": [1315.5], \"xaxis\": \"x\", \"y\": [2276.493945], \"yaxis\": \"y\", \"type\": \"scatter\"}], \"name\": \"10/1/2017\"}, {\"data\": [{\"hovertemplate\": \"<b>%{hovertext}</b><br><br>Market Standard=SP500<br>DATE=11/1/2017<br>Gold Price in Dollar=%{x}<br>Stock Market Closing Price in Dollar=%{marker.size}<extra></extra>\", \"hovertext\": [\"SP500\"], \"ids\": [\"SP500\"], \"legendgroup\": \"SP500\", \"marker\": {\"color\": \"#636efa\", \"size\": [2593.605714], \"sizemode\": \"area\", \"sizeref\": 10.352940475, \"symbol\": \"circle\"}, \"mode\": \"markers\", \"name\": \"SP500\", \"orientation\": \"v\", \"showlegend\": true, \"x\": [1322.800049], \"xaxis\": \"x\", \"y\": [2593.605714], \"yaxis\": \"y\", \"type\": \"scatter\"}, {\"hovertemplate\": \"<b>%{hovertext}</b><br><br>Market Standard=SSE<br>DATE=11/1/2017<br>Gold Price in Dollar=%{x}<br>Stock Market Closing Price in Dollar=%{marker.size}<extra></extra>\", \"hovertext\": [\"SSE\"], \"ids\": [\"SSE\"], \"legendgroup\": \"SSE\", \"marker\": {\"color\": \"#EF553B\", \"size\": [3480.833008], \"sizemode\": \"area\", \"sizeref\": 10.352940475, \"symbol\": \"circle\"}, \"mode\": \"markers\", \"name\": \"SSE\", \"orientation\": \"v\", \"showlegend\": true, \"x\": [1322.800049], \"xaxis\": \"x\", \"y\": [3480.833008], \"yaxis\": \"y\", \"type\": \"scatter\"}, {\"hovertemplate\": \"<b>%{hovertext}</b><br><br>Market Standard=JPN<br>DATE=11/1/2017<br>Gold Price in Dollar=%{x}<br>Stock Market Closing Price in Dollar=%{marker.size}<extra></extra>\", \"hovertext\": [\"JPN\"], \"ids\": [\"JPN\"], \"legendgroup\": \"JPN\", \"marker\": {\"color\": \"#00cc96\", \"size\": [2309.8289059999997], \"sizemode\": \"area\", \"sizeref\": 10.352940475, \"symbol\": \"circle\"}, \"mode\": \"markers\", \"name\": \"JPN\", \"orientation\": \"v\", \"showlegend\": true, \"x\": [1322.800049], \"xaxis\": \"x\", \"y\": [2309.8289059999997], \"yaxis\": \"y\", \"type\": \"scatter\"}], \"name\": \"11/1/2017\"}, {\"data\": [{\"hovertemplate\": \"<b>%{hovertext}</b><br><br>Market Standard=SP500<br>DATE=12/1/2017<br>Gold Price in Dollar=%{x}<br>Stock Market Closing Price in Dollar=%{marker.size}<extra></extra>\", \"hovertext\": [\"SP500\"], \"ids\": [\"SP500\"], \"legendgroup\": \"SP500\", \"marker\": {\"color\": \"#636efa\", \"size\": [2664.3405], \"sizemode\": \"area\", \"sizeref\": 10.352940475, \"symbol\": \"circle\"}, \"mode\": \"markers\", \"name\": \"SP500\", \"orientation\": \"v\", \"showlegend\": true, \"x\": [1300.099976], \"xaxis\": \"x\", \"y\": [2664.3405], \"yaxis\": \"y\", \"type\": \"scatter\"}, {\"hovertemplate\": \"<b>%{hovertext}</b><br><br>Market Standard=SSE<br>DATE=12/1/2017<br>Gold Price in Dollar=%{x}<br>Stock Market Closing Price in Dollar=%{marker.size}<extra></extra>\", \"hovertext\": [\"SSE\"], \"ids\": [\"SSE\"], \"legendgroup\": \"SSE\", \"marker\": {\"color\": \"#EF553B\", \"size\": [3259.407959], \"sizemode\": \"area\", \"sizeref\": 10.352940475, \"symbol\": \"circle\"}, \"mode\": \"markers\", \"name\": \"SSE\", \"orientation\": \"v\", \"showlegend\": true, \"x\": [1300.099976], \"xaxis\": \"x\", \"y\": [3259.407959], \"yaxis\": \"y\", \"type\": \"scatter\"}, {\"hovertemplate\": \"<b>%{hovertext}</b><br><br>Market Standard=JPN<br>DATE=12/1/2017<br>Gold Price in Dollar=%{x}<br>Stock Market Closing Price in Dollar=%{marker.size}<extra></extra>\", \"hovertext\": [\"JPN\"], \"ids\": [\"JPN\"], \"legendgroup\": \"JPN\", \"marker\": {\"color\": \"#00cc96\", \"size\": [2206.824023], \"sizemode\": \"area\", \"sizeref\": 10.352940475, \"symbol\": \"circle\"}, \"mode\": \"markers\", \"name\": \"JPN\", \"orientation\": \"v\", \"showlegend\": true, \"x\": [1300.099976], \"xaxis\": \"x\", \"y\": [2206.824023], \"yaxis\": \"y\", \"type\": \"scatter\"}], \"name\": \"12/1/2017\"}, {\"data\": [{\"hovertemplate\": \"<b>%{hovertext}</b><br><br>Market Standard=SP500<br>DATE=1/1/2018<br>Gold Price in Dollar=%{x}<br>Stock Market Closing Price in Dollar=%{marker.size}<extra></extra>\", \"hovertext\": [\"SP500\"], \"ids\": [\"SP500\"], \"legendgroup\": \"SP500\", \"marker\": {\"color\": \"#636efa\", \"size\": [2789.80381], \"sizemode\": \"area\", \"sizeref\": 10.352940475, \"symbol\": \"circle\"}, \"mode\": \"markers\", \"name\": \"SP500\", \"orientation\": \"v\", \"showlegend\": true, \"x\": [1251.300049], \"xaxis\": \"x\", \"y\": [2789.80381], \"yaxis\": \"y\", \"type\": \"scatter\"}, {\"hovertemplate\": \"<b>%{hovertext}</b><br><br>Market Standard=SSE<br>DATE=1/1/2018<br>Gold Price in Dollar=%{x}<br>Stock Market Closing Price in Dollar=%{marker.size}<extra></extra>\", \"hovertext\": [\"SSE\"], \"ids\": [\"SSE\"], \"legendgroup\": \"SSE\", \"marker\": {\"color\": \"#EF553B\", \"size\": [3168.896973], \"sizemode\": \"area\", \"sizeref\": 10.352940475, \"symbol\": \"circle\"}, \"mode\": \"markers\", \"name\": \"SSE\", \"orientation\": \"v\", \"showlegend\": true, \"x\": [1251.300049], \"xaxis\": \"x\", \"y\": [3168.896973], \"yaxis\": \"y\", \"type\": \"scatter\"}, {\"hovertemplate\": \"<b>%{hovertext}</b><br><br>Market Standard=JPN<br>DATE=1/1/2018<br>Gold Price in Dollar=%{x}<br>Stock Market Closing Price in Dollar=%{marker.size}<extra></extra>\", \"hovertext\": [\"JPN\"], \"ids\": [\"JPN\"], \"legendgroup\": \"JPN\", \"marker\": {\"color\": \"#00cc96\", \"size\": [2145.4300780000003], \"sizemode\": \"area\", \"sizeref\": 10.352940475, \"symbol\": \"circle\"}, \"mode\": \"markers\", \"name\": \"JPN\", \"orientation\": \"v\", \"showlegend\": true, \"x\": [1251.300049], \"xaxis\": \"x\", \"y\": [2145.4300780000003], \"yaxis\": \"y\", \"type\": \"scatter\"}], \"name\": \"1/1/2018\"}, {\"data\": [{\"hovertemplate\": \"<b>%{hovertext}</b><br><br>Market Standard=SP500<br>DATE=2/1/2018<br>Gold Price in Dollar=%{x}<br>Stock Market Closing Price in Dollar=%{marker.size}<extra></extra>\", \"hovertext\": [\"SP500\"], \"ids\": [\"SP500\"], \"legendgroup\": \"SP500\", \"marker\": {\"color\": \"#636efa\", \"size\": [2705.155263], \"sizemode\": \"area\", \"sizeref\": 10.352940475, \"symbol\": \"circle\"}, \"mode\": \"markers\", \"name\": \"SP500\", \"orientation\": \"v\", \"showlegend\": true, \"x\": [1200.300049], \"xaxis\": \"x\", \"y\": [2705.155263], \"yaxis\": \"y\", \"type\": \"scatter\"}, {\"hovertemplate\": \"<b>%{hovertext}</b><br><br>Market Standard=SSE<br>DATE=2/1/2018<br>Gold Price in Dollar=%{x}<br>Stock Market Closing Price in Dollar=%{marker.size}<extra></extra>\", \"hovertext\": [\"SSE\"], \"ids\": [\"SSE\"], \"legendgroup\": \"SSE\", \"marker\": {\"color\": \"#EF553B\", \"size\": [3082.231934], \"sizemode\": \"area\", \"sizeref\": 10.352940475, \"symbol\": \"circle\"}, \"mode\": \"markers\", \"name\": \"SSE\", \"orientation\": \"v\", \"showlegend\": true, \"x\": [1200.300049], \"xaxis\": \"x\", \"y\": [3082.231934], \"yaxis\": \"y\", \"type\": \"scatter\"}, {\"hovertemplate\": \"<b>%{hovertext}</b><br><br>Market Standard=JPN<br>DATE=2/1/2018<br>Gold Price in Dollar=%{x}<br>Stock Market Closing Price in Dollar=%{marker.size}<extra></extra>\", \"hovertext\": [\"JPN\"], \"ids\": [\"JPN\"], \"legendgroup\": \"JPN\", \"marker\": {\"color\": \"#00cc96\", \"size\": [2246.786914], \"sizemode\": \"area\", \"sizeref\": 10.352940475, \"symbol\": \"circle\"}, \"mode\": \"markers\", \"name\": \"JPN\", \"orientation\": \"v\", \"showlegend\": true, \"x\": [1200.300049], \"xaxis\": \"x\", \"y\": [2246.786914], \"yaxis\": \"y\", \"type\": \"scatter\"}], \"name\": \"2/1/2018\"}, {\"data\": [{\"hovertemplate\": \"<b>%{hovertext}</b><br><br>Market Standard=SP500<br>DATE=3/1/2018<br>Gold Price in Dollar=%{x}<br>Stock Market Closing Price in Dollar=%{marker.size}<extra></extra>\", \"hovertext\": [\"SP500\"], \"ids\": [\"SP500\"], \"legendgroup\": \"SP500\", \"marker\": {\"color\": \"#636efa\", \"size\": [2702.77381], \"sizemode\": \"area\", \"sizeref\": 10.352940475, \"symbol\": \"circle\"}, \"mode\": \"markers\", \"name\": \"SP500\", \"orientation\": \"v\", \"showlegend\": true, \"x\": [1191.5], \"xaxis\": \"x\", \"y\": [2702.77381], \"yaxis\": \"y\", \"type\": \"scatter\"}, {\"hovertemplate\": \"<b>%{hovertext}</b><br><br>Market Standard=SSE<br>DATE=3/1/2018<br>Gold Price in Dollar=%{x}<br>Stock Market Closing Price in Dollar=%{marker.size}<extra></extra>\", \"hovertext\": [\"SSE\"], \"ids\": [\"SSE\"], \"legendgroup\": \"SSE\", \"marker\": {\"color\": \"#EF553B\", \"size\": [3095.474121], \"sizemode\": \"area\", \"sizeref\": 10.352940475, \"symbol\": \"circle\"}, \"mode\": \"markers\", \"name\": \"SSE\", \"orientation\": \"v\", \"showlegend\": true, \"x\": [1191.5], \"xaxis\": \"x\", \"y\": [3095.474121], \"yaxis\": \"y\", \"type\": \"scatter\"}, {\"hovertemplate\": \"<b>%{hovertext}</b><br><br>Market Standard=JPN<br>DATE=3/1/2018<br>Gold Price in Dollar=%{x}<br>Stock Market Closing Price in Dollar=%{marker.size}<extra></extra>\", \"hovertext\": [\"JPN\"], \"ids\": [\"JPN\"], \"legendgroup\": \"JPN\", \"marker\": {\"color\": \"#00cc96\", \"size\": [2220.182031], \"sizemode\": \"area\", \"sizeref\": 10.352940475, \"symbol\": \"circle\"}, \"mode\": \"markers\", \"name\": \"JPN\", \"orientation\": \"v\", \"showlegend\": true, \"x\": [1191.5], \"xaxis\": \"x\", \"y\": [2220.182031], \"yaxis\": \"y\", \"type\": \"scatter\"}], \"name\": \"3/1/2018\"}, {\"data\": [{\"hovertemplate\": \"<b>%{hovertext}</b><br><br>Market Standard=SP500<br>DATE=4/1/2018<br>Gold Price in Dollar=%{x}<br>Stock Market Closing Price in Dollar=%{marker.size}<extra></extra>\", \"hovertext\": [\"SP500\"], \"ids\": [\"SP500\"], \"legendgroup\": \"SP500\", \"marker\": {\"color\": \"#636efa\", \"size\": [2653.625238], \"sizemode\": \"area\", \"sizeref\": 10.352940475, \"symbol\": \"circle\"}, \"mode\": \"markers\", \"name\": \"SP500\", \"orientation\": \"v\", \"showlegend\": true, \"x\": [1212.300049], \"xaxis\": \"x\", \"y\": [2653.625238], \"yaxis\": \"y\", \"type\": \"scatter\"}, {\"hovertemplate\": \"<b>%{hovertext}</b><br><br>Market Standard=SSE<br>DATE=4/1/2018<br>Gold Price in Dollar=%{x}<br>Stock Market Closing Price in Dollar=%{marker.size}<extra></extra>\", \"hovertext\": [\"SSE\"], \"ids\": [\"SSE\"], \"legendgroup\": \"SSE\", \"marker\": {\"color\": \"#EF553B\", \"size\": [2847.417969], \"sizemode\": \"area\", \"sizeref\": 10.352940475, \"symbol\": \"circle\"}, \"mode\": \"markers\", \"name\": \"SSE\", \"orientation\": \"v\", \"showlegend\": true, \"x\": [1212.300049], \"xaxis\": \"x\", \"y\": [2847.417969], \"yaxis\": \"y\", \"type\": \"scatter\"}, {\"hovertemplate\": \"<b>%{hovertext}</b><br><br>Market Standard=JPN<br>DATE=4/1/2018<br>Gold Price in Dollar=%{x}<br>Stock Market Closing Price in Dollar=%{marker.size}<extra></extra>\", \"hovertext\": [\"JPN\"], \"ids\": [\"JPN\"], \"legendgroup\": \"JPN\", \"marker\": {\"color\": \"#00cc96\", \"size\": [2230.450977], \"sizemode\": \"area\", \"sizeref\": 10.352940475, \"symbol\": \"circle\"}, \"mode\": \"markers\", \"name\": \"JPN\", \"orientation\": \"v\", \"showlegend\": true, \"x\": [1212.300049], \"xaxis\": \"x\", \"y\": [2230.450977], \"yaxis\": \"y\", \"type\": \"scatter\"}], \"name\": \"4/1/2018\"}, {\"data\": [{\"hovertemplate\": \"<b>%{hovertext}</b><br><br>Market Standard=SP500<br>DATE=5/1/2018<br>Gold Price in Dollar=%{x}<br>Stock Market Closing Price in Dollar=%{marker.size}<extra></extra>\", \"hovertext\": [\"SP500\"], \"ids\": [\"SP500\"], \"legendgroup\": \"SP500\", \"marker\": {\"color\": \"#636efa\", \"size\": [2701.493636], \"sizemode\": \"area\", \"sizeref\": 10.352940475, \"symbol\": \"circle\"}, \"mode\": \"markers\", \"name\": \"SP500\", \"orientation\": \"v\", \"showlegend\": true, \"x\": [1220.199951], \"xaxis\": \"x\", \"y\": [2701.493636], \"yaxis\": \"y\", \"type\": \"scatter\"}, {\"hovertemplate\": \"<b>%{hovertext}</b><br><br>Market Standard=SSE<br>DATE=5/1/2018<br>Gold Price in Dollar=%{x}<br>Stock Market Closing Price in Dollar=%{marker.size}<extra></extra>\", \"hovertext\": [\"SSE\"], \"ids\": [\"SSE\"], \"legendgroup\": \"SSE\", \"marker\": {\"color\": \"#EF553B\", \"size\": [2876.400879], \"sizemode\": \"area\", \"sizeref\": 10.352940475, \"symbol\": \"circle\"}, \"mode\": \"markers\", \"name\": \"SSE\", \"orientation\": \"v\", \"showlegend\": true, \"x\": [1220.199951], \"xaxis\": \"x\", \"y\": [2876.400879], \"yaxis\": \"y\", \"type\": \"scatter\"}, {\"hovertemplate\": \"<b>%{hovertext}</b><br><br>Market Standard=JPN<br>DATE=5/1/2018<br>Gold Price in Dollar=%{x}<br>Stock Market Closing Price in Dollar=%{marker.size}<extra></extra>\", \"hovertext\": [\"JPN\"], \"ids\": [\"JPN\"], \"legendgroup\": \"JPN\", \"marker\": {\"color\": \"#00cc96\", \"size\": [2255.3720700000003], \"sizemode\": \"area\", \"sizeref\": 10.352940475, \"symbol\": \"circle\"}, \"mode\": \"markers\", \"name\": \"JPN\", \"orientation\": \"v\", \"showlegend\": true, \"x\": [1220.199951], \"xaxis\": \"x\", \"y\": [2255.3720700000003], \"yaxis\": \"y\", \"type\": \"scatter\"}], \"name\": \"5/1/2018\"}, {\"data\": [{\"hovertemplate\": \"<b>%{hovertext}</b><br><br>Market Standard=SP500<br>DATE=6/1/2018<br>Gold Price in Dollar=%{x}<br>Stock Market Closing Price in Dollar=%{marker.size}<extra></extra>\", \"hovertext\": [\"SP500\"], \"ids\": [\"SP500\"], \"legendgroup\": \"SP500\", \"marker\": {\"color\": \"#636efa\", \"size\": [2754.352857], \"sizemode\": \"area\", \"sizeref\": 10.352940475, \"symbol\": \"circle\"}, \"mode\": \"markers\", \"name\": \"SP500\", \"orientation\": \"v\", \"showlegend\": true, \"x\": [1278.300049], \"xaxis\": \"x\", \"y\": [2754.352857], \"yaxis\": \"y\", \"type\": \"scatter\"}, {\"hovertemplate\": \"<b>%{hovertext}</b><br><br>Market Standard=SSE<br>DATE=6/1/2018<br>Gold Price in Dollar=%{x}<br>Stock Market Closing Price in Dollar=%{marker.size}<extra></extra>\", \"hovertext\": [\"SSE\"], \"ids\": [\"SSE\"], \"legendgroup\": \"SSE\", \"marker\": {\"color\": \"#EF553B\", \"size\": [2725.25], \"sizemode\": \"area\", \"sizeref\": 10.352940475, \"symbol\": \"circle\"}, \"mode\": \"markers\", \"name\": \"SSE\", \"orientation\": \"v\", \"showlegend\": true, \"x\": [1278.300049], \"xaxis\": \"x\", \"y\": [2725.25], \"yaxis\": \"y\", \"type\": \"scatter\"}, {\"hovertemplate\": \"<b>%{hovertext}</b><br><br>Market Standard=JPN<br>DATE=6/1/2018<br>Gold Price in Dollar=%{x}<br>Stock Market Closing Price in Dollar=%{marker.size}<extra></extra>\", \"hovertext\": [\"JPN\"], \"ids\": [\"JPN\"], \"legendgroup\": \"JPN\", \"marker\": {\"color\": \"#00cc96\", \"size\": [2286.515039], \"sizemode\": \"area\", \"sizeref\": 10.352940475, \"symbol\": \"circle\"}, \"mode\": \"markers\", \"name\": \"JPN\", \"orientation\": \"v\", \"showlegend\": true, \"x\": [1278.300049], \"xaxis\": \"x\", \"y\": [2286.515039], \"yaxis\": \"y\", \"type\": \"scatter\"}], \"name\": \"6/1/2018\"}, {\"data\": [{\"hovertemplate\": \"<b>%{hovertext}</b><br><br>Market Standard=SP500<br>DATE=7/1/2018<br>Gold Price in Dollar=%{x}<br>Stock Market Closing Price in Dollar=%{marker.size}<extra></extra>\", \"hovertext\": [\"SP500\"], \"ids\": [\"SP500\"], \"legendgroup\": \"SP500\", \"marker\": {\"color\": \"#636efa\", \"size\": [2793.643333], \"sizemode\": \"area\", \"sizeref\": 10.352940475, \"symbol\": \"circle\"}, \"mode\": \"markers\", \"name\": \"SP500\", \"orientation\": \"v\", \"showlegend\": true, \"x\": [1319.699951], \"xaxis\": \"x\", \"y\": [2793.643333], \"yaxis\": \"y\", \"type\": \"scatter\"}, {\"hovertemplate\": \"<b>%{hovertext}</b><br><br>Market Standard=SSE<br>DATE=7/1/2018<br>Gold Price in Dollar=%{x}<br>Stock Market Closing Price in Dollar=%{marker.size}<extra></extra>\", \"hovertext\": [\"SSE\"], \"ids\": [\"SSE\"], \"legendgroup\": \"SSE\", \"marker\": {\"color\": \"#EF553B\", \"size\": [2821.350098], \"sizemode\": \"area\", \"sizeref\": 10.352940475, \"symbol\": \"circle\"}, \"mode\": \"markers\", \"name\": \"SSE\", \"orientation\": \"v\", \"showlegend\": true, \"x\": [1319.699951], \"xaxis\": \"x\", \"y\": [2821.350098], \"yaxis\": \"y\", \"type\": \"scatter\"}, {\"hovertemplate\": \"<b>%{hovertext}</b><br><br>Market Standard=JPN<br>DATE=7/1/2018<br>Gold Price in Dollar=%{x}<br>Stock Market Closing Price in Dollar=%{marker.size}<extra></extra>\", \"hovertext\": [\"JPN\"], \"ids\": [\"JPN\"], \"legendgroup\": \"JPN\", \"marker\": {\"color\": \"#00cc96\", \"size\": [2412.003906], \"sizemode\": \"area\", \"sizeref\": 10.352940475, \"symbol\": \"circle\"}, \"mode\": \"markers\", \"name\": \"JPN\", \"orientation\": \"v\", \"showlegend\": true, \"x\": [1319.699951], \"xaxis\": \"x\", \"y\": [2412.003906], \"yaxis\": \"y\", \"type\": \"scatter\"}], \"name\": \"7/1/2018\"}, {\"data\": [{\"hovertemplate\": \"<b>%{hovertext}</b><br><br>Market Standard=SP500<br>DATE=8/1/2018<br>Gold Price in Dollar=%{x}<br>Stock Market Closing Price in Dollar=%{marker.size}<extra></extra>\", \"hovertext\": [\"SP500\"], \"ids\": [\"SP500\"], \"legendgroup\": \"SP500\", \"marker\": {\"color\": \"#636efa\", \"size\": [2857.820435], \"sizemode\": \"area\", \"sizeref\": 10.352940475, \"symbol\": \"circle\"}, \"mode\": \"markers\", \"name\": \"SP500\", \"orientation\": \"v\", \"showlegend\": true, \"x\": [1312.800049], \"xaxis\": \"x\", \"y\": [2857.820435], \"yaxis\": \"y\", \"type\": \"scatter\"}, {\"hovertemplate\": \"<b>%{hovertext}</b><br><br>Market Standard=SSE<br>DATE=8/1/2018<br>Gold Price in Dollar=%{x}<br>Stock Market Closing Price in Dollar=%{marker.size}<extra></extra>\", \"hovertext\": [\"SSE\"], \"ids\": [\"SSE\"], \"legendgroup\": \"SSE\", \"marker\": {\"color\": \"#EF553B\", \"size\": [2602.782959], \"sizemode\": \"area\", \"sizeref\": 10.352940475, \"symbol\": \"circle\"}, \"mode\": \"markers\", \"name\": \"SSE\", \"orientation\": \"v\", \"showlegend\": true, \"x\": [1312.800049], \"xaxis\": \"x\", \"y\": [2602.782959], \"yaxis\": \"y\", \"type\": \"scatter\"}, {\"hovertemplate\": \"<b>%{hovertext}</b><br><br>Market Standard=JPN<br>DATE=8/1/2018<br>Gold Price in Dollar=%{x}<br>Stock Market Closing Price in Dollar=%{marker.size}<extra></extra>\", \"hovertext\": [\"JPN\"], \"ids\": [\"JPN\"], \"legendgroup\": \"JPN\", \"marker\": {\"color\": \"#00cc96\", \"size\": [2192.0460940000003], \"sizemode\": \"area\", \"sizeref\": 10.352940475, \"symbol\": \"circle\"}, \"mode\": \"markers\", \"name\": \"JPN\", \"orientation\": \"v\", \"showlegend\": true, \"x\": [1312.800049], \"xaxis\": \"x\", \"y\": [2192.0460940000003], \"yaxis\": \"y\", \"type\": \"scatter\"}], \"name\": \"8/1/2018\"}, {\"data\": [{\"hovertemplate\": \"<b>%{hovertext}</b><br><br>Market Standard=SP500<br>DATE=9/1/2018<br>Gold Price in Dollar=%{x}<br>Stock Market Closing Price in Dollar=%{marker.size}<extra></extra>\", \"hovertext\": [\"SP500\"], \"ids\": [\"SP500\"], \"legendgroup\": \"SP500\", \"marker\": {\"color\": \"#636efa\", \"size\": [2901.500526], \"sizemode\": \"area\", \"sizeref\": 10.352940475, \"symbol\": \"circle\"}, \"mode\": \"markers\", \"name\": \"SP500\", \"orientation\": \"v\", \"showlegend\": true, \"x\": [1293.0], \"xaxis\": \"x\", \"y\": [2901.500526], \"yaxis\": \"y\", \"type\": \"scatter\"}, {\"hovertemplate\": \"<b>%{hovertext}</b><br><br>Market Standard=SSE<br>DATE=9/1/2018<br>Gold Price in Dollar=%{x}<br>Stock Market Closing Price in Dollar=%{marker.size}<extra></extra>\", \"hovertext\": [\"SSE\"], \"ids\": [\"SSE\"], \"legendgroup\": \"SSE\", \"marker\": {\"color\": \"#EF553B\", \"size\": [2588.187988], \"sizemode\": \"area\", \"sizeref\": 10.352940475, \"symbol\": \"circle\"}, \"mode\": \"markers\", \"name\": \"SSE\", \"orientation\": \"v\", \"showlegend\": true, \"x\": [1293.0], \"xaxis\": \"x\", \"y\": [2588.187988], \"yaxis\": \"y\", \"type\": \"scatter\"}, {\"hovertemplate\": \"<b>%{hovertext}</b><br><br>Market Standard=JPN<br>DATE=9/1/2018<br>Gold Price in Dollar=%{x}<br>Stock Market Closing Price in Dollar=%{marker.size}<extra></extra>\", \"hovertext\": [\"JPN\"], \"ids\": [\"JPN\"], \"legendgroup\": \"JPN\", \"marker\": {\"color\": \"#00cc96\", \"size\": [2235.1060549999997], \"sizemode\": \"area\", \"sizeref\": 10.352940475, \"symbol\": \"circle\"}, \"mode\": \"markers\", \"name\": \"JPN\", \"orientation\": \"v\", \"showlegend\": true, \"x\": [1293.0], \"xaxis\": \"x\", \"y\": [2235.1060549999997], \"yaxis\": \"y\", \"type\": \"scatter\"}], \"name\": \"9/1/2018\"}, {\"data\": [{\"hovertemplate\": \"<b>%{hovertext}</b><br><br>Market Standard=SP500<br>DATE=10/1/2018<br>Gold Price in Dollar=%{x}<br>Stock Market Closing Price in Dollar=%{marker.size}<extra></extra>\", \"hovertext\": [\"SP500\"], \"ids\": [\"SP500\"], \"legendgroup\": \"SP500\", \"marker\": {\"color\": \"#636efa\", \"size\": [2785.464783], \"sizemode\": \"area\", \"sizeref\": 10.352940475, \"symbol\": \"circle\"}, \"mode\": \"markers\", \"name\": \"SP500\", \"orientation\": \"v\", \"showlegend\": true, \"x\": [1282.800049], \"xaxis\": \"x\", \"y\": [2785.464783], \"yaxis\": \"y\", \"type\": \"scatter\"}, {\"hovertemplate\": \"<b>%{hovertext}</b><br><br>Market Standard=SSE<br>DATE=10/1/2018<br>Gold Price in Dollar=%{x}<br>Stock Market Closing Price in Dollar=%{marker.size}<extra></extra>\", \"hovertext\": [\"SSE\"], \"ids\": [\"SSE\"], \"legendgroup\": \"SSE\", \"marker\": {\"color\": \"#EF553B\", \"size\": [2493.895996], \"sizemode\": \"area\", \"sizeref\": 10.352940475, \"symbol\": \"circle\"}, \"mode\": \"markers\", \"name\": \"SSE\", \"orientation\": \"v\", \"showlegend\": true, \"x\": [1282.800049], \"xaxis\": \"x\", \"y\": [2493.895996], \"yaxis\": \"y\", \"type\": \"scatter\"}, {\"hovertemplate\": \"<b>%{hovertext}</b><br><br>Market Standard=JPN<br>DATE=10/1/2018<br>Gold Price in Dollar=%{x}<br>Stock Market Closing Price in Dollar=%{marker.size}<extra></extra>\", \"hovertext\": [\"JPN\"], \"ids\": [\"JPN\"], \"legendgroup\": \"JPN\", \"marker\": {\"color\": \"#00cc96\", \"size\": [2001.476953], \"sizemode\": \"area\", \"sizeref\": 10.352940475, \"symbol\": \"circle\"}, \"mode\": \"markers\", \"name\": \"JPN\", \"orientation\": \"v\", \"showlegend\": true, \"x\": [1282.800049], \"xaxis\": \"x\", \"y\": [2001.476953], \"yaxis\": \"y\", \"type\": \"scatter\"}], \"name\": \"10/1/2018\"}, {\"data\": [{\"hovertemplate\": \"<b>%{hovertext}</b><br><br>Market Standard=SP500<br>DATE=11/1/2018<br>Gold Price in Dollar=%{x}<br>Stock Market Closing Price in Dollar=%{marker.size}<extra></extra>\", \"hovertext\": [\"SP500\"], \"ids\": [\"SP500\"], \"legendgroup\": \"SP500\", \"marker\": {\"color\": \"#636efa\", \"size\": [2723.229524], \"sizemode\": \"area\", \"sizeref\": 10.352940475, \"symbol\": \"circle\"}, \"mode\": \"markers\", \"name\": \"SP500\", \"orientation\": \"v\", \"showlegend\": true, \"x\": [1305.800049], \"xaxis\": \"x\", \"y\": [2723.229524], \"yaxis\": \"y\", \"type\": \"scatter\"}, {\"hovertemplate\": \"<b>%{hovertext}</b><br><br>Market Standard=SSE<br>DATE=11/1/2018<br>Gold Price in Dollar=%{x}<br>Stock Market Closing Price in Dollar=%{marker.size}<extra></extra>\", \"hovertext\": [\"SSE\"], \"ids\": [\"SSE\"], \"legendgroup\": \"SSE\", \"marker\": {\"color\": \"#EF553B\", \"size\": [2584.572021], \"sizemode\": \"area\", \"sizeref\": 10.352940475, \"symbol\": \"circle\"}, \"mode\": \"markers\", \"name\": \"SSE\", \"orientation\": \"v\", \"showlegend\": true, \"x\": [1305.800049], \"xaxis\": \"x\", \"y\": [2584.572021], \"yaxis\": \"y\", \"type\": \"scatter\"}, {\"hovertemplate\": \"<b>%{hovertext}</b><br><br>Market Standard=JPN<br>DATE=11/1/2018<br>Gold Price in Dollar=%{x}<br>Stock Market Closing Price in Dollar=%{marker.size}<extra></extra>\", \"hovertext\": [\"JPN\"], \"ids\": [\"JPN\"], \"legendgroup\": \"JPN\", \"marker\": {\"color\": \"#00cc96\", \"size\": [2077.3490229999998], \"sizemode\": \"area\", \"sizeref\": 10.352940475, \"symbol\": \"circle\"}, \"mode\": \"markers\", \"name\": \"JPN\", \"orientation\": \"v\", \"showlegend\": true, \"x\": [1305.800049], \"xaxis\": \"x\", \"y\": [2077.3490229999998], \"yaxis\": \"y\", \"type\": \"scatter\"}], \"name\": \"11/1/2018\"}, {\"data\": [{\"hovertemplate\": \"<b>%{hovertext}</b><br><br>Market Standard=SP500<br>DATE=12/1/2018<br>Gold Price in Dollar=%{x}<br>Stock Market Closing Price in Dollar=%{marker.size}<extra></extra>\", \"hovertext\": [\"SP500\"], \"ids\": [\"SP500\"], \"legendgroup\": \"SP500\", \"marker\": {\"color\": \"#636efa\", \"size\": [2567.307368], \"sizemode\": \"area\", \"sizeref\": 10.352940475, \"symbol\": \"circle\"}, \"mode\": \"markers\", \"name\": \"SP500\", \"orientation\": \"v\", \"showlegend\": true, \"x\": [1409.699951], \"xaxis\": \"x\", \"y\": [2567.307368], \"yaxis\": \"y\", \"type\": \"scatter\"}, {\"hovertemplate\": \"<b>%{hovertext}</b><br><br>Market Standard=SSE<br>DATE=12/1/2018<br>Gold Price in Dollar=%{x}<br>Stock Market Closing Price in Dollar=%{marker.size}<extra></extra>\", \"hovertext\": [\"SSE\"], \"ids\": [\"SSE\"], \"legendgroup\": \"SSE\", \"marker\": {\"color\": \"#EF553B\", \"size\": [2940.954102], \"sizemode\": \"area\", \"sizeref\": 10.352940475, \"symbol\": \"circle\"}, \"mode\": \"markers\", \"name\": \"SSE\", \"orientation\": \"v\", \"showlegend\": true, \"x\": [1409.699951], \"xaxis\": \"x\", \"y\": [2940.954102], \"yaxis\": \"y\", \"type\": \"scatter\"}, {\"hovertemplate\": \"<b>%{hovertext}</b><br><br>Market Standard=JPN<br>DATE=12/1/2018<br>Gold Price in Dollar=%{x}<br>Stock Market Closing Price in Dollar=%{marker.size}<extra></extra>\", \"hovertext\": [\"JPN\"], \"ids\": [\"JPN\"], \"legendgroup\": \"JPN\", \"marker\": {\"color\": \"#00cc96\", \"size\": [2138.516016], \"sizemode\": \"area\", \"sizeref\": 10.352940475, \"symbol\": \"circle\"}, \"mode\": \"markers\", \"name\": \"JPN\", \"orientation\": \"v\", \"showlegend\": true, \"x\": [1409.699951], \"xaxis\": \"x\", \"y\": [2138.516016], \"yaxis\": \"y\", \"type\": \"scatter\"}], \"name\": \"12/1/2018\"}, {\"data\": [{\"hovertemplate\": \"<b>%{hovertext}</b><br><br>Market Standard=SP500<br>DATE=1/1/2019<br>Gold Price in Dollar=%{x}<br>Stock Market Closing Price in Dollar=%{marker.size}<extra></extra>\", \"hovertext\": [\"SP500\"], \"ids\": [\"SP500\"], \"legendgroup\": \"SP500\", \"marker\": {\"color\": \"#636efa\", \"size\": [2607.39], \"sizemode\": \"area\", \"sizeref\": 10.352940475, \"symbol\": \"circle\"}, \"mode\": \"markers\", \"name\": \"SP500\", \"orientation\": \"v\", \"showlegend\": true, \"x\": [1426.099976], \"xaxis\": \"x\", \"y\": [2607.39], \"yaxis\": \"y\", \"type\": \"scatter\"}, {\"hovertemplate\": \"<b>%{hovertext}</b><br><br>Market Standard=SSE<br>DATE=1/1/2019<br>Gold Price in Dollar=%{x}<br>Stock Market Closing Price in Dollar=%{marker.size}<extra></extra>\", \"hovertext\": [\"SSE\"], \"ids\": [\"SSE\"], \"legendgroup\": \"SSE\", \"marker\": {\"color\": \"#EF553B\", \"size\": [3090.758057], \"sizemode\": \"area\", \"sizeref\": 10.352940475, \"symbol\": \"circle\"}, \"mode\": \"markers\", \"name\": \"SSE\", \"orientation\": \"v\", \"showlegend\": true, \"x\": [1426.099976], \"xaxis\": \"x\", \"y\": [3090.758057], \"yaxis\": \"y\", \"type\": \"scatter\"}, {\"hovertemplate\": \"<b>%{hovertext}</b><br><br>Market Standard=JPN<br>DATE=1/1/2019<br>Gold Price in Dollar=%{x}<br>Stock Market Closing Price in Dollar=%{marker.size}<extra></extra>\", \"hovertext\": [\"JPN\"], \"ids\": [\"JPN\"], \"legendgroup\": \"JPN\", \"marker\": {\"color\": \"#00cc96\", \"size\": [2120.5810549999997], \"sizemode\": \"area\", \"sizeref\": 10.352940475, \"symbol\": \"circle\"}, \"mode\": \"markers\", \"name\": \"JPN\", \"orientation\": \"v\", \"showlegend\": true, \"x\": [1426.099976], \"xaxis\": \"x\", \"y\": [2120.5810549999997], \"yaxis\": \"y\", \"type\": \"scatter\"}], \"name\": \"1/1/2019\"}, {\"data\": [{\"hovertemplate\": \"<b>%{hovertext}</b><br><br>Market Standard=SP500<br>DATE=2/1/2019<br>Gold Price in Dollar=%{x}<br>Stock Market Closing Price in Dollar=%{marker.size}<extra></extra>\", \"hovertext\": [\"SP500\"], \"ids\": [\"SP500\"], \"legendgroup\": \"SP500\", \"marker\": {\"color\": \"#636efa\", \"size\": [2754.864211], \"sizemode\": \"area\", \"sizeref\": 10.352940475, \"symbol\": \"circle\"}, \"mode\": \"markers\", \"name\": \"SP500\", \"orientation\": \"v\", \"showlegend\": true, \"x\": [1519.099976], \"xaxis\": \"x\", \"y\": [2754.864211], \"yaxis\": \"y\", \"type\": \"scatter\"}, {\"hovertemplate\": \"<b>%{hovertext}</b><br><br>Market Standard=SSE<br>DATE=2/1/2019<br>Gold Price in Dollar=%{x}<br>Stock Market Closing Price in Dollar=%{marker.size}<extra></extra>\", \"hovertext\": [\"SSE\"], \"ids\": [\"SSE\"], \"legendgroup\": \"SSE\", \"marker\": {\"color\": \"#EF553B\", \"size\": [3078.339111], \"sizemode\": \"area\", \"sizeref\": 10.352940475, \"symbol\": \"circle\"}, \"mode\": \"markers\", \"name\": \"SSE\", \"orientation\": \"v\", \"showlegend\": true, \"x\": [1519.099976], \"xaxis\": \"x\", \"y\": [3078.339111], \"yaxis\": \"y\", \"type\": \"scatter\"}, {\"hovertemplate\": \"<b>%{hovertext}</b><br><br>Market Standard=JPN<br>DATE=2/1/2019<br>Gold Price in Dollar=%{x}<br>Stock Market Closing Price in Dollar=%{marker.size}<extra></extra>\", \"hovertext\": [\"JPN\"], \"ids\": [\"JPN\"], \"legendgroup\": \"JPN\", \"marker\": {\"color\": \"#00cc96\", \"size\": [2225.873047], \"sizemode\": \"area\", \"sizeref\": 10.352940475, \"symbol\": \"circle\"}, \"mode\": \"markers\", \"name\": \"JPN\", \"orientation\": \"v\", \"showlegend\": true, \"x\": [1519.099976], \"xaxis\": \"x\", \"y\": [2225.873047], \"yaxis\": \"y\", \"type\": \"scatter\"}], \"name\": \"2/1/2019\"}, {\"data\": [{\"hovertemplate\": \"<b>%{hovertext}</b><br><br>Market Standard=SP500<br>DATE=3/1/2019<br>Gold Price in Dollar=%{x}<br>Stock Market Closing Price in Dollar=%{marker.size}<extra></extra>\", \"hovertext\": [\"SP500\"], \"ids\": [\"SP500\"], \"legendgroup\": \"SP500\", \"marker\": {\"color\": \"#636efa\", \"size\": [2803.98381], \"sizemode\": \"area\", \"sizeref\": 10.352940475, \"symbol\": \"circle\"}, \"mode\": \"markers\", \"name\": \"SP500\", \"orientation\": \"v\", \"showlegend\": true, \"x\": [1511.400024], \"xaxis\": \"x\", \"y\": [2803.98381], \"yaxis\": \"y\", \"type\": \"scatter\"}, {\"hovertemplate\": \"<b>%{hovertext}</b><br><br>Market Standard=SSE<br>DATE=3/1/2019<br>Gold Price in Dollar=%{x}<br>Stock Market Closing Price in Dollar=%{marker.size}<extra></extra>\", \"hovertext\": [\"SSE\"], \"ids\": [\"SSE\"], \"legendgroup\": \"SSE\", \"marker\": {\"color\": \"#EF553B\", \"size\": [2898.696045], \"sizemode\": \"area\", \"sizeref\": 10.352940475, \"symbol\": \"circle\"}, \"mode\": \"markers\", \"name\": \"SSE\", \"orientation\": \"v\", \"showlegend\": true, \"x\": [1511.400024], \"xaxis\": \"x\", \"y\": [2898.696045], \"yaxis\": \"y\", \"type\": \"scatter\"}, {\"hovertemplate\": \"<b>%{hovertext}</b><br><br>Market Standard=JPN<br>DATE=3/1/2019<br>Gold Price in Dollar=%{x}<br>Stock Market Closing Price in Dollar=%{marker.size}<extra></extra>\", \"hovertext\": [\"JPN\"], \"ids\": [\"JPN\"], \"legendgroup\": \"JPN\", \"marker\": {\"color\": \"#00cc96\", \"size\": [2060.118945], \"sizemode\": \"area\", \"sizeref\": 10.352940475, \"symbol\": \"circle\"}, \"mode\": \"markers\", \"name\": \"JPN\", \"orientation\": \"v\", \"showlegend\": true, \"x\": [1511.400024], \"xaxis\": \"x\", \"y\": [2060.118945], \"yaxis\": \"y\", \"type\": \"scatter\"}], \"name\": \"3/1/2019\"}, {\"data\": [{\"hovertemplate\": \"<b>%{hovertext}</b><br><br>Market Standard=SP500<br>DATE=4/1/2019<br>Gold Price in Dollar=%{x}<br>Stock Market Closing Price in Dollar=%{marker.size}<extra></extra>\", \"hovertext\": [\"SP500\"], \"ids\": [\"SP500\"], \"legendgroup\": \"SP500\", \"marker\": {\"color\": \"#636efa\", \"size\": [2903.8], \"sizemode\": \"area\", \"sizeref\": 10.352940475, \"symbol\": \"circle\"}, \"mode\": \"markers\", \"name\": \"SP500\", \"orientation\": \"v\", \"showlegend\": true, \"x\": [1465.599976], \"xaxis\": \"x\", \"y\": [2903.8], \"yaxis\": \"y\", \"type\": \"scatter\"}, {\"hovertemplate\": \"<b>%{hovertext}</b><br><br>Market Standard=SSE<br>DATE=4/1/2019<br>Gold Price in Dollar=%{x}<br>Stock Market Closing Price in Dollar=%{marker.size}<extra></extra>\", \"hovertext\": [\"SSE\"], \"ids\": [\"SSE\"], \"legendgroup\": \"SSE\", \"marker\": {\"color\": \"#EF553B\", \"size\": [2978.87793], \"sizemode\": \"area\", \"sizeref\": 10.352940475, \"symbol\": \"circle\"}, \"mode\": \"markers\", \"name\": \"SSE\", \"orientation\": \"v\", \"showlegend\": true, \"x\": [1465.599976], \"xaxis\": \"x\", \"y\": [2978.87793], \"yaxis\": \"y\", \"type\": \"scatter\"}, {\"hovertemplate\": \"<b>%{hovertext}</b><br><br>Market Standard=JPN<br>DATE=4/1/2019<br>Gold Price in Dollar=%{x}<br>Stock Market Closing Price in Dollar=%{marker.size}<extra></extra>\", \"hovertext\": [\"JPN\"], \"ids\": [\"JPN\"], \"legendgroup\": \"JPN\", \"marker\": {\"color\": \"#00cc96\", \"size\": [2127.591992], \"sizemode\": \"area\", \"sizeref\": 10.352940475, \"symbol\": \"circle\"}, \"mode\": \"markers\", \"name\": \"JPN\", \"orientation\": \"v\", \"showlegend\": true, \"x\": [1465.599976], \"xaxis\": \"x\", \"y\": [2127.591992], \"yaxis\": \"y\", \"type\": \"scatter\"}], \"name\": \"4/1/2019\"}, {\"data\": [{\"hovertemplate\": \"<b>%{hovertext}</b><br><br>Market Standard=SP500<br>DATE=5/1/2019<br>Gold Price in Dollar=%{x}<br>Stock Market Closing Price in Dollar=%{marker.size}<extra></extra>\", \"hovertext\": [\"SP500\"], \"ids\": [\"SP500\"], \"legendgroup\": \"SP500\", \"marker\": {\"color\": \"#636efa\", \"size\": [2854.705909], \"sizemode\": \"area\", \"sizeref\": 10.352940475, \"symbol\": \"circle\"}, \"mode\": \"markers\", \"name\": \"SP500\", \"orientation\": \"v\", \"showlegend\": true, \"x\": [1582.900024], \"xaxis\": \"x\", \"y\": [2854.705909], \"yaxis\": \"y\", \"type\": \"scatter\"}, {\"hovertemplate\": \"<b>%{hovertext}</b><br><br>Market Standard=SSE<br>DATE=5/1/2019<br>Gold Price in Dollar=%{x}<br>Stock Market Closing Price in Dollar=%{marker.size}<extra></extra>\", \"hovertext\": [\"SSE\"], \"ids\": [\"SSE\"], \"legendgroup\": \"SSE\", \"marker\": {\"color\": \"#EF553B\", \"size\": [2932.51001], \"sizemode\": \"area\", \"sizeref\": 10.352940475, \"symbol\": \"circle\"}, \"mode\": \"markers\", \"name\": \"SSE\", \"orientation\": \"v\", \"showlegend\": true, \"x\": [1582.900024], \"xaxis\": \"x\", \"y\": [2932.51001], \"yaxis\": \"y\", \"type\": \"scatter\"}, {\"hovertemplate\": \"<b>%{hovertext}</b><br><br>Market Standard=JPN<br>DATE=5/1/2019<br>Gold Price in Dollar=%{x}<br>Stock Market Closing Price in Dollar=%{marker.size}<extra></extra>\", \"hovertext\": [\"JPN\"], \"ids\": [\"JPN\"], \"legendgroup\": \"JPN\", \"marker\": {\"color\": \"#00cc96\", \"size\": [2152.1529299999997], \"sizemode\": \"area\", \"sizeref\": 10.352940475, \"symbol\": \"circle\"}, \"mode\": \"markers\", \"name\": \"JPN\", \"orientation\": \"v\", \"showlegend\": true, \"x\": [1582.900024], \"xaxis\": \"x\", \"y\": [2152.1529299999997], \"yaxis\": \"y\", \"type\": \"scatter\"}], \"name\": \"5/1/2019\"}, {\"data\": [{\"hovertemplate\": \"<b>%{hovertext}</b><br><br>Market Standard=SP500<br>DATE=6/1/2019<br>Gold Price in Dollar=%{x}<br>Stock Market Closing Price in Dollar=%{marker.size}<extra></extra>\", \"hovertext\": [\"SP500\"], \"ids\": [\"SP500\"], \"legendgroup\": \"SP500\", \"marker\": {\"color\": \"#636efa\", \"size\": [2890.166], \"sizemode\": \"area\", \"sizeref\": 10.352940475, \"symbol\": \"circle\"}, \"mode\": \"markers\", \"name\": \"SP500\", \"orientation\": \"v\", \"showlegend\": true, \"x\": [1564.099976], \"xaxis\": \"x\", \"y\": [2890.166], \"yaxis\": \"y\", \"type\": \"scatter\"}, {\"hovertemplate\": \"<b>%{hovertext}</b><br><br>Market Standard=SSE<br>DATE=6/1/2019<br>Gold Price in Dollar=%{x}<br>Stock Market Closing Price in Dollar=%{marker.size}<extra></extra>\", \"hovertext\": [\"SSE\"], \"ids\": [\"SSE\"], \"legendgroup\": \"SSE\", \"marker\": {\"color\": \"#EF553B\", \"size\": [2886.23999], \"sizemode\": \"area\", \"sizeref\": 10.352940475, \"symbol\": \"circle\"}, \"mode\": \"markers\", \"name\": \"SSE\", \"orientation\": \"v\", \"showlegend\": true, \"x\": [1564.099976], \"xaxis\": \"x\", \"y\": [2886.23999], \"yaxis\": \"y\", \"type\": \"scatter\"}, {\"hovertemplate\": \"<b>%{hovertext}</b><br><br>Market Standard=JPN<br>DATE=6/1/2019<br>Gold Price in Dollar=%{x}<br>Stock Market Closing Price in Dollar=%{marker.size}<extra></extra>\", \"hovertext\": [\"JPN\"], \"ids\": [\"JPN\"], \"legendgroup\": \"JPN\", \"marker\": {\"color\": \"#00cc96\", \"size\": [2070.436914], \"sizemode\": \"area\", \"sizeref\": 10.352940475, \"symbol\": \"circle\"}, \"mode\": \"markers\", \"name\": \"JPN\", \"orientation\": \"v\", \"showlegend\": true, \"x\": [1564.099976], \"xaxis\": \"x\", \"y\": [2070.436914], \"yaxis\": \"y\", \"type\": \"scatter\"}], \"name\": \"6/1/2019\"}, {\"data\": [{\"hovertemplate\": \"<b>%{hovertext}</b><br><br>Market Standard=SP500<br>DATE=7/1/2019<br>Gold Price in Dollar=%{x}<br>Stock Market Closing Price in Dollar=%{marker.size}<extra></extra>\", \"hovertext\": [\"SP500\"], \"ids\": [\"SP500\"], \"legendgroup\": \"SP500\", \"marker\": {\"color\": \"#636efa\", \"size\": [2996.113636], \"sizemode\": \"area\", \"sizeref\": 10.352940475, \"symbol\": \"circle\"}, \"mode\": \"markers\", \"name\": \"SP500\", \"orientation\": \"v\", \"showlegend\": true, \"x\": [1684.199951], \"xaxis\": \"x\", \"y\": [2996.113636], \"yaxis\": \"y\", \"type\": \"scatter\"}, {\"hovertemplate\": \"<b>%{hovertext}</b><br><br>Market Standard=SSE<br>DATE=7/1/2019<br>Gold Price in Dollar=%{x}<br>Stock Market Closing Price in Dollar=%{marker.size}<extra></extra>\", \"hovertext\": [\"SSE\"], \"ids\": [\"SSE\"], \"legendgroup\": \"SSE\", \"marker\": {\"color\": \"#EF553B\", \"size\": [2905.189941], \"sizemode\": \"area\", \"sizeref\": 10.352940475, \"symbol\": \"circle\"}, \"mode\": \"markers\", \"name\": \"SSE\", \"orientation\": \"v\", \"showlegend\": true, \"x\": [1684.199951], \"xaxis\": \"x\", \"y\": [2905.189941], \"yaxis\": \"y\", \"type\": \"scatter\"}, {\"hovertemplate\": \"<b>%{hovertext}</b><br><br>Market Standard=JPN<br>DATE=7/1/2019<br>Gold Price in Dollar=%{x}<br>Stock Market Closing Price in Dollar=%{marker.size}<extra></extra>\", \"hovertext\": [\"JPN\"], \"ids\": [\"JPN\"], \"legendgroup\": \"JPN\", \"marker\": {\"color\": \"#00cc96\", \"size\": [2175.583984], \"sizemode\": \"area\", \"sizeref\": 10.352940475, \"symbol\": \"circle\"}, \"mode\": \"markers\", \"name\": \"JPN\", \"orientation\": \"v\", \"showlegend\": true, \"x\": [1684.199951], \"xaxis\": \"x\", \"y\": [2175.583984], \"yaxis\": \"y\", \"type\": \"scatter\"}], \"name\": \"7/1/2019\"}, {\"data\": [{\"hovertemplate\": \"<b>%{hovertext}</b><br><br>Market Standard=SP500<br>DATE=8/1/2019<br>Gold Price in Dollar=%{x}<br>Stock Market Closing Price in Dollar=%{marker.size}<extra></extra>\", \"hovertext\": [\"SP500\"], \"ids\": [\"SP500\"], \"legendgroup\": \"SP500\", \"marker\": {\"color\": \"#636efa\", \"size\": [2897.498182], \"sizemode\": \"area\", \"sizeref\": 10.352940475, \"symbol\": \"circle\"}, \"mode\": \"markers\", \"name\": \"SP500\", \"orientation\": \"v\", \"showlegend\": true, \"x\": [1736.900024], \"xaxis\": \"x\", \"y\": [2897.498182], \"yaxis\": \"y\", \"type\": \"scatter\"}, {\"hovertemplate\": \"<b>%{hovertext}</b><br><br>Market Standard=SSE<br>DATE=8/1/2019<br>Gold Price in Dollar=%{x}<br>Stock Market Closing Price in Dollar=%{marker.size}<extra></extra>\", \"hovertext\": [\"SSE\"], \"ids\": [\"SSE\"], \"legendgroup\": \"SSE\", \"marker\": {\"color\": \"#EF553B\", \"size\": [2929.060059], \"sizemode\": \"area\", \"sizeref\": 10.352940475, \"symbol\": \"circle\"}, \"mode\": \"markers\", \"name\": \"SSE\", \"orientation\": \"v\", \"showlegend\": true, \"x\": [1736.900024], \"xaxis\": \"x\", \"y\": [2929.060059], \"yaxis\": \"y\", \"type\": \"scatter\"}, {\"hovertemplate\": \"<b>%{hovertext}</b><br><br>Market Standard=JPN<br>DATE=8/1/2019<br>Gold Price in Dollar=%{x}<br>Stock Market Closing Price in Dollar=%{marker.size}<extra></extra>\", \"hovertext\": [\"JPN\"], \"ids\": [\"JPN\"], \"legendgroup\": \"JPN\", \"marker\": {\"color\": \"#00cc96\", \"size\": [2292.7039059999997], \"sizemode\": \"area\", \"sizeref\": 10.352940475, \"symbol\": \"circle\"}, \"mode\": \"markers\", \"name\": \"JPN\", \"orientation\": \"v\", \"showlegend\": true, \"x\": [1736.900024], \"xaxis\": \"x\", \"y\": [2292.7039059999997], \"yaxis\": \"y\", \"type\": \"scatter\"}], \"name\": \"8/1/2019\"}, {\"data\": [{\"hovertemplate\": \"<b>%{hovertext}</b><br><br>Market Standard=SP500<br>DATE=9/1/2019<br>Gold Price in Dollar=%{x}<br>Stock Market Closing Price in Dollar=%{marker.size}<extra></extra>\", \"hovertext\": [\"SP500\"], \"ids\": [\"SP500\"], \"legendgroup\": \"SP500\", \"marker\": {\"color\": \"#636efa\", \"size\": [2982.156], \"sizemode\": \"area\", \"sizeref\": 10.352940475, \"symbol\": \"circle\"}, \"mode\": \"markers\", \"name\": \"SP500\", \"orientation\": \"v\", \"showlegend\": true, \"x\": [1793.0], \"xaxis\": \"x\", \"y\": [2982.156], \"yaxis\": \"y\", \"type\": \"scatter\"}, {\"hovertemplate\": \"<b>%{hovertext}</b><br><br>Market Standard=SSE<br>DATE=9/1/2019<br>Gold Price in Dollar=%{x}<br>Stock Market Closing Price in Dollar=%{marker.size}<extra></extra>\", \"hovertext\": [\"SSE\"], \"ids\": [\"SSE\"], \"legendgroup\": \"SSE\", \"marker\": {\"color\": \"#EF553B\", \"size\": [2871.97998], \"sizemode\": \"area\", \"sizeref\": 10.352940475, \"symbol\": \"circle\"}, \"mode\": \"markers\", \"name\": \"SSE\", \"orientation\": \"v\", \"showlegend\": true, \"x\": [1793.0], \"xaxis\": \"x\", \"y\": [2871.97998], \"yaxis\": \"y\", \"type\": \"scatter\"}, {\"hovertemplate\": \"<b>%{hovertext}</b><br><br>Market Standard=JPN<br>DATE=9/1/2019<br>Gold Price in Dollar=%{x}<br>Stock Market Closing Price in Dollar=%{marker.size}<extra></extra>\", \"hovertext\": [\"JPN\"], \"ids\": [\"JPN\"], \"legendgroup\": \"JPN\", \"marker\": {\"color\": \"#00cc96\", \"size\": [2329.391016], \"sizemode\": \"area\", \"sizeref\": 10.352940475, \"symbol\": \"circle\"}, \"mode\": \"markers\", \"name\": \"JPN\", \"orientation\": \"v\", \"showlegend\": true, \"x\": [1793.0], \"xaxis\": \"x\", \"y\": [2329.391016], \"yaxis\": \"y\", \"type\": \"scatter\"}], \"name\": \"9/1/2019\"}, {\"data\": [{\"hovertemplate\": \"<b>%{hovertext}</b><br><br>Market Standard=SP500<br>DATE=10/1/2019<br>Gold Price in Dollar=%{x}<br>Stock Market Closing Price in Dollar=%{marker.size}<extra></extra>\", \"hovertext\": [\"SP500\"], \"ids\": [\"SP500\"], \"legendgroup\": \"SP500\", \"marker\": {\"color\": \"#636efa\", \"size\": [2977.675217], \"sizemode\": \"area\", \"sizeref\": 10.352940475, \"symbol\": \"circle\"}, \"mode\": \"markers\", \"name\": \"SP500\", \"orientation\": \"v\", \"showlegend\": true, \"x\": [1962.800049], \"xaxis\": \"x\", \"y\": [2977.675217], \"yaxis\": \"y\", \"type\": \"scatter\"}, {\"hovertemplate\": \"<b>%{hovertext}</b><br><br>Market Standard=SSE<br>DATE=10/1/2019<br>Gold Price in Dollar=%{x}<br>Stock Market Closing Price in Dollar=%{marker.size}<extra></extra>\", \"hovertext\": [\"SSE\"], \"ids\": [\"SSE\"], \"legendgroup\": \"SSE\", \"marker\": {\"color\": \"#EF553B\", \"size\": [3050.124023], \"sizemode\": \"area\", \"sizeref\": 10.352940475, \"symbol\": \"circle\"}, \"mode\": \"markers\", \"name\": \"SSE\", \"orientation\": \"v\", \"showlegend\": true, \"x\": [1962.800049], \"xaxis\": \"x\", \"y\": [3050.124023], \"yaxis\": \"y\", \"type\": \"scatter\"}, {\"hovertemplate\": \"<b>%{hovertext}</b><br><br>Market Standard=JPN<br>DATE=10/1/2019<br>Gold Price in Dollar=%{x}<br>Stock Market Closing Price in Dollar=%{marker.size}<extra></extra>\", \"hovertext\": [\"JPN\"], \"ids\": [\"JPN\"], \"legendgroup\": \"JPN\", \"marker\": {\"color\": \"#00cc96\", \"size\": [2365.661914], \"sizemode\": \"area\", \"sizeref\": 10.352940475, \"symbol\": \"circle\"}, \"mode\": \"markers\", \"name\": \"JPN\", \"orientation\": \"v\", \"showlegend\": true, \"x\": [1962.800049], \"xaxis\": \"x\", \"y\": [2365.661914], \"yaxis\": \"y\", \"type\": \"scatter\"}], \"name\": \"10/1/2019\"}, {\"data\": [{\"hovertemplate\": \"<b>%{hovertext}</b><br><br>Market Standard=SP500<br>DATE=11/1/2019<br>Gold Price in Dollar=%{x}<br>Stock Market Closing Price in Dollar=%{marker.size}<extra></extra>\", \"hovertext\": [\"SP500\"], \"ids\": [\"SP500\"], \"legendgroup\": \"SP500\", \"marker\": {\"color\": \"#636efa\", \"size\": [3104.9045], \"sizemode\": \"area\", \"sizeref\": 10.352940475, \"symbol\": \"circle\"}, \"mode\": \"markers\", \"name\": \"SP500\", \"orientation\": \"v\", \"showlegend\": true, \"x\": [1967.599976], \"xaxis\": \"x\", \"y\": [3104.9045], \"yaxis\": \"y\", \"type\": \"scatter\"}, {\"hovertemplate\": \"<b>%{hovertext}</b><br><br>Market Standard=SSE<br>DATE=11/1/2019<br>Gold Price in Dollar=%{x}<br>Stock Market Closing Price in Dollar=%{marker.size}<extra></extra>\", \"hovertext\": [\"SSE\"], \"ids\": [\"SSE\"], \"legendgroup\": \"SSE\", \"marker\": {\"color\": \"#EF553B\", \"size\": [2976.528076], \"sizemode\": \"area\", \"sizeref\": 10.352940475, \"symbol\": \"circle\"}, \"mode\": \"markers\", \"name\": \"SSE\", \"orientation\": \"v\", \"showlegend\": true, \"x\": [1967.599976], \"xaxis\": \"x\", \"y\": [2976.528076], \"yaxis\": \"y\", \"type\": \"scatter\"}, {\"hovertemplate\": \"<b>%{hovertext}</b><br><br>Market Standard=JPN<br>DATE=11/1/2019<br>Gold Price in Dollar=%{x}<br>Stock Market Closing Price in Dollar=%{marker.size}<extra></extra>\", \"hovertext\": [\"JPN\"], \"ids\": [\"JPN\"], \"legendgroup\": \"JPN\", \"marker\": {\"color\": \"#00cc96\", \"size\": [2320.517969], \"sizemode\": \"area\", \"sizeref\": 10.352940475, \"symbol\": \"circle\"}, \"mode\": \"markers\", \"name\": \"JPN\", \"orientation\": \"v\", \"showlegend\": true, \"x\": [1967.599976], \"xaxis\": \"x\", \"y\": [2320.517969], \"yaxis\": \"y\", \"type\": \"scatter\"}], \"name\": \"11/1/2019\"}, {\"data\": [{\"hovertemplate\": \"<b>%{hovertext}</b><br><br>Market Standard=SP500<br>DATE=12/1/2019<br>Gold Price in Dollar=%{x}<br>Stock Market Closing Price in Dollar=%{marker.size}<extra></extra>\", \"hovertext\": [\"SP500\"], \"ids\": [\"SP500\"], \"legendgroup\": \"SP500\", \"marker\": {\"color\": \"#636efa\", \"size\": [3176.749524], \"sizemode\": \"area\", \"sizeref\": 10.352940475, \"symbol\": \"circle\"}, \"mode\": \"markers\", \"name\": \"SP500\", \"orientation\": \"v\", \"showlegend\": true, \"x\": [1887.5], \"xaxis\": \"x\", \"y\": [3176.749524], \"yaxis\": \"y\", \"type\": \"scatter\"}, {\"hovertemplate\": \"<b>%{hovertext}</b><br><br>Market Standard=SSE<br>DATE=12/1/2019<br>Gold Price in Dollar=%{x}<br>Stock Market Closing Price in Dollar=%{marker.size}<extra></extra>\", \"hovertext\": [\"SSE\"], \"ids\": [\"SSE\"], \"legendgroup\": \"SSE\", \"marker\": {\"color\": \"#EF553B\", \"size\": [2880.303955], \"sizemode\": \"area\", \"sizeref\": 10.352940475, \"symbol\": \"circle\"}, \"mode\": \"markers\", \"name\": \"SSE\", \"orientation\": \"v\", \"showlegend\": true, \"x\": [1887.5], \"xaxis\": \"x\", \"y\": [2880.303955], \"yaxis\": \"y\", \"type\": \"scatter\"}, {\"hovertemplate\": \"<b>%{hovertext}</b><br><br>Market Standard=JPN<br>DATE=12/1/2019<br>Gold Price in Dollar=%{x}<br>Stock Market Closing Price in Dollar=%{marker.size}<extra></extra>\", \"hovertext\": [\"JPN\"], \"ids\": [\"JPN\"], \"legendgroup\": \"JPN\", \"marker\": {\"color\": \"#00cc96\", \"size\": [2114.2960940000003], \"sizemode\": \"area\", \"sizeref\": 10.352940475, \"symbol\": \"circle\"}, \"mode\": \"markers\", \"name\": \"JPN\", \"orientation\": \"v\", \"showlegend\": true, \"x\": [1887.5], \"xaxis\": \"x\", \"y\": [2114.2960940000003], \"yaxis\": \"y\", \"type\": \"scatter\"}], \"name\": \"12/1/2019\"}, {\"data\": [{\"hovertemplate\": \"<b>%{hovertext}</b><br><br>Market Standard=SP500<br>DATE=1/1/2020<br>Gold Price in Dollar=%{x}<br>Stock Market Closing Price in Dollar=%{marker.size}<extra></extra>\", \"hovertext\": [\"SP500\"], \"ids\": [\"SP500\"], \"legendgroup\": \"SP500\", \"marker\": {\"color\": \"#636efa\", \"size\": [3278.202857], \"sizemode\": \"area\", \"sizeref\": 10.352940475, \"symbol\": \"circle\"}, \"mode\": \"markers\", \"name\": \"SP500\", \"orientation\": \"v\", \"showlegend\": true, \"x\": [1877.400024], \"xaxis\": \"x\", \"y\": [3278.202857], \"yaxis\": \"y\", \"type\": \"scatter\"}, {\"hovertemplate\": \"<b>%{hovertext}</b><br><br>Market Standard=SSE<br>DATE=1/1/2020<br>Gold Price in Dollar=%{x}<br>Stock Market Closing Price in Dollar=%{marker.size}<extra></extra>\", \"hovertext\": [\"SSE\"], \"ids\": [\"SSE\"], \"legendgroup\": \"SSE\", \"marker\": {\"color\": \"#EF553B\", \"size\": [2750.295898], \"sizemode\": \"area\", \"sizeref\": 10.352940475, \"symbol\": \"circle\"}, \"mode\": \"markers\", \"name\": \"SSE\", \"orientation\": \"v\", \"showlegend\": true, \"x\": [1877.400024], \"xaxis\": \"x\", \"y\": [2750.295898], \"yaxis\": \"y\", \"type\": \"scatter\"}, {\"hovertemplate\": \"<b>%{hovertext}</b><br><br>Market Standard=JPN<br>DATE=1/1/2020<br>Gold Price in Dollar=%{x}<br>Stock Market Closing Price in Dollar=%{marker.size}<extra></extra>\", \"hovertext\": [\"JPN\"], \"ids\": [\"JPN\"], \"legendgroup\": \"JPN\", \"marker\": {\"color\": \"#00cc96\", \"size\": [1891.700977], \"sizemode\": \"area\", \"sizeref\": 10.352940475, \"symbol\": \"circle\"}, \"mode\": \"markers\", \"name\": \"JPN\", \"orientation\": \"v\", \"showlegend\": true, \"x\": [1877.400024], \"xaxis\": \"x\", \"y\": [1891.700977], \"yaxis\": \"y\", \"type\": \"scatter\"}], \"name\": \"1/1/2020\"}, {\"data\": [{\"hovertemplate\": \"<b>%{hovertext}</b><br><br>Market Standard=SP500<br>DATE=2/1/2020<br>Gold Price in Dollar=%{x}<br>Stock Market Closing Price in Dollar=%{marker.size}<extra></extra>\", \"hovertext\": [\"SP500\"], \"ids\": [\"SP500\"], \"legendgroup\": \"SP500\", \"marker\": {\"color\": \"#636efa\", \"size\": [3277.314211], \"sizemode\": \"area\", \"sizeref\": 10.352940475, \"symbol\": \"circle\"}, \"mode\": \"markers\", \"name\": \"SP500\", \"orientation\": \"v\", \"showlegend\": true, \"x\": [1893.099976], \"xaxis\": \"x\", \"y\": [3277.314211], \"yaxis\": \"y\", \"type\": \"scatter\"}, {\"hovertemplate\": \"<b>%{hovertext}</b><br><br>Market Standard=SSE<br>DATE=2/1/2020<br>Gold Price in Dollar=%{x}<br>Stock Market Closing Price in Dollar=%{marker.size}<extra></extra>\", \"hovertext\": [\"SSE\"], \"ids\": [\"SSE\"], \"legendgroup\": \"SSE\", \"marker\": {\"color\": \"#EF553B\", \"size\": [2860.082031], \"sizemode\": \"area\", \"sizeref\": 10.352940475, \"symbol\": \"circle\"}, \"mode\": \"markers\", \"name\": \"SSE\", \"orientation\": \"v\", \"showlegend\": true, \"x\": [1893.099976], \"xaxis\": \"x\", \"y\": [2860.082031], \"yaxis\": \"y\", \"type\": \"scatter\"}, {\"hovertemplate\": \"<b>%{hovertext}</b><br><br>Market Standard=JPN<br>DATE=2/1/2020<br>Gold Price in Dollar=%{x}<br>Stock Market Closing Price in Dollar=%{marker.size}<extra></extra>\", \"hovertext\": [\"JPN\"], \"ids\": [\"JPN\"], \"legendgroup\": \"JPN\", \"marker\": {\"color\": \"#00cc96\", \"size\": [2019.3689450000002], \"sizemode\": \"area\", \"sizeref\": 10.352940475, \"symbol\": \"circle\"}, \"mode\": \"markers\", \"name\": \"JPN\", \"orientation\": \"v\", \"showlegend\": true, \"x\": [1893.099976], \"xaxis\": \"x\", \"y\": [2019.3689450000002], \"yaxis\": \"y\", \"type\": \"scatter\"}], \"name\": \"2/1/2020\"}, {\"data\": [{\"hovertemplate\": \"<b>%{hovertext}</b><br><br>Market Standard=SP500<br>DATE=3/1/2020<br>Gold Price in Dollar=%{x}<br>Stock Market Closing Price in Dollar=%{marker.size}<extra></extra>\", \"hovertext\": [\"SP500\"], \"ids\": [\"SP500\"], \"legendgroup\": \"SP500\", \"marker\": {\"color\": \"#636efa\", \"size\": [2652.393636], \"sizemode\": \"area\", \"sizeref\": 10.352940475, \"symbol\": \"circle\"}, \"mode\": \"markers\", \"name\": \"SP500\", \"orientation\": \"v\", \"showlegend\": true, \"x\": [1847.300049], \"xaxis\": \"x\", \"y\": [2652.393636], \"yaxis\": \"y\", \"type\": \"scatter\"}, {\"hovertemplate\": \"<b>%{hovertext}</b><br><br>Market Standard=SSE<br>DATE=3/1/2020<br>Gold Price in Dollar=%{x}<br>Stock Market Closing Price in Dollar=%{marker.size}<extra></extra>\", \"hovertext\": [\"SSE\"], \"ids\": [\"SSE\"], \"legendgroup\": \"SSE\", \"marker\": {\"color\": \"#EF553B\", \"size\": [2852.351074], \"sizemode\": \"area\", \"sizeref\": 10.352940475, \"symbol\": \"circle\"}, \"mode\": \"markers\", \"name\": \"SSE\", \"orientation\": \"v\", \"showlegend\": true, \"x\": [1847.300049], \"xaxis\": \"x\", \"y\": [2852.351074], \"yaxis\": \"y\", \"type\": \"scatter\"}, {\"hovertemplate\": \"<b>%{hovertext}</b><br><br>Market Standard=JPN<br>DATE=3/1/2020<br>Gold Price in Dollar=%{x}<br>Stock Market Closing Price in Dollar=%{marker.size}<extra></extra>\", \"hovertext\": [\"JPN\"], \"ids\": [\"JPN\"], \"legendgroup\": \"JPN\", \"marker\": {\"color\": \"#00cc96\", \"size\": [2187.789063], \"sizemode\": \"area\", \"sizeref\": 10.352940475, \"symbol\": \"circle\"}, \"mode\": \"markers\", \"name\": \"JPN\", \"orientation\": \"v\", \"showlegend\": true, \"x\": [1847.300049], \"xaxis\": \"x\", \"y\": [2187.789063], \"yaxis\": \"y\", \"type\": \"scatter\"}], \"name\": \"3/1/2020\"}, {\"data\": [{\"hovertemplate\": \"<b>%{hovertext}</b><br><br>Market Standard=SP500<br>DATE=4/1/2020<br>Gold Price in Dollar=%{x}<br>Stock Market Closing Price in Dollar=%{marker.size}<extra></extra>\", \"hovertext\": [\"SP500\"], \"ids\": [\"SP500\"], \"legendgroup\": \"SP500\", \"marker\": {\"color\": \"#636efa\", \"size\": [2761.975238], \"sizemode\": \"area\", \"sizeref\": 10.352940475, \"symbol\": \"circle\"}, \"mode\": \"markers\", \"name\": \"SP500\", \"orientation\": \"v\", \"showlegend\": true, \"x\": [1728.099976], \"xaxis\": \"x\", \"y\": [2761.975238], \"yaxis\": \"y\", \"type\": \"scatter\"}, {\"hovertemplate\": \"<b>%{hovertext}</b><br><br>Market Standard=SSE<br>DATE=4/1/2020<br>Gold Price in Dollar=%{x}<br>Stock Market Closing Price in Dollar=%{marker.size}<extra></extra>\", \"hovertext\": [\"SSE\"], \"ids\": [\"SSE\"], \"legendgroup\": \"SSE\", \"marker\": {\"color\": \"#EF553B\", \"size\": [2984.674072], \"sizemode\": \"area\", \"sizeref\": 10.352940475, \"symbol\": \"circle\"}, \"mode\": \"markers\", \"name\": \"SSE\", \"orientation\": \"v\", \"showlegend\": true, \"x\": [1728.099976], \"xaxis\": \"x\", \"y\": [2984.674072], \"yaxis\": \"y\", \"type\": \"scatter\"}, {\"hovertemplate\": \"<b>%{hovertext}</b><br><br>Market Standard=JPN<br>DATE=4/1/2020<br>Gold Price in Dollar=%{x}<br>Stock Market Closing Price in Dollar=%{marker.size}<extra></extra>\", \"hovertext\": [\"JPN\"], \"ids\": [\"JPN\"], \"legendgroup\": \"JPN\", \"marker\": {\"color\": \"#00cc96\", \"size\": [2228.8140630000003], \"sizemode\": \"area\", \"sizeref\": 10.352940475, \"symbol\": \"circle\"}, \"mode\": \"markers\", \"name\": \"JPN\", \"orientation\": \"v\", \"showlegend\": true, \"x\": [1728.099976], \"xaxis\": \"x\", \"y\": [2228.8140630000003], \"yaxis\": \"y\", \"type\": \"scatter\"}], \"name\": \"4/1/2020\"}, {\"data\": [{\"hovertemplate\": \"<b>%{hovertext}</b><br><br>Market Standard=SP500<br>DATE=5/1/2020<br>Gold Price in Dollar=%{x}<br>Stock Market Closing Price in Dollar=%{marker.size}<extra></extra>\", \"hovertext\": [\"SP500\"], \"ids\": [\"SP500\"], \"legendgroup\": \"SP500\", \"marker\": {\"color\": \"#636efa\", \"size\": [2919.615], \"sizemode\": \"area\", \"sizeref\": 10.352940475, \"symbol\": \"circle\"}, \"mode\": \"markers\", \"name\": \"SP500\", \"orientation\": \"v\", \"showlegend\": true, \"x\": [1713.800049], \"xaxis\": \"x\", \"y\": [2919.615], \"yaxis\": \"y\", \"type\": \"scatter\"}, {\"hovertemplate\": \"<b>%{hovertext}</b><br><br>Market Standard=SSE<br>DATE=5/1/2020<br>Gold Price in Dollar=%{x}<br>Stock Market Closing Price in Dollar=%{marker.size}<extra></extra>\", \"hovertext\": [\"SSE\"], \"ids\": [\"SSE\"], \"legendgroup\": \"SSE\", \"marker\": {\"color\": \"#EF553B\", \"size\": [3310.00708], \"sizemode\": \"area\", \"sizeref\": 10.352940475, \"symbol\": \"circle\"}, \"mode\": \"markers\", \"name\": \"SSE\", \"orientation\": \"v\", \"showlegend\": true, \"x\": [1713.800049], \"xaxis\": \"x\", \"y\": [3310.00708], \"yaxis\": \"y\", \"type\": \"scatter\"}, {\"hovertemplate\": \"<b>%{hovertext}</b><br><br>Market Standard=JPN<br>DATE=5/1/2020<br>Gold Price in Dollar=%{x}<br>Stock Market Closing Price in Dollar=%{marker.size}<extra></extra>\", \"hovertext\": [\"JPN\"], \"ids\": [\"JPN\"], \"legendgroup\": \"JPN\", \"marker\": {\"color\": \"#00cc96\", \"size\": [2171.0], \"sizemode\": \"area\", \"sizeref\": 10.352940475, \"symbol\": \"circle\"}, \"mode\": \"markers\", \"name\": \"JPN\", \"orientation\": \"v\", \"showlegend\": true, \"x\": [1713.800049], \"xaxis\": \"x\", \"y\": [2171.0], \"yaxis\": \"y\", \"type\": \"scatter\"}], \"name\": \"5/1/2020\"}, {\"data\": [{\"hovertemplate\": \"<b>%{hovertext}</b><br><br>Market Standard=SP500<br>DATE=6/1/2020<br>Gold Price in Dollar=%{x}<br>Stock Market Closing Price in Dollar=%{marker.size}<extra></extra>\", \"hovertext\": [\"SP500\"], \"ids\": [\"SP500\"], \"legendgroup\": \"SP500\", \"marker\": {\"color\": \"#636efa\", \"size\": [3104.660909], \"sizemode\": \"area\", \"sizeref\": 10.352940475, \"symbol\": \"circle\"}, \"mode\": \"markers\", \"name\": \"SP500\", \"orientation\": \"v\", \"showlegend\": true, \"x\": [1767.300049], \"xaxis\": \"x\", \"y\": [3104.660909], \"yaxis\": \"y\", \"type\": \"scatter\"}, {\"hovertemplate\": \"<b>%{hovertext}</b><br><br>Market Standard=SSE<br>DATE=6/1/2020<br>Gold Price in Dollar=%{x}<br>Stock Market Closing Price in Dollar=%{marker.size}<extra></extra>\", \"hovertext\": [\"SSE\"], \"ids\": [\"SSE\"], \"legendgroup\": \"SSE\", \"marker\": {\"color\": \"#EF553B\", \"size\": [3395.677979], \"sizemode\": \"area\", \"sizeref\": 10.352940475, \"symbol\": \"circle\"}, \"mode\": \"markers\", \"name\": \"SSE\", \"orientation\": \"v\", \"showlegend\": true, \"x\": [1767.300049], \"xaxis\": \"x\", \"y\": [3395.677979], \"yaxis\": \"y\", \"type\": \"scatter\"}, {\"hovertemplate\": \"<b>%{hovertext}</b><br><br>Market Standard=JPN<br>DATE=6/1/2020<br>Gold Price in Dollar=%{x}<br>Stock Market Closing Price in Dollar=%{marker.size}<extra></extra>\", \"hovertext\": [\"JPN\"], \"ids\": [\"JPN\"], \"legendgroup\": \"JPN\", \"marker\": {\"color\": \"#00cc96\", \"size\": [2313.975977], \"sizemode\": \"area\", \"sizeref\": 10.352940475, \"symbol\": \"circle\"}, \"mode\": \"markers\", \"name\": \"JPN\", \"orientation\": \"v\", \"showlegend\": true, \"x\": [1767.300049], \"xaxis\": \"x\", \"y\": [2313.975977], \"yaxis\": \"y\", \"type\": \"scatter\"}], \"name\": \"6/1/2020\"}, {\"data\": [{\"hovertemplate\": \"<b>%{hovertext}</b><br><br>Market Standard=SP500<br>DATE=7/1/2020<br>Gold Price in Dollar=%{x}<br>Stock Market Closing Price in Dollar=%{marker.size}<extra></extra>\", \"hovertext\": [\"SP500\"], \"ids\": [\"SP500\"], \"legendgroup\": \"SP500\", \"marker\": {\"color\": \"#636efa\", \"size\": [3207.619091], \"sizemode\": \"area\", \"sizeref\": 10.352940475, \"symbol\": \"circle\"}, \"mode\": \"markers\", \"name\": \"SP500\", \"orientation\": \"v\", \"showlegend\": true, \"x\": [1902.5], \"xaxis\": \"x\", \"y\": [3207.619091], \"yaxis\": \"y\", \"type\": \"scatter\"}, {\"hovertemplate\": \"<b>%{hovertext}</b><br><br>Market Standard=SSE<br>DATE=7/1/2020<br>Gold Price in Dollar=%{x}<br>Stock Market Closing Price in Dollar=%{marker.size}<extra></extra>\", \"hovertext\": [\"SSE\"], \"ids\": [\"SSE\"], \"legendgroup\": \"SSE\", \"marker\": {\"color\": \"#EF553B\", \"size\": [3218.052002], \"sizemode\": \"area\", \"sizeref\": 10.352940475, \"symbol\": \"circle\"}, \"mode\": \"markers\", \"name\": \"SSE\", \"orientation\": \"v\", \"showlegend\": true, \"x\": [1902.5], \"xaxis\": \"x\", \"y\": [3218.052002], \"yaxis\": \"y\", \"type\": \"scatter\"}, {\"hovertemplate\": \"<b>%{hovertext}</b><br><br>Market Standard=JPN<br>DATE=7/1/2020<br>Gold Price in Dollar=%{x}<br>Stock Market Closing Price in Dollar=%{marker.size}<extra></extra>\", \"hovertext\": [\"JPN\"], \"ids\": [\"JPN\"], \"legendgroup\": \"JPN\", \"marker\": {\"color\": \"#00cc96\", \"size\": [2318.5119139999997], \"sizemode\": \"area\", \"sizeref\": 10.352940475, \"symbol\": \"circle\"}, \"mode\": \"markers\", \"name\": \"JPN\", \"orientation\": \"v\", \"showlegend\": true, \"x\": [1902.5], \"xaxis\": \"x\", \"y\": [2318.5119139999997], \"yaxis\": \"y\", \"type\": \"scatter\"}], \"name\": \"7/1/2020\"}, {\"data\": [{\"hovertemplate\": \"<b>%{hovertext}</b><br><br>Market Standard=SP500<br>DATE=8/1/2020<br>Gold Price in Dollar=%{x}<br>Stock Market Closing Price in Dollar=%{marker.size}<extra></extra>\", \"hovertext\": [\"SP500\"], \"ids\": [\"SP500\"], \"legendgroup\": \"SP500\", \"marker\": {\"color\": \"#636efa\", \"size\": [3391.71], \"sizemode\": \"area\", \"sizeref\": 10.352940475, \"symbol\": \"circle\"}, \"mode\": \"markers\", \"name\": \"SP500\", \"orientation\": \"v\", \"showlegend\": true, \"x\": [1910.300049], \"xaxis\": \"x\", \"y\": [3391.71], \"yaxis\": \"y\", \"type\": \"scatter\"}, {\"hovertemplate\": \"<b>%{hovertext}</b><br><br>Market Standard=SSE<br>DATE=8/1/2020<br>Gold Price in Dollar=%{x}<br>Stock Market Closing Price in Dollar=%{marker.size}<extra></extra>\", \"hovertext\": [\"SSE\"], \"ids\": [\"SSE\"], \"legendgroup\": \"SSE\", \"marker\": {\"color\": \"#EF553B\", \"size\": [3224.532959], \"sizemode\": \"area\", \"sizeref\": 10.352940475, \"symbol\": \"circle\"}, \"mode\": \"markers\", \"name\": \"SSE\", \"orientation\": \"v\", \"showlegend\": true, \"x\": [1910.300049], \"xaxis\": \"x\", \"y\": [3224.532959], \"yaxis\": \"y\", \"type\": \"scatter\"}, {\"hovertemplate\": \"<b>%{hovertext}</b><br><br>Market Standard=JPN<br>DATE=8/1/2020<br>Gold Price in Dollar=%{x}<br>Stock Market Closing Price in Dollar=%{marker.size}<extra></extra>\", \"hovertext\": [\"JPN\"], \"ids\": [\"JPN\"], \"legendgroup\": \"JPN\", \"marker\": {\"color\": \"#00cc96\", \"size\": [2297.713086], \"sizemode\": \"area\", \"sizeref\": 10.352940475, \"symbol\": \"circle\"}, \"mode\": \"markers\", \"name\": \"JPN\", \"orientation\": \"v\", \"showlegend\": true, \"x\": [1910.300049], \"xaxis\": \"x\", \"y\": [2297.713086], \"yaxis\": \"y\", \"type\": \"scatter\"}], \"name\": \"8/1/2020\"}, {\"data\": [{\"hovertemplate\": \"<b>%{hovertext}</b><br><br>Market Standard=SP500<br>DATE=9/1/2020<br>Gold Price in Dollar=%{x}<br>Stock Market Closing Price in Dollar=%{marker.size}<extra></extra>\", \"hovertext\": [\"SP500\"], \"ids\": [\"SP500\"], \"legendgroup\": \"SP500\", \"marker\": {\"color\": \"#636efa\", \"size\": [3365.516667], \"sizemode\": \"area\", \"sizeref\": 10.352940475, \"symbol\": \"circle\"}, \"mode\": \"markers\", \"name\": \"SP500\", \"orientation\": \"v\", \"showlegend\": true, \"x\": [1920.0], \"xaxis\": \"x\", \"y\": [3365.516667], \"yaxis\": \"y\", \"type\": \"scatter\"}, {\"hovertemplate\": \"<b>%{hovertext}</b><br><br>Market Standard=SSE<br>DATE=9/1/2020<br>Gold Price in Dollar=%{x}<br>Stock Market Closing Price in Dollar=%{marker.size}<extra></extra>\", \"hovertext\": [\"SSE\"], \"ids\": [\"SSE\"], \"legendgroup\": \"SSE\", \"marker\": {\"color\": \"#EF553B\", \"size\": [3391.76001], \"sizemode\": \"area\", \"sizeref\": 10.352940475, \"symbol\": \"circle\"}, \"mode\": \"markers\", \"name\": \"SSE\", \"orientation\": \"v\", \"showlegend\": true, \"x\": [1920.0], \"xaxis\": \"x\", \"y\": [3391.76001], \"yaxis\": \"y\", \"type\": \"scatter\"}, {\"hovertemplate\": \"<b>%{hovertext}</b><br><br>Market Standard=JPN<br>DATE=9/1/2020<br>Gold Price in Dollar=%{x}<br>Stock Market Closing Price in Dollar=%{marker.size}<extra></extra>\", \"hovertext\": [\"JPN\"], \"ids\": [\"JPN\"], \"legendgroup\": \"JPN\", \"marker\": {\"color\": \"#00cc96\", \"size\": [2643.361914], \"sizemode\": \"area\", \"sizeref\": 10.352940475, \"symbol\": \"circle\"}, \"mode\": \"markers\", \"name\": \"JPN\", \"orientation\": \"v\", \"showlegend\": true, \"x\": [1920.0], \"xaxis\": \"x\", \"y\": [2643.361914], \"yaxis\": \"y\", \"type\": \"scatter\"}], \"name\": \"9/1/2020\"}, {\"data\": [{\"hovertemplate\": \"<b>%{hovertext}</b><br><br>Market Standard=SP500<br>DATE=10/1/2020<br>Gold Price in Dollar=%{x}<br>Stock Market Closing Price in Dollar=%{marker.size}<extra></extra>\", \"hovertext\": [\"SP500\"], \"ids\": [\"SP500\"], \"legendgroup\": \"SP500\", \"marker\": {\"color\": \"#636efa\", \"size\": [3418.701364], \"sizemode\": \"area\", \"sizeref\": 10.352940475, \"symbol\": \"circle\"}, \"mode\": \"markers\", \"name\": \"SP500\", \"orientation\": \"v\", \"showlegend\": true, \"x\": [1905.0], \"xaxis\": \"x\", \"y\": [3418.701364], \"yaxis\": \"y\", \"type\": \"scatter\"}, {\"hovertemplate\": \"<b>%{hovertext}</b><br><br>Market Standard=SSE<br>DATE=10/1/2020<br>Gold Price in Dollar=%{x}<br>Stock Market Closing Price in Dollar=%{marker.size}<extra></extra>\", \"hovertext\": [\"SSE\"], \"ids\": [\"SSE\"], \"legendgroup\": \"SSE\", \"marker\": {\"color\": \"#EF553B\", \"size\": [3473.069092], \"sizemode\": \"area\", \"sizeref\": 10.352940475, \"symbol\": \"circle\"}, \"mode\": \"markers\", \"name\": \"SSE\", \"orientation\": \"v\", \"showlegend\": true, \"x\": [1905.0], \"xaxis\": \"x\", \"y\": [3473.069092], \"yaxis\": \"y\", \"type\": \"scatter\"}, {\"hovertemplate\": \"<b>%{hovertext}</b><br><br>Market Standard=JPN<br>DATE=10/1/2020<br>Gold Price in Dollar=%{x}<br>Stock Market Closing Price in Dollar=%{marker.size}<extra></extra>\", \"hovertext\": [\"JPN\"], \"ids\": [\"JPN\"], \"legendgroup\": \"JPN\", \"marker\": {\"color\": \"#00cc96\", \"size\": [2744.416992], \"sizemode\": \"area\", \"sizeref\": 10.352940475, \"symbol\": \"circle\"}, \"mode\": \"markers\", \"name\": \"JPN\", \"orientation\": \"v\", \"showlegend\": true, \"x\": [1905.0], \"xaxis\": \"x\", \"y\": [2744.416992], \"yaxis\": \"y\", \"type\": \"scatter\"}], \"name\": \"10/1/2020\"}, {\"data\": [{\"hovertemplate\": \"<b>%{hovertext}</b><br><br>Market Standard=SP500<br>DATE=11/1/2020<br>Gold Price in Dollar=%{x}<br>Stock Market Closing Price in Dollar=%{marker.size}<extra></extra>\", \"hovertext\": [\"SP500\"], \"ids\": [\"SP500\"], \"legendgroup\": \"SP500\", \"marker\": {\"color\": \"#636efa\", \"size\": [3548.9925], \"sizemode\": \"area\", \"sizeref\": 10.352940475, \"symbol\": \"circle\"}, \"mode\": \"markers\", \"name\": \"SP500\", \"orientation\": \"v\", \"showlegend\": true, \"x\": [1910.0], \"xaxis\": \"x\", \"y\": [3548.9925], \"yaxis\": \"y\", \"type\": \"scatter\"}, {\"hovertemplate\": \"<b>%{hovertext}</b><br><br>Market Standard=SSE<br>DATE=11/1/2020<br>Gold Price in Dollar=%{x}<br>Stock Market Closing Price in Dollar=%{marker.size}<extra></extra>\", \"hovertext\": [\"SSE\"], \"ids\": [\"SSE\"], \"legendgroup\": \"SSE\", \"marker\": {\"color\": \"#EF553B\", \"size\": [3483.069092], \"sizemode\": \"area\", \"sizeref\": 10.352940475, \"symbol\": \"circle\"}, \"mode\": \"markers\", \"name\": \"SSE\", \"orientation\": \"v\", \"showlegend\": true, \"x\": [1910.0], \"xaxis\": \"x\", \"y\": [3483.069092], \"yaxis\": \"y\", \"type\": \"scatter\"}, {\"hovertemplate\": \"<b>%{hovertext}</b><br><br>Market Standard=JPN<br>DATE=11/1/2020<br>Gold Price in Dollar=%{x}<br>Stock Market Closing Price in Dollar=%{marker.size}<extra></extra>\", \"hovertext\": [\"JPN\"], \"ids\": [\"JPN\"], \"legendgroup\": \"JPN\", \"marker\": {\"color\": \"#00cc96\", \"size\": [2766.3390630000004], \"sizemode\": \"area\", \"sizeref\": 10.352940475, \"symbol\": \"circle\"}, \"mode\": \"markers\", \"name\": \"JPN\", \"orientation\": \"v\", \"showlegend\": true, \"x\": [1910.0], \"xaxis\": \"x\", \"y\": [2766.3390630000004], \"yaxis\": \"y\", \"type\": \"scatter\"}], \"name\": \"11/1/2020\"}, {\"data\": [{\"hovertemplate\": \"<b>%{hovertext}</b><br><br>Market Standard=SP500<br>DATE=12/1/2020<br>Gold Price in Dollar=%{x}<br>Stock Market Closing Price in Dollar=%{marker.size}<extra></extra>\", \"hovertext\": [\"SP500\"], \"ids\": [\"SP500\"], \"legendgroup\": \"SP500\", \"marker\": {\"color\": \"#636efa\", \"size\": [3695.31], \"sizemode\": \"area\", \"sizeref\": 10.352940475, \"symbol\": \"circle\"}, \"mode\": \"markers\", \"name\": \"SP500\", \"orientation\": \"v\", \"showlegend\": true, \"x\": [1930.2], \"xaxis\": \"x\", \"y\": [3695.31], \"yaxis\": \"y\", \"type\": \"scatter\"}, {\"hovertemplate\": \"<b>%{hovertext}</b><br><br>Market Standard=SSE<br>DATE=12/1/2020<br>Gold Price in Dollar=%{x}<br>Stock Market Closing Price in Dollar=%{marker.size}<extra></extra>\", \"hovertext\": [\"SSE\"], \"ids\": [\"SSE\"], \"legendgroup\": \"SSE\", \"marker\": {\"color\": \"#EF553B\", \"size\": [3509.080078], \"sizemode\": \"area\", \"sizeref\": 10.352940475, \"symbol\": \"circle\"}, \"mode\": \"markers\", \"name\": \"SSE\", \"orientation\": \"v\", \"showlegend\": true, \"x\": [1930.2], \"xaxis\": \"x\", \"y\": [3509.080078], \"yaxis\": \"y\", \"type\": \"scatter\"}, {\"hovertemplate\": \"<b>%{hovertext}</b><br><br>Market Standard=JPN<br>DATE=12/1/2020<br>Gold Price in Dollar=%{x}<br>Stock Market Closing Price in Dollar=%{marker.size}<extra></extra>\", \"hovertext\": [\"JPN\"], \"ids\": [\"JPN\"], \"legendgroup\": \"JPN\", \"marker\": {\"color\": \"#00cc96\", \"size\": [2896.600977], \"sizemode\": \"area\", \"sizeref\": 10.352940475, \"symbol\": \"circle\"}, \"mode\": \"markers\", \"name\": \"JPN\", \"orientation\": \"v\", \"showlegend\": true, \"x\": [1930.2], \"xaxis\": \"x\", \"y\": [2896.600977], \"yaxis\": \"y\", \"type\": \"scatter\"}], \"name\": \"12/1/2020\"}, {\"data\": [{\"hovertemplate\": \"<b>%{hovertext}</b><br><br>Market Standard=SP500<br>DATE=1/1/2021<br>Gold Price in Dollar=%{x}<br>Stock Market Closing Price in Dollar=%{marker.size}<extra></extra>\", \"hovertext\": [\"SP500\"], \"ids\": [\"SP500\"], \"legendgroup\": \"SP500\", \"marker\": {\"color\": \"#636efa\", \"size\": [3793.748421], \"sizemode\": \"area\", \"sizeref\": 10.352940475, \"symbol\": \"circle\"}, \"mode\": \"markers\", \"name\": \"SP500\", \"orientation\": \"v\", \"showlegend\": true, \"x\": [1910.03], \"xaxis\": \"x\", \"y\": [3793.748421], \"yaxis\": \"y\", \"type\": \"scatter\"}, {\"hovertemplate\": \"<b>%{hovertext}</b><br><br>Market Standard=SSE<br>DATE=1/1/2021<br>Gold Price in Dollar=%{x}<br>Stock Market Closing Price in Dollar=%{marker.size}<extra></extra>\", \"hovertext\": [\"SSE\"], \"ids\": [\"SSE\"], \"legendgroup\": \"SSE\", \"marker\": {\"color\": \"#EF553B\", \"size\": [3441.909912], \"sizemode\": \"area\", \"sizeref\": 10.352940475, \"symbol\": \"circle\"}, \"mode\": \"markers\", \"name\": \"SSE\", \"orientation\": \"v\", \"showlegend\": true, \"x\": [1910.03], \"xaxis\": \"x\", \"y\": [3441.909912], \"yaxis\": \"y\", \"type\": \"scatter\"}, {\"hovertemplate\": \"<b>%{hovertext}</b><br><br>Market Standard=JPN<br>DATE=1/1/2021<br>Gold Price in Dollar=%{x}<br>Stock Market Closing Price in Dollar=%{marker.size}<extra></extra>\", \"hovertext\": [\"JPN\"], \"ids\": [\"JPN\"], \"legendgroup\": \"JPN\", \"marker\": {\"color\": \"#00cc96\", \"size\": [2917.880078], \"sizemode\": \"area\", \"sizeref\": 10.352940475, \"symbol\": \"circle\"}, \"mode\": \"markers\", \"name\": \"JPN\", \"orientation\": \"v\", \"showlegend\": true, \"x\": [1910.03], \"xaxis\": \"x\", \"y\": [2917.880078], \"yaxis\": \"y\", \"type\": \"scatter\"}], \"name\": \"1/1/2021\"}, {\"data\": [{\"hovertemplate\": \"<b>%{hovertext}</b><br><br>Market Standard=SP500<br>DATE=2/1/2021<br>Gold Price in Dollar=%{x}<br>Stock Market Closing Price in Dollar=%{marker.size}<extra></extra>\", \"hovertext\": [\"SP500\"], \"ids\": [\"SP500\"], \"legendgroup\": \"SP500\", \"marker\": {\"color\": \"#636efa\", \"size\": [3883.432105], \"sizemode\": \"area\", \"sizeref\": 10.352940475, \"symbol\": \"circle\"}, \"mode\": \"markers\", \"name\": \"SP500\", \"orientation\": \"v\", \"showlegend\": true, \"x\": [1919.03], \"xaxis\": \"x\", \"y\": [3883.432105], \"yaxis\": \"y\", \"type\": \"scatter\"}, {\"hovertemplate\": \"<b>%{hovertext}</b><br><br>Market Standard=SSE<br>DATE=2/1/2021<br>Gold Price in Dollar=%{x}<br>Stock Market Closing Price in Dollar=%{marker.size}<extra></extra>\", \"hovertext\": [\"SSE\"], \"ids\": [\"SSE\"], \"legendgroup\": \"SSE\", \"marker\": {\"color\": \"#EF553B\", \"size\": [3446.860107], \"sizemode\": \"area\", \"sizeref\": 10.352940475, \"symbol\": \"circle\"}, \"mode\": \"markers\", \"name\": \"SSE\", \"orientation\": \"v\", \"showlegend\": true, \"x\": [1919.03], \"xaxis\": \"x\", \"y\": [3446.860107], \"yaxis\": \"y\", \"type\": \"scatter\"}, {\"hovertemplate\": \"<b>%{hovertext}</b><br><br>Market Standard=JPN<br>DATE=2/1/2021<br>Gold Price in Dollar=%{x}<br>Stock Market Closing Price in Dollar=%{marker.size}<extra></extra>\", \"hovertext\": [\"JPN\"], \"ids\": [\"JPN\"], \"legendgroup\": \"JPN\", \"marker\": {\"color\": \"#00cc96\", \"size\": [2881.263086], \"sizemode\": \"area\", \"sizeref\": 10.352940475, \"symbol\": \"circle\"}, \"mode\": \"markers\", \"name\": \"JPN\", \"orientation\": \"v\", \"showlegend\": true, \"x\": [1919.03], \"xaxis\": \"x\", \"y\": [2881.263086], \"yaxis\": \"y\", \"type\": \"scatter\"}], \"name\": \"2/1/2021\"}, {\"data\": [{\"hovertemplate\": \"<b>%{hovertext}</b><br><br>Market Standard=SP500<br>DATE=3/1/2021<br>Gold Price in Dollar=%{x}<br>Stock Market Closing Price in Dollar=%{marker.size}<extra></extra>\", \"hovertext\": [\"SP500\"], \"ids\": [\"SP500\"], \"legendgroup\": \"SP500\", \"marker\": {\"color\": \"#636efa\", \"size\": [3910.508261], \"sizemode\": \"area\", \"sizeref\": 10.352940475, \"symbol\": \"circle\"}, \"mode\": \"markers\", \"name\": \"SP500\", \"orientation\": \"v\", \"showlegend\": true, \"x\": [1900.0], \"xaxis\": \"x\", \"y\": [3910.508261], \"yaxis\": \"y\", \"type\": \"scatter\"}, {\"hovertemplate\": \"<b>%{hovertext}</b><br><br>Market Standard=SSE<br>DATE=3/1/2021<br>Gold Price in Dollar=%{x}<br>Stock Market Closing Price in Dollar=%{marker.size}<extra></extra>\", \"hovertext\": [\"SSE\"], \"ids\": [\"SSE\"], \"legendgroup\": \"SSE\", \"marker\": {\"color\": \"#EF553B\", \"size\": [3506.939941], \"sizemode\": \"area\", \"sizeref\": 10.352940475, \"symbol\": \"circle\"}, \"mode\": \"markers\", \"name\": \"SSE\", \"orientation\": \"v\", \"showlegend\": true, \"x\": [1900.0], \"xaxis\": \"x\", \"y\": [3506.939941], \"yaxis\": \"y\", \"type\": \"scatter\"}, {\"hovertemplate\": \"<b>%{hovertext}</b><br><br>Market Standard=JPN<br>DATE=3/1/2021<br>Gold Price in Dollar=%{x}<br>Stock Market Closing Price in Dollar=%{marker.size}<extra></extra>\", \"hovertext\": [\"JPN\"], \"ids\": [\"JPN\"], \"legendgroup\": \"JPN\", \"marker\": {\"color\": \"#00cc96\", \"size\": [2809.825], \"sizemode\": \"area\", \"sizeref\": 10.352940475, \"symbol\": \"circle\"}, \"mode\": \"markers\", \"name\": \"JPN\", \"orientation\": \"v\", \"showlegend\": true, \"x\": [1900.0], \"xaxis\": \"x\", \"y\": [2809.825], \"yaxis\": \"y\", \"type\": \"scatter\"}], \"name\": \"3/1/2021\"}, {\"data\": [{\"hovertemplate\": \"<b>%{hovertext}</b><br><br>Market Standard=SP500<br>DATE=4/1/2021<br>Gold Price in Dollar=%{x}<br>Stock Market Closing Price in Dollar=%{marker.size}<extra></extra>\", \"hovertext\": [\"SP500\"], \"ids\": [\"SP500\"], \"legendgroup\": \"SP500\", \"marker\": {\"color\": \"#636efa\", \"size\": [4141.17619], \"sizemode\": \"area\", \"sizeref\": 10.352940475, \"symbol\": \"circle\"}, \"mode\": \"markers\", \"name\": \"SP500\", \"orientation\": \"v\", \"showlegend\": true, \"x\": [1902.5], \"xaxis\": \"x\", \"y\": [4141.17619], \"yaxis\": \"y\", \"type\": \"scatter\"}, {\"hovertemplate\": \"<b>%{hovertext}</b><br><br>Market Standard=SSE<br>DATE=4/1/2021<br>Gold Price in Dollar=%{x}<br>Stock Market Closing Price in Dollar=%{marker.size}<extra></extra>\", \"hovertext\": [\"SSE\"], \"ids\": [\"SSE\"], \"legendgroup\": \"SSE\", \"marker\": {\"color\": \"#EF553B\", \"size\": [3483.069092], \"sizemode\": \"area\", \"sizeref\": 10.352940475, \"symbol\": \"circle\"}, \"mode\": \"markers\", \"name\": \"SSE\", \"orientation\": \"v\", \"showlegend\": true, \"x\": [1902.5], \"xaxis\": \"x\", \"y\": [3483.069092], \"yaxis\": \"y\", \"type\": \"scatter\"}, {\"hovertemplate\": \"<b>%{hovertext}</b><br><br>Market Standard=JPN<br>DATE=4/1/2021<br>Gold Price in Dollar=%{x}<br>Stock Market Closing Price in Dollar=%{marker.size}<extra></extra>\", \"hovertext\": [\"JPN\"], \"ids\": [\"JPN\"], \"legendgroup\": \"JPN\", \"marker\": {\"color\": \"#00cc96\", \"size\": [2881.263086], \"sizemode\": \"area\", \"sizeref\": 10.352940475, \"symbol\": \"circle\"}, \"mode\": \"markers\", \"name\": \"JPN\", \"orientation\": \"v\", \"showlegend\": true, \"x\": [1902.5], \"xaxis\": \"x\", \"y\": [2881.263086], \"yaxis\": \"y\", \"type\": \"scatter\"}], \"name\": \"4/1/2021\"}]);\n",
       "                        }).then(function(){\n",
       "                            \n",
       "var gd = document.getElementById('52785004-95ae-44c4-bcee-b84d7edc2681');\n",
       "var x = new MutationObserver(function (mutations, observer) {{\n",
       "        var display = window.getComputedStyle(gd).display;\n",
       "        if (!display || display === 'none') {{\n",
       "            console.log([gd, 'removed!']);\n",
       "            Plotly.purge(gd);\n",
       "            observer.disconnect();\n",
       "        }}\n",
       "}});\n",
       "\n",
       "// Listen for the removal of the full notebook cells\n",
       "var notebookContainer = gd.closest('#notebook-container');\n",
       "if (notebookContainer) {{\n",
       "    x.observe(notebookContainer, {childList: true});\n",
       "}}\n",
       "\n",
       "// Listen for the clearing of the current output cell\n",
       "var outputEl = gd.closest('.output');\n",
       "if (outputEl) {{\n",
       "    x.observe(outputEl, {childList: true});\n",
       "}}\n",
       "\n",
       "                        })                };                });            </script>        </div>"
      ]
     },
     "metadata": {},
     "output_type": "display_data"
    }
   ],
   "source": [
    "fig = px.scatter(SandP, x= 'GOLD', y= 'value', animation_frame=\"DATE\", animation_group=\"variable\",\n",
    "            color=\"variable\", size = 'value' ,  hover_name=\"variable\", range_y= [1500, 4500], range_x=[1000, 2000],\n",
    "          labels=dict(GOLD = 'Gold Price in Dollar', value = 'Stock Market Closing Price in Dollar', variable = 'Market Standard'))\n",
    "fig.layout.updatemenus[0].buttons[0].args[1]['frame']['duration'] = 200\n",
    "fig.show()"
   ]
  },
  {
   "cell_type": "code",
   "execution_count": null,
   "id": "israeli-girlfriend",
   "metadata": {},
   "outputs": [],
   "source": []
  },
  {
   "cell_type": "code",
   "execution_count": null,
   "id": "actual-stupid",
   "metadata": {},
   "outputs": [],
   "source": []
  }
 ],
 "metadata": {
  "kernelspec": {
   "display_name": "Python 3",
   "language": "python",
   "name": "python3"
  },
  "language_info": {
   "codemirror_mode": {
    "name": "ipython",
    "version": 3
   },
   "file_extension": ".py",
   "mimetype": "text/x-python",
   "name": "python",
   "nbconvert_exporter": "python",
   "pygments_lexer": "ipython3",
   "version": "3.8.5"
  }
 },
 "nbformat": 4,
 "nbformat_minor": 5
}
